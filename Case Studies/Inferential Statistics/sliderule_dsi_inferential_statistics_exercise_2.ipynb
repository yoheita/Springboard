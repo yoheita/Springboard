{
 "cells": [
  {
   "cell_type": "markdown",
   "metadata": {},
   "source": [
    "# Examining Racial Discrimination in the US Job Market\n",
    "\n",
    "### Background\n",
    "Racial discrimination continues to be pervasive in cultures throughout the world. Researchers examined the level of racial discrimination in the United States labor market by randomly assigning identical résumés to black-sounding or white-sounding names and observing the impact on requests for interviews from employers.\n",
    "\n",
    "### Data\n",
    "In the dataset provided, each row represents a resume. The 'race' column has two values, 'b' and 'w', indicating black-sounding and white-sounding. The column 'call' has two values, 1 and 0, indicating whether the resume received a call from employers or not.\n",
    "\n",
    "Note that the 'b' and 'w' values in race are assigned randomly to the resumes when presented to the employer."
   ]
  },
  {
   "cell_type": "markdown",
   "metadata": {},
   "source": [
    "### Exercises\n",
    "You will perform a statistical analysis to establish whether race has a significant impact on the rate of callbacks for resumes.\n",
    "\n",
    "Answer the following questions **in this notebook below and submit to your Github account**. \n",
    "\n",
    "   1. What test is appropriate for this problem? Does CLT apply?\n",
    "   2. What are the null and alternate hypotheses?\n",
    "   3. Compute margin of error, confidence interval, and p-value. Try using both the bootstrapping and the frequentist statistical approaches.\n",
    "   4. Write a story describing the statistical significance in the context or the original problem.\n",
    "   5. Does your analysis mean that race/name is the most important factor in callback success? Why or why not? If not, how would you amend your analysis?\n",
    "\n",
    "You can include written notes in notebook cells using Markdown: \n",
    "   - In the control panel at the top, choose Cell > Cell Type > Markdown\n",
    "   - Markdown syntax: http://nestacms.com/docs/creating-content/markdown-cheat-sheet\n",
    "\n",
    "#### Resources\n",
    "+ Experiment information and data source: http://www.povertyactionlab.org/evaluation/discrimination-job-market-united-states\n",
    "+ Scipy statistical methods: http://docs.scipy.org/doc/scipy/reference/stats.html \n",
    "+ Markdown syntax: http://nestacms.com/docs/creating-content/markdown-cheat-sheet\n",
    "+ Formulas for the Bernoulli distribution: https://en.wikipedia.org/wiki/Bernoulli_distribution"
   ]
  },
  {
   "cell_type": "code",
   "execution_count": 1,
   "metadata": {},
   "outputs": [],
   "source": [
    "import pandas as pd\n",
    "import numpy as np\n",
    "from scipy import stats"
   ]
  },
  {
   "cell_type": "code",
   "execution_count": 2,
   "metadata": {},
   "outputs": [],
   "source": [
    "data = pd.io.stata.read_stata('data/us_job_market_discrimination.dta')"
   ]
  },
  {
   "cell_type": "code",
   "execution_count": 3,
   "metadata": {},
   "outputs": [
    {
     "data": {
      "text/plain": [
       "id            2435\n",
       "ad            2435\n",
       "education     2435\n",
       "ofjobs        2435\n",
       "yearsexp      2435\n",
       "              ... \n",
       "trade         2435\n",
       "busservice    2435\n",
       "othservice    2435\n",
       "missind       2435\n",
       "ownership     2435\n",
       "Length: 65, dtype: int64"
      ]
     },
     "execution_count": 3,
     "metadata": {},
     "output_type": "execute_result"
    }
   ],
   "source": [
    "# number of callbacks for black-sounding names\n",
    "df_b = data.loc[(data['race'] == 'b')]\n",
    "df_b.count()"
   ]
  },
  {
   "cell_type": "code",
   "execution_count": 4,
   "metadata": {},
   "outputs": [],
   "source": [
    "pd.set_option(\"display.max_columns\", None)"
   ]
  },
  {
   "cell_type": "code",
   "execution_count": null,
   "metadata": {},
   "outputs": [],
   "source": []
  },
  {
   "cell_type": "markdown",
   "metadata": {},
   "source": [
    "<div class=\"span5 alert alert-success\">\n",
    "<p>Your answers to Q1 and Q2 here</p>\n",
    "</div>"
   ]
  },
  {
   "cell_type": "markdown",
   "metadata": {},
   "source": [
    "### Question 1"
   ]
  },
  {
   "cell_type": "markdown",
   "metadata": {},
   "source": [
    "The sample size is over 30, so Z-test will be appropriate test to use. <br>\n",
    "The samples were randomly selected and  size is above 30, so it should be approximately normally distributed."
   ]
  },
  {
   "cell_type": "markdown",
   "metadata": {},
   "source": [
    "### Question 2"
   ]
  },
  {
   "cell_type": "markdown",
   "metadata": {},
   "source": [
    "Null Hypotheses: The call back of white-sounding names to black-sounding names should be 50% or more<br>\n",
    "Alternative Hypotheses:  The call back of white-sounding names to black-sounding names should be less than 50% "
   ]
  },
  {
   "cell_type": "code",
   "execution_count": 10,
   "metadata": {},
   "outputs": [
    {
     "name": "stdout",
     "output_type": "stream",
     "text": [
      "black sounding call back mean: 0.0644763857126236\n",
      "white sounding call back mean: 0.09650924056768417\n",
      "White and black sounding difference: 1.4968152991365486\n"
     ]
    },
    {
     "data": {
      "image/png": "[encoded data removed]",
      "text/plain": [
       "<Figure size 432x288 with 2 Axes>"
      ]
     },
     "metadata": {
      "needs_background": "light"
     },
     "output_type": "display_data"
    }
   ],
   "source": [
    "# Your solution to Q3 here\n",
    "\n",
    "from scipy.stats import bernoulli as ber\n",
    "import matplotlib.pyplot as plt\n",
    "\n",
    "df_w = data.loc[(data['race'] == 'w')]\n",
    "df_b = data.loc[(data['race'] == 'b')]\n",
    "fig, (ax1,ax2) = plt.subplots(1,2)\n",
    "fig.suptitle(\"Histogram of call back\")\n",
    "ax1.hist(x = df_b['call'], bins =2)\n",
    "ax1.set_title(\"Black-Sounding names\")\n",
    "ax2.hist(x = df_w['call'], bins = 2)\n",
    "ax2.set_title(\"White-Sounding names\")\n",
    "\n",
    "print(\"black sounding call back mean: \" + str(df_b['call'].mean()))\n",
    "print(\"white sounding call back mean: \" + str(df_w['call'].mean()))\n",
    "print(\"White and black sounding difference: \" + str(df_w['call'].mean()/df_b['call'].mean()))"
   ]
  },
  {
   "cell_type": "code",
   "execution_count": 6,
   "metadata": {},
   "outputs": [
    {
     "name": "stdout",
     "output_type": "stream",
     "text": [
      "black sounding call back mean: 0.06466923\n",
      "white sounding call back mean: 0.09649309\n",
      "White and black sounding difference: 1.492102\n",
      "black sounding call back confidence interval: (0.054907392982040795, 0.07443106519838676)\n",
      "white sounding call back confidence interval: (0.08475627617269792, 0.10822989924520217)\n",
      "black sounding call back margin of error: 0.00976183610817298\n",
      "white sounding call back margin of error: 0.011736811536252126\n"
     ]
    },
    {
     "data": {
      "image/png": "[encoded data removed]",
      "text/plain": [
       "<Figure size 432x288 with 2 Axes>"
      ]
     },
     "metadata": {
      "needs_background": "light"
     },
     "output_type": "display_data"
    }
   ],
   "source": [
    "import numpy as np\n",
    "import scipy.stats as stat\n",
    "white_bootstrap = []\n",
    "black_bootstrap = []\n",
    "confidence_level = 0.95\n",
    "\n",
    "for i in range(10000):\n",
    "    sample_n_w = np.random.choice(df_w['call'], size = 130)\n",
    "    sample_n_b = np.random.choice(df_b['call'], size = 130)\n",
    "    white_bootstrap.append(sample_n_w.mean())\n",
    "    black_bootstrap.append(sample_n_b.mean())\n",
    "    \n",
    "fig, (ax1,ax2) = plt.subplots(1,2)\n",
    "\n",
    "fig.suptitle(\"Bootstrap Histogram\")\n",
    "ax1.hist(white_bootstrap)\n",
    "ax1.set_title('White-Sounding callback')\n",
    "ax2.hist(black_bootstrap)\n",
    "ax2.set_title('Black-Sounding callback')\n",
    "\n",
    "bootstrap_wmean = np.mean(white_bootstrap)\n",
    "bootstrap_bmean = np.mean(black_bootstrap)\n",
    "degree_freedom_w = df_w['call'].size -1\n",
    "sample_standard_error_w = stat.sem(df_w['call'])\n",
    "degree_freedom_b = df_b['call'].size -1\n",
    "sample_standard_error_b = stat.sem(df_b['call'])\n",
    "confidence_interval_w = stat.t.interval(confidence_level, degree_freedom_w, bootstrap_wmean, sample_standard_error_w)\n",
    "confidence_interval_b = stat.t.interval(confidence_level, degree_freedom_b, bootstrap_bmean, sample_standard_error_b)\n",
    "conf_lowb,conf_Hb = confidence_interval_b\n",
    "conf_loww,conf_Hw = confidence_interval_w\n",
    "print(\"black sounding call back mean: \" + str(bootstrap_bmean))\n",
    "print(\"white sounding call back mean: \" + str(bootstrap_wmean))\n",
    "print(\"White and black sounding difference: \" + str(bootstrap_wmean/bootstrap_bmean))\n",
    "print(\"black sounding call back confidence interval: \" + str(confidence_interval_b))\n",
    "print(\"white sounding call back confidence interval: \" + str(confidence_interval_w))\n",
    "print(\"black sounding call back margin of error: \" + str(conf_Hb - bootstrap_bmean))\n",
    "print(\"white sounding call back margin of error: \" + str(conf_Hw - bootstrap_wmean))"
   ]
  },
  {
   "cell_type": "code",
   "execution_count": 7,
   "metadata": {},
   "outputs": [
    {
     "name": "stdout",
     "output_type": "stream",
     "text": [
      "p-value: 0.9726351216477749\n",
      "Failed to reject null hypotheses\n"
     ]
    }
   ],
   "source": [
    "mean_b = df_b.call.mean()\n",
    "mean_w = df_w.call.mean()\n",
    "\n",
    "result = stats.ttest_1samp(a = df_w['call'], popmean = mean_b * 1.5)\n",
    "\n",
    "pval = result.pvalue\n",
    "if pval < 0.05:\n",
    "    print(\"p-value: \" + str(pval))\n",
    "    print(\"Reject null hypotheses\")\n",
    "else:\n",
    "    print(\"p-value: \" + str(pval))\n",
    "    print(\"Failed to reject null hypotheses\")"
   ]
  },
  {
   "cell_type": "code",
   "execution_count": 8,
   "metadata": {},
   "outputs": [
    {
     "data": {
      "text/plain": [
       "0.09650924056768417"
      ]
     },
     "execution_count": 8,
     "metadata": {},
     "output_type": "execute_result"
    }
   ],
   "source": [
    "df_w.call.mean()"
   ]
  },
  {
   "cell_type": "code",
   "execution_count": null,
   "metadata": {},
   "outputs": [],
   "source": []
  },
  {
   "cell_type": "markdown",
   "metadata": {},
   "source": [
    "<div class=\"span5 alert alert-success\">\n",
    "<p> Your answers to Q4 and Q5 here </p>\n",
    "</div>"
   ]
  },
  {
   "cell_type": "markdown",
   "metadata": {
    "tags": []
   },
   "source": [
    "### Question 4"
   ]
  },
  {
   "cell_type": "markdown",
   "metadata": {},
   "source": [
    "Null Hypotheses was \"The call back of white-sounding names to black-sounding names should be 50% or more\"<br>\n",
    "Which I failed to reject the null hypotheses since p value was within the confidence interval due to p value over the confidence level. by using t-test"
   ]
  },
  {
   "cell_type": "code",
   "execution_count": 12,
   "metadata": {},
   "outputs": [
    {
     "name": "stdout",
     "output_type": "stream",
     "text": [
      "p-value: 0.9726351216477749\n"
     ]
    }
   ],
   "source": [
    "print(\"p-value: \" + str(pval))"
   ]
  },
  {
   "cell_type": "markdown",
   "metadata": {},
   "source": [
    "### Question 5"
   ]
  },
  {
   "cell_type": "markdown",
   "metadata": {},
   "source": [
    "The race/name has impacted on the call back of resume.<br>\n",
    "The call back of white sounding name had about 1.5 times more than black sounding name"
   ]
  },
  {
   "cell_type": "code",
   "execution_count": 9,
   "metadata": {},
   "outputs": [
    {
     "name": "stdout",
     "output_type": "stream",
     "text": [
      "black sounding call back mean: 0.0644763857126236\n",
      "white sounding call back mean: 0.09650924056768417\n"
     ]
    }
   ],
   "source": [
    "print(\"black sounding call back mean: \" + str(df_b['call'].mean()))\n",
    "print(\"white sounding call back mean: \" + str(df_w['call'].mean()))"
   ]
  },
  {
   "cell_type": "code",
   "execution_count": null,
   "metadata": {},
   "outputs": [],
   "source": []
  }
 ],
 "metadata": {
  "kernelspec": {
   "display_name": "Python 3",
   "language": "python",
   "name": "python3"
  },
  "language_info": {
   "codemirror_mode": {
    "name": "ipython",
    "version": 3
   },
   "file_extension": ".py",
   "mimetype": "text/x-python",
   "name": "python",
   "nbconvert_exporter": "python",
   "pygments_lexer": "ipython3",
   "version": "3.8.8"
  }
 },
 "nbformat": 4,
 "nbformat_minor": 4
}
