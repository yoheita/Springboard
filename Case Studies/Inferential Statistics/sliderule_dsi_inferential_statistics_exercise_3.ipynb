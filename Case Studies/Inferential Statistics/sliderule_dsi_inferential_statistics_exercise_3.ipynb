{
 "cells": [
  {
   "cell_type": "markdown",
   "metadata": {},
   "source": [
    "# Hospital Readmissions Data Analysis and Recommendations for Reduction\n",
    "\n",
    "### Background\n",
    "In October 2012, the US government's Center for Medicare and Medicaid Services (CMS) began reducing Medicare payments for Inpatient Prospective Payment System hospitals with excess readmissions. Excess readmissions are measured by a ratio, by dividing a hospital’s number of “predicted” 30-day readmissions for heart attack, heart failure, and pneumonia by the number that would be “expected,” based on an average hospital with similar patients. A ratio greater than 1 indicates excess readmissions.\n",
    "\n",
    "### Exercise Directions\n",
    "\n",
    "In this exercise, you will:\n",
    "+ critique a preliminary analysis of readmissions data and recommendations (provided below) for reducing the readmissions rate\n",
    "+ construct a statistically sound analysis and make recommendations of your own \n",
    "\n",
    "More instructions provided below. Include your work **in this notebook and submit to your Github account**. \n",
    "\n",
    "### Resources\n",
    "+ Data source: https://data.medicare.gov/Hospital-Compare/Hospital-Readmission-Reduction/9n3s-kdb3\n",
    "+ More information: http://www.cms.gov/Medicare/medicare-fee-for-service-payment/acuteinpatientPPS/readmissions-reduction-program.html\n",
    "+ Markdown syntax: http://nestacms.com/docs/creating-content/markdown-cheat-sheet\n",
    "****"
   ]
  },
  {
   "cell_type": "code",
   "execution_count": 1,
   "metadata": {
    "collapsed": false,
    "jupyter": {
     "outputs_hidden": false
    }
   },
   "outputs": [],
   "source": [
    "%matplotlib inline\n",
    "\n",
    "import pandas as pd\n",
    "import numpy as np\n",
    "import matplotlib.pyplot as plt\n",
    "import bokeh.plotting as bkp\n",
    "from mpl_toolkits.axes_grid1 import make_axes_locatable"
   ]
  },
  {
   "cell_type": "code",
   "execution_count": 2,
   "metadata": {
    "collapsed": false,
    "jupyter": {
     "outputs_hidden": false
    }
   },
   "outputs": [],
   "source": [
    "# read in readmissions data provided\n",
    "hospital_read_df = pd.read_csv('data/cms_hospital_readmissions.csv')"
   ]
  },
  {
   "cell_type": "markdown",
   "metadata": {},
   "source": [
    "****\n",
    "## Preliminary Analysis"
   ]
  },
  {
   "cell_type": "code",
   "execution_count": 3,
   "metadata": {
    "collapsed": false,
    "jupyter": {
     "outputs_hidden": false
    }
   },
   "outputs": [
    {
     "name": "stderr",
     "output_type": "stream",
     "text": [
      "/opt/anaconda3/lib/python3.8/site-packages/pandas/core/indexing.py:1676: SettingWithCopyWarning: \n",
      "A value is trying to be set on a copy of a slice from a DataFrame.\n",
      "Try using .loc[row_indexer,col_indexer] = value instead\n",
      "\n",
      "See the caveats in the documentation: https://pandas.pydata.org/pandas-docs/stable/user_guide/indexing.html#returning-a-view-versus-a-copy\n",
      "  self._setitem_single_column(ilocs[0], value, pi)\n"
     ]
    }
   ],
   "source": [
    "# deal with missing and inconvenient portions of data \n",
    "clean_hospital_read_df = hospital_read_df[hospital_read_df['Number of Discharges'] != 'Not Available']\n",
    "clean_hospital_read_df.loc[:, 'Number of Discharges'] = clean_hospital_read_df['Number of Discharges'].astype(int)\n",
    "clean_hospital_read_df = clean_hospital_read_df.sort_values('Number of Discharges')"
   ]
  },
  {
   "cell_type": "code",
   "execution_count": 4,
   "metadata": {},
   "outputs": [
    {
     "data": {
      "text/html": [
       "<div>\n",
       "<style scoped>\n",
       "    .dataframe tbody tr th:only-of-type {\n",
       "        vertical-align: middle;\n",
       "    }\n",
       "\n",
       "    .dataframe tbody tr th {\n",
       "        vertical-align: top;\n",
       "    }\n",
       "\n",
       "    .dataframe thead th {\n",
       "        text-align: right;\n",
       "    }\n",
       "</style>\n",
       "<table border=\"1\" class=\"dataframe\">\n",
       "  <thead>\n",
       "    <tr style=\"text-align: right;\">\n",
       "      <th></th>\n",
       "      <th>Hospital Name</th>\n",
       "      <th>Provider Number</th>\n",
       "      <th>State</th>\n",
       "      <th>Measure Name</th>\n",
       "      <th>Number of Discharges</th>\n",
       "      <th>Footnote</th>\n",
       "      <th>Excess Readmission Ratio</th>\n",
       "      <th>Predicted Readmission Rate</th>\n",
       "      <th>Expected Readmission Rate</th>\n",
       "      <th>Number of Readmissions</th>\n",
       "      <th>Start Date</th>\n",
       "      <th>End Date</th>\n",
       "    </tr>\n",
       "  </thead>\n",
       "  <tbody>\n",
       "    <tr>\n",
       "      <th>16857</th>\n",
       "      <td>THREE RIVERS MEDICAL CENTER</td>\n",
       "      <td>180128</td>\n",
       "      <td>KY</td>\n",
       "      <td>READM-30-HIP-KNEE-HRRP</td>\n",
       "      <td>0</td>\n",
       "      <td>7.0</td>\n",
       "      <td>NaN</td>\n",
       "      <td>NaN</td>\n",
       "      <td>NaN</td>\n",
       "      <td>NaN</td>\n",
       "      <td>07/01/2010</td>\n",
       "      <td>06/30/2013</td>\n",
       "    </tr>\n",
       "    <tr>\n",
       "      <th>14582</th>\n",
       "      <td>SELLS INDIAN HEALTH SERVICE HOSPITAL</td>\n",
       "      <td>30074</td>\n",
       "      <td>AZ</td>\n",
       "      <td>READM-30-COPD-HRRP</td>\n",
       "      <td>0</td>\n",
       "      <td>7.0</td>\n",
       "      <td>NaN</td>\n",
       "      <td>NaN</td>\n",
       "      <td>NaN</td>\n",
       "      <td>NaN</td>\n",
       "      <td>07/01/2010</td>\n",
       "      <td>06/30/2013</td>\n",
       "    </tr>\n",
       "    <tr>\n",
       "      <th>15606</th>\n",
       "      <td>PHS INDIAN HOSPITAL AT PINE RIDGE</td>\n",
       "      <td>430081</td>\n",
       "      <td>SD</td>\n",
       "      <td>READM-30-AMI-HRRP</td>\n",
       "      <td>0</td>\n",
       "      <td>7.0</td>\n",
       "      <td>NaN</td>\n",
       "      <td>NaN</td>\n",
       "      <td>NaN</td>\n",
       "      <td>NaN</td>\n",
       "      <td>07/01/2010</td>\n",
       "      <td>06/30/2013</td>\n",
       "    </tr>\n",
       "    <tr>\n",
       "      <th>15615</th>\n",
       "      <td>FLORIDA STATE HOSPITAL UNIT 31 MED</td>\n",
       "      <td>100298</td>\n",
       "      <td>FL</td>\n",
       "      <td>READM-30-COPD-HRRP</td>\n",
       "      <td>0</td>\n",
       "      <td>7.0</td>\n",
       "      <td>NaN</td>\n",
       "      <td>NaN</td>\n",
       "      <td>NaN</td>\n",
       "      <td>NaN</td>\n",
       "      <td>07/01/2010</td>\n",
       "      <td>06/30/2013</td>\n",
       "    </tr>\n",
       "    <tr>\n",
       "      <th>14551</th>\n",
       "      <td>GREENE COUNTY HOSPITAL</td>\n",
       "      <td>10051</td>\n",
       "      <td>AL</td>\n",
       "      <td>READM-30-AMI-HRRP</td>\n",
       "      <td>0</td>\n",
       "      <td>7.0</td>\n",
       "      <td>NaN</td>\n",
       "      <td>NaN</td>\n",
       "      <td>NaN</td>\n",
       "      <td>NaN</td>\n",
       "      <td>07/01/2010</td>\n",
       "      <td>06/30/2013</td>\n",
       "    </tr>\n",
       "  </tbody>\n",
       "</table>\n",
       "</div>"
      ],
      "text/plain": [
       "                              Hospital Name  Provider Number State  \\\n",
       "16857           THREE RIVERS MEDICAL CENTER           180128    KY   \n",
       "14582  SELLS INDIAN HEALTH SERVICE HOSPITAL            30074    AZ   \n",
       "15606     PHS INDIAN HOSPITAL AT PINE RIDGE           430081    SD   \n",
       "15615    FLORIDA STATE HOSPITAL UNIT 31 MED           100298    FL   \n",
       "14551                GREENE COUNTY HOSPITAL            10051    AL   \n",
       "\n",
       "                 Measure Name  Number of Discharges  Footnote  \\\n",
       "16857  READM-30-HIP-KNEE-HRRP                     0       7.0   \n",
       "14582      READM-30-COPD-HRRP                     0       7.0   \n",
       "15606       READM-30-AMI-HRRP                     0       7.0   \n",
       "15615      READM-30-COPD-HRRP                     0       7.0   \n",
       "14551       READM-30-AMI-HRRP                     0       7.0   \n",
       "\n",
       "       Excess Readmission Ratio  Predicted Readmission Rate  \\\n",
       "16857                       NaN                         NaN   \n",
       "14582                       NaN                         NaN   \n",
       "15606                       NaN                         NaN   \n",
       "15615                       NaN                         NaN   \n",
       "14551                       NaN                         NaN   \n",
       "\n",
       "       Expected Readmission Rate  Number of Readmissions  Start Date  \\\n",
       "16857                        NaN                     NaN  07/01/2010   \n",
       "14582                        NaN                     NaN  07/01/2010   \n",
       "15606                        NaN                     NaN  07/01/2010   \n",
       "15615                        NaN                     NaN  07/01/2010   \n",
       "14551                        NaN                     NaN  07/01/2010   \n",
       "\n",
       "         End Date  \n",
       "16857  06/30/2013  \n",
       "14582  06/30/2013  \n",
       "15606  06/30/2013  \n",
       "15615  06/30/2013  \n",
       "14551  06/30/2013  "
      ]
     },
     "execution_count": 4,
     "metadata": {},
     "output_type": "execute_result"
    }
   ],
   "source": [
    "clean_hospital_read_df.head()"
   ]
  },
  {
   "cell_type": "code",
   "execution_count": 5,
   "metadata": {
    "collapsed": false,
    "jupyter": {
     "outputs_hidden": false
    }
   },
   "outputs": [
    {
     "data": {
      "image/png": "[encoded data removed]",
      "text/plain": [
       "<Figure size 576x360 with 1 Axes>"
      ]
     },
     "metadata": {
      "needs_background": "light"
     },
     "output_type": "display_data"
    }
   ],
   "source": [
    "# generate a scatterplot for number of discharges vs. excess rate of readmissions\n",
    "# lists work better with matplotlib scatterplot function\n",
    "x = [a for a in clean_hospital_read_df['Number of Discharges'][81:-3]]\n",
    "y = list(clean_hospital_read_df['Excess Readmission Ratio'][81:-3])\n",
    "\n",
    "fig, ax = plt.subplots(figsize=(8,5))\n",
    "ax.scatter(x, y,alpha=0.2)\n",
    "\n",
    "ax.fill_between([0,350], 1.15, 2, facecolor='red', alpha = .15, interpolate=True)\n",
    "ax.fill_between([800,2500], .5, .95, facecolor='green', alpha = .15, interpolate=True)\n",
    "\n",
    "ax.set_xlim([0, max(x)])\n",
    "ax.set_xlabel('Number of discharges', fontsize=12)\n",
    "ax.set_ylabel('Excess rate of readmissions', fontsize=12)\n",
    "ax.set_title('Scatterplot of number of discharges vs. excess rate of readmissions', fontsize=14)\n",
    "\n",
    "ax.grid(True)\n",
    "fig.tight_layout()"
   ]
  },
  {
   "cell_type": "code",
   "execution_count": null,
   "metadata": {},
   "outputs": [],
   "source": []
  },
  {
   "cell_type": "markdown",
   "metadata": {},
   "source": [
    "****\n",
    "\n",
    "## Preliminary Report\n",
    "\n",
    "Read the following results/report. While you are reading it, think about if the conclusions are correct, incorrect, misleading or unfounded. Think about what you would change or what additional analyses you would perform.\n",
    "\n",
    "**A. Initial observations based on the plot above**\n",
    "+ Overall, rate of readmissions is trending down with increasing number of discharges\n",
    "+ With lower number of discharges, there is a greater incidence of excess rate of readmissions (area shaded red)\n",
    "+ With higher number of discharges, there is a greater incidence of lower rates of readmissions (area shaded green) \n",
    "\n",
    "**B. Statistics**\n",
    "+ In hospitals/facilities with number of discharges < 100, mean excess readmission rate is 1.023 and 63% have excess readmission rate greater than 1 \n",
    "+ In hospitals/facilities with number of discharges > 1000, mean excess readmission rate is 0.978 and 44% have excess readmission rate greater than 1 \n",
    "\n",
    "**C. Conclusions**\n",
    "+ There is a significant correlation between hospital capacity (number of discharges) and readmission rates. \n",
    "+ Smaller hospitals/facilities may be lacking necessary resources to ensure quality care and prevent complications that lead to readmissions.\n",
    "\n",
    "**D. Regulatory policy recommendations**\n",
    "+ Hospitals/facilties with small capacity (< 300) should be required to demonstrate upgraded resource allocation for quality care to continue operation.\n",
    "+ Directives and incentives should be provided for consolidation of hospitals and facilities to have a smaller number of them with higher capacity and number of discharges."
   ]
  },
  {
   "cell_type": "markdown",
   "metadata": {},
   "source": [
    "****\n",
    "### Exercise\n",
    "\n",
    "Include your work on the following **in this notebook and submit to your Github account**. \n",
    "\n",
    "A. Do you agree with the above analysis and recommendations? Why or why not?\n",
    "   \n",
    "B. Provide support for your arguments and your own recommendations with a statistically sound analysis:\n",
    "\n",
    "   1. Setup an appropriate hypothesis test.\n",
    "   2. Compute and report the observed significance value (or p-value).\n",
    "   3. Report statistical significance for $\\alpha$ = .01. \n",
    "   4. Discuss statistical significance and practical significance. Do they differ here? How does this change your recommendation to the client?\n",
    "   5. Look at the scatterplot above. \n",
    "      - What are the advantages and disadvantages of using this plot to convey information?\n",
    "      - Construct another plot that conveys the same information in a more direct manner.\n",
    "\n",
    "\n",
    "\n",
    "You can compose in notebook cells using Markdown: \n",
    "+ In the control panel at the top, choose Cell > Cell Type > Markdown\n",
    "+ Markdown syntax: http://nestacms.com/docs/creating-content/markdown-cheat-sheet\n",
    "****"
   ]
  },
  {
   "cell_type": "code",
   "execution_count": 6,
   "metadata": {},
   "outputs": [],
   "source": [
    "# Your turn"
   ]
  },
  {
   "cell_type": "markdown",
   "metadata": {},
   "source": [
    "### Preliminary Report investigation Part A"
   ]
  },
  {
   "cell_type": "markdown",
   "metadata": {},
   "source": [
    "#### Question\n",
    "**A. Initial observations based on the plot above**\n",
    "+ Overall, rate of readmissions is trending down with increasing number of discharges\n"
   ]
  },
  {
   "cell_type": "code",
   "execution_count": 7,
   "metadata": {
    "tags": []
   },
   "outputs": [
    {
     "name": "stdout",
     "output_type": "stream",
     "text": [
      "The slope of whole graph:-2.86e-05\n"
     ]
    },
    {
     "data": {
      "image/png": "[encoded data removed]",
      "text/plain": [
       "<Figure size 576x360 with 1 Axes>"
      ]
     },
     "metadata": {
      "needs_background": "light"
     },
     "output_type": "display_data"
    }
   ],
   "source": [
    "import numpy as np\n",
    "import seaborn as sea\n",
    "\n",
    "df = clean_hospital_read_df[['Excess Readmission Ratio','Number of Discharges']][81:-3]\n",
    "fig, ax = plt.subplots(figsize=(8,5))\n",
    "sea.regplot(x = 'Number of Discharges', y = 'Excess Readmission Ratio', data = df, line_kws = {\"color\":'red'})\n",
    "m,b = np.polyfit(x,y,1)\n",
    "print(\"The slope of whole graph:\" + f\"{m:.3}\")"
   ]
  },
  {
   "cell_type": "markdown",
   "metadata": {},
   "source": [
    "The slope is slightly negative:-2.86e-05 <br>\n",
    "Therefore, the excess readmission ratio slightly decereases as number of discharge increases. <br>\n",
    "The preliminary report part A is true."
   ]
  },
  {
   "cell_type": "markdown",
   "metadata": {},
   "source": [
    "#### Question \n",
    "+ With lower number of discharges, there is a greater incidence of excess rate of readmissions (area shaded red)"
   ]
  },
  {
   "cell_type": "code",
   "execution_count": 12,
   "metadata": {},
   "outputs": [],
   "source": [
    "red = clean_hospital_read_df.loc[(clean_hospital_read_df['Number of Discharges'] >= 0) & \n",
    "                                 (clean_hospital_read_df['Number of Discharges'] <= 350) & \n",
    "                                 (clean_hospital_read_df['Excess Readmission Ratio'] >= 1.2) &\n",
    "                                 (clean_hospital_read_df['Excess Readmission Ratio'] <= 2) ]\n",
    "green = clean_hospital_read_df.loc[(clean_hospital_read_df['Number of Discharges'] >= 800) & \n",
    "                                  (clean_hospital_read_df['Number of Discharges'] <= 2500) &\n",
    "                                  (clean_hospital_read_df['Excess Readmission Ratio'] >= 0.5) &\n",
    "                                  (clean_hospital_read_df['Excess Readmission Ratio'] <= 0.95) ]"
   ]
  },
  {
   "cell_type": "code",
   "execution_count": 13,
   "metadata": {},
   "outputs": [
    {
     "name": "stdout",
     "output_type": "stream",
     "text": [
      "Mean of Entire Readmission: 1.01\n"
     ]
    }
   ],
   "source": [
    "data_mean = clean_hospital_read_df['Excess Readmission Ratio'].mean()\n",
    "print(\"Mean of Entire Readmission: \" + f\"{data_mean:.3}\")"
   ]
  },
  {
   "cell_type": "code",
   "execution_count": 14,
   "metadata": {},
   "outputs": [
    {
     "name": "stdout",
     "output_type": "stream",
     "text": [
      "Mean of Readmission in red squre: 1.29\n",
      "Difference (general - red): -0.281\n"
     ]
    }
   ],
   "source": [
    "redbox_mean = red['Excess Readmission Ratio'].mean()\n",
    "red_diff = data_mean - redbox_mean\n",
    "print(\"Mean of Readmission in red squre: \" + f\"{redbox_mean:.3}\")\n",
    "print(\"Difference (general - red): \" + f\"{red_diff:.3}\")"
   ]
  },
  {
   "cell_type": "markdown",
   "metadata": {},
   "source": [
    "Mean in red square had 0.281 more readmission rate than overall means<br>\n",
    "Therefore, the statement of lower number of discharges = greater reate of readmission is true since the mean of overall is lower than red box."
   ]
  },
  {
   "cell_type": "markdown",
   "metadata": {},
   "source": [
    "#### Question\n",
    "+ With higher number of discharges, there is a greater incidence of lower rates of readmissions (area shaded green) "
   ]
  },
  {
   "cell_type": "code",
   "execution_count": 15,
   "metadata": {
    "tags": []
   },
   "outputs": [
    {
     "name": "stdout",
     "output_type": "stream",
     "text": [
      "Mean of Excess Readmission in green squre: 0.862\n",
      "Difference (general - green): 0.146\n"
     ]
    }
   ],
   "source": [
    "greenbox_mean = green['Excess Readmission Ratio'].mean()\n",
    "green_diff = data_mean - greenbox_mean\n",
    "print(\"Mean of Excess Readmission in green squre: \" + f\"{greenbox_mean:.3}\")\n",
    "print(\"Difference (general - green): \" + f\"{green_diff:.3}\")"
   ]
  },
  {
   "cell_type": "markdown",
   "metadata": {},
   "source": [
    "Mean in blue square had 0.146 less readmission rate than overall<br>\n",
    "Therefore, higher number of discharges = lower rates of readmission is true since the mean of overall is higher than green box area."
   ]
  },
  {
   "cell_type": "markdown",
   "metadata": {},
   "source": [
    "### Preliminary Report investigation Part B"
   ]
  },
  {
   "cell_type": "markdown",
   "metadata": {
    "tags": []
   },
   "source": [
    "**B. Statistics**"
   ]
  },
  {
   "cell_type": "markdown",
   "metadata": {},
   "source": [
    "#### Question\n",
    "\n",
    "+ In hospitals/facilities with number of discharges < 100, mean excess readmission rate is 1.023 and 63% have excess readmission rate greater than 1 \n"
   ]
  },
  {
   "cell_type": "code",
   "execution_count": 16,
   "metadata": {
    "tags": []
   },
   "outputs": [],
   "source": [
    "less100_dis_df = clean_hospital_read_df.loc[clean_hospital_read_df['Number of Discharges'] < 100]\n",
    "over1000_dis_df = clean_hospital_read_df.loc[clean_hospital_read_df['Number of Discharges'] > 1000]"
   ]
  },
  {
   "cell_type": "code",
   "execution_count": 33,
   "metadata": {},
   "outputs": [
    {
     "name": "stdout",
     "output_type": "stream",
     "text": [
      "Less than 100 discharges\n",
      "Percentage of Excess Readmission over 1:  44.5%\n",
      "Mean of Readmission rate:  59.18\n"
     ]
    }
   ],
   "source": [
    "less100_readmission_mean = less100_dis_df['Excess Readmission Ratio'].mean()\n",
    "less100_dis_df_over_one = less100_dis_df.loc[less100_dis_df['Excess Readmission Ratio'] > 1]\n",
    "over_one_less100 = less100_dis_df_over_one['Excess Readmission Ratio'].size\n",
    "entire_less100 = less100_dis_df['Excess Readmission Ratio'].size\n",
    "read_less100_overOne = over_one_less100/entire_less100*100\n",
    "\n",
    "print(\"Less than 100 discharges\")\n",
    "print(\"Percentage of Excess Readmission over 1: \" + f\"{readmission_overOne: .3}\" + \"%\")\n",
    "print(\"Mean of Readmission rate: \" + f\"{read_less100_overOne: .4}\")"
   ]
  },
  {
   "cell_type": "markdown",
   "metadata": {},
   "source": [
    "With less than 100 discharges, readmission ratio is 1.023, but 59% had excess readmission rate greater than 1. However preliminary report mentions it is 63%, so preliminary report is not true."
   ]
  },
  {
   "cell_type": "markdown",
   "metadata": {
    "tags": []
   },
   "source": [
    "#### Question \n",
    "+ In hospitals/facilities with number of discharges > 1000, mean excess readmission rate is 0.978 and 44% have excess readmission rate greater than 1."
   ]
  },
  {
   "cell_type": "code",
   "execution_count": 30,
   "metadata": {},
   "outputs": [
    {
     "name": "stdout",
     "output_type": "stream",
     "text": [
      "Over than 1000 discharges\n",
      "Percentage of Excess Readmission over 1:  44.5%\n",
      "Mean of Readmission rate:  0.978\n"
     ]
    }
   ],
   "source": [
    "over1000_readmission_mean = over1000_dis_df['Excess Readmission Ratio'].mean()\n",
    "over1000_dis_df_over_one = over1000_dis_df.loc[over1000_dis_df['Excess Readmission Ratio'] > 1]\n",
    "over_one_over1000 = over1000_dis_df_over_one['Excess Readmission Ratio'].size\n",
    "entire_over1000 = over1000_dis_df['Excess Readmission Ratio'].size\n",
    "read_over1000_overOne = over_one_over1000/entire_over1000*100\n",
    "\n",
    "print(\"Over than 1000 discharges\")\n",
    "print(\"Percentage of Excess Readmission over 1: \" + f\"{read_over1000_overOne: .3}\" + \"%\")\n",
    "print(\"Mean of Readmission rate: \" + f\"{over1000_readmission_mean: .3}\")"
   ]
  },
  {
   "cell_type": "markdown",
   "metadata": {},
   "source": [
    "With number of discharges over 1000, readmission ratio is 0.978, and excess readmission rate greater than 1 is 44.5%. \n",
    "Therefore, preliminary report is correct"
   ]
  },
  {
   "cell_type": "markdown",
   "metadata": {},
   "source": [
    "### Preliminary Report investigation Part C"
   ]
  },
  {
   "cell_type": "markdown",
   "metadata": {},
   "source": [
    "**C. Conclusions**\n"
   ]
  },
  {
   "cell_type": "markdown",
   "metadata": {},
   "source": [
    "#### Question\n",
    "+ There is a significant correlation between hospital capacity (number of discharges) and readmission rates. "
   ]
  },
  {
   "cell_type": "code",
   "execution_count": 35,
   "metadata": {},
   "outputs": [
    {
     "name": "stdout",
     "output_type": "stream",
     "text": [
      "Correlation between Number of Discharges and Excess Readmission Ratio: -0.09739794351079364\n",
      "p value: 1.2225473776801568e-25\n"
     ]
    }
   ],
   "source": [
    "from scipy import stats as st\n",
    "\n",
    "no_null = clean_hospital_read_df[clean_hospital_read_df['Excess Readmission Ratio'].notnull()]\n",
    "corr, p = st.pearsonr(x = no_null['Number of Discharges'],y = no_null['Excess Readmission Ratio'])\n",
    "print(\"Correlation between Number of Discharges and Excess Readmission Ratio: \" + format(corr))\n",
    "print(\"p value: \" + format(p))"
   ]
  },
  {
   "cell_type": "markdown",
   "metadata": {},
   "source": [
    "It has  negative correlation of -0.097<br>\n",
    "The p value is 1.2e-25, and confidence level is 0.01, so it is statistically significant"
   ]
  },
  {
   "cell_type": "markdown",
   "metadata": {},
   "source": [
    "#### Question\n",
    "+ Smaller hospitals/facilities may be lacking necessary resources to ensure quality care and prevent complications that lead to readmissions."
   ]
  },
  {
   "cell_type": "markdown",
   "metadata": {},
   "source": [
    "If we assume number of discharge is equal to hospital capacity, the readmission rate decreases as the hospital capacity increases.\n",
    "However, we do not have enough information to find the relationship of the readmission rate and quality care and lacking necessary resources at the hospitals/facilities."
   ]
  },
  {
   "cell_type": "markdown",
   "metadata": {},
   "source": [
    "### Preliminary Report investigation Part D"
   ]
  },
  {
   "cell_type": "markdown",
   "metadata": {
    "tags": []
   },
   "source": [
    "**D. Regulatory policy recommendations**"
   ]
  },
  {
   "cell_type": "markdown",
   "metadata": {},
   "source": [
    "#### Question\n",
    "+ Hospitals/facilties with small capacity (< 300) should be required to demonstrate upgraded resource allocation for quality care to continue operation.\n"
   ]
  },
  {
   "cell_type": "code",
   "execution_count": null,
   "metadata": {},
   "outputs": [],
   "source": [
    "smallhospital_df = no_null.loc[no_null['Number of Discharges'] < 300]\n",
    "result = stats.ttest_1samp(a = smallhospital_df['Excess Readmission Ratio'], popmean = data_mean)\n",
    "pval = result.pvalue\n",
    "smallhospital_mean = smallhospital_df['Excess Readmission Ratio'].mean()\n",
    "\n",
    "if pval < 0.01:\n",
    "    print(\"p-value: \" + str(pval))\n",
    "    print(\"Reject null hypotheses\")\n",
    "else:\n",
    "    print(\"p-value: \" + str(pval))\n",
    "    print(\"Failed to reject null hypotheses\")\n",
    "print(\"Small hospital has excess readmission ratio of:\" + \n",
    "      str(smallhospital_mean))\n",
    "print(\"Difference to entire mean from data: \" + str(data_mean - smallhospital_mean))"
   ]
  },
  {
   "cell_type": "markdown",
   "metadata": {},
   "source": [
    "If we assume hospital capacity = number of discharge, we can say that the readmission ratio is higher with hospital capacity (number of discharge) < 300 than in general. However, we do not have any information that upgraded resource allocation for quality care to proof this information."
   ]
  },
  {
   "cell_type": "markdown",
   "metadata": {},
   "source": [
    "#### Question\n",
    "+ Directives and incentives should be provided for consolidation of hospitals and facilities to have a smaller number of them with higher capacity and number of discharges."
   ]
  },
  {
   "cell_type": "markdown",
   "metadata": {},
   "source": [
    "We do not have information to proof this information.\n",
    "We have not been provided with information related to whether the directives and incentives should be provided based on the number of discharges. "
   ]
  },
  {
   "cell_type": "code",
   "execution_count": null,
   "metadata": {},
   "outputs": [],
   "source": []
  }
 ],
 "metadata": {
  "anaconda-cloud": {},
  "kernelspec": {
   "display_name": "Python 3",
   "language": "python",
   "name": "python3"
  },
  "language_info": {
   "codemirror_mode": {
    "name": "ipython",
    "version": 3
   },
   "file_extension": ".py",
   "mimetype": "text/x-python",
   "name": "python",
   "nbconvert_exporter": "python",
   "pygments_lexer": "ipython3",
   "version": "3.8.8"
  }
 },
 "nbformat": 4,
 "nbformat_minor": 4
}
