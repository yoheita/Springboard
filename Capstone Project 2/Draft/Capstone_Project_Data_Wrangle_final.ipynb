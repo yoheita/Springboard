{
 "cells": [
  {
   "cell_type": "code",
   "execution_count": 233,
   "id": "279a3f24-365f-4ab0-be94-a5aa103430f6",
   "metadata": {
    "tags": []
   },
   "outputs": [],
   "source": [
    "import pandas as pd\n",
    "from matplotlib import pyplot as plt\n",
    "import seaborn as sns\n",
    "#import data from csv file\n",
    "df_sell_price_original= pd.read_csv(\"data/m5-forecasting-accuracy/sell_prices.csv\")\n",
    "df_calender= pd.read_csv(\"data/m5-forecasting-accuracy/calendar.csv\")\n",
    "df_evaluation = pd.read_csv(\"data/m5-forecasting-accuracy/sales_train_evaluation.csv\")"
   ]
  },
  {
   "cell_type": "markdown",
   "id": "a7667382-94f2-466d-852c-5b98ca3ac6b8",
   "metadata": {},
   "source": [
    "### sales_train_evaluation.csv evaluation"
   ]
  },
  {
   "cell_type": "code",
   "execution_count": 234,
   "id": "2454686a-6dd7-4f87-86ba-3cc85f4016ed",
   "metadata": {
    "tags": []
   },
   "outputs": [
    {
     "data": {
      "text/html": [
       "<div>\n",
       "<style scoped>\n",
       "    .dataframe tbody tr th:only-of-type {\n",
       "        vertical-align: middle;\n",
       "    }\n",
       "\n",
       "    .dataframe tbody tr th {\n",
       "        vertical-align: top;\n",
       "    }\n",
       "\n",
       "    .dataframe thead th {\n",
       "        text-align: right;\n",
       "    }\n",
       "</style>\n",
       "<table border=\"1\" class=\"dataframe\">\n",
       "  <thead>\n",
       "    <tr style=\"text-align: right;\">\n",
       "      <th></th>\n",
       "      <th>id</th>\n",
       "      <th>item_id</th>\n",
       "      <th>dept_id</th>\n",
       "      <th>cat_id</th>\n",
       "      <th>store_id</th>\n",
       "      <th>state_id</th>\n",
       "      <th>d_1</th>\n",
       "      <th>d_2</th>\n",
       "      <th>d_3</th>\n",
       "      <th>d_4</th>\n",
       "      <th>...</th>\n",
       "      <th>d_1932</th>\n",
       "      <th>d_1933</th>\n",
       "      <th>d_1934</th>\n",
       "      <th>d_1935</th>\n",
       "      <th>d_1936</th>\n",
       "      <th>d_1937</th>\n",
       "      <th>d_1938</th>\n",
       "      <th>d_1939</th>\n",
       "      <th>d_1940</th>\n",
       "      <th>d_1941</th>\n",
       "    </tr>\n",
       "  </thead>\n",
       "  <tbody>\n",
       "    <tr>\n",
       "      <th>0</th>\n",
       "      <td>HOBBIES_1_001_CA_1_evaluation</td>\n",
       "      <td>HOBBIES_1_001</td>\n",
       "      <td>HOBBIES_1</td>\n",
       "      <td>HOBBIES</td>\n",
       "      <td>CA_1</td>\n",
       "      <td>CA</td>\n",
       "      <td>0</td>\n",
       "      <td>0</td>\n",
       "      <td>0</td>\n",
       "      <td>0</td>\n",
       "      <td>...</td>\n",
       "      <td>2</td>\n",
       "      <td>4</td>\n",
       "      <td>0</td>\n",
       "      <td>0</td>\n",
       "      <td>0</td>\n",
       "      <td>0</td>\n",
       "      <td>3</td>\n",
       "      <td>3</td>\n",
       "      <td>0</td>\n",
       "      <td>1</td>\n",
       "    </tr>\n",
       "    <tr>\n",
       "      <th>1</th>\n",
       "      <td>HOBBIES_1_002_CA_1_evaluation</td>\n",
       "      <td>HOBBIES_1_002</td>\n",
       "      <td>HOBBIES_1</td>\n",
       "      <td>HOBBIES</td>\n",
       "      <td>CA_1</td>\n",
       "      <td>CA</td>\n",
       "      <td>0</td>\n",
       "      <td>0</td>\n",
       "      <td>0</td>\n",
       "      <td>0</td>\n",
       "      <td>...</td>\n",
       "      <td>0</td>\n",
       "      <td>1</td>\n",
       "      <td>2</td>\n",
       "      <td>1</td>\n",
       "      <td>1</td>\n",
       "      <td>0</td>\n",
       "      <td>0</td>\n",
       "      <td>0</td>\n",
       "      <td>0</td>\n",
       "      <td>0</td>\n",
       "    </tr>\n",
       "    <tr>\n",
       "      <th>2</th>\n",
       "      <td>HOBBIES_1_003_CA_1_evaluation</td>\n",
       "      <td>HOBBIES_1_003</td>\n",
       "      <td>HOBBIES_1</td>\n",
       "      <td>HOBBIES</td>\n",
       "      <td>CA_1</td>\n",
       "      <td>CA</td>\n",
       "      <td>0</td>\n",
       "      <td>0</td>\n",
       "      <td>0</td>\n",
       "      <td>0</td>\n",
       "      <td>...</td>\n",
       "      <td>1</td>\n",
       "      <td>0</td>\n",
       "      <td>2</td>\n",
       "      <td>0</td>\n",
       "      <td>0</td>\n",
       "      <td>0</td>\n",
       "      <td>2</td>\n",
       "      <td>3</td>\n",
       "      <td>0</td>\n",
       "      <td>1</td>\n",
       "    </tr>\n",
       "    <tr>\n",
       "      <th>3</th>\n",
       "      <td>HOBBIES_1_004_CA_1_evaluation</td>\n",
       "      <td>HOBBIES_1_004</td>\n",
       "      <td>HOBBIES_1</td>\n",
       "      <td>HOBBIES</td>\n",
       "      <td>CA_1</td>\n",
       "      <td>CA</td>\n",
       "      <td>0</td>\n",
       "      <td>0</td>\n",
       "      <td>0</td>\n",
       "      <td>0</td>\n",
       "      <td>...</td>\n",
       "      <td>1</td>\n",
       "      <td>1</td>\n",
       "      <td>0</td>\n",
       "      <td>4</td>\n",
       "      <td>0</td>\n",
       "      <td>1</td>\n",
       "      <td>3</td>\n",
       "      <td>0</td>\n",
       "      <td>2</td>\n",
       "      <td>6</td>\n",
       "    </tr>\n",
       "    <tr>\n",
       "      <th>4</th>\n",
       "      <td>HOBBIES_1_005_CA_1_evaluation</td>\n",
       "      <td>HOBBIES_1_005</td>\n",
       "      <td>HOBBIES_1</td>\n",
       "      <td>HOBBIES</td>\n",
       "      <td>CA_1</td>\n",
       "      <td>CA</td>\n",
       "      <td>0</td>\n",
       "      <td>0</td>\n",
       "      <td>0</td>\n",
       "      <td>0</td>\n",
       "      <td>...</td>\n",
       "      <td>0</td>\n",
       "      <td>0</td>\n",
       "      <td>0</td>\n",
       "      <td>2</td>\n",
       "      <td>1</td>\n",
       "      <td>0</td>\n",
       "      <td>0</td>\n",
       "      <td>2</td>\n",
       "      <td>1</td>\n",
       "      <td>0</td>\n",
       "    </tr>\n",
       "  </tbody>\n",
       "</table>\n",
       "<p>5 rows × 1947 columns</p>\n",
       "</div>"
      ],
      "text/plain": [
       "                              id        item_id    dept_id   cat_id store_id  \\\n",
       "0  HOBBIES_1_001_CA_1_evaluation  HOBBIES_1_001  HOBBIES_1  HOBBIES     CA_1   \n",
       "1  HOBBIES_1_002_CA_1_evaluation  HOBBIES_1_002  HOBBIES_1  HOBBIES     CA_1   \n",
       "2  HOBBIES_1_003_CA_1_evaluation  HOBBIES_1_003  HOBBIES_1  HOBBIES     CA_1   \n",
       "3  HOBBIES_1_004_CA_1_evaluation  HOBBIES_1_004  HOBBIES_1  HOBBIES     CA_1   \n",
       "4  HOBBIES_1_005_CA_1_evaluation  HOBBIES_1_005  HOBBIES_1  HOBBIES     CA_1   \n",
       "\n",
       "  state_id  d_1  d_2  d_3  d_4  ...  d_1932  d_1933  d_1934  d_1935  d_1936  \\\n",
       "0       CA    0    0    0    0  ...       2       4       0       0       0   \n",
       "1       CA    0    0    0    0  ...       0       1       2       1       1   \n",
       "2       CA    0    0    0    0  ...       1       0       2       0       0   \n",
       "3       CA    0    0    0    0  ...       1       1       0       4       0   \n",
       "4       CA    0    0    0    0  ...       0       0       0       2       1   \n",
       "\n",
       "   d_1937  d_1938  d_1939  d_1940  d_1941  \n",
       "0       0       3       3       0       1  \n",
       "1       0       0       0       0       0  \n",
       "2       0       2       3       0       1  \n",
       "3       1       3       0       2       6  \n",
       "4       0       0       2       1       0  \n",
       "\n",
       "[5 rows x 1947 columns]"
      ]
     },
     "execution_count": 234,
     "metadata": {},
     "output_type": "execute_result"
    }
   ],
   "source": [
    "df_evaluation.head()"
   ]
  },
  {
   "cell_type": "code",
   "execution_count": 235,
   "id": "bea7658d-025d-47e0-9b10-a7c0c140f2ba",
   "metadata": {
    "tags": []
   },
   "outputs": [
    {
     "data": {
      "text/plain": [
       "(30490, 1947)"
      ]
     },
     "execution_count": 235,
     "metadata": {},
     "output_type": "execute_result"
    }
   ],
   "source": [
    "df_evaluation.shape"
   ]
  },
  {
   "cell_type": "code",
   "execution_count": 236,
   "id": "d33a8585-4d21-4ce5-b15e-e75baba0f503",
   "metadata": {
    "tags": []
   },
   "outputs": [
    {
     "name": "stdout",
     "output_type": "stream",
     "text": [
      "<class 'pandas.core.frame.DataFrame'>\n",
      "RangeIndex: 30490 entries, 0 to 30489\n",
      "Columns: 1947 entries, id to d_1941\n",
      "dtypes: int64(1941), object(6)\n",
      "memory usage: 452.9+ MB\n"
     ]
    }
   ],
   "source": [
    "df_evaluation.info()"
   ]
  },
  {
   "cell_type": "markdown",
   "id": "5b6632f3-7ed6-42f1-8b32-a5de43552bd6",
   "metadata": {},
   "source": [
    "This tells us that there should be 30490 product data linked with store id"
   ]
  },
  {
   "cell_type": "code",
   "execution_count": 237,
   "id": "65c43b29-3956-4625-aba1-7381d9849952",
   "metadata": {
    "tags": []
   },
   "outputs": [
    {
     "data": {
      "text/plain": [
       "0"
      ]
     },
     "execution_count": 237,
     "metadata": {},
     "output_type": "execute_result"
    }
   ],
   "source": [
    "df_evaluation.isnull().any().sum()"
   ]
  },
  {
   "cell_type": "markdown",
   "id": "0150f16a-4def-41a0-8623-fdbb1a225ce3",
   "metadata": {},
   "source": [
    "There is no null value in the table \"sales_train_evaluation\""
   ]
  },
  {
   "cell_type": "markdown",
   "id": "b9a9346b-0fae-4096-8307-f0dea8c0d53b",
   "metadata": {
    "tags": []
   },
   "source": [
    "len(df_evaluation.columns[6:])"
   ]
  },
  {
   "cell_type": "markdown",
   "id": "301d5bae-f5d3-4a87-8cfe-ced53e784071",
   "metadata": {},
   "source": [
    "The count of date data is 1941"
   ]
  },
  {
   "cell_type": "code",
   "execution_count": 238,
   "id": "11a38a9b-e5b1-47a7-9a95-a489272a9c3b",
   "metadata": {
    "tags": []
   },
   "outputs": [
    {
     "data": {
      "text/plain": [
       "0"
      ]
     },
     "execution_count": 238,
     "metadata": {},
     "output_type": "execute_result"
    }
   ],
   "source": [
    "date_col = df_evaluation.columns[6:]\n",
    "s_temp = pd.Series(date_col)\n",
    "s_temp = s_temp.duplicated()\n",
    "s_temp = s_temp.loc[s_temp == 'False'].count()\n",
    "s_temp"
   ]
  },
  {
   "cell_type": "markdown",
   "id": "90b08cde-ee5f-4665-a481-9d7623283222",
   "metadata": {},
   "source": [
    "We can see that there is no duplicated date columns meaning there are 1941 date data"
   ]
  },
  {
   "cell_type": "code",
   "execution_count": 239,
   "id": "0a57e8c3-3d04-4862-80e2-4f36de656460",
   "metadata": {
    "tags": []
   },
   "outputs": [
    {
     "data": {
      "text/html": [
       "<div>\n",
       "<style scoped>\n",
       "    .dataframe tbody tr th:only-of-type {\n",
       "        vertical-align: middle;\n",
       "    }\n",
       "\n",
       "    .dataframe tbody tr th {\n",
       "        vertical-align: top;\n",
       "    }\n",
       "\n",
       "    .dataframe thead th {\n",
       "        text-align: right;\n",
       "    }\n",
       "</style>\n",
       "<table border=\"1\" class=\"dataframe\">\n",
       "  <thead>\n",
       "    <tr style=\"text-align: right;\">\n",
       "      <th></th>\n",
       "      <th>Product_number</th>\n",
       "    </tr>\n",
       "    <tr>\n",
       "      <th>store_id</th>\n",
       "      <th></th>\n",
       "    </tr>\n",
       "  </thead>\n",
       "  <tbody>\n",
       "    <tr>\n",
       "      <th>CA_1</th>\n",
       "      <td>3049</td>\n",
       "    </tr>\n",
       "    <tr>\n",
       "      <th>CA_2</th>\n",
       "      <td>3049</td>\n",
       "    </tr>\n",
       "    <tr>\n",
       "      <th>CA_3</th>\n",
       "      <td>3049</td>\n",
       "    </tr>\n",
       "    <tr>\n",
       "      <th>CA_4</th>\n",
       "      <td>3049</td>\n",
       "    </tr>\n",
       "    <tr>\n",
       "      <th>TX_1</th>\n",
       "      <td>3049</td>\n",
       "    </tr>\n",
       "    <tr>\n",
       "      <th>TX_2</th>\n",
       "      <td>3049</td>\n",
       "    </tr>\n",
       "    <tr>\n",
       "      <th>TX_3</th>\n",
       "      <td>3049</td>\n",
       "    </tr>\n",
       "    <tr>\n",
       "      <th>WI_1</th>\n",
       "      <td>3049</td>\n",
       "    </tr>\n",
       "    <tr>\n",
       "      <th>WI_2</th>\n",
       "      <td>3049</td>\n",
       "    </tr>\n",
       "    <tr>\n",
       "      <th>WI_3</th>\n",
       "      <td>3049</td>\n",
       "    </tr>\n",
       "  </tbody>\n",
       "</table>\n",
       "</div>"
      ],
      "text/plain": [
       "          Product_number\n",
       "store_id                \n",
       "CA_1                3049\n",
       "CA_2                3049\n",
       "CA_3                3049\n",
       "CA_4                3049\n",
       "TX_1                3049\n",
       "TX_2                3049\n",
       "TX_3                3049\n",
       "WI_1                3049\n",
       "WI_2                3049\n",
       "WI_3                3049"
      ]
     },
     "execution_count": 239,
     "metadata": {},
     "output_type": "execute_result"
    }
   ],
   "source": [
    "df_eva_product = df_evaluation.drop_duplicates(['store_id','item_id'])\n",
    "table_prod_eva = df_evaluation.groupby('store_id')['item_id'].count().to_frame('Product_number')\n",
    "table_prod_eva"
   ]
  },
  {
   "cell_type": "code",
   "execution_count": 240,
   "id": "e92e160a-8d8c-497b-b64d-381e4bc36c0a",
   "metadata": {
    "tags": []
   },
   "outputs": [],
   "source": [
    "df_eva_product = df_evaluation.drop_duplicates(['store_id','item_id'])\n",
    "table_prod_cat_eva = df_evaluation.groupby(['store_id','cat_id'])['item_id'].count().to_frame('Product_Quantitiy')\n",
    "table_prod_cat_eva_reset_index = table_prod_cat_eva.reset_index()"
   ]
  },
  {
   "cell_type": "code",
   "execution_count": 241,
   "id": "e01797c5-bed7-4f21-aeb4-3917bb28d3fb",
   "metadata": {},
   "outputs": [
    {
     "data": {
      "text/html": [
       "<div>\n",
       "<style scoped>\n",
       "    .dataframe tbody tr th:only-of-type {\n",
       "        vertical-align: middle;\n",
       "    }\n",
       "\n",
       "    .dataframe tbody tr th {\n",
       "        vertical-align: top;\n",
       "    }\n",
       "\n",
       "    .dataframe thead th {\n",
       "        text-align: right;\n",
       "    }\n",
       "</style>\n",
       "<table border=\"1\" class=\"dataframe\">\n",
       "  <thead>\n",
       "    <tr style=\"text-align: right;\">\n",
       "      <th></th>\n",
       "      <th>store_id</th>\n",
       "      <th>cat_id</th>\n",
       "      <th>Product_Quantitiy</th>\n",
       "    </tr>\n",
       "  </thead>\n",
       "  <tbody>\n",
       "    <tr>\n",
       "      <th>0</th>\n",
       "      <td>CA_1</td>\n",
       "      <td>FOODS</td>\n",
       "      <td>1437</td>\n",
       "    </tr>\n",
       "    <tr>\n",
       "      <th>1</th>\n",
       "      <td>CA_1</td>\n",
       "      <td>HOBBIES</td>\n",
       "      <td>565</td>\n",
       "    </tr>\n",
       "    <tr>\n",
       "      <th>2</th>\n",
       "      <td>CA_1</td>\n",
       "      <td>HOUSEHOLD</td>\n",
       "      <td>1047</td>\n",
       "    </tr>\n",
       "    <tr>\n",
       "      <th>3</th>\n",
       "      <td>CA_2</td>\n",
       "      <td>FOODS</td>\n",
       "      <td>1437</td>\n",
       "    </tr>\n",
       "    <tr>\n",
       "      <th>4</th>\n",
       "      <td>CA_2</td>\n",
       "      <td>HOBBIES</td>\n",
       "      <td>565</td>\n",
       "    </tr>\n",
       "  </tbody>\n",
       "</table>\n",
       "</div>"
      ],
      "text/plain": [
       "  store_id     cat_id  Product_Quantitiy\n",
       "0     CA_1      FOODS               1437\n",
       "1     CA_1    HOBBIES                565\n",
       "2     CA_1  HOUSEHOLD               1047\n",
       "3     CA_2      FOODS               1437\n",
       "4     CA_2    HOBBIES                565"
      ]
     },
     "execution_count": 241,
     "metadata": {},
     "output_type": "execute_result"
    }
   ],
   "source": [
    "table_prod_cat_eva_reset_index.head()"
   ]
  },
  {
   "cell_type": "code",
   "execution_count": 242,
   "id": "f2a7e422-3139-4a56-b404-ca15abe65fd4",
   "metadata": {
    "tags": []
   },
   "outputs": [
    {
     "data": {
      "image/png": "[encoded data removed]",
      "text/plain": [
       "<Figure size 432x288 with 1 Axes>"
      ]
     },
     "metadata": {
      "needs_background": "light"
     },
     "output_type": "display_data"
    }
   ],
   "source": [
    "import seaborn as sns\n",
    "sns.barplot(data = table_prod_cat_eva_reset_index, x = \"store_id\", y = 'Product_Quantitiy', hue = 'cat_id')\n",
    "plt.title(\"Item Category Distribution Graph\")\n",
    "plt.legend(loc = 'lower right')\n",
    "plt.show()"
   ]
  },
  {
   "cell_type": "code",
   "execution_count": 243,
   "id": "a00026d5-96a9-4fb0-9666-44e463d70c47",
   "metadata": {
    "tags": []
   },
   "outputs": [
    {
     "name": "stdout",
     "output_type": "stream",
     "text": [
      "There is no duplicate product in the table\n"
     ]
    }
   ],
   "source": [
    "if df_eva_product.shape == df_evaluation.shape:\n",
    "    print(\"There is no duplicate product in the table\")"
   ]
  },
  {
   "cell_type": "markdown",
   "id": "a0b297e3-7fcd-42a2-8099-559af3a09b3e",
   "metadata": {},
   "source": [
    "Lets see how many zeros are in this table"
   ]
  },
  {
   "cell_type": "code",
   "execution_count": null,
   "id": "0cda899c-c851-4b55-851c-23466cffae20",
   "metadata": {},
   "outputs": [],
   "source": []
  },
  {
   "cell_type": "markdown",
   "id": "3463e185-2c8d-4732-a599-3eb4ad91c538",
   "metadata": {},
   "source": [
    "### sell_prices.csv evaluation"
   ]
  },
  {
   "cell_type": "code",
   "execution_count": 244,
   "id": "b658ef82-93e9-45ba-b363-b17c63185133",
   "metadata": {
    "tags": []
   },
   "outputs": [
    {
     "data": {
      "text/html": [
       "<div>\n",
       "<style scoped>\n",
       "    .dataframe tbody tr th:only-of-type {\n",
       "        vertical-align: middle;\n",
       "    }\n",
       "\n",
       "    .dataframe tbody tr th {\n",
       "        vertical-align: top;\n",
       "    }\n",
       "\n",
       "    .dataframe thead th {\n",
       "        text-align: right;\n",
       "    }\n",
       "</style>\n",
       "<table border=\"1\" class=\"dataframe\">\n",
       "  <thead>\n",
       "    <tr style=\"text-align: right;\">\n",
       "      <th></th>\n",
       "      <th>store_id</th>\n",
       "      <th>item_id</th>\n",
       "      <th>wm_yr_wk</th>\n",
       "      <th>sell_price</th>\n",
       "    </tr>\n",
       "  </thead>\n",
       "  <tbody>\n",
       "    <tr>\n",
       "      <th>0</th>\n",
       "      <td>CA_1</td>\n",
       "      <td>HOBBIES_1_001</td>\n",
       "      <td>11325</td>\n",
       "      <td>9.58</td>\n",
       "    </tr>\n",
       "    <tr>\n",
       "      <th>1</th>\n",
       "      <td>CA_1</td>\n",
       "      <td>HOBBIES_1_001</td>\n",
       "      <td>11326</td>\n",
       "      <td>9.58</td>\n",
       "    </tr>\n",
       "    <tr>\n",
       "      <th>2</th>\n",
       "      <td>CA_1</td>\n",
       "      <td>HOBBIES_1_001</td>\n",
       "      <td>11327</td>\n",
       "      <td>8.26</td>\n",
       "    </tr>\n",
       "    <tr>\n",
       "      <th>3</th>\n",
       "      <td>CA_1</td>\n",
       "      <td>HOBBIES_1_001</td>\n",
       "      <td>11328</td>\n",
       "      <td>8.26</td>\n",
       "    </tr>\n",
       "    <tr>\n",
       "      <th>4</th>\n",
       "      <td>CA_1</td>\n",
       "      <td>HOBBIES_1_001</td>\n",
       "      <td>11329</td>\n",
       "      <td>8.26</td>\n",
       "    </tr>\n",
       "  </tbody>\n",
       "</table>\n",
       "</div>"
      ],
      "text/plain": [
       "  store_id        item_id  wm_yr_wk  sell_price\n",
       "0     CA_1  HOBBIES_1_001     11325        9.58\n",
       "1     CA_1  HOBBIES_1_001     11326        9.58\n",
       "2     CA_1  HOBBIES_1_001     11327        8.26\n",
       "3     CA_1  HOBBIES_1_001     11328        8.26\n",
       "4     CA_1  HOBBIES_1_001     11329        8.26"
      ]
     },
     "execution_count": 244,
     "metadata": {},
     "output_type": "execute_result"
    }
   ],
   "source": [
    "df_sell_price_original.head()"
   ]
  },
  {
   "cell_type": "code",
   "execution_count": 245,
   "id": "9c831186-ad3c-401c-9176-4b3dd0b40bbc",
   "metadata": {
    "tags": []
   },
   "outputs": [
    {
     "name": "stdout",
     "output_type": "stream",
     "text": [
      "<class 'pandas.core.frame.DataFrame'>\n",
      "RangeIndex: 6841121 entries, 0 to 6841120\n",
      "Data columns (total 4 columns):\n",
      " #   Column      Dtype  \n",
      "---  ------      -----  \n",
      " 0   store_id    object \n",
      " 1   item_id     object \n",
      " 2   wm_yr_wk    int64  \n",
      " 3   sell_price  float64\n",
      "dtypes: float64(1), int64(1), object(2)\n",
      "memory usage: 208.8+ MB\n"
     ]
    }
   ],
   "source": [
    "df_sell_price_original.info()"
   ]
  },
  {
   "cell_type": "code",
   "execution_count": 246,
   "id": "ce5aae08-0253-4057-a22a-a0e3aa9b94bc",
   "metadata": {
    "tags": []
   },
   "outputs": [
    {
     "data": {
      "text/plain": [
       "store_id      0\n",
       "item_id       0\n",
       "wm_yr_wk      0\n",
       "sell_price    0\n",
       "dtype: int64"
      ]
     },
     "execution_count": 246,
     "metadata": {},
     "output_type": "execute_result"
    }
   ],
   "source": [
    "df_sell_price_original.isnull().sum()"
   ]
  },
  {
   "cell_type": "markdown",
   "id": "bc90e475-1e85-4a06-a4d7-4c9574e7c0d6",
   "metadata": {},
   "source": [
    "We can see tha the week id has been linked to this table for the date. However, evaluation table was linked with date id."
   ]
  },
  {
   "cell_type": "code",
   "execution_count": 247,
   "id": "eeaaf12b-b220-456a-8bed-5e00c0eb53d8",
   "metadata": {
    "tags": []
   },
   "outputs": [
    {
     "data": {
      "text/plain": [
       "0"
      ]
     },
     "execution_count": 247,
     "metadata": {},
     "output_type": "execute_result"
    }
   ],
   "source": [
    "df_sell_price_original.isnull().any().sum()"
   ]
  },
  {
   "cell_type": "markdown",
   "id": "511df6ac-0aee-4b20-9364-482c55e39cf7",
   "metadata": {},
   "source": [
    "We can see that there is no null value in this table."
   ]
  },
  {
   "cell_type": "code",
   "execution_count": 248,
   "id": "a1449755-95f0-430c-8019-b7bc1ddc67ea",
   "metadata": {
    "tags": []
   },
   "outputs": [
    {
     "data": {
      "text/plain": [
       "array(['HOBBIES_1', 'HOBBIES_2', 'HOUSEHOLD_1', 'HOUSEHOLD_2', 'FOODS_1',\n",
       "       'FOODS_2', 'FOODS_3'], dtype=object)"
      ]
     },
     "execution_count": 248,
     "metadata": {},
     "output_type": "execute_result"
    }
   ],
   "source": [
    "df_evaluation['dept_id'].unique()"
   ]
  },
  {
   "cell_type": "code",
   "execution_count": 250,
   "id": "ba0a7098-55d2-46b9-b86c-734c3bf8d0e2",
   "metadata": {
    "tags": []
   },
   "outputs": [],
   "source": [
    "df_sell_price =df_sell_price_original.copy()\n",
    "df_sell_price['category'] = df_sell_price['item_id'].str.split(\"_\")\n",
    "df_sell_price['category_ID'] =  df_sell_price['item_id'].str.split(\"_\").str[0] + \"_\" + \\\n",
    "df_sell_price['item_id'].str.split(\"_\").str[1]\n",
    "df_sell_price['item_number'] =  df_sell_price['item_id'].str.split(\"_\").str[2]\n",
    "df_sell_price['store_item_id'] =  df_sell_price['store_id'] + \"_\" + df_sell_price['item_id']\n",
    "df_sell_price['store_location'] = df_sell_price['store_id'].str.split(\"_\").str[0]\n",
    "df_sell_price['store_number'] = df_sell_price['store_id'].str.split(\"_\").str[1]\n",
    "df_sell_price['id'] = df_sell_price['item_id'] + '_' + df_sell_price['store_id'] + '_evaluation'"
   ]
  },
  {
   "cell_type": "code",
   "execution_count": 251,
   "id": "06cda64b-3a6b-423a-8884-3f6cec04a808",
   "metadata": {
    "tags": []
   },
   "outputs": [
    {
     "data": {
      "text/html": [
       "<div>\n",
       "<style scoped>\n",
       "    .dataframe tbody tr th:only-of-type {\n",
       "        vertical-align: middle;\n",
       "    }\n",
       "\n",
       "    .dataframe tbody tr th {\n",
       "        vertical-align: top;\n",
       "    }\n",
       "\n",
       "    .dataframe thead th {\n",
       "        text-align: right;\n",
       "    }\n",
       "</style>\n",
       "<table border=\"1\" class=\"dataframe\">\n",
       "  <thead>\n",
       "    <tr style=\"text-align: right;\">\n",
       "      <th></th>\n",
       "      <th>Product_number</th>\n",
       "    </tr>\n",
       "    <tr>\n",
       "      <th>store_id</th>\n",
       "      <th></th>\n",
       "    </tr>\n",
       "  </thead>\n",
       "  <tbody>\n",
       "    <tr>\n",
       "      <th>CA_1</th>\n",
       "      <td>3049</td>\n",
       "    </tr>\n",
       "    <tr>\n",
       "      <th>CA_2</th>\n",
       "      <td>3049</td>\n",
       "    </tr>\n",
       "    <tr>\n",
       "      <th>CA_3</th>\n",
       "      <td>3049</td>\n",
       "    </tr>\n",
       "    <tr>\n",
       "      <th>CA_4</th>\n",
       "      <td>3049</td>\n",
       "    </tr>\n",
       "    <tr>\n",
       "      <th>TX_1</th>\n",
       "      <td>3049</td>\n",
       "    </tr>\n",
       "    <tr>\n",
       "      <th>TX_2</th>\n",
       "      <td>3049</td>\n",
       "    </tr>\n",
       "    <tr>\n",
       "      <th>TX_3</th>\n",
       "      <td>3049</td>\n",
       "    </tr>\n",
       "    <tr>\n",
       "      <th>WI_1</th>\n",
       "      <td>3049</td>\n",
       "    </tr>\n",
       "    <tr>\n",
       "      <th>WI_2</th>\n",
       "      <td>3049</td>\n",
       "    </tr>\n",
       "    <tr>\n",
       "      <th>WI_3</th>\n",
       "      <td>3049</td>\n",
       "    </tr>\n",
       "  </tbody>\n",
       "</table>\n",
       "</div>"
      ],
      "text/plain": [
       "          Product_number\n",
       "store_id                \n",
       "CA_1                3049\n",
       "CA_2                3049\n",
       "CA_3                3049\n",
       "CA_4                3049\n",
       "TX_1                3049\n",
       "TX_2                3049\n",
       "TX_3                3049\n",
       "WI_1                3049\n",
       "WI_2                3049\n",
       "WI_3                3049"
      ]
     },
     "execution_count": 251,
     "metadata": {},
     "output_type": "execute_result"
    }
   ],
   "source": [
    "df_product = df_sell_price.drop_duplicates(['store_id','item_id'])\n",
    "table_prod_sell = df_product.groupby('store_id')['item_id'].count().to_frame('Product_number')\n",
    "table_prod_sell"
   ]
  },
  {
   "cell_type": "code",
   "execution_count": null,
   "id": "a6474344-c181-44ab-92ca-129c75dc63ad",
   "metadata": {
    "tags": []
   },
   "outputs": [],
   "source": []
  },
  {
   "cell_type": "code",
   "execution_count": 252,
   "id": "57354ca1-7ff0-4cd2-802f-96768691030a",
   "metadata": {
    "tags": []
   },
   "outputs": [
    {
     "name": "stdout",
     "output_type": "stream",
     "text": [
      "same store id and products are in the data for table for evaluation and \n"
     ]
    }
   ],
   "source": [
    "if table_prod_sell.compare(table_prod_eva).empty:\n",
    "    print(\"same store id and products are in the data for table for evaluation and \")"
   ]
  },
  {
   "cell_type": "code",
   "execution_count": 253,
   "id": "ed86e87a-59ed-4c75-9fc9-87224f39364e",
   "metadata": {
    "tags": []
   },
   "outputs": [
    {
     "name": "stdout",
     "output_type": "stream",
     "text": [
      "There is no duplicate product in the table between evaluation table and sells price table\n"
     ]
    }
   ],
   "source": [
    "if df_eva_product.shape[0] == df_product.shape[0]:\n",
    "    print(\"There is no duplicate product in the table between evaluation table and sells price table\")"
   ]
  },
  {
   "cell_type": "markdown",
   "id": "91369da3-bf9b-49b7-9e79-9d513d6a5b39",
   "metadata": {},
   "source": [
    "### calendar.csv evaluation"
   ]
  },
  {
   "cell_type": "code",
   "execution_count": 254,
   "id": "4b53875f-00e2-41ab-902e-609623f6b63d",
   "metadata": {
    "tags": []
   },
   "outputs": [
    {
     "data": {
      "text/html": [
       "<div>\n",
       "<style scoped>\n",
       "    .dataframe tbody tr th:only-of-type {\n",
       "        vertical-align: middle;\n",
       "    }\n",
       "\n",
       "    .dataframe tbody tr th {\n",
       "        vertical-align: top;\n",
       "    }\n",
       "\n",
       "    .dataframe thead th {\n",
       "        text-align: right;\n",
       "    }\n",
       "</style>\n",
       "<table border=\"1\" class=\"dataframe\">\n",
       "  <thead>\n",
       "    <tr style=\"text-align: right;\">\n",
       "      <th></th>\n",
       "      <th>date</th>\n",
       "      <th>wm_yr_wk</th>\n",
       "      <th>weekday</th>\n",
       "      <th>wday</th>\n",
       "      <th>month</th>\n",
       "      <th>year</th>\n",
       "      <th>d</th>\n",
       "      <th>event_name_1</th>\n",
       "      <th>event_type_1</th>\n",
       "      <th>event_name_2</th>\n",
       "      <th>event_type_2</th>\n",
       "      <th>snap_CA</th>\n",
       "      <th>snap_TX</th>\n",
       "      <th>snap_WI</th>\n",
       "    </tr>\n",
       "  </thead>\n",
       "  <tbody>\n",
       "    <tr>\n",
       "      <th>0</th>\n",
       "      <td>2011-01-29</td>\n",
       "      <td>11101</td>\n",
       "      <td>Saturday</td>\n",
       "      <td>1</td>\n",
       "      <td>1</td>\n",
       "      <td>2011</td>\n",
       "      <td>d_1</td>\n",
       "      <td>NaN</td>\n",
       "      <td>NaN</td>\n",
       "      <td>NaN</td>\n",
       "      <td>NaN</td>\n",
       "      <td>0</td>\n",
       "      <td>0</td>\n",
       "      <td>0</td>\n",
       "    </tr>\n",
       "    <tr>\n",
       "      <th>1</th>\n",
       "      <td>2011-01-30</td>\n",
       "      <td>11101</td>\n",
       "      <td>Sunday</td>\n",
       "      <td>2</td>\n",
       "      <td>1</td>\n",
       "      <td>2011</td>\n",
       "      <td>d_2</td>\n",
       "      <td>NaN</td>\n",
       "      <td>NaN</td>\n",
       "      <td>NaN</td>\n",
       "      <td>NaN</td>\n",
       "      <td>0</td>\n",
       "      <td>0</td>\n",
       "      <td>0</td>\n",
       "    </tr>\n",
       "    <tr>\n",
       "      <th>2</th>\n",
       "      <td>2011-01-31</td>\n",
       "      <td>11101</td>\n",
       "      <td>Monday</td>\n",
       "      <td>3</td>\n",
       "      <td>1</td>\n",
       "      <td>2011</td>\n",
       "      <td>d_3</td>\n",
       "      <td>NaN</td>\n",
       "      <td>NaN</td>\n",
       "      <td>NaN</td>\n",
       "      <td>NaN</td>\n",
       "      <td>0</td>\n",
       "      <td>0</td>\n",
       "      <td>0</td>\n",
       "    </tr>\n",
       "    <tr>\n",
       "      <th>3</th>\n",
       "      <td>2011-02-01</td>\n",
       "      <td>11101</td>\n",
       "      <td>Tuesday</td>\n",
       "      <td>4</td>\n",
       "      <td>2</td>\n",
       "      <td>2011</td>\n",
       "      <td>d_4</td>\n",
       "      <td>NaN</td>\n",
       "      <td>NaN</td>\n",
       "      <td>NaN</td>\n",
       "      <td>NaN</td>\n",
       "      <td>1</td>\n",
       "      <td>1</td>\n",
       "      <td>0</td>\n",
       "    </tr>\n",
       "    <tr>\n",
       "      <th>4</th>\n",
       "      <td>2011-02-02</td>\n",
       "      <td>11101</td>\n",
       "      <td>Wednesday</td>\n",
       "      <td>5</td>\n",
       "      <td>2</td>\n",
       "      <td>2011</td>\n",
       "      <td>d_5</td>\n",
       "      <td>NaN</td>\n",
       "      <td>NaN</td>\n",
       "      <td>NaN</td>\n",
       "      <td>NaN</td>\n",
       "      <td>1</td>\n",
       "      <td>0</td>\n",
       "      <td>1</td>\n",
       "    </tr>\n",
       "  </tbody>\n",
       "</table>\n",
       "</div>"
      ],
      "text/plain": [
       "         date  wm_yr_wk    weekday  wday  month  year    d event_name_1  \\\n",
       "0  2011-01-29     11101   Saturday     1      1  2011  d_1          NaN   \n",
       "1  2011-01-30     11101     Sunday     2      1  2011  d_2          NaN   \n",
       "2  2011-01-31     11101     Monday     3      1  2011  d_3          NaN   \n",
       "3  2011-02-01     11101    Tuesday     4      2  2011  d_4          NaN   \n",
       "4  2011-02-02     11101  Wednesday     5      2  2011  d_5          NaN   \n",
       "\n",
       "  event_type_1 event_name_2 event_type_2  snap_CA  snap_TX  snap_WI  \n",
       "0          NaN          NaN          NaN        0        0        0  \n",
       "1          NaN          NaN          NaN        0        0        0  \n",
       "2          NaN          NaN          NaN        0        0        0  \n",
       "3          NaN          NaN          NaN        1        1        0  \n",
       "4          NaN          NaN          NaN        1        0        1  "
      ]
     },
     "execution_count": 254,
     "metadata": {},
     "output_type": "execute_result"
    }
   ],
   "source": [
    "df_calender.head()"
   ]
  },
  {
   "cell_type": "code",
   "execution_count": 255,
   "id": "2b49163d-42e1-421a-8f2c-39949ccb6857",
   "metadata": {
    "tags": []
   },
   "outputs": [
    {
     "data": {
      "text/html": [
       "<div>\n",
       "<style scoped>\n",
       "    .dataframe tbody tr th:only-of-type {\n",
       "        vertical-align: middle;\n",
       "    }\n",
       "\n",
       "    .dataframe tbody tr th {\n",
       "        vertical-align: top;\n",
       "    }\n",
       "\n",
       "    .dataframe thead th {\n",
       "        text-align: right;\n",
       "    }\n",
       "</style>\n",
       "<table border=\"1\" class=\"dataframe\">\n",
       "  <thead>\n",
       "    <tr style=\"text-align: right;\">\n",
       "      <th></th>\n",
       "      <th>date</th>\n",
       "      <th>wm_yr_wk</th>\n",
       "      <th>weekday</th>\n",
       "      <th>wday</th>\n",
       "      <th>month</th>\n",
       "      <th>year</th>\n",
       "      <th>d</th>\n",
       "      <th>event_name_1</th>\n",
       "      <th>event_type_1</th>\n",
       "      <th>event_name_2</th>\n",
       "      <th>event_type_2</th>\n",
       "      <th>snap_CA</th>\n",
       "      <th>snap_TX</th>\n",
       "      <th>snap_WI</th>\n",
       "    </tr>\n",
       "  </thead>\n",
       "  <tbody>\n",
       "    <tr>\n",
       "      <th>1964</th>\n",
       "      <td>2016-06-15</td>\n",
       "      <td>11620</td>\n",
       "      <td>Wednesday</td>\n",
       "      <td>5</td>\n",
       "      <td>6</td>\n",
       "      <td>2016</td>\n",
       "      <td>d_1965</td>\n",
       "      <td>NaN</td>\n",
       "      <td>NaN</td>\n",
       "      <td>NaN</td>\n",
       "      <td>NaN</td>\n",
       "      <td>0</td>\n",
       "      <td>1</td>\n",
       "      <td>1</td>\n",
       "    </tr>\n",
       "    <tr>\n",
       "      <th>1965</th>\n",
       "      <td>2016-06-16</td>\n",
       "      <td>11620</td>\n",
       "      <td>Thursday</td>\n",
       "      <td>6</td>\n",
       "      <td>6</td>\n",
       "      <td>2016</td>\n",
       "      <td>d_1966</td>\n",
       "      <td>NaN</td>\n",
       "      <td>NaN</td>\n",
       "      <td>NaN</td>\n",
       "      <td>NaN</td>\n",
       "      <td>0</td>\n",
       "      <td>0</td>\n",
       "      <td>0</td>\n",
       "    </tr>\n",
       "    <tr>\n",
       "      <th>1966</th>\n",
       "      <td>2016-06-17</td>\n",
       "      <td>11620</td>\n",
       "      <td>Friday</td>\n",
       "      <td>7</td>\n",
       "      <td>6</td>\n",
       "      <td>2016</td>\n",
       "      <td>d_1967</td>\n",
       "      <td>NaN</td>\n",
       "      <td>NaN</td>\n",
       "      <td>NaN</td>\n",
       "      <td>NaN</td>\n",
       "      <td>0</td>\n",
       "      <td>0</td>\n",
       "      <td>0</td>\n",
       "    </tr>\n",
       "    <tr>\n",
       "      <th>1967</th>\n",
       "      <td>2016-06-18</td>\n",
       "      <td>11621</td>\n",
       "      <td>Saturday</td>\n",
       "      <td>1</td>\n",
       "      <td>6</td>\n",
       "      <td>2016</td>\n",
       "      <td>d_1968</td>\n",
       "      <td>NaN</td>\n",
       "      <td>NaN</td>\n",
       "      <td>NaN</td>\n",
       "      <td>NaN</td>\n",
       "      <td>0</td>\n",
       "      <td>0</td>\n",
       "      <td>0</td>\n",
       "    </tr>\n",
       "    <tr>\n",
       "      <th>1968</th>\n",
       "      <td>2016-06-19</td>\n",
       "      <td>11621</td>\n",
       "      <td>Sunday</td>\n",
       "      <td>2</td>\n",
       "      <td>6</td>\n",
       "      <td>2016</td>\n",
       "      <td>d_1969</td>\n",
       "      <td>NBAFinalsEnd</td>\n",
       "      <td>Sporting</td>\n",
       "      <td>Father's day</td>\n",
       "      <td>Cultural</td>\n",
       "      <td>0</td>\n",
       "      <td>0</td>\n",
       "      <td>0</td>\n",
       "    </tr>\n",
       "  </tbody>\n",
       "</table>\n",
       "</div>"
      ],
      "text/plain": [
       "            date  wm_yr_wk    weekday  wday  month  year       d  \\\n",
       "1964  2016-06-15     11620  Wednesday     5      6  2016  d_1965   \n",
       "1965  2016-06-16     11620   Thursday     6      6  2016  d_1966   \n",
       "1966  2016-06-17     11620     Friday     7      6  2016  d_1967   \n",
       "1967  2016-06-18     11621   Saturday     1      6  2016  d_1968   \n",
       "1968  2016-06-19     11621     Sunday     2      6  2016  d_1969   \n",
       "\n",
       "      event_name_1 event_type_1  event_name_2 event_type_2  snap_CA  snap_TX  \\\n",
       "1964           NaN          NaN           NaN          NaN        0        1   \n",
       "1965           NaN          NaN           NaN          NaN        0        0   \n",
       "1966           NaN          NaN           NaN          NaN        0        0   \n",
       "1967           NaN          NaN           NaN          NaN        0        0   \n",
       "1968  NBAFinalsEnd     Sporting  Father's day     Cultural        0        0   \n",
       "\n",
       "      snap_WI  \n",
       "1964        1  \n",
       "1965        0  \n",
       "1966        0  \n",
       "1967        0  \n",
       "1968        0  "
      ]
     },
     "execution_count": 255,
     "metadata": {},
     "output_type": "execute_result"
    }
   ],
   "source": [
    "df_calender.tail()"
   ]
  },
  {
   "cell_type": "code",
   "execution_count": 256,
   "id": "5ffac1d3-12b3-4b1b-aab0-def481ba58ab",
   "metadata": {
    "tags": []
   },
   "outputs": [
    {
     "data": {
      "text/plain": [
       "(1969, 14)"
      ]
     },
     "execution_count": 256,
     "metadata": {},
     "output_type": "execute_result"
    }
   ],
   "source": [
    "df_calender.shape"
   ]
  },
  {
   "cell_type": "code",
   "execution_count": 257,
   "id": "55c9621d-a4b5-46c0-af53-8840fda00286",
   "metadata": {
    "tags": []
   },
   "outputs": [
    {
     "name": "stdout",
     "output_type": "stream",
     "text": [
      "<class 'pandas.core.frame.DataFrame'>\n",
      "RangeIndex: 1969 entries, 0 to 1968\n",
      "Data columns (total 14 columns):\n",
      " #   Column        Non-Null Count  Dtype \n",
      "---  ------        --------------  ----- \n",
      " 0   date          1969 non-null   object\n",
      " 1   wm_yr_wk      1969 non-null   int64 \n",
      " 2   weekday       1969 non-null   object\n",
      " 3   wday          1969 non-null   int64 \n",
      " 4   month         1969 non-null   int64 \n",
      " 5   year          1969 non-null   int64 \n",
      " 6   d             1969 non-null   object\n",
      " 7   event_name_1  162 non-null    object\n",
      " 8   event_type_1  162 non-null    object\n",
      " 9   event_name_2  5 non-null      object\n",
      " 10  event_type_2  5 non-null      object\n",
      " 11  snap_CA       1969 non-null   int64 \n",
      " 12  snap_TX       1969 non-null   int64 \n",
      " 13  snap_WI       1969 non-null   int64 \n",
      "dtypes: int64(7), object(7)\n",
      "memory usage: 215.5+ KB\n"
     ]
    }
   ],
   "source": [
    "df_calender.info()"
   ]
  },
  {
   "cell_type": "code",
   "execution_count": 258,
   "id": "bbd4216a-d82c-471d-bff9-e2b1cd00039d",
   "metadata": {
    "tags": []
   },
   "outputs": [
    {
     "data": {
      "text/plain": [
       "date               0\n",
       "wm_yr_wk           0\n",
       "weekday            0\n",
       "wday               0\n",
       "month              0\n",
       "year               0\n",
       "d                  0\n",
       "event_name_1    1807\n",
       "event_type_1    1807\n",
       "event_name_2    1964\n",
       "event_type_2    1964\n",
       "snap_CA            0\n",
       "snap_TX            0\n",
       "snap_WI            0\n",
       "dtype: int64"
      ]
     },
     "execution_count": 258,
     "metadata": {},
     "output_type": "execute_result"
    }
   ],
   "source": [
    "df_calender.isnull().sum()"
   ]
  },
  {
   "cell_type": "code",
   "execution_count": 259,
   "id": "b6dafc55-59cf-4713-af14-82e6b000525f",
   "metadata": {
    "tags": []
   },
   "outputs": [],
   "source": [
    "df_calender['event_name_1'] = df_calender['event_name_1'].fillna(\"No_Event\")\n",
    "df_calender['event_type_1'] = df_calender['event_type_1'].fillna(\"No_Event\")\n",
    "df_calender['event_name_2'] = df_calender['event_name_2'].fillna(\"No_Event\")\n",
    "df_calender['event_type_2'] = df_calender['event_type_2'].fillna(\"No_Event\")"
   ]
  },
  {
   "cell_type": "code",
   "execution_count": 260,
   "id": "d61f1052-596c-402c-bb68-31b4a38d7e61",
   "metadata": {
    "tags": []
   },
   "outputs": [
    {
     "data": {
      "text/html": [
       "<div>\n",
       "<style scoped>\n",
       "    .dataframe tbody tr th:only-of-type {\n",
       "        vertical-align: middle;\n",
       "    }\n",
       "\n",
       "    .dataframe tbody tr th {\n",
       "        vertical-align: top;\n",
       "    }\n",
       "\n",
       "    .dataframe thead th {\n",
       "        text-align: right;\n",
       "    }\n",
       "</style>\n",
       "<table border=\"1\" class=\"dataframe\">\n",
       "  <thead>\n",
       "    <tr style=\"text-align: right;\">\n",
       "      <th></th>\n",
       "      <th>date</th>\n",
       "      <th>wm_yr_wk</th>\n",
       "      <th>weekday</th>\n",
       "      <th>wday</th>\n",
       "      <th>month</th>\n",
       "      <th>year</th>\n",
       "      <th>d</th>\n",
       "      <th>event_name_1</th>\n",
       "      <th>event_type_1</th>\n",
       "      <th>event_name_2</th>\n",
       "      <th>event_type_2</th>\n",
       "      <th>snap_CA</th>\n",
       "      <th>snap_TX</th>\n",
       "      <th>snap_WI</th>\n",
       "    </tr>\n",
       "  </thead>\n",
       "  <tbody>\n",
       "    <tr>\n",
       "      <th>1940</th>\n",
       "      <td>2016-05-22</td>\n",
       "      <td>11617</td>\n",
       "      <td>Sunday</td>\n",
       "      <td>2</td>\n",
       "      <td>5</td>\n",
       "      <td>2016</td>\n",
       "      <td>d_1941</td>\n",
       "      <td>No_Event</td>\n",
       "      <td>No_Event</td>\n",
       "      <td>No_Event</td>\n",
       "      <td>No_Event</td>\n",
       "      <td>0</td>\n",
       "      <td>0</td>\n",
       "      <td>0</td>\n",
       "    </tr>\n",
       "  </tbody>\n",
       "</table>\n",
       "</div>"
      ],
      "text/plain": [
       "            date  wm_yr_wk weekday  wday  month  year       d event_name_1  \\\n",
       "1940  2016-05-22     11617  Sunday     2      5  2016  d_1941     No_Event   \n",
       "\n",
       "     event_type_1 event_name_2 event_type_2  snap_CA  snap_TX  snap_WI  \n",
       "1940     No_Event     No_Event     No_Event        0        0        0  "
      ]
     },
     "execution_count": 260,
     "metadata": {},
     "output_type": "execute_result"
    }
   ],
   "source": [
    "df_calender.loc[(df_calender['d'] == 'd_1941')]"
   ]
  },
  {
   "cell_type": "markdown",
   "id": "9e973c8c-6753-4043-9b5e-de35e81fe57f",
   "metadata": {},
   "source": [
    "We would need to create a calender finish with 2016-05-22 to create same table date value as evaluation table"
   ]
  },
  {
   "cell_type": "code",
   "execution_count": 261,
   "id": "c562ce14-8157-4e32-9b12-7b364499a3eb",
   "metadata": {
    "tags": []
   },
   "outputs": [
    {
     "name": "stdout",
     "output_type": "stream",
     "text": [
      "<class 'pandas.core.frame.DataFrame'>\n",
      "RangeIndex: 1969 entries, 0 to 1968\n",
      "Data columns (total 14 columns):\n",
      " #   Column        Non-Null Count  Dtype         \n",
      "---  ------        --------------  -----         \n",
      " 0   date          1969 non-null   datetime64[ns]\n",
      " 1   wm_yr_wk      1969 non-null   int64         \n",
      " 2   weekday       1969 non-null   object        \n",
      " 3   wday          1969 non-null   int64         \n",
      " 4   month         1969 non-null   int64         \n",
      " 5   year          1969 non-null   int64         \n",
      " 6   d             1969 non-null   object        \n",
      " 7   event_name_1  1969 non-null   object        \n",
      " 8   event_type_1  1969 non-null   object        \n",
      " 9   event_name_2  1969 non-null   object        \n",
      " 10  event_type_2  1969 non-null   object        \n",
      " 11  snap_CA       1969 non-null   int64         \n",
      " 12  snap_TX       1969 non-null   int64         \n",
      " 13  snap_WI       1969 non-null   int64         \n",
      "dtypes: datetime64[ns](1), int64(7), object(6)\n",
      "memory usage: 215.5+ KB\n"
     ]
    }
   ],
   "source": [
    "##### import seaborn as sns\n",
    "from matplotlib import pyplot as plt\n",
    "df_calender['date'] = pd.to_datetime(df_calender['date'], format = '%Y-%m-%d')\n",
    "\n",
    "df_calender.info()"
   ]
  },
  {
   "cell_type": "code",
   "execution_count": 262,
   "id": "c5c1cf7a-f964-4959-b259-cbb63defb45d",
   "metadata": {
    "tags": []
   },
   "outputs": [
    {
     "data": {
      "text/html": [
       "<div>\n",
       "<style scoped>\n",
       "    .dataframe tbody tr th:only-of-type {\n",
       "        vertical-align: middle;\n",
       "    }\n",
       "\n",
       "    .dataframe tbody tr th {\n",
       "        vertical-align: top;\n",
       "    }\n",
       "\n",
       "    .dataframe thead th {\n",
       "        text-align: right;\n",
       "    }\n",
       "</style>\n",
       "<table border=\"1\" class=\"dataframe\">\n",
       "  <thead>\n",
       "    <tr style=\"text-align: right;\">\n",
       "      <th></th>\n",
       "      <th>wm_yr_wk</th>\n",
       "      <th>Number of days in wm_yr_wk</th>\n",
       "    </tr>\n",
       "  </thead>\n",
       "  <tbody>\n",
       "    <tr>\n",
       "      <th>281</th>\n",
       "      <td>11621</td>\n",
       "      <td>2</td>\n",
       "    </tr>\n",
       "  </tbody>\n",
       "</table>\n",
       "</div>"
      ],
      "text/plain": [
       "     wm_yr_wk  Number of days in wm_yr_wk\n",
       "281     11621                           2"
      ]
     },
     "execution_count": 262,
     "metadata": {},
     "output_type": "execute_result"
    }
   ],
   "source": [
    "N_day_in_wm_yr_wk = df_calender.groupby('wm_yr_wk')['date'].count().to_frame('Number of days in wm_yr_wk').reset_index()\n",
    "N_day_in_wm_yr_wk.loc[N_day_in_wm_yr_wk['Number of days in wm_yr_wk'] != 7]"
   ]
  },
  {
   "cell_type": "markdown",
   "id": "22fc32ce-ad1a-4b1c-b086-dcf1aa90a2ee",
   "metadata": {},
   "source": [
    "we can see here that all the week id contain 7 days except last id"
   ]
  },
  {
   "cell_type": "code",
   "execution_count": null,
   "id": "9fc69343-7a6d-47ea-9b33-8fbb71c21e0f",
   "metadata": {},
   "outputs": [],
   "source": []
  },
  {
   "cell_type": "code",
   "execution_count": 263,
   "id": "3a62e566-aaec-4f3b-9428-21cb68b66bae",
   "metadata": {
    "tags": []
   },
   "outputs": [
    {
     "data": {
      "text/html": [
       "<div>\n",
       "<style scoped>\n",
       "    .dataframe tbody tr th:only-of-type {\n",
       "        vertical-align: middle;\n",
       "    }\n",
       "\n",
       "    .dataframe tbody tr th {\n",
       "        vertical-align: top;\n",
       "    }\n",
       "\n",
       "    .dataframe thead th {\n",
       "        text-align: right;\n",
       "    }\n",
       "</style>\n",
       "<table border=\"1\" class=\"dataframe\">\n",
       "  <thead>\n",
       "    <tr style=\"text-align: right;\">\n",
       "      <th></th>\n",
       "      <th>date</th>\n",
       "      <th>wm_yr_wk</th>\n",
       "      <th>weekday</th>\n",
       "      <th>wday</th>\n",
       "      <th>month</th>\n",
       "      <th>year</th>\n",
       "      <th>d</th>\n",
       "      <th>event_name_1</th>\n",
       "      <th>event_type_1</th>\n",
       "      <th>event_name_2</th>\n",
       "      <th>event_type_2</th>\n",
       "      <th>snap_CA</th>\n",
       "      <th>snap_TX</th>\n",
       "      <th>snap_WI</th>\n",
       "    </tr>\n",
       "  </thead>\n",
       "  <tbody>\n",
       "    <tr>\n",
       "      <th>336</th>\n",
       "      <td>2011-12-31</td>\n",
       "      <td>11149</td>\n",
       "      <td>Saturday</td>\n",
       "      <td>1</td>\n",
       "      <td>12</td>\n",
       "      <td>2011</td>\n",
       "      <td>d_337</td>\n",
       "      <td>No_Event</td>\n",
       "      <td>No_Event</td>\n",
       "      <td>No_Event</td>\n",
       "      <td>No_Event</td>\n",
       "      <td>0</td>\n",
       "      <td>0</td>\n",
       "      <td>0</td>\n",
       "    </tr>\n",
       "    <tr>\n",
       "      <th>337</th>\n",
       "      <td>2012-01-01</td>\n",
       "      <td>11149</td>\n",
       "      <td>Sunday</td>\n",
       "      <td>2</td>\n",
       "      <td>1</td>\n",
       "      <td>2012</td>\n",
       "      <td>d_338</td>\n",
       "      <td>NewYear</td>\n",
       "      <td>National</td>\n",
       "      <td>No_Event</td>\n",
       "      <td>No_Event</td>\n",
       "      <td>1</td>\n",
       "      <td>1</td>\n",
       "      <td>0</td>\n",
       "    </tr>\n",
       "    <tr>\n",
       "      <th>338</th>\n",
       "      <td>2012-01-02</td>\n",
       "      <td>11149</td>\n",
       "      <td>Monday</td>\n",
       "      <td>3</td>\n",
       "      <td>1</td>\n",
       "      <td>2012</td>\n",
       "      <td>d_339</td>\n",
       "      <td>No_Event</td>\n",
       "      <td>No_Event</td>\n",
       "      <td>No_Event</td>\n",
       "      <td>No_Event</td>\n",
       "      <td>1</td>\n",
       "      <td>0</td>\n",
       "      <td>1</td>\n",
       "    </tr>\n",
       "    <tr>\n",
       "      <th>339</th>\n",
       "      <td>2012-01-03</td>\n",
       "      <td>11149</td>\n",
       "      <td>Tuesday</td>\n",
       "      <td>4</td>\n",
       "      <td>1</td>\n",
       "      <td>2012</td>\n",
       "      <td>d_340</td>\n",
       "      <td>No_Event</td>\n",
       "      <td>No_Event</td>\n",
       "      <td>No_Event</td>\n",
       "      <td>No_Event</td>\n",
       "      <td>1</td>\n",
       "      <td>1</td>\n",
       "      <td>1</td>\n",
       "    </tr>\n",
       "    <tr>\n",
       "      <th>340</th>\n",
       "      <td>2012-01-04</td>\n",
       "      <td>11149</td>\n",
       "      <td>Wednesday</td>\n",
       "      <td>5</td>\n",
       "      <td>1</td>\n",
       "      <td>2012</td>\n",
       "      <td>d_341</td>\n",
       "      <td>No_Event</td>\n",
       "      <td>No_Event</td>\n",
       "      <td>No_Event</td>\n",
       "      <td>No_Event</td>\n",
       "      <td>1</td>\n",
       "      <td>0</td>\n",
       "      <td>0</td>\n",
       "    </tr>\n",
       "    <tr>\n",
       "      <th>341</th>\n",
       "      <td>2012-01-05</td>\n",
       "      <td>11149</td>\n",
       "      <td>Thursday</td>\n",
       "      <td>6</td>\n",
       "      <td>1</td>\n",
       "      <td>2012</td>\n",
       "      <td>d_342</td>\n",
       "      <td>No_Event</td>\n",
       "      <td>No_Event</td>\n",
       "      <td>No_Event</td>\n",
       "      <td>No_Event</td>\n",
       "      <td>1</td>\n",
       "      <td>1</td>\n",
       "      <td>1</td>\n",
       "    </tr>\n",
       "    <tr>\n",
       "      <th>342</th>\n",
       "      <td>2012-01-06</td>\n",
       "      <td>11149</td>\n",
       "      <td>Friday</td>\n",
       "      <td>7</td>\n",
       "      <td>1</td>\n",
       "      <td>2012</td>\n",
       "      <td>d_343</td>\n",
       "      <td>No_Event</td>\n",
       "      <td>No_Event</td>\n",
       "      <td>No_Event</td>\n",
       "      <td>No_Event</td>\n",
       "      <td>1</td>\n",
       "      <td>1</td>\n",
       "      <td>1</td>\n",
       "    </tr>\n",
       "    <tr>\n",
       "      <th>343</th>\n",
       "      <td>2012-01-07</td>\n",
       "      <td>11150</td>\n",
       "      <td>Saturday</td>\n",
       "      <td>1</td>\n",
       "      <td>1</td>\n",
       "      <td>2012</td>\n",
       "      <td>d_344</td>\n",
       "      <td>OrthodoxChristmas</td>\n",
       "      <td>Religious</td>\n",
       "      <td>No_Event</td>\n",
       "      <td>No_Event</td>\n",
       "      <td>1</td>\n",
       "      <td>1</td>\n",
       "      <td>0</td>\n",
       "    </tr>\n",
       "    <tr>\n",
       "      <th>344</th>\n",
       "      <td>2012-01-08</td>\n",
       "      <td>11150</td>\n",
       "      <td>Sunday</td>\n",
       "      <td>2</td>\n",
       "      <td>1</td>\n",
       "      <td>2012</td>\n",
       "      <td>d_345</td>\n",
       "      <td>No_Event</td>\n",
       "      <td>No_Event</td>\n",
       "      <td>No_Event</td>\n",
       "      <td>No_Event</td>\n",
       "      <td>1</td>\n",
       "      <td>0</td>\n",
       "      <td>1</td>\n",
       "    </tr>\n",
       "    <tr>\n",
       "      <th>345</th>\n",
       "      <td>2012-01-09</td>\n",
       "      <td>11150</td>\n",
       "      <td>Monday</td>\n",
       "      <td>3</td>\n",
       "      <td>1</td>\n",
       "      <td>2012</td>\n",
       "      <td>d_346</td>\n",
       "      <td>No_Event</td>\n",
       "      <td>No_Event</td>\n",
       "      <td>No_Event</td>\n",
       "      <td>No_Event</td>\n",
       "      <td>1</td>\n",
       "      <td>1</td>\n",
       "      <td>1</td>\n",
       "    </tr>\n",
       "    <tr>\n",
       "      <th>346</th>\n",
       "      <td>2012-01-10</td>\n",
       "      <td>11150</td>\n",
       "      <td>Tuesday</td>\n",
       "      <td>4</td>\n",
       "      <td>1</td>\n",
       "      <td>2012</td>\n",
       "      <td>d_347</td>\n",
       "      <td>No_Event</td>\n",
       "      <td>No_Event</td>\n",
       "      <td>No_Event</td>\n",
       "      <td>No_Event</td>\n",
       "      <td>1</td>\n",
       "      <td>0</td>\n",
       "      <td>0</td>\n",
       "    </tr>\n",
       "    <tr>\n",
       "      <th>347</th>\n",
       "      <td>2012-01-11</td>\n",
       "      <td>11150</td>\n",
       "      <td>Wednesday</td>\n",
       "      <td>5</td>\n",
       "      <td>1</td>\n",
       "      <td>2012</td>\n",
       "      <td>d_348</td>\n",
       "      <td>No_Event</td>\n",
       "      <td>No_Event</td>\n",
       "      <td>No_Event</td>\n",
       "      <td>No_Event</td>\n",
       "      <td>0</td>\n",
       "      <td>1</td>\n",
       "      <td>1</td>\n",
       "    </tr>\n",
       "    <tr>\n",
       "      <th>348</th>\n",
       "      <td>2012-01-12</td>\n",
       "      <td>11150</td>\n",
       "      <td>Thursday</td>\n",
       "      <td>6</td>\n",
       "      <td>1</td>\n",
       "      <td>2012</td>\n",
       "      <td>d_349</td>\n",
       "      <td>No_Event</td>\n",
       "      <td>No_Event</td>\n",
       "      <td>No_Event</td>\n",
       "      <td>No_Event</td>\n",
       "      <td>0</td>\n",
       "      <td>1</td>\n",
       "      <td>1</td>\n",
       "    </tr>\n",
       "    <tr>\n",
       "      <th>349</th>\n",
       "      <td>2012-01-13</td>\n",
       "      <td>11150</td>\n",
       "      <td>Friday</td>\n",
       "      <td>7</td>\n",
       "      <td>1</td>\n",
       "      <td>2012</td>\n",
       "      <td>d_350</td>\n",
       "      <td>No_Event</td>\n",
       "      <td>No_Event</td>\n",
       "      <td>No_Event</td>\n",
       "      <td>No_Event</td>\n",
       "      <td>0</td>\n",
       "      <td>1</td>\n",
       "      <td>0</td>\n",
       "    </tr>\n",
       "    <tr>\n",
       "      <th>350</th>\n",
       "      <td>2012-01-14</td>\n",
       "      <td>11151</td>\n",
       "      <td>Saturday</td>\n",
       "      <td>1</td>\n",
       "      <td>1</td>\n",
       "      <td>2012</td>\n",
       "      <td>d_351</td>\n",
       "      <td>No_Event</td>\n",
       "      <td>No_Event</td>\n",
       "      <td>No_Event</td>\n",
       "      <td>No_Event</td>\n",
       "      <td>0</td>\n",
       "      <td>0</td>\n",
       "      <td>1</td>\n",
       "    </tr>\n",
       "    <tr>\n",
       "      <th>351</th>\n",
       "      <td>2012-01-15</td>\n",
       "      <td>11151</td>\n",
       "      <td>Sunday</td>\n",
       "      <td>2</td>\n",
       "      <td>1</td>\n",
       "      <td>2012</td>\n",
       "      <td>d_352</td>\n",
       "      <td>No_Event</td>\n",
       "      <td>No_Event</td>\n",
       "      <td>No_Event</td>\n",
       "      <td>No_Event</td>\n",
       "      <td>0</td>\n",
       "      <td>1</td>\n",
       "      <td>1</td>\n",
       "    </tr>\n",
       "    <tr>\n",
       "      <th>352</th>\n",
       "      <td>2012-01-16</td>\n",
       "      <td>11151</td>\n",
       "      <td>Monday</td>\n",
       "      <td>3</td>\n",
       "      <td>1</td>\n",
       "      <td>2012</td>\n",
       "      <td>d_353</td>\n",
       "      <td>MartinLutherKingDay</td>\n",
       "      <td>National</td>\n",
       "      <td>No_Event</td>\n",
       "      <td>No_Event</td>\n",
       "      <td>0</td>\n",
       "      <td>0</td>\n",
       "      <td>0</td>\n",
       "    </tr>\n",
       "    <tr>\n",
       "      <th>353</th>\n",
       "      <td>2012-01-17</td>\n",
       "      <td>11151</td>\n",
       "      <td>Tuesday</td>\n",
       "      <td>4</td>\n",
       "      <td>1</td>\n",
       "      <td>2012</td>\n",
       "      <td>d_354</td>\n",
       "      <td>No_Event</td>\n",
       "      <td>No_Event</td>\n",
       "      <td>No_Event</td>\n",
       "      <td>No_Event</td>\n",
       "      <td>0</td>\n",
       "      <td>0</td>\n",
       "      <td>0</td>\n",
       "    </tr>\n",
       "    <tr>\n",
       "      <th>354</th>\n",
       "      <td>2012-01-18</td>\n",
       "      <td>11151</td>\n",
       "      <td>Wednesday</td>\n",
       "      <td>5</td>\n",
       "      <td>1</td>\n",
       "      <td>2012</td>\n",
       "      <td>d_355</td>\n",
       "      <td>No_Event</td>\n",
       "      <td>No_Event</td>\n",
       "      <td>No_Event</td>\n",
       "      <td>No_Event</td>\n",
       "      <td>0</td>\n",
       "      <td>0</td>\n",
       "      <td>0</td>\n",
       "    </tr>\n",
       "    <tr>\n",
       "      <th>355</th>\n",
       "      <td>2012-01-19</td>\n",
       "      <td>11151</td>\n",
       "      <td>Thursday</td>\n",
       "      <td>6</td>\n",
       "      <td>1</td>\n",
       "      <td>2012</td>\n",
       "      <td>d_356</td>\n",
       "      <td>No_Event</td>\n",
       "      <td>No_Event</td>\n",
       "      <td>No_Event</td>\n",
       "      <td>No_Event</td>\n",
       "      <td>0</td>\n",
       "      <td>0</td>\n",
       "      <td>0</td>\n",
       "    </tr>\n",
       "    <tr>\n",
       "      <th>356</th>\n",
       "      <td>2012-01-20</td>\n",
       "      <td>11151</td>\n",
       "      <td>Friday</td>\n",
       "      <td>7</td>\n",
       "      <td>1</td>\n",
       "      <td>2012</td>\n",
       "      <td>d_357</td>\n",
       "      <td>No_Event</td>\n",
       "      <td>No_Event</td>\n",
       "      <td>No_Event</td>\n",
       "      <td>No_Event</td>\n",
       "      <td>0</td>\n",
       "      <td>0</td>\n",
       "      <td>0</td>\n",
       "    </tr>\n",
       "    <tr>\n",
       "      <th>357</th>\n",
       "      <td>2012-01-21</td>\n",
       "      <td>11152</td>\n",
       "      <td>Saturday</td>\n",
       "      <td>1</td>\n",
       "      <td>1</td>\n",
       "      <td>2012</td>\n",
       "      <td>d_358</td>\n",
       "      <td>No_Event</td>\n",
       "      <td>No_Event</td>\n",
       "      <td>No_Event</td>\n",
       "      <td>No_Event</td>\n",
       "      <td>0</td>\n",
       "      <td>0</td>\n",
       "      <td>0</td>\n",
       "    </tr>\n",
       "    <tr>\n",
       "      <th>358</th>\n",
       "      <td>2012-01-22</td>\n",
       "      <td>11152</td>\n",
       "      <td>Sunday</td>\n",
       "      <td>2</td>\n",
       "      <td>1</td>\n",
       "      <td>2012</td>\n",
       "      <td>d_359</td>\n",
       "      <td>No_Event</td>\n",
       "      <td>No_Event</td>\n",
       "      <td>No_Event</td>\n",
       "      <td>No_Event</td>\n",
       "      <td>0</td>\n",
       "      <td>0</td>\n",
       "      <td>0</td>\n",
       "    </tr>\n",
       "    <tr>\n",
       "      <th>359</th>\n",
       "      <td>2012-01-23</td>\n",
       "      <td>11152</td>\n",
       "      <td>Monday</td>\n",
       "      <td>3</td>\n",
       "      <td>1</td>\n",
       "      <td>2012</td>\n",
       "      <td>d_360</td>\n",
       "      <td>No_Event</td>\n",
       "      <td>No_Event</td>\n",
       "      <td>No_Event</td>\n",
       "      <td>No_Event</td>\n",
       "      <td>0</td>\n",
       "      <td>0</td>\n",
       "      <td>0</td>\n",
       "    </tr>\n",
       "    <tr>\n",
       "      <th>360</th>\n",
       "      <td>2012-01-24</td>\n",
       "      <td>11152</td>\n",
       "      <td>Tuesday</td>\n",
       "      <td>4</td>\n",
       "      <td>1</td>\n",
       "      <td>2012</td>\n",
       "      <td>d_361</td>\n",
       "      <td>No_Event</td>\n",
       "      <td>No_Event</td>\n",
       "      <td>No_Event</td>\n",
       "      <td>No_Event</td>\n",
       "      <td>0</td>\n",
       "      <td>0</td>\n",
       "      <td>0</td>\n",
       "    </tr>\n",
       "    <tr>\n",
       "      <th>361</th>\n",
       "      <td>2012-01-25</td>\n",
       "      <td>11152</td>\n",
       "      <td>Wednesday</td>\n",
       "      <td>5</td>\n",
       "      <td>1</td>\n",
       "      <td>2012</td>\n",
       "      <td>d_362</td>\n",
       "      <td>No_Event</td>\n",
       "      <td>No_Event</td>\n",
       "      <td>No_Event</td>\n",
       "      <td>No_Event</td>\n",
       "      <td>0</td>\n",
       "      <td>0</td>\n",
       "      <td>0</td>\n",
       "    </tr>\n",
       "    <tr>\n",
       "      <th>362</th>\n",
       "      <td>2012-01-26</td>\n",
       "      <td>11152</td>\n",
       "      <td>Thursday</td>\n",
       "      <td>6</td>\n",
       "      <td>1</td>\n",
       "      <td>2012</td>\n",
       "      <td>d_363</td>\n",
       "      <td>No_Event</td>\n",
       "      <td>No_Event</td>\n",
       "      <td>No_Event</td>\n",
       "      <td>No_Event</td>\n",
       "      <td>0</td>\n",
       "      <td>0</td>\n",
       "      <td>0</td>\n",
       "    </tr>\n",
       "    <tr>\n",
       "      <th>363</th>\n",
       "      <td>2012-01-27</td>\n",
       "      <td>11152</td>\n",
       "      <td>Friday</td>\n",
       "      <td>7</td>\n",
       "      <td>1</td>\n",
       "      <td>2012</td>\n",
       "      <td>d_364</td>\n",
       "      <td>No_Event</td>\n",
       "      <td>No_Event</td>\n",
       "      <td>No_Event</td>\n",
       "      <td>No_Event</td>\n",
       "      <td>0</td>\n",
       "      <td>0</td>\n",
       "      <td>0</td>\n",
       "    </tr>\n",
       "    <tr>\n",
       "      <th>364</th>\n",
       "      <td>2012-01-28</td>\n",
       "      <td>11201</td>\n",
       "      <td>Saturday</td>\n",
       "      <td>1</td>\n",
       "      <td>1</td>\n",
       "      <td>2012</td>\n",
       "      <td>d_365</td>\n",
       "      <td>No_Event</td>\n",
       "      <td>No_Event</td>\n",
       "      <td>No_Event</td>\n",
       "      <td>No_Event</td>\n",
       "      <td>0</td>\n",
       "      <td>0</td>\n",
       "      <td>0</td>\n",
       "    </tr>\n",
       "    <tr>\n",
       "      <th>365</th>\n",
       "      <td>2012-01-29</td>\n",
       "      <td>11201</td>\n",
       "      <td>Sunday</td>\n",
       "      <td>2</td>\n",
       "      <td>1</td>\n",
       "      <td>2012</td>\n",
       "      <td>d_366</td>\n",
       "      <td>No_Event</td>\n",
       "      <td>No_Event</td>\n",
       "      <td>No_Event</td>\n",
       "      <td>No_Event</td>\n",
       "      <td>0</td>\n",
       "      <td>0</td>\n",
       "      <td>0</td>\n",
       "    </tr>\n",
       "    <tr>\n",
       "      <th>366</th>\n",
       "      <td>2012-01-30</td>\n",
       "      <td>11201</td>\n",
       "      <td>Monday</td>\n",
       "      <td>3</td>\n",
       "      <td>1</td>\n",
       "      <td>2012</td>\n",
       "      <td>d_367</td>\n",
       "      <td>No_Event</td>\n",
       "      <td>No_Event</td>\n",
       "      <td>No_Event</td>\n",
       "      <td>No_Event</td>\n",
       "      <td>0</td>\n",
       "      <td>0</td>\n",
       "      <td>0</td>\n",
       "    </tr>\n",
       "  </tbody>\n",
       "</table>\n",
       "</div>"
      ],
      "text/plain": [
       "          date  wm_yr_wk    weekday  wday  month  year      d  \\\n",
       "336 2011-12-31     11149   Saturday     1     12  2011  d_337   \n",
       "337 2012-01-01     11149     Sunday     2      1  2012  d_338   \n",
       "338 2012-01-02     11149     Monday     3      1  2012  d_339   \n",
       "339 2012-01-03     11149    Tuesday     4      1  2012  d_340   \n",
       "340 2012-01-04     11149  Wednesday     5      1  2012  d_341   \n",
       "341 2012-01-05     11149   Thursday     6      1  2012  d_342   \n",
       "342 2012-01-06     11149     Friday     7      1  2012  d_343   \n",
       "343 2012-01-07     11150   Saturday     1      1  2012  d_344   \n",
       "344 2012-01-08     11150     Sunday     2      1  2012  d_345   \n",
       "345 2012-01-09     11150     Monday     3      1  2012  d_346   \n",
       "346 2012-01-10     11150    Tuesday     4      1  2012  d_347   \n",
       "347 2012-01-11     11150  Wednesday     5      1  2012  d_348   \n",
       "348 2012-01-12     11150   Thursday     6      1  2012  d_349   \n",
       "349 2012-01-13     11150     Friday     7      1  2012  d_350   \n",
       "350 2012-01-14     11151   Saturday     1      1  2012  d_351   \n",
       "351 2012-01-15     11151     Sunday     2      1  2012  d_352   \n",
       "352 2012-01-16     11151     Monday     3      1  2012  d_353   \n",
       "353 2012-01-17     11151    Tuesday     4      1  2012  d_354   \n",
       "354 2012-01-18     11151  Wednesday     5      1  2012  d_355   \n",
       "355 2012-01-19     11151   Thursday     6      1  2012  d_356   \n",
       "356 2012-01-20     11151     Friday     7      1  2012  d_357   \n",
       "357 2012-01-21     11152   Saturday     1      1  2012  d_358   \n",
       "358 2012-01-22     11152     Sunday     2      1  2012  d_359   \n",
       "359 2012-01-23     11152     Monday     3      1  2012  d_360   \n",
       "360 2012-01-24     11152    Tuesday     4      1  2012  d_361   \n",
       "361 2012-01-25     11152  Wednesday     5      1  2012  d_362   \n",
       "362 2012-01-26     11152   Thursday     6      1  2012  d_363   \n",
       "363 2012-01-27     11152     Friday     7      1  2012  d_364   \n",
       "364 2012-01-28     11201   Saturday     1      1  2012  d_365   \n",
       "365 2012-01-29     11201     Sunday     2      1  2012  d_366   \n",
       "366 2012-01-30     11201     Monday     3      1  2012  d_367   \n",
       "\n",
       "            event_name_1 event_type_1 event_name_2 event_type_2  snap_CA  \\\n",
       "336             No_Event     No_Event     No_Event     No_Event        0   \n",
       "337              NewYear     National     No_Event     No_Event        1   \n",
       "338             No_Event     No_Event     No_Event     No_Event        1   \n",
       "339             No_Event     No_Event     No_Event     No_Event        1   \n",
       "340             No_Event     No_Event     No_Event     No_Event        1   \n",
       "341             No_Event     No_Event     No_Event     No_Event        1   \n",
       "342             No_Event     No_Event     No_Event     No_Event        1   \n",
       "343    OrthodoxChristmas    Religious     No_Event     No_Event        1   \n",
       "344             No_Event     No_Event     No_Event     No_Event        1   \n",
       "345             No_Event     No_Event     No_Event     No_Event        1   \n",
       "346             No_Event     No_Event     No_Event     No_Event        1   \n",
       "347             No_Event     No_Event     No_Event     No_Event        0   \n",
       "348             No_Event     No_Event     No_Event     No_Event        0   \n",
       "349             No_Event     No_Event     No_Event     No_Event        0   \n",
       "350             No_Event     No_Event     No_Event     No_Event        0   \n",
       "351             No_Event     No_Event     No_Event     No_Event        0   \n",
       "352  MartinLutherKingDay     National     No_Event     No_Event        0   \n",
       "353             No_Event     No_Event     No_Event     No_Event        0   \n",
       "354             No_Event     No_Event     No_Event     No_Event        0   \n",
       "355             No_Event     No_Event     No_Event     No_Event        0   \n",
       "356             No_Event     No_Event     No_Event     No_Event        0   \n",
       "357             No_Event     No_Event     No_Event     No_Event        0   \n",
       "358             No_Event     No_Event     No_Event     No_Event        0   \n",
       "359             No_Event     No_Event     No_Event     No_Event        0   \n",
       "360             No_Event     No_Event     No_Event     No_Event        0   \n",
       "361             No_Event     No_Event     No_Event     No_Event        0   \n",
       "362             No_Event     No_Event     No_Event     No_Event        0   \n",
       "363             No_Event     No_Event     No_Event     No_Event        0   \n",
       "364             No_Event     No_Event     No_Event     No_Event        0   \n",
       "365             No_Event     No_Event     No_Event     No_Event        0   \n",
       "366             No_Event     No_Event     No_Event     No_Event        0   \n",
       "\n",
       "     snap_TX  snap_WI  \n",
       "336        0        0  \n",
       "337        1        0  \n",
       "338        0        1  \n",
       "339        1        1  \n",
       "340        0        0  \n",
       "341        1        1  \n",
       "342        1        1  \n",
       "343        1        0  \n",
       "344        0        1  \n",
       "345        1        1  \n",
       "346        0        0  \n",
       "347        1        1  \n",
       "348        1        1  \n",
       "349        1        0  \n",
       "350        0        1  \n",
       "351        1        1  \n",
       "352        0        0  \n",
       "353        0        0  \n",
       "354        0        0  \n",
       "355        0        0  \n",
       "356        0        0  \n",
       "357        0        0  \n",
       "358        0        0  \n",
       "359        0        0  \n",
       "360        0        0  \n",
       "361        0        0  \n",
       "362        0        0  \n",
       "363        0        0  \n",
       "364        0        0  \n",
       "365        0        0  \n",
       "366        0        0  "
      ]
     },
     "execution_count": 263,
     "metadata": {},
     "output_type": "execute_result"
    }
   ],
   "source": [
    "df_calender.loc[(df_calender['date'] >= '2011-12-31') & (df_calender['date'] <= '2012-01-30')]"
   ]
  },
  {
   "cell_type": "markdown",
   "id": "5001e12c-e5bf-45f3-9e2a-4e47eb2f3b44",
   "metadata": {},
   "source": [
    "We can see that the 'wm_yr_wk' does not increment by 1 every time. 11201 which explains the trend of . <br>\n",
    "It seems to be the combination of '1' and last 2 digits of year and week number"
   ]
  },
  {
   "cell_type": "code",
   "execution_count": 264,
   "id": "ba5ea6bb-a1d4-4087-8181-db3c441ed4e9",
   "metadata": {
    "tags": []
   },
   "outputs": [
    {
     "data": {
      "text/html": [
       "<div>\n",
       "<style scoped>\n",
       "    .dataframe tbody tr th:only-of-type {\n",
       "        vertical-align: middle;\n",
       "    }\n",
       "\n",
       "    .dataframe tbody tr th {\n",
       "        vertical-align: top;\n",
       "    }\n",
       "\n",
       "    .dataframe thead th {\n",
       "        text-align: right;\n",
       "    }\n",
       "</style>\n",
       "<table border=\"1\" class=\"dataframe\">\n",
       "  <thead>\n",
       "    <tr style=\"text-align: right;\">\n",
       "      <th></th>\n",
       "      <th>date</th>\n",
       "      <th>wm_yr_wk</th>\n",
       "      <th>weekday</th>\n",
       "      <th>wday</th>\n",
       "      <th>month</th>\n",
       "      <th>year</th>\n",
       "      <th>d</th>\n",
       "      <th>event_name_1</th>\n",
       "      <th>event_type_1</th>\n",
       "      <th>event_name_2</th>\n",
       "      <th>event_type_2</th>\n",
       "      <th>snap_CA</th>\n",
       "      <th>snap_TX</th>\n",
       "      <th>snap_WI</th>\n",
       "      <th>wm_yr_wk_shift</th>\n",
       "    </tr>\n",
       "  </thead>\n",
       "  <tbody>\n",
       "    <tr>\n",
       "      <th>364</th>\n",
       "      <td>2012-01-28</td>\n",
       "      <td>11201</td>\n",
       "      <td>Saturday</td>\n",
       "      <td>1</td>\n",
       "      <td>1</td>\n",
       "      <td>2012</td>\n",
       "      <td>d_365</td>\n",
       "      <td>No_Event</td>\n",
       "      <td>No_Event</td>\n",
       "      <td>No_Event</td>\n",
       "      <td>No_Event</td>\n",
       "      <td>0</td>\n",
       "      <td>0</td>\n",
       "      <td>0</td>\n",
       "      <td>11152.0</td>\n",
       "    </tr>\n",
       "    <tr>\n",
       "      <th>728</th>\n",
       "      <td>2013-01-26</td>\n",
       "      <td>11301</td>\n",
       "      <td>Saturday</td>\n",
       "      <td>1</td>\n",
       "      <td>1</td>\n",
       "      <td>2013</td>\n",
       "      <td>d_729</td>\n",
       "      <td>No_Event</td>\n",
       "      <td>No_Event</td>\n",
       "      <td>No_Event</td>\n",
       "      <td>No_Event</td>\n",
       "      <td>0</td>\n",
       "      <td>0</td>\n",
       "      <td>0</td>\n",
       "      <td>11252.0</td>\n",
       "    </tr>\n",
       "    <tr>\n",
       "      <th>1099</th>\n",
       "      <td>2014-02-01</td>\n",
       "      <td>11401</td>\n",
       "      <td>Saturday</td>\n",
       "      <td>1</td>\n",
       "      <td>2</td>\n",
       "      <td>2014</td>\n",
       "      <td>d_1100</td>\n",
       "      <td>No_Event</td>\n",
       "      <td>No_Event</td>\n",
       "      <td>No_Event</td>\n",
       "      <td>No_Event</td>\n",
       "      <td>1</td>\n",
       "      <td>1</td>\n",
       "      <td>0</td>\n",
       "      <td>11353.0</td>\n",
       "    </tr>\n",
       "    <tr>\n",
       "      <th>1463</th>\n",
       "      <td>2015-01-31</td>\n",
       "      <td>11501</td>\n",
       "      <td>Saturday</td>\n",
       "      <td>1</td>\n",
       "      <td>1</td>\n",
       "      <td>2015</td>\n",
       "      <td>d_1464</td>\n",
       "      <td>No_Event</td>\n",
       "      <td>No_Event</td>\n",
       "      <td>No_Event</td>\n",
       "      <td>No_Event</td>\n",
       "      <td>0</td>\n",
       "      <td>0</td>\n",
       "      <td>0</td>\n",
       "      <td>11452.0</td>\n",
       "    </tr>\n",
       "    <tr>\n",
       "      <th>1827</th>\n",
       "      <td>2016-01-30</td>\n",
       "      <td>11601</td>\n",
       "      <td>Saturday</td>\n",
       "      <td>1</td>\n",
       "      <td>1</td>\n",
       "      <td>2016</td>\n",
       "      <td>d_1828</td>\n",
       "      <td>No_Event</td>\n",
       "      <td>No_Event</td>\n",
       "      <td>No_Event</td>\n",
       "      <td>No_Event</td>\n",
       "      <td>0</td>\n",
       "      <td>0</td>\n",
       "      <td>0</td>\n",
       "      <td>11552.0</td>\n",
       "    </tr>\n",
       "  </tbody>\n",
       "</table>\n",
       "</div>"
      ],
      "text/plain": [
       "           date  wm_yr_wk   weekday  wday  month  year       d event_name_1  \\\n",
       "364  2012-01-28     11201  Saturday     1      1  2012   d_365     No_Event   \n",
       "728  2013-01-26     11301  Saturday     1      1  2013   d_729     No_Event   \n",
       "1099 2014-02-01     11401  Saturday     1      2  2014  d_1100     No_Event   \n",
       "1463 2015-01-31     11501  Saturday     1      1  2015  d_1464     No_Event   \n",
       "1827 2016-01-30     11601  Saturday     1      1  2016  d_1828     No_Event   \n",
       "\n",
       "     event_type_1 event_name_2 event_type_2  snap_CA  snap_TX  snap_WI  \\\n",
       "364      No_Event     No_Event     No_Event        0        0        0   \n",
       "728      No_Event     No_Event     No_Event        0        0        0   \n",
       "1099     No_Event     No_Event     No_Event        1        1        0   \n",
       "1463     No_Event     No_Event     No_Event        0        0        0   \n",
       "1827     No_Event     No_Event     No_Event        0        0        0   \n",
       "\n",
       "      wm_yr_wk_shift  \n",
       "364          11152.0  \n",
       "728          11252.0  \n",
       "1099         11353.0  \n",
       "1463         11452.0  \n",
       "1827         11552.0  "
      ]
     },
     "execution_count": 264,
     "metadata": {},
     "output_type": "execute_result"
    }
   ],
   "source": [
    "import datetime\n",
    "\n",
    "df_calender['wm_yr_wk_shift'] = df_calender['wm_yr_wk'].shift(1)\n",
    "df_calender.loc[(df_calender['wm_yr_wk'] - df_calender['wm_yr_wk_shift'] > 1) | (df_calender['wm_yr_wk'] - df_calender['wm_yr_wk_shift'] < 0)]"
   ]
  },
  {
   "cell_type": "markdown",
   "id": "efe90512-efb8-4b44-aa34-724c593490d3",
   "metadata": {},
   "source": [
    "This shows that every beginning week of Febuary 'wr_yr_wk' reset the week count and change the year"
   ]
  },
  {
   "cell_type": "code",
   "execution_count": 265,
   "id": "03f10628-8211-4ed0-a969-ed0706c2eef1",
   "metadata": {
    "tags": []
   },
   "outputs": [
    {
     "data": {
      "text/html": [
       "<div>\n",
       "<style scoped>\n",
       "    .dataframe tbody tr th:only-of-type {\n",
       "        vertical-align: middle;\n",
       "    }\n",
       "\n",
       "    .dataframe tbody tr th {\n",
       "        vertical-align: top;\n",
       "    }\n",
       "\n",
       "    .dataframe thead th {\n",
       "        text-align: right;\n",
       "    }\n",
       "</style>\n",
       "<table border=\"1\" class=\"dataframe\">\n",
       "  <thead>\n",
       "    <tr style=\"text-align: right;\">\n",
       "      <th></th>\n",
       "      <th>date</th>\n",
       "      <th>weekday</th>\n",
       "    </tr>\n",
       "  </thead>\n",
       "  <tbody>\n",
       "  </tbody>\n",
       "</table>\n",
       "</div>"
      ],
      "text/plain": [
       "Empty DataFrame\n",
       "Columns: [date, weekday]\n",
       "Index: []"
      ]
     },
     "execution_count": 265,
     "metadata": {},
     "output_type": "execute_result"
    }
   ],
   "source": [
    "import datetime\n",
    "weekday = (\"Monday\", \"Tuesday\", \"Wednesday\", \"Thursday\", \"Friday\", \"Saturday\", \"Sunday\")\n",
    "actual_time = pd.DataFrame()\n",
    "actual_time['date'] = pd.date_range(start = '2011-01-29', end = '2016-06-19', freq = '1D')\n",
    "actual_time['weekday'] = actual_time['date'].map(lambda x: weekday[x.weekday()])\n",
    "actual_time.loc[actual_time['weekday'] != df_calender['weekday']]"
   ]
  },
  {
   "cell_type": "markdown",
   "id": "ab6037e1-5b27-45fd-83a6-343cc6023641",
   "metadata": {},
   "source": [
    "This shows weekday data is correct"
   ]
  },
  {
   "cell_type": "code",
   "execution_count": 266,
   "id": "8827a514-dfbc-4d3e-a3a4-5d56c2168976",
   "metadata": {
    "tags": []
   },
   "outputs": [
    {
     "name": "stdout",
     "output_type": "stream",
     "text": [
      "<class 'pandas.core.frame.DataFrame'>\n",
      "RangeIndex: 1969 entries, 0 to 1968\n",
      "Data columns (total 2 columns):\n",
      " #   Column   Non-Null Count  Dtype         \n",
      "---  ------   --------------  -----         \n",
      " 0   date     1969 non-null   datetime64[ns]\n",
      " 1   weekday  1969 non-null   object        \n",
      "dtypes: datetime64[ns](1), object(1)\n",
      "memory usage: 30.9+ KB\n"
     ]
    }
   ],
   "source": [
    "actual_time.info()"
   ]
  },
  {
   "cell_type": "code",
   "execution_count": 267,
   "id": "b52462cb-2f45-4553-bdd0-18601a9bd057",
   "metadata": {
    "tags": []
   },
   "outputs": [
    {
     "data": {
      "text/html": [
       "<div>\n",
       "<style scoped>\n",
       "    .dataframe tbody tr th:only-of-type {\n",
       "        vertical-align: middle;\n",
       "    }\n",
       "\n",
       "    .dataframe tbody tr th {\n",
       "        vertical-align: top;\n",
       "    }\n",
       "\n",
       "    .dataframe thead th {\n",
       "        text-align: right;\n",
       "    }\n",
       "</style>\n",
       "<table border=\"1\" class=\"dataframe\">\n",
       "  <thead>\n",
       "    <tr style=\"text-align: right;\">\n",
       "      <th></th>\n",
       "      <th>date</th>\n",
       "      <th>wm_yr_wk</th>\n",
       "      <th>weekday</th>\n",
       "      <th>wday</th>\n",
       "      <th>month</th>\n",
       "      <th>year</th>\n",
       "      <th>d</th>\n",
       "      <th>event_name_1</th>\n",
       "      <th>event_type_1</th>\n",
       "      <th>event_name_2</th>\n",
       "      <th>event_type_2</th>\n",
       "      <th>snap_CA</th>\n",
       "      <th>snap_TX</th>\n",
       "      <th>snap_WI</th>\n",
       "      <th>wm_yr_wk_shift</th>\n",
       "      <th>day</th>\n",
       "      <th>d_shift</th>\n",
       "    </tr>\n",
       "  </thead>\n",
       "  <tbody>\n",
       "    <tr>\n",
       "      <th>0</th>\n",
       "      <td>2011-01-29</td>\n",
       "      <td>11101</td>\n",
       "      <td>Saturday</td>\n",
       "      <td>1</td>\n",
       "      <td>1</td>\n",
       "      <td>2011</td>\n",
       "      <td>d_1</td>\n",
       "      <td>No_Event</td>\n",
       "      <td>No_Event</td>\n",
       "      <td>No_Event</td>\n",
       "      <td>No_Event</td>\n",
       "      <td>0</td>\n",
       "      <td>0</td>\n",
       "      <td>0</td>\n",
       "      <td>NaN</td>\n",
       "      <td>1</td>\n",
       "      <td>NaN</td>\n",
       "    </tr>\n",
       "    <tr>\n",
       "      <th>1</th>\n",
       "      <td>2011-01-30</td>\n",
       "      <td>11101</td>\n",
       "      <td>Sunday</td>\n",
       "      <td>2</td>\n",
       "      <td>1</td>\n",
       "      <td>2011</td>\n",
       "      <td>d_2</td>\n",
       "      <td>No_Event</td>\n",
       "      <td>No_Event</td>\n",
       "      <td>No_Event</td>\n",
       "      <td>No_Event</td>\n",
       "      <td>0</td>\n",
       "      <td>0</td>\n",
       "      <td>0</td>\n",
       "      <td>11101.0</td>\n",
       "      <td>2</td>\n",
       "      <td>1</td>\n",
       "    </tr>\n",
       "    <tr>\n",
       "      <th>2</th>\n",
       "      <td>2011-01-31</td>\n",
       "      <td>11101</td>\n",
       "      <td>Monday</td>\n",
       "      <td>3</td>\n",
       "      <td>1</td>\n",
       "      <td>2011</td>\n",
       "      <td>d_3</td>\n",
       "      <td>No_Event</td>\n",
       "      <td>No_Event</td>\n",
       "      <td>No_Event</td>\n",
       "      <td>No_Event</td>\n",
       "      <td>0</td>\n",
       "      <td>0</td>\n",
       "      <td>0</td>\n",
       "      <td>11101.0</td>\n",
       "      <td>3</td>\n",
       "      <td>2</td>\n",
       "    </tr>\n",
       "    <tr>\n",
       "      <th>3</th>\n",
       "      <td>2011-02-01</td>\n",
       "      <td>11101</td>\n",
       "      <td>Tuesday</td>\n",
       "      <td>4</td>\n",
       "      <td>2</td>\n",
       "      <td>2011</td>\n",
       "      <td>d_4</td>\n",
       "      <td>No_Event</td>\n",
       "      <td>No_Event</td>\n",
       "      <td>No_Event</td>\n",
       "      <td>No_Event</td>\n",
       "      <td>1</td>\n",
       "      <td>1</td>\n",
       "      <td>0</td>\n",
       "      <td>11101.0</td>\n",
       "      <td>4</td>\n",
       "      <td>3</td>\n",
       "    </tr>\n",
       "    <tr>\n",
       "      <th>4</th>\n",
       "      <td>2011-02-02</td>\n",
       "      <td>11101</td>\n",
       "      <td>Wednesday</td>\n",
       "      <td>5</td>\n",
       "      <td>2</td>\n",
       "      <td>2011</td>\n",
       "      <td>d_5</td>\n",
       "      <td>No_Event</td>\n",
       "      <td>No_Event</td>\n",
       "      <td>No_Event</td>\n",
       "      <td>No_Event</td>\n",
       "      <td>1</td>\n",
       "      <td>0</td>\n",
       "      <td>1</td>\n",
       "      <td>11101.0</td>\n",
       "      <td>5</td>\n",
       "      <td>4</td>\n",
       "    </tr>\n",
       "  </tbody>\n",
       "</table>\n",
       "</div>"
      ],
      "text/plain": [
       "        date  wm_yr_wk    weekday  wday  month  year    d event_name_1  \\\n",
       "0 2011-01-29     11101   Saturday     1      1  2011  d_1     No_Event   \n",
       "1 2011-01-30     11101     Sunday     2      1  2011  d_2     No_Event   \n",
       "2 2011-01-31     11101     Monday     3      1  2011  d_3     No_Event   \n",
       "3 2011-02-01     11101    Tuesday     4      2  2011  d_4     No_Event   \n",
       "4 2011-02-02     11101  Wednesday     5      2  2011  d_5     No_Event   \n",
       "\n",
       "  event_type_1 event_name_2 event_type_2  snap_CA  snap_TX  snap_WI  \\\n",
       "0     No_Event     No_Event     No_Event        0        0        0   \n",
       "1     No_Event     No_Event     No_Event        0        0        0   \n",
       "2     No_Event     No_Event     No_Event        0        0        0   \n",
       "3     No_Event     No_Event     No_Event        1        1        0   \n",
       "4     No_Event     No_Event     No_Event        1        0        1   \n",
       "\n",
       "   wm_yr_wk_shift day d_shift  \n",
       "0             NaN   1     NaN  \n",
       "1         11101.0   2       1  \n",
       "2         11101.0   3       2  \n",
       "3         11101.0   4       3  \n",
       "4         11101.0   5       4  "
      ]
     },
     "execution_count": 267,
     "metadata": {},
     "output_type": "execute_result"
    }
   ],
   "source": [
    "\n",
    "df_calender['day'] = df_calender['d'].str.split(\"_\").str[1]\n",
    "df_calender['d_shift'] = df_calender['day'].shift(1)\n",
    "df_calender.head()"
   ]
  },
  {
   "cell_type": "code",
   "execution_count": 268,
   "id": "5b558a6a-c5db-4af7-86af-1d6b63ab2d64",
   "metadata": {
    "tags": []
   },
   "outputs": [
    {
     "data": {
      "text/html": [
       "<div>\n",
       "<style scoped>\n",
       "    .dataframe tbody tr th:only-of-type {\n",
       "        vertical-align: middle;\n",
       "    }\n",
       "\n",
       "    .dataframe tbody tr th {\n",
       "        vertical-align: top;\n",
       "    }\n",
       "\n",
       "    .dataframe thead th {\n",
       "        text-align: right;\n",
       "    }\n",
       "</style>\n",
       "<table border=\"1\" class=\"dataframe\">\n",
       "  <thead>\n",
       "    <tr style=\"text-align: right;\">\n",
       "      <th></th>\n",
       "      <th>date</th>\n",
       "      <th>wm_yr_wk</th>\n",
       "      <th>weekday</th>\n",
       "      <th>wday</th>\n",
       "      <th>month</th>\n",
       "      <th>year</th>\n",
       "      <th>d</th>\n",
       "      <th>event_name_1</th>\n",
       "      <th>event_type_1</th>\n",
       "      <th>event_name_2</th>\n",
       "      <th>event_type_2</th>\n",
       "      <th>snap_CA</th>\n",
       "      <th>snap_TX</th>\n",
       "      <th>snap_WI</th>\n",
       "      <th>wm_yr_wk_shift</th>\n",
       "      <th>day</th>\n",
       "      <th>d_shift</th>\n",
       "    </tr>\n",
       "  </thead>\n",
       "  <tbody>\n",
       "  </tbody>\n",
       "</table>\n",
       "</div>"
      ],
      "text/plain": [
       "Empty DataFrame\n",
       "Columns: [date, wm_yr_wk, weekday, wday, month, year, d, event_name_1, event_type_1, event_name_2, event_type_2, snap_CA, snap_TX, snap_WI, wm_yr_wk_shift, day, d_shift]\n",
       "Index: []"
      ]
     },
     "execution_count": 268,
     "metadata": {},
     "output_type": "execute_result"
    }
   ],
   "source": [
    "df_calender.loc[((df_calender['day']).astype(float) - df_calender['d_shift'].astype(float) > 1) | (df_calender['day'].astype(float) - df_calender['d_shift'].astype(float) < 0)]"
   ]
  },
  {
   "cell_type": "code",
   "execution_count": null,
   "id": "6f25fd89-7348-449f-8d14-0402902940a4",
   "metadata": {
    "tags": []
   },
   "outputs": [],
   "source": []
  },
  {
   "cell_type": "markdown",
   "id": "a1168125-491d-42ca-a0ac-4d02929ef452",
   "metadata": {},
   "source": [
    "This shows d information is correctly incremented."
   ]
  },
  {
   "cell_type": "code",
   "execution_count": 269,
   "id": "a182f684-9ac5-43bc-b3f8-569d3d53efcd",
   "metadata": {
    "tags": []
   },
   "outputs": [],
   "source": [
    "df_calender = df_calender.drop(labels=['d_shift','wm_yr_wk_shift'], axis=1)"
   ]
  },
  {
   "cell_type": "code",
   "execution_count": 270,
   "id": "176823a3-122d-45ee-848b-a0958fdbafc0",
   "metadata": {
    "tags": []
   },
   "outputs": [
    {
     "data": {
      "text/html": [
       "<div>\n",
       "<style scoped>\n",
       "    .dataframe tbody tr th:only-of-type {\n",
       "        vertical-align: middle;\n",
       "    }\n",
       "\n",
       "    .dataframe tbody tr th {\n",
       "        vertical-align: top;\n",
       "    }\n",
       "\n",
       "    .dataframe thead th {\n",
       "        text-align: right;\n",
       "    }\n",
       "</style>\n",
       "<table border=\"1\" class=\"dataframe\">\n",
       "  <thead>\n",
       "    <tr style=\"text-align: right;\">\n",
       "      <th></th>\n",
       "      <th>date</th>\n",
       "      <th>wm_yr_wk</th>\n",
       "      <th>weekday</th>\n",
       "      <th>wday</th>\n",
       "      <th>month</th>\n",
       "      <th>year</th>\n",
       "      <th>d</th>\n",
       "      <th>event_name_1</th>\n",
       "      <th>event_type_1</th>\n",
       "      <th>event_name_2</th>\n",
       "      <th>event_type_2</th>\n",
       "      <th>snap_CA</th>\n",
       "      <th>snap_TX</th>\n",
       "      <th>snap_WI</th>\n",
       "      <th>day</th>\n",
       "    </tr>\n",
       "  </thead>\n",
       "  <tbody>\n",
       "    <tr>\n",
       "      <th>0</th>\n",
       "      <td>2011-01-29</td>\n",
       "      <td>11101</td>\n",
       "      <td>Saturday</td>\n",
       "      <td>1</td>\n",
       "      <td>1</td>\n",
       "      <td>2011</td>\n",
       "      <td>d_1</td>\n",
       "      <td>No_Event</td>\n",
       "      <td>No_Event</td>\n",
       "      <td>No_Event</td>\n",
       "      <td>No_Event</td>\n",
       "      <td>0</td>\n",
       "      <td>0</td>\n",
       "      <td>0</td>\n",
       "      <td>1</td>\n",
       "    </tr>\n",
       "    <tr>\n",
       "      <th>1</th>\n",
       "      <td>2011-01-30</td>\n",
       "      <td>11101</td>\n",
       "      <td>Sunday</td>\n",
       "      <td>2</td>\n",
       "      <td>1</td>\n",
       "      <td>2011</td>\n",
       "      <td>d_2</td>\n",
       "      <td>No_Event</td>\n",
       "      <td>No_Event</td>\n",
       "      <td>No_Event</td>\n",
       "      <td>No_Event</td>\n",
       "      <td>0</td>\n",
       "      <td>0</td>\n",
       "      <td>0</td>\n",
       "      <td>2</td>\n",
       "    </tr>\n",
       "    <tr>\n",
       "      <th>2</th>\n",
       "      <td>2011-01-31</td>\n",
       "      <td>11101</td>\n",
       "      <td>Monday</td>\n",
       "      <td>3</td>\n",
       "      <td>1</td>\n",
       "      <td>2011</td>\n",
       "      <td>d_3</td>\n",
       "      <td>No_Event</td>\n",
       "      <td>No_Event</td>\n",
       "      <td>No_Event</td>\n",
       "      <td>No_Event</td>\n",
       "      <td>0</td>\n",
       "      <td>0</td>\n",
       "      <td>0</td>\n",
       "      <td>3</td>\n",
       "    </tr>\n",
       "    <tr>\n",
       "      <th>3</th>\n",
       "      <td>2011-02-01</td>\n",
       "      <td>11101</td>\n",
       "      <td>Tuesday</td>\n",
       "      <td>4</td>\n",
       "      <td>2</td>\n",
       "      <td>2011</td>\n",
       "      <td>d_4</td>\n",
       "      <td>No_Event</td>\n",
       "      <td>No_Event</td>\n",
       "      <td>No_Event</td>\n",
       "      <td>No_Event</td>\n",
       "      <td>1</td>\n",
       "      <td>1</td>\n",
       "      <td>0</td>\n",
       "      <td>4</td>\n",
       "    </tr>\n",
       "    <tr>\n",
       "      <th>4</th>\n",
       "      <td>2011-02-02</td>\n",
       "      <td>11101</td>\n",
       "      <td>Wednesday</td>\n",
       "      <td>5</td>\n",
       "      <td>2</td>\n",
       "      <td>2011</td>\n",
       "      <td>d_5</td>\n",
       "      <td>No_Event</td>\n",
       "      <td>No_Event</td>\n",
       "      <td>No_Event</td>\n",
       "      <td>No_Event</td>\n",
       "      <td>1</td>\n",
       "      <td>0</td>\n",
       "      <td>1</td>\n",
       "      <td>5</td>\n",
       "    </tr>\n",
       "    <tr>\n",
       "      <th>...</th>\n",
       "      <td>...</td>\n",
       "      <td>...</td>\n",
       "      <td>...</td>\n",
       "      <td>...</td>\n",
       "      <td>...</td>\n",
       "      <td>...</td>\n",
       "      <td>...</td>\n",
       "      <td>...</td>\n",
       "      <td>...</td>\n",
       "      <td>...</td>\n",
       "      <td>...</td>\n",
       "      <td>...</td>\n",
       "      <td>...</td>\n",
       "      <td>...</td>\n",
       "      <td>...</td>\n",
       "    </tr>\n",
       "    <tr>\n",
       "      <th>1964</th>\n",
       "      <td>2016-06-15</td>\n",
       "      <td>11620</td>\n",
       "      <td>Wednesday</td>\n",
       "      <td>5</td>\n",
       "      <td>6</td>\n",
       "      <td>2016</td>\n",
       "      <td>d_1965</td>\n",
       "      <td>No_Event</td>\n",
       "      <td>No_Event</td>\n",
       "      <td>No_Event</td>\n",
       "      <td>No_Event</td>\n",
       "      <td>0</td>\n",
       "      <td>1</td>\n",
       "      <td>1</td>\n",
       "      <td>1965</td>\n",
       "    </tr>\n",
       "    <tr>\n",
       "      <th>1965</th>\n",
       "      <td>2016-06-16</td>\n",
       "      <td>11620</td>\n",
       "      <td>Thursday</td>\n",
       "      <td>6</td>\n",
       "      <td>6</td>\n",
       "      <td>2016</td>\n",
       "      <td>d_1966</td>\n",
       "      <td>No_Event</td>\n",
       "      <td>No_Event</td>\n",
       "      <td>No_Event</td>\n",
       "      <td>No_Event</td>\n",
       "      <td>0</td>\n",
       "      <td>0</td>\n",
       "      <td>0</td>\n",
       "      <td>1966</td>\n",
       "    </tr>\n",
       "    <tr>\n",
       "      <th>1966</th>\n",
       "      <td>2016-06-17</td>\n",
       "      <td>11620</td>\n",
       "      <td>Friday</td>\n",
       "      <td>7</td>\n",
       "      <td>6</td>\n",
       "      <td>2016</td>\n",
       "      <td>d_1967</td>\n",
       "      <td>No_Event</td>\n",
       "      <td>No_Event</td>\n",
       "      <td>No_Event</td>\n",
       "      <td>No_Event</td>\n",
       "      <td>0</td>\n",
       "      <td>0</td>\n",
       "      <td>0</td>\n",
       "      <td>1967</td>\n",
       "    </tr>\n",
       "    <tr>\n",
       "      <th>1967</th>\n",
       "      <td>2016-06-18</td>\n",
       "      <td>11621</td>\n",
       "      <td>Saturday</td>\n",
       "      <td>1</td>\n",
       "      <td>6</td>\n",
       "      <td>2016</td>\n",
       "      <td>d_1968</td>\n",
       "      <td>No_Event</td>\n",
       "      <td>No_Event</td>\n",
       "      <td>No_Event</td>\n",
       "      <td>No_Event</td>\n",
       "      <td>0</td>\n",
       "      <td>0</td>\n",
       "      <td>0</td>\n",
       "      <td>1968</td>\n",
       "    </tr>\n",
       "    <tr>\n",
       "      <th>1968</th>\n",
       "      <td>2016-06-19</td>\n",
       "      <td>11621</td>\n",
       "      <td>Sunday</td>\n",
       "      <td>2</td>\n",
       "      <td>6</td>\n",
       "      <td>2016</td>\n",
       "      <td>d_1969</td>\n",
       "      <td>NBAFinalsEnd</td>\n",
       "      <td>Sporting</td>\n",
       "      <td>Father's day</td>\n",
       "      <td>Cultural</td>\n",
       "      <td>0</td>\n",
       "      <td>0</td>\n",
       "      <td>0</td>\n",
       "      <td>1969</td>\n",
       "    </tr>\n",
       "  </tbody>\n",
       "</table>\n",
       "<p>1969 rows × 15 columns</p>\n",
       "</div>"
      ],
      "text/plain": [
       "           date  wm_yr_wk    weekday  wday  month  year       d  event_name_1  \\\n",
       "0    2011-01-29     11101   Saturday     1      1  2011     d_1      No_Event   \n",
       "1    2011-01-30     11101     Sunday     2      1  2011     d_2      No_Event   \n",
       "2    2011-01-31     11101     Monday     3      1  2011     d_3      No_Event   \n",
       "3    2011-02-01     11101    Tuesday     4      2  2011     d_4      No_Event   \n",
       "4    2011-02-02     11101  Wednesday     5      2  2011     d_5      No_Event   \n",
       "...         ...       ...        ...   ...    ...   ...     ...           ...   \n",
       "1964 2016-06-15     11620  Wednesday     5      6  2016  d_1965      No_Event   \n",
       "1965 2016-06-16     11620   Thursday     6      6  2016  d_1966      No_Event   \n",
       "1966 2016-06-17     11620     Friday     7      6  2016  d_1967      No_Event   \n",
       "1967 2016-06-18     11621   Saturday     1      6  2016  d_1968      No_Event   \n",
       "1968 2016-06-19     11621     Sunday     2      6  2016  d_1969  NBAFinalsEnd   \n",
       "\n",
       "     event_type_1  event_name_2 event_type_2  snap_CA  snap_TX  snap_WI   day  \n",
       "0        No_Event      No_Event     No_Event        0        0        0     1  \n",
       "1        No_Event      No_Event     No_Event        0        0        0     2  \n",
       "2        No_Event      No_Event     No_Event        0        0        0     3  \n",
       "3        No_Event      No_Event     No_Event        1        1        0     4  \n",
       "4        No_Event      No_Event     No_Event        1        0        1     5  \n",
       "...           ...           ...          ...      ...      ...      ...   ...  \n",
       "1964     No_Event      No_Event     No_Event        0        1        1  1965  \n",
       "1965     No_Event      No_Event     No_Event        0        0        0  1966  \n",
       "1966     No_Event      No_Event     No_Event        0        0        0  1967  \n",
       "1967     No_Event      No_Event     No_Event        0        0        0  1968  \n",
       "1968     Sporting  Father's day     Cultural        0        0        0  1969  \n",
       "\n",
       "[1969 rows x 15 columns]"
      ]
     },
     "execution_count": 270,
     "metadata": {},
     "output_type": "execute_result"
    }
   ],
   "source": [
    "df_calender"
   ]
  },
  {
   "cell_type": "code",
   "execution_count": 271,
   "id": "42d1df26-4020-428b-a08d-13767734561c",
   "metadata": {
    "tags": []
   },
   "outputs": [],
   "source": [
    "df_week_check_CA = df_calender.groupby(['weekday','snap_CA'])['weekday'].count().to_frame('Count_of_Date').reset_index()\n",
    "df_week_check_WI = df_calender.groupby(['weekday','snap_WI'])['weekday'].count().to_frame('Count_of_Date').reset_index()\n",
    "df_week_check_TX = df_calender.groupby(['weekday','snap_TX'])['weekday'].count().to_frame('Count_of_Date').reset_index()\n",
    "df_week_check_All = df_calender.groupby(['weekday'])['weekday'].count().to_frame('Count_of_Date').reset_index()"
   ]
  },
  {
   "cell_type": "code",
   "execution_count": 272,
   "id": "d4581f28-bbbc-4594-ad5d-10a08a389d6a",
   "metadata": {
    "tags": []
   },
   "outputs": [],
   "source": [
    "df_week_check_All['CA_SNAP_YES'] =  df_week_check_CA['Count_of_Date'].loc[df_week_check_CA['snap_CA'] == 1].reset_index().drop('index', axis = 1)\n",
    "df_week_check_All['CA_SNAP_NO'] =  df_week_check_CA['Count_of_Date'].loc[df_week_check_CA['snap_CA'] == 0].reset_index().drop('index', axis = 1)\n",
    "df_week_check_All['WI_SNAP_YES'] =  df_week_check_WI['Count_of_Date'].loc[df_week_check_WI['snap_WI'] == 1].reset_index().drop('index', axis = 1)\n",
    "df_week_check_All['WI_SNAP_NO'] =  df_week_check_WI['Count_of_Date'].loc[df_week_check_WI['snap_WI'] == 0].reset_index().drop('index', axis = 1)\n",
    "df_week_check_All['TX_SNAP_YES'] =  df_week_check_TX['Count_of_Date'].loc[df_week_check_TX['snap_TX'] == 1].reset_index().drop('index', axis = 1)\n",
    "df_week_check_All['TX_SNAP_NO'] =  df_week_check_TX['Count_of_Date'].loc[df_week_check_TX['snap_TX'] == 0].reset_index().drop('index', axis = 1)\n",
    "df_week_check_All = df_week_check_All.drop('Count_of_Date', axis = 1)"
   ]
  },
  {
   "cell_type": "code",
   "execution_count": 273,
   "id": "1dab8ce0-82fb-46bc-8f71-412144e5f172",
   "metadata": {
    "tags": []
   },
   "outputs": [
    {
     "data": {
      "text/html": [
       "<div>\n",
       "<style scoped>\n",
       "    .dataframe tbody tr th:only-of-type {\n",
       "        vertical-align: middle;\n",
       "    }\n",
       "\n",
       "    .dataframe tbody tr th {\n",
       "        vertical-align: top;\n",
       "    }\n",
       "\n",
       "    .dataframe thead th {\n",
       "        text-align: right;\n",
       "    }\n",
       "</style>\n",
       "<table border=\"1\" class=\"dataframe\">\n",
       "  <thead>\n",
       "    <tr style=\"text-align: right;\">\n",
       "      <th></th>\n",
       "      <th>weekday</th>\n",
       "      <th>CA_SNAP_YES</th>\n",
       "      <th>CA_SNAP_NO</th>\n",
       "      <th>WI_SNAP_YES</th>\n",
       "      <th>WI_SNAP_NO</th>\n",
       "      <th>TX_SNAP_YES</th>\n",
       "      <th>TX_SNAP_NO</th>\n",
       "    </tr>\n",
       "  </thead>\n",
       "  <tbody>\n",
       "    <tr>\n",
       "      <th>0</th>\n",
       "      <td>Friday</td>\n",
       "      <td>92</td>\n",
       "      <td>189</td>\n",
       "      <td>91</td>\n",
       "      <td>190</td>\n",
       "      <td>94</td>\n",
       "      <td>187</td>\n",
       "    </tr>\n",
       "    <tr>\n",
       "      <th>1</th>\n",
       "      <td>Monday</td>\n",
       "      <td>92</td>\n",
       "      <td>189</td>\n",
       "      <td>92</td>\n",
       "      <td>189</td>\n",
       "      <td>90</td>\n",
       "      <td>191</td>\n",
       "    </tr>\n",
       "    <tr>\n",
       "      <th>2</th>\n",
       "      <td>Saturday</td>\n",
       "      <td>91</td>\n",
       "      <td>191</td>\n",
       "      <td>94</td>\n",
       "      <td>188</td>\n",
       "      <td>92</td>\n",
       "      <td>190</td>\n",
       "    </tr>\n",
       "    <tr>\n",
       "      <th>3</th>\n",
       "      <td>Sunday</td>\n",
       "      <td>94</td>\n",
       "      <td>188</td>\n",
       "      <td>93</td>\n",
       "      <td>189</td>\n",
       "      <td>96</td>\n",
       "      <td>186</td>\n",
       "    </tr>\n",
       "    <tr>\n",
       "      <th>4</th>\n",
       "      <td>Thursday</td>\n",
       "      <td>93</td>\n",
       "      <td>188</td>\n",
       "      <td>93</td>\n",
       "      <td>188</td>\n",
       "      <td>92</td>\n",
       "      <td>189</td>\n",
       "    </tr>\n",
       "    <tr>\n",
       "      <th>5</th>\n",
       "      <td>Tuesday</td>\n",
       "      <td>95</td>\n",
       "      <td>186</td>\n",
       "      <td>94</td>\n",
       "      <td>187</td>\n",
       "      <td>94</td>\n",
       "      <td>187</td>\n",
       "    </tr>\n",
       "    <tr>\n",
       "      <th>6</th>\n",
       "      <td>Wednesday</td>\n",
       "      <td>93</td>\n",
       "      <td>188</td>\n",
       "      <td>93</td>\n",
       "      <td>188</td>\n",
       "      <td>92</td>\n",
       "      <td>189</td>\n",
       "    </tr>\n",
       "  </tbody>\n",
       "</table>\n",
       "</div>"
      ],
      "text/plain": [
       "     weekday  CA_SNAP_YES  CA_SNAP_NO  WI_SNAP_YES  WI_SNAP_NO  TX_SNAP_YES  \\\n",
       "0     Friday           92         189           91         190           94   \n",
       "1     Monday           92         189           92         189           90   \n",
       "2   Saturday           91         191           94         188           92   \n",
       "3     Sunday           94         188           93         189           96   \n",
       "4   Thursday           93         188           93         188           92   \n",
       "5    Tuesday           95         186           94         187           94   \n",
       "6  Wednesday           93         188           93         188           92   \n",
       "\n",
       "   TX_SNAP_NO  \n",
       "0         187  \n",
       "1         191  \n",
       "2         190  \n",
       "3         186  \n",
       "4         189  \n",
       "5         187  \n",
       "6         189  "
      ]
     },
     "execution_count": 273,
     "metadata": {},
     "output_type": "execute_result"
    }
   ],
   "source": [
    "df_week_check_All"
   ]
  },
  {
   "cell_type": "code",
   "execution_count": 274,
   "id": "5eba07c6-ecb9-46e9-822d-198c14fe5527",
   "metadata": {
    "tags": []
   },
   "outputs": [],
   "source": [
    "df_week_check_All_test = pd.melt(df_week_check_All, id_vars= 'weekday', var_name=\"State and SNAP\")"
   ]
  },
  {
   "cell_type": "code",
   "execution_count": 275,
   "id": "0dc4df21-4670-488f-8c99-9cbf8a2cf0bd",
   "metadata": {
    "tags": []
   },
   "outputs": [
    {
     "data": {
      "image/png": "[encoded data removed]",
      "text/plain": [
       "<Figure size 432x288 with 1 Axes>"
      ]
     },
     "metadata": {
      "needs_background": "light"
     },
     "output_type": "display_data"
    }
   ],
   "source": [
    "from matplotlib import pyplot as plt\n",
    "ax = sns.barplot(data = df_week_check_All_test, x ='weekday', y = 'value', hue =\"State and SNAP\" )\n",
    "sns.move_legend(ax, bbox_to_anchor=(1, 0.5), loc='center left', frameon=False)\n",
    "plt.title(\"Comparing the SNAP availablity in a week for each state\")\n",
    "plt.ylabel(\"# of dates\")\n",
    "plt.show()"
   ]
  },
  {
   "cell_type": "code",
   "execution_count": null,
   "id": "47f12bd4-66e7-4969-84e9-0374221e2d20",
   "metadata": {
    "tags": []
   },
   "outputs": [],
   "source": []
  },
  {
   "cell_type": "code",
   "execution_count": null,
   "id": "3c27756b-5da9-4b59-a02a-f2cd410621ae",
   "metadata": {
    "tags": []
   },
   "outputs": [],
   "source": []
  },
  {
   "cell_type": "code",
   "execution_count": 276,
   "id": "d87e712f-598b-4108-a9d7-29f1325b2621",
   "metadata": {
    "tags": []
   },
   "outputs": [
    {
     "data": {
      "text/html": [
       "<div>\n",
       "<style scoped>\n",
       "    .dataframe tbody tr th:only-of-type {\n",
       "        vertical-align: middle;\n",
       "    }\n",
       "\n",
       "    .dataframe tbody tr th {\n",
       "        vertical-align: top;\n",
       "    }\n",
       "\n",
       "    .dataframe thead th {\n",
       "        text-align: right;\n",
       "    }\n",
       "</style>\n",
       "<table border=\"1\" class=\"dataframe\">\n",
       "  <thead>\n",
       "    <tr style=\"text-align: right;\">\n",
       "      <th></th>\n",
       "      <th>Number of Event</th>\n",
       "    </tr>\n",
       "    <tr>\n",
       "      <th>event_type_1</th>\n",
       "      <th></th>\n",
       "    </tr>\n",
       "  </thead>\n",
       "  <tbody>\n",
       "    <tr>\n",
       "      <th>Cultural</th>\n",
       "      <td>37</td>\n",
       "    </tr>\n",
       "    <tr>\n",
       "      <th>National</th>\n",
       "      <td>52</td>\n",
       "    </tr>\n",
       "    <tr>\n",
       "      <th>No_Event</th>\n",
       "      <td>1807</td>\n",
       "    </tr>\n",
       "    <tr>\n",
       "      <th>Religious</th>\n",
       "      <td>55</td>\n",
       "    </tr>\n",
       "    <tr>\n",
       "      <th>Sporting</th>\n",
       "      <td>18</td>\n",
       "    </tr>\n",
       "  </tbody>\n",
       "</table>\n",
       "</div>"
      ],
      "text/plain": [
       "              Number of Event\n",
       "event_type_1                 \n",
       "Cultural                   37\n",
       "National                   52\n",
       "No_Event                 1807\n",
       "Religious                  55\n",
       "Sporting                   18"
      ]
     },
     "execution_count": 276,
     "metadata": {},
     "output_type": "execute_result"
    }
   ],
   "source": [
    "df_calender['event_type_1'].value_counts()\n",
    "\n",
    "df_calender_event1_type_count = df_calender.groupby('event_type_1')['date'].count().to_frame('Number of Event')\n",
    "df_calender_event1_type_count"
   ]
  },
  {
   "cell_type": "code",
   "execution_count": 277,
   "id": "4fd3a1f5-b547-4711-8d39-731e3758d4dd",
   "metadata": {
    "tags": []
   },
   "outputs": [
    {
     "data": {
      "text/html": [
       "<div>\n",
       "<style scoped>\n",
       "    .dataframe tbody tr th:only-of-type {\n",
       "        vertical-align: middle;\n",
       "    }\n",
       "\n",
       "    .dataframe tbody tr th {\n",
       "        vertical-align: top;\n",
       "    }\n",
       "\n",
       "    .dataframe thead th {\n",
       "        text-align: right;\n",
       "    }\n",
       "</style>\n",
       "<table border=\"1\" class=\"dataframe\">\n",
       "  <thead>\n",
       "    <tr style=\"text-align: right;\">\n",
       "      <th></th>\n",
       "      <th>Number of Event</th>\n",
       "    </tr>\n",
       "    <tr>\n",
       "      <th>event_type_2</th>\n",
       "      <th></th>\n",
       "    </tr>\n",
       "  </thead>\n",
       "  <tbody>\n",
       "    <tr>\n",
       "      <th>Cultural</th>\n",
       "      <td>4</td>\n",
       "    </tr>\n",
       "    <tr>\n",
       "      <th>No_Event</th>\n",
       "      <td>1964</td>\n",
       "    </tr>\n",
       "    <tr>\n",
       "      <th>Religious</th>\n",
       "      <td>1</td>\n",
       "    </tr>\n",
       "  </tbody>\n",
       "</table>\n",
       "</div>"
      ],
      "text/plain": [
       "              Number of Event\n",
       "event_type_2                 \n",
       "Cultural                    4\n",
       "No_Event                 1964\n",
       "Religious                   1"
      ]
     },
     "execution_count": 277,
     "metadata": {},
     "output_type": "execute_result"
    }
   ],
   "source": [
    "df_calender_event2_type_count = df_calender.groupby('event_type_2')['date'].count().to_frame('Number of Event')\n",
    "df_calender_event2_type_count"
   ]
  },
  {
   "cell_type": "code",
   "execution_count": 278,
   "id": "64fd7207-5242-47d5-9672-18f9d1607fbc",
   "metadata": {},
   "outputs": [
    {
     "data": {
      "text/html": [
       "<div>\n",
       "<style scoped>\n",
       "    .dataframe tbody tr th:only-of-type {\n",
       "        vertical-align: middle;\n",
       "    }\n",
       "\n",
       "    .dataframe tbody tr th {\n",
       "        vertical-align: top;\n",
       "    }\n",
       "\n",
       "    .dataframe thead th {\n",
       "        text-align: right;\n",
       "    }\n",
       "</style>\n",
       "<table border=\"1\" class=\"dataframe\">\n",
       "  <thead>\n",
       "    <tr style=\"text-align: right;\">\n",
       "      <th></th>\n",
       "      <th>Number of Event Occured</th>\n",
       "    </tr>\n",
       "    <tr>\n",
       "      <th>event_name_1</th>\n",
       "      <th></th>\n",
       "    </tr>\n",
       "  </thead>\n",
       "  <tbody>\n",
       "    <tr>\n",
       "      <th>Father's day</th>\n",
       "      <td>4</td>\n",
       "    </tr>\n",
       "    <tr>\n",
       "      <th>Chanukah End</th>\n",
       "      <td>5</td>\n",
       "    </tr>\n",
       "    <tr>\n",
       "      <th>Thanksgiving</th>\n",
       "      <td>5</td>\n",
       "    </tr>\n",
       "    <tr>\n",
       "      <th>OrthodoxEaster</th>\n",
       "      <td>5</td>\n",
       "    </tr>\n",
       "    <tr>\n",
       "      <th>OrthodoxChristmas</th>\n",
       "      <td>5</td>\n",
       "    </tr>\n",
       "    <tr>\n",
       "      <th>NewYear</th>\n",
       "      <td>5</td>\n",
       "    </tr>\n",
       "    <tr>\n",
       "      <th>MartinLutherKingDay</th>\n",
       "      <td>5</td>\n",
       "    </tr>\n",
       "    <tr>\n",
       "      <th>LaborDay</th>\n",
       "      <td>5</td>\n",
       "    </tr>\n",
       "    <tr>\n",
       "      <th>IndependenceDay</th>\n",
       "      <td>5</td>\n",
       "    </tr>\n",
       "    <tr>\n",
       "      <th>VeteransDay</th>\n",
       "      <td>5</td>\n",
       "    </tr>\n",
       "    <tr>\n",
       "      <th>EidAlAdha</th>\n",
       "      <td>5</td>\n",
       "    </tr>\n",
       "    <tr>\n",
       "      <th>Christmas</th>\n",
       "      <td>5</td>\n",
       "    </tr>\n",
       "    <tr>\n",
       "      <th>Cinco De Mayo</th>\n",
       "      <td>5</td>\n",
       "    </tr>\n",
       "    <tr>\n",
       "      <th>Halloween</th>\n",
       "      <td>5</td>\n",
       "    </tr>\n",
       "    <tr>\n",
       "      <th>Easter</th>\n",
       "      <td>5</td>\n",
       "    </tr>\n",
       "    <tr>\n",
       "      <th>ColumbusDay</th>\n",
       "      <td>5</td>\n",
       "    </tr>\n",
       "    <tr>\n",
       "      <th>Eid al-Fitr</th>\n",
       "      <td>5</td>\n",
       "    </tr>\n",
       "    <tr>\n",
       "      <th>NBAFinalsEnd</th>\n",
       "      <td>6</td>\n",
       "    </tr>\n",
       "    <tr>\n",
       "      <th>NBAFinalsStart</th>\n",
       "      <td>6</td>\n",
       "    </tr>\n",
       "    <tr>\n",
       "      <th>MemorialDay</th>\n",
       "      <td>6</td>\n",
       "    </tr>\n",
       "    <tr>\n",
       "      <th>LentWeek2</th>\n",
       "      <td>6</td>\n",
       "    </tr>\n",
       "    <tr>\n",
       "      <th>Pesach End</th>\n",
       "      <td>6</td>\n",
       "    </tr>\n",
       "    <tr>\n",
       "      <th>PresidentsDay</th>\n",
       "      <td>6</td>\n",
       "    </tr>\n",
       "    <tr>\n",
       "      <th>Purim End</th>\n",
       "      <td>6</td>\n",
       "    </tr>\n",
       "    <tr>\n",
       "      <th>Ramadan starts</th>\n",
       "      <td>6</td>\n",
       "    </tr>\n",
       "    <tr>\n",
       "      <th>StPatricksDay</th>\n",
       "      <td>6</td>\n",
       "    </tr>\n",
       "    <tr>\n",
       "      <th>SuperBowl</th>\n",
       "      <td>6</td>\n",
       "    </tr>\n",
       "    <tr>\n",
       "      <th>LentStart</th>\n",
       "      <td>6</td>\n",
       "    </tr>\n",
       "    <tr>\n",
       "      <th>ValentinesDay</th>\n",
       "      <td>6</td>\n",
       "    </tr>\n",
       "    <tr>\n",
       "      <th>Mother's day</th>\n",
       "      <td>6</td>\n",
       "    </tr>\n",
       "    <tr>\n",
       "      <th>No_Event</th>\n",
       "      <td>1807</td>\n",
       "    </tr>\n",
       "  </tbody>\n",
       "</table>\n",
       "</div>"
      ],
      "text/plain": [
       "                     Number of Event Occured\n",
       "event_name_1                                \n",
       "Father's day                               4\n",
       "Chanukah End                               5\n",
       "Thanksgiving                               5\n",
       "OrthodoxEaster                             5\n",
       "OrthodoxChristmas                          5\n",
       "NewYear                                    5\n",
       "MartinLutherKingDay                        5\n",
       "LaborDay                                   5\n",
       "IndependenceDay                            5\n",
       "VeteransDay                                5\n",
       "EidAlAdha                                  5\n",
       "Christmas                                  5\n",
       "Cinco De Mayo                              5\n",
       "Halloween                                  5\n",
       "Easter                                     5\n",
       "ColumbusDay                                5\n",
       "Eid al-Fitr                                5\n",
       "NBAFinalsEnd                               6\n",
       "NBAFinalsStart                             6\n",
       "MemorialDay                                6\n",
       "LentWeek2                                  6\n",
       "Pesach End                                 6\n",
       "PresidentsDay                              6\n",
       "Purim End                                  6\n",
       "Ramadan starts                             6\n",
       "StPatricksDay                              6\n",
       "SuperBowl                                  6\n",
       "LentStart                                  6\n",
       "ValentinesDay                              6\n",
       "Mother's day                               6\n",
       "No_Event                                1807"
      ]
     },
     "execution_count": 278,
     "metadata": {},
     "output_type": "execute_result"
    }
   ],
   "source": [
    "df_calender_event1_name_count = df_calender.groupby('event_name_1')['date'].count().to_frame('Number of Event Occured').sort_values('Number of Event Occured')\n",
    "df_calender_event1_name_count"
   ]
  },
  {
   "cell_type": "code",
   "execution_count": 279,
   "id": "a029ac59-8153-4b41-9bba-557a495c7193",
   "metadata": {
    "tags": []
   },
   "outputs": [
    {
     "data": {
      "text/html": [
       "<div>\n",
       "<style scoped>\n",
       "    .dataframe tbody tr th:only-of-type {\n",
       "        vertical-align: middle;\n",
       "    }\n",
       "\n",
       "    .dataframe tbody tr th {\n",
       "        vertical-align: top;\n",
       "    }\n",
       "\n",
       "    .dataframe thead th {\n",
       "        text-align: right;\n",
       "    }\n",
       "</style>\n",
       "<table border=\"1\" class=\"dataframe\">\n",
       "  <thead>\n",
       "    <tr style=\"text-align: right;\">\n",
       "      <th></th>\n",
       "      <th>Number of Event Occured</th>\n",
       "    </tr>\n",
       "    <tr>\n",
       "      <th>event_name_2</th>\n",
       "      <th></th>\n",
       "    </tr>\n",
       "  </thead>\n",
       "  <tbody>\n",
       "    <tr>\n",
       "      <th>Cinco De Mayo</th>\n",
       "      <td>1</td>\n",
       "    </tr>\n",
       "    <tr>\n",
       "      <th>Easter</th>\n",
       "      <td>1</td>\n",
       "    </tr>\n",
       "    <tr>\n",
       "      <th>OrthodoxEaster</th>\n",
       "      <td>1</td>\n",
       "    </tr>\n",
       "    <tr>\n",
       "      <th>Father's day</th>\n",
       "      <td>2</td>\n",
       "    </tr>\n",
       "    <tr>\n",
       "      <th>No_Event</th>\n",
       "      <td>1964</td>\n",
       "    </tr>\n",
       "  </tbody>\n",
       "</table>\n",
       "</div>"
      ],
      "text/plain": [
       "                Number of Event Occured\n",
       "event_name_2                           \n",
       "Cinco De Mayo                         1\n",
       "Easter                                1\n",
       "OrthodoxEaster                        1\n",
       "Father's day                          2\n",
       "No_Event                           1964"
      ]
     },
     "execution_count": 279,
     "metadata": {},
     "output_type": "execute_result"
    }
   ],
   "source": [
    "df_calender_event2_name_count = df_calender.groupby('event_name_2')['date'].count().to_frame('Number of Event Occured').sort_values('Number of Event Occured')\n",
    "df_calender_event2_name_count"
   ]
  },
  {
   "cell_type": "markdown",
   "id": "69903d9d-7c13-4604-bd59-bbccc8765fc3",
   "metadata": {},
   "source": [
    "### Modify the table"
   ]
  },
  {
   "cell_type": "code",
   "execution_count": 280,
   "id": "88b7b629-7dd7-42c8-8270-2bcbaaf37369",
   "metadata": {
    "tags": []
   },
   "outputs": [
    {
     "data": {
      "text/html": [
       "<div>\n",
       "<style scoped>\n",
       "    .dataframe tbody tr th:only-of-type {\n",
       "        vertical-align: middle;\n",
       "    }\n",
       "\n",
       "    .dataframe tbody tr th {\n",
       "        vertical-align: top;\n",
       "    }\n",
       "\n",
       "    .dataframe thead th {\n",
       "        text-align: right;\n",
       "    }\n",
       "</style>\n",
       "<table border=\"1\" class=\"dataframe\">\n",
       "  <thead>\n",
       "    <tr style=\"text-align: right;\">\n",
       "      <th></th>\n",
       "      <th>id</th>\n",
       "      <th>item_id</th>\n",
       "      <th>dept_id</th>\n",
       "      <th>cat_id</th>\n",
       "      <th>store_id</th>\n",
       "      <th>state_id</th>\n",
       "      <th>d_1</th>\n",
       "      <th>d_2</th>\n",
       "      <th>d_3</th>\n",
       "      <th>d_4</th>\n",
       "      <th>...</th>\n",
       "      <th>d_1932</th>\n",
       "      <th>d_1933</th>\n",
       "      <th>d_1934</th>\n",
       "      <th>d_1935</th>\n",
       "      <th>d_1936</th>\n",
       "      <th>d_1937</th>\n",
       "      <th>d_1938</th>\n",
       "      <th>d_1939</th>\n",
       "      <th>d_1940</th>\n",
       "      <th>d_1941</th>\n",
       "    </tr>\n",
       "  </thead>\n",
       "  <tbody>\n",
       "    <tr>\n",
       "      <th>0</th>\n",
       "      <td>HOBBIES_1_001_CA_1_evaluation</td>\n",
       "      <td>HOBBIES_1_001</td>\n",
       "      <td>HOBBIES_1</td>\n",
       "      <td>HOBBIES</td>\n",
       "      <td>CA_1</td>\n",
       "      <td>CA</td>\n",
       "      <td>0</td>\n",
       "      <td>0</td>\n",
       "      <td>0</td>\n",
       "      <td>0</td>\n",
       "      <td>...</td>\n",
       "      <td>2</td>\n",
       "      <td>4</td>\n",
       "      <td>0</td>\n",
       "      <td>0</td>\n",
       "      <td>0</td>\n",
       "      <td>0</td>\n",
       "      <td>3</td>\n",
       "      <td>3</td>\n",
       "      <td>0</td>\n",
       "      <td>1</td>\n",
       "    </tr>\n",
       "    <tr>\n",
       "      <th>1</th>\n",
       "      <td>HOBBIES_1_002_CA_1_evaluation</td>\n",
       "      <td>HOBBIES_1_002</td>\n",
       "      <td>HOBBIES_1</td>\n",
       "      <td>HOBBIES</td>\n",
       "      <td>CA_1</td>\n",
       "      <td>CA</td>\n",
       "      <td>0</td>\n",
       "      <td>0</td>\n",
       "      <td>0</td>\n",
       "      <td>0</td>\n",
       "      <td>...</td>\n",
       "      <td>0</td>\n",
       "      <td>1</td>\n",
       "      <td>2</td>\n",
       "      <td>1</td>\n",
       "      <td>1</td>\n",
       "      <td>0</td>\n",
       "      <td>0</td>\n",
       "      <td>0</td>\n",
       "      <td>0</td>\n",
       "      <td>0</td>\n",
       "    </tr>\n",
       "    <tr>\n",
       "      <th>2</th>\n",
       "      <td>HOBBIES_1_003_CA_1_evaluation</td>\n",
       "      <td>HOBBIES_1_003</td>\n",
       "      <td>HOBBIES_1</td>\n",
       "      <td>HOBBIES</td>\n",
       "      <td>CA_1</td>\n",
       "      <td>CA</td>\n",
       "      <td>0</td>\n",
       "      <td>0</td>\n",
       "      <td>0</td>\n",
       "      <td>0</td>\n",
       "      <td>...</td>\n",
       "      <td>1</td>\n",
       "      <td>0</td>\n",
       "      <td>2</td>\n",
       "      <td>0</td>\n",
       "      <td>0</td>\n",
       "      <td>0</td>\n",
       "      <td>2</td>\n",
       "      <td>3</td>\n",
       "      <td>0</td>\n",
       "      <td>1</td>\n",
       "    </tr>\n",
       "    <tr>\n",
       "      <th>3</th>\n",
       "      <td>HOBBIES_1_004_CA_1_evaluation</td>\n",
       "      <td>HOBBIES_1_004</td>\n",
       "      <td>HOBBIES_1</td>\n",
       "      <td>HOBBIES</td>\n",
       "      <td>CA_1</td>\n",
       "      <td>CA</td>\n",
       "      <td>0</td>\n",
       "      <td>0</td>\n",
       "      <td>0</td>\n",
       "      <td>0</td>\n",
       "      <td>...</td>\n",
       "      <td>1</td>\n",
       "      <td>1</td>\n",
       "      <td>0</td>\n",
       "      <td>4</td>\n",
       "      <td>0</td>\n",
       "      <td>1</td>\n",
       "      <td>3</td>\n",
       "      <td>0</td>\n",
       "      <td>2</td>\n",
       "      <td>6</td>\n",
       "    </tr>\n",
       "    <tr>\n",
       "      <th>4</th>\n",
       "      <td>HOBBIES_1_005_CA_1_evaluation</td>\n",
       "      <td>HOBBIES_1_005</td>\n",
       "      <td>HOBBIES_1</td>\n",
       "      <td>HOBBIES</td>\n",
       "      <td>CA_1</td>\n",
       "      <td>CA</td>\n",
       "      <td>0</td>\n",
       "      <td>0</td>\n",
       "      <td>0</td>\n",
       "      <td>0</td>\n",
       "      <td>...</td>\n",
       "      <td>0</td>\n",
       "      <td>0</td>\n",
       "      <td>0</td>\n",
       "      <td>2</td>\n",
       "      <td>1</td>\n",
       "      <td>0</td>\n",
       "      <td>0</td>\n",
       "      <td>2</td>\n",
       "      <td>1</td>\n",
       "      <td>0</td>\n",
       "    </tr>\n",
       "  </tbody>\n",
       "</table>\n",
       "<p>5 rows × 1947 columns</p>\n",
       "</div>"
      ],
      "text/plain": [
       "                              id        item_id    dept_id   cat_id store_id  \\\n",
       "0  HOBBIES_1_001_CA_1_evaluation  HOBBIES_1_001  HOBBIES_1  HOBBIES     CA_1   \n",
       "1  HOBBIES_1_002_CA_1_evaluation  HOBBIES_1_002  HOBBIES_1  HOBBIES     CA_1   \n",
       "2  HOBBIES_1_003_CA_1_evaluation  HOBBIES_1_003  HOBBIES_1  HOBBIES     CA_1   \n",
       "3  HOBBIES_1_004_CA_1_evaluation  HOBBIES_1_004  HOBBIES_1  HOBBIES     CA_1   \n",
       "4  HOBBIES_1_005_CA_1_evaluation  HOBBIES_1_005  HOBBIES_1  HOBBIES     CA_1   \n",
       "\n",
       "  state_id  d_1  d_2  d_3  d_4  ...  d_1932  d_1933  d_1934  d_1935  d_1936  \\\n",
       "0       CA    0    0    0    0  ...       2       4       0       0       0   \n",
       "1       CA    0    0    0    0  ...       0       1       2       1       1   \n",
       "2       CA    0    0    0    0  ...       1       0       2       0       0   \n",
       "3       CA    0    0    0    0  ...       1       1       0       4       0   \n",
       "4       CA    0    0    0    0  ...       0       0       0       2       1   \n",
       "\n",
       "   d_1937  d_1938  d_1939  d_1940  d_1941  \n",
       "0       0       3       3       0       1  \n",
       "1       0       0       0       0       0  \n",
       "2       0       2       3       0       1  \n",
       "3       1       3       0       2       6  \n",
       "4       0       0       2       1       0  \n",
       "\n",
       "[5 rows x 1947 columns]"
      ]
     },
     "execution_count": 280,
     "metadata": {},
     "output_type": "execute_result"
    }
   ],
   "source": [
    "df_evaluation.head()"
   ]
  },
  {
   "cell_type": "code",
   "execution_count": 281,
   "id": "cf91dd0f-933d-4236-acd2-bb992280a832",
   "metadata": {
    "tags": []
   },
   "outputs": [
    {
     "data": {
      "text/html": [
       "<div>\n",
       "<style scoped>\n",
       "    .dataframe tbody tr th:only-of-type {\n",
       "        vertical-align: middle;\n",
       "    }\n",
       "\n",
       "    .dataframe tbody tr th {\n",
       "        vertical-align: top;\n",
       "    }\n",
       "\n",
       "    .dataframe thead th {\n",
       "        text-align: right;\n",
       "    }\n",
       "</style>\n",
       "<table border=\"1\" class=\"dataframe\">\n",
       "  <thead>\n",
       "    <tr style=\"text-align: right;\">\n",
       "      <th></th>\n",
       "      <th>store_id</th>\n",
       "      <th>item_id</th>\n",
       "      <th>wm_yr_wk</th>\n",
       "      <th>sell_price</th>\n",
       "    </tr>\n",
       "  </thead>\n",
       "  <tbody>\n",
       "    <tr>\n",
       "      <th>0</th>\n",
       "      <td>CA_1</td>\n",
       "      <td>HOBBIES_1_001</td>\n",
       "      <td>11325</td>\n",
       "      <td>9.58</td>\n",
       "    </tr>\n",
       "    <tr>\n",
       "      <th>1</th>\n",
       "      <td>CA_1</td>\n",
       "      <td>HOBBIES_1_001</td>\n",
       "      <td>11326</td>\n",
       "      <td>9.58</td>\n",
       "    </tr>\n",
       "    <tr>\n",
       "      <th>2</th>\n",
       "      <td>CA_1</td>\n",
       "      <td>HOBBIES_1_001</td>\n",
       "      <td>11327</td>\n",
       "      <td>8.26</td>\n",
       "    </tr>\n",
       "    <tr>\n",
       "      <th>3</th>\n",
       "      <td>CA_1</td>\n",
       "      <td>HOBBIES_1_001</td>\n",
       "      <td>11328</td>\n",
       "      <td>8.26</td>\n",
       "    </tr>\n",
       "    <tr>\n",
       "      <th>4</th>\n",
       "      <td>CA_1</td>\n",
       "      <td>HOBBIES_1_001</td>\n",
       "      <td>11329</td>\n",
       "      <td>8.26</td>\n",
       "    </tr>\n",
       "  </tbody>\n",
       "</table>\n",
       "</div>"
      ],
      "text/plain": [
       "  store_id        item_id  wm_yr_wk  sell_price\n",
       "0     CA_1  HOBBIES_1_001     11325        9.58\n",
       "1     CA_1  HOBBIES_1_001     11326        9.58\n",
       "2     CA_1  HOBBIES_1_001     11327        8.26\n",
       "3     CA_1  HOBBIES_1_001     11328        8.26\n",
       "4     CA_1  HOBBIES_1_001     11329        8.26"
      ]
     },
     "execution_count": 281,
     "metadata": {},
     "output_type": "execute_result"
    }
   ],
   "source": [
    "df_sell_price_original.head()"
   ]
  },
  {
   "cell_type": "code",
   "execution_count": 282,
   "id": "370d50d7-1d3b-4acf-9468-9fd945050447",
   "metadata": {
    "tags": []
   },
   "outputs": [],
   "source": [
    "# data_melt = df_evaluation.drop(['item_id','dept_id','cat_id','store_id','state_id'], axis = 1).melt(id_vars='id', var_name='d', value_name='Daily_total_number_sales')"
   ]
  },
  {
   "cell_type": "code",
   "execution_count": 283,
   "id": "ccbe747e-6ce4-40f4-9cb4-a33ae64b6c9b",
   "metadata": {
    "tags": []
   },
   "outputs": [
    {
     "data": {
      "text/html": [
       "<div>\n",
       "<style scoped>\n",
       "    .dataframe tbody tr th:only-of-type {\n",
       "        vertical-align: middle;\n",
       "    }\n",
       "\n",
       "    .dataframe tbody tr th {\n",
       "        vertical-align: top;\n",
       "    }\n",
       "\n",
       "    .dataframe thead th {\n",
       "        text-align: right;\n",
       "    }\n",
       "</style>\n",
       "<table border=\"1\" class=\"dataframe\">\n",
       "  <thead>\n",
       "    <tr style=\"text-align: right;\">\n",
       "      <th></th>\n",
       "      <th>date</th>\n",
       "      <th>wm_yr_wk</th>\n",
       "      <th>weekday</th>\n",
       "      <th>wday</th>\n",
       "      <th>month</th>\n",
       "      <th>year</th>\n",
       "      <th>d</th>\n",
       "      <th>event_name_1</th>\n",
       "      <th>event_type_1</th>\n",
       "      <th>event_name_2</th>\n",
       "      <th>event_type_2</th>\n",
       "      <th>snap_CA</th>\n",
       "      <th>snap_TX</th>\n",
       "      <th>snap_WI</th>\n",
       "      <th>day</th>\n",
       "    </tr>\n",
       "  </thead>\n",
       "  <tbody>\n",
       "    <tr>\n",
       "      <th>0</th>\n",
       "      <td>2011-01-29</td>\n",
       "      <td>11101</td>\n",
       "      <td>Saturday</td>\n",
       "      <td>1</td>\n",
       "      <td>1</td>\n",
       "      <td>2011</td>\n",
       "      <td>d_1</td>\n",
       "      <td>No_Event</td>\n",
       "      <td>No_Event</td>\n",
       "      <td>No_Event</td>\n",
       "      <td>No_Event</td>\n",
       "      <td>0</td>\n",
       "      <td>0</td>\n",
       "      <td>0</td>\n",
       "      <td>1</td>\n",
       "    </tr>\n",
       "    <tr>\n",
       "      <th>1</th>\n",
       "      <td>2011-01-30</td>\n",
       "      <td>11101</td>\n",
       "      <td>Sunday</td>\n",
       "      <td>2</td>\n",
       "      <td>1</td>\n",
       "      <td>2011</td>\n",
       "      <td>d_2</td>\n",
       "      <td>No_Event</td>\n",
       "      <td>No_Event</td>\n",
       "      <td>No_Event</td>\n",
       "      <td>No_Event</td>\n",
       "      <td>0</td>\n",
       "      <td>0</td>\n",
       "      <td>0</td>\n",
       "      <td>2</td>\n",
       "    </tr>\n",
       "    <tr>\n",
       "      <th>2</th>\n",
       "      <td>2011-01-31</td>\n",
       "      <td>11101</td>\n",
       "      <td>Monday</td>\n",
       "      <td>3</td>\n",
       "      <td>1</td>\n",
       "      <td>2011</td>\n",
       "      <td>d_3</td>\n",
       "      <td>No_Event</td>\n",
       "      <td>No_Event</td>\n",
       "      <td>No_Event</td>\n",
       "      <td>No_Event</td>\n",
       "      <td>0</td>\n",
       "      <td>0</td>\n",
       "      <td>0</td>\n",
       "      <td>3</td>\n",
       "    </tr>\n",
       "    <tr>\n",
       "      <th>3</th>\n",
       "      <td>2011-02-01</td>\n",
       "      <td>11101</td>\n",
       "      <td>Tuesday</td>\n",
       "      <td>4</td>\n",
       "      <td>2</td>\n",
       "      <td>2011</td>\n",
       "      <td>d_4</td>\n",
       "      <td>No_Event</td>\n",
       "      <td>No_Event</td>\n",
       "      <td>No_Event</td>\n",
       "      <td>No_Event</td>\n",
       "      <td>1</td>\n",
       "      <td>1</td>\n",
       "      <td>0</td>\n",
       "      <td>4</td>\n",
       "    </tr>\n",
       "    <tr>\n",
       "      <th>4</th>\n",
       "      <td>2011-02-02</td>\n",
       "      <td>11101</td>\n",
       "      <td>Wednesday</td>\n",
       "      <td>5</td>\n",
       "      <td>2</td>\n",
       "      <td>2011</td>\n",
       "      <td>d_5</td>\n",
       "      <td>No_Event</td>\n",
       "      <td>No_Event</td>\n",
       "      <td>No_Event</td>\n",
       "      <td>No_Event</td>\n",
       "      <td>1</td>\n",
       "      <td>0</td>\n",
       "      <td>1</td>\n",
       "      <td>5</td>\n",
       "    </tr>\n",
       "    <tr>\n",
       "      <th>...</th>\n",
       "      <td>...</td>\n",
       "      <td>...</td>\n",
       "      <td>...</td>\n",
       "      <td>...</td>\n",
       "      <td>...</td>\n",
       "      <td>...</td>\n",
       "      <td>...</td>\n",
       "      <td>...</td>\n",
       "      <td>...</td>\n",
       "      <td>...</td>\n",
       "      <td>...</td>\n",
       "      <td>...</td>\n",
       "      <td>...</td>\n",
       "      <td>...</td>\n",
       "      <td>...</td>\n",
       "    </tr>\n",
       "    <tr>\n",
       "      <th>1964</th>\n",
       "      <td>2016-06-15</td>\n",
       "      <td>11620</td>\n",
       "      <td>Wednesday</td>\n",
       "      <td>5</td>\n",
       "      <td>6</td>\n",
       "      <td>2016</td>\n",
       "      <td>d_1965</td>\n",
       "      <td>No_Event</td>\n",
       "      <td>No_Event</td>\n",
       "      <td>No_Event</td>\n",
       "      <td>No_Event</td>\n",
       "      <td>0</td>\n",
       "      <td>1</td>\n",
       "      <td>1</td>\n",
       "      <td>1965</td>\n",
       "    </tr>\n",
       "    <tr>\n",
       "      <th>1965</th>\n",
       "      <td>2016-06-16</td>\n",
       "      <td>11620</td>\n",
       "      <td>Thursday</td>\n",
       "      <td>6</td>\n",
       "      <td>6</td>\n",
       "      <td>2016</td>\n",
       "      <td>d_1966</td>\n",
       "      <td>No_Event</td>\n",
       "      <td>No_Event</td>\n",
       "      <td>No_Event</td>\n",
       "      <td>No_Event</td>\n",
       "      <td>0</td>\n",
       "      <td>0</td>\n",
       "      <td>0</td>\n",
       "      <td>1966</td>\n",
       "    </tr>\n",
       "    <tr>\n",
       "      <th>1966</th>\n",
       "      <td>2016-06-17</td>\n",
       "      <td>11620</td>\n",
       "      <td>Friday</td>\n",
       "      <td>7</td>\n",
       "      <td>6</td>\n",
       "      <td>2016</td>\n",
       "      <td>d_1967</td>\n",
       "      <td>No_Event</td>\n",
       "      <td>No_Event</td>\n",
       "      <td>No_Event</td>\n",
       "      <td>No_Event</td>\n",
       "      <td>0</td>\n",
       "      <td>0</td>\n",
       "      <td>0</td>\n",
       "      <td>1967</td>\n",
       "    </tr>\n",
       "    <tr>\n",
       "      <th>1967</th>\n",
       "      <td>2016-06-18</td>\n",
       "      <td>11621</td>\n",
       "      <td>Saturday</td>\n",
       "      <td>1</td>\n",
       "      <td>6</td>\n",
       "      <td>2016</td>\n",
       "      <td>d_1968</td>\n",
       "      <td>No_Event</td>\n",
       "      <td>No_Event</td>\n",
       "      <td>No_Event</td>\n",
       "      <td>No_Event</td>\n",
       "      <td>0</td>\n",
       "      <td>0</td>\n",
       "      <td>0</td>\n",
       "      <td>1968</td>\n",
       "    </tr>\n",
       "    <tr>\n",
       "      <th>1968</th>\n",
       "      <td>2016-06-19</td>\n",
       "      <td>11621</td>\n",
       "      <td>Sunday</td>\n",
       "      <td>2</td>\n",
       "      <td>6</td>\n",
       "      <td>2016</td>\n",
       "      <td>d_1969</td>\n",
       "      <td>NBAFinalsEnd</td>\n",
       "      <td>Sporting</td>\n",
       "      <td>Father's day</td>\n",
       "      <td>Cultural</td>\n",
       "      <td>0</td>\n",
       "      <td>0</td>\n",
       "      <td>0</td>\n",
       "      <td>1969</td>\n",
       "    </tr>\n",
       "  </tbody>\n",
       "</table>\n",
       "<p>1969 rows × 15 columns</p>\n",
       "</div>"
      ],
      "text/plain": [
       "           date  wm_yr_wk    weekday  wday  month  year       d  event_name_1  \\\n",
       "0    2011-01-29     11101   Saturday     1      1  2011     d_1      No_Event   \n",
       "1    2011-01-30     11101     Sunday     2      1  2011     d_2      No_Event   \n",
       "2    2011-01-31     11101     Monday     3      1  2011     d_3      No_Event   \n",
       "3    2011-02-01     11101    Tuesday     4      2  2011     d_4      No_Event   \n",
       "4    2011-02-02     11101  Wednesday     5      2  2011     d_5      No_Event   \n",
       "...         ...       ...        ...   ...    ...   ...     ...           ...   \n",
       "1964 2016-06-15     11620  Wednesday     5      6  2016  d_1965      No_Event   \n",
       "1965 2016-06-16     11620   Thursday     6      6  2016  d_1966      No_Event   \n",
       "1966 2016-06-17     11620     Friday     7      6  2016  d_1967      No_Event   \n",
       "1967 2016-06-18     11621   Saturday     1      6  2016  d_1968      No_Event   \n",
       "1968 2016-06-19     11621     Sunday     2      6  2016  d_1969  NBAFinalsEnd   \n",
       "\n",
       "     event_type_1  event_name_2 event_type_2  snap_CA  snap_TX  snap_WI   day  \n",
       "0        No_Event      No_Event     No_Event        0        0        0     1  \n",
       "1        No_Event      No_Event     No_Event        0        0        0     2  \n",
       "2        No_Event      No_Event     No_Event        0        0        0     3  \n",
       "3        No_Event      No_Event     No_Event        1        1        0     4  \n",
       "4        No_Event      No_Event     No_Event        1        0        1     5  \n",
       "...           ...           ...          ...      ...      ...      ...   ...  \n",
       "1964     No_Event      No_Event     No_Event        0        1        1  1965  \n",
       "1965     No_Event      No_Event     No_Event        0        0        0  1966  \n",
       "1966     No_Event      No_Event     No_Event        0        0        0  1967  \n",
       "1967     No_Event      No_Event     No_Event        0        0        0  1968  \n",
       "1968     Sporting  Father's day     Cultural        0        0        0  1969  \n",
       "\n",
       "[1969 rows x 15 columns]"
      ]
     },
     "execution_count": 283,
     "metadata": {},
     "output_type": "execute_result"
    }
   ],
   "source": [
    "df_calender"
   ]
  },
  {
   "cell_type": "code",
   "execution_count": 284,
   "id": "a0c0a45e-d696-43d2-9896-3137ef61197a",
   "metadata": {
    "tags": []
   },
   "outputs": [],
   "source": [
    "# data_melt = data_melt.merge(df_calender, on = 'd',how = 'left')\n",
    "# data_melt['date'] = pd.to_datetime(data_melt['date'])"
   ]
  },
  {
   "cell_type": "code",
   "execution_count": 285,
   "id": "ff153899-8125-4128-941d-adcdeea97d4a",
   "metadata": {
    "tags": []
   },
   "outputs": [],
   "source": [
    "# data_melt = data_melt.merge(df_evaluation[['id','item_id','dept_id','cat_id','store_id','state_id']], on = 'id')\n",
    "                            "
   ]
  },
  {
   "cell_type": "code",
   "execution_count": 286,
   "id": "2c2ba94b-4087-4b39-af7d-9699179050cc",
   "metadata": {
    "tags": []
   },
   "outputs": [],
   "source": [
    "# data_melt.head()\n"
   ]
  },
  {
   "cell_type": "code",
   "execution_count": 287,
   "id": "56eb8b7c-dcc3-44c6-b898-cd651c5bf2ef",
   "metadata": {
    "tags": []
   },
   "outputs": [
    {
     "data": {
      "text/html": [
       "<div>\n",
       "<style scoped>\n",
       "    .dataframe tbody tr th:only-of-type {\n",
       "        vertical-align: middle;\n",
       "    }\n",
       "\n",
       "    .dataframe tbody tr th {\n",
       "        vertical-align: top;\n",
       "    }\n",
       "\n",
       "    .dataframe thead th {\n",
       "        text-align: right;\n",
       "    }\n",
       "</style>\n",
       "<table border=\"1\" class=\"dataframe\">\n",
       "  <thead>\n",
       "    <tr style=\"text-align: right;\">\n",
       "      <th></th>\n",
       "      <th>id</th>\n",
       "      <th>item_id</th>\n",
       "      <th>dept_id</th>\n",
       "      <th>cat_id</th>\n",
       "      <th>store_id</th>\n",
       "      <th>state_id</th>\n",
       "      <th>d_1</th>\n",
       "      <th>d_2</th>\n",
       "      <th>d_3</th>\n",
       "      <th>d_4</th>\n",
       "      <th>...</th>\n",
       "      <th>d_1932</th>\n",
       "      <th>d_1933</th>\n",
       "      <th>d_1934</th>\n",
       "      <th>d_1935</th>\n",
       "      <th>d_1936</th>\n",
       "      <th>d_1937</th>\n",
       "      <th>d_1938</th>\n",
       "      <th>d_1939</th>\n",
       "      <th>d_1940</th>\n",
       "      <th>d_1941</th>\n",
       "    </tr>\n",
       "  </thead>\n",
       "  <tbody>\n",
       "    <tr>\n",
       "      <th>0</th>\n",
       "      <td>HOBBIES_1_001_CA_1_evaluation</td>\n",
       "      <td>HOBBIES_1_001</td>\n",
       "      <td>HOBBIES_1</td>\n",
       "      <td>HOBBIES</td>\n",
       "      <td>CA_1</td>\n",
       "      <td>CA</td>\n",
       "      <td>0</td>\n",
       "      <td>0</td>\n",
       "      <td>0</td>\n",
       "      <td>0</td>\n",
       "      <td>...</td>\n",
       "      <td>2</td>\n",
       "      <td>4</td>\n",
       "      <td>0</td>\n",
       "      <td>0</td>\n",
       "      <td>0</td>\n",
       "      <td>0</td>\n",
       "      <td>3</td>\n",
       "      <td>3</td>\n",
       "      <td>0</td>\n",
       "      <td>1</td>\n",
       "    </tr>\n",
       "    <tr>\n",
       "      <th>1</th>\n",
       "      <td>HOBBIES_1_002_CA_1_evaluation</td>\n",
       "      <td>HOBBIES_1_002</td>\n",
       "      <td>HOBBIES_1</td>\n",
       "      <td>HOBBIES</td>\n",
       "      <td>CA_1</td>\n",
       "      <td>CA</td>\n",
       "      <td>0</td>\n",
       "      <td>0</td>\n",
       "      <td>0</td>\n",
       "      <td>0</td>\n",
       "      <td>...</td>\n",
       "      <td>0</td>\n",
       "      <td>1</td>\n",
       "      <td>2</td>\n",
       "      <td>1</td>\n",
       "      <td>1</td>\n",
       "      <td>0</td>\n",
       "      <td>0</td>\n",
       "      <td>0</td>\n",
       "      <td>0</td>\n",
       "      <td>0</td>\n",
       "    </tr>\n",
       "    <tr>\n",
       "      <th>2</th>\n",
       "      <td>HOBBIES_1_003_CA_1_evaluation</td>\n",
       "      <td>HOBBIES_1_003</td>\n",
       "      <td>HOBBIES_1</td>\n",
       "      <td>HOBBIES</td>\n",
       "      <td>CA_1</td>\n",
       "      <td>CA</td>\n",
       "      <td>0</td>\n",
       "      <td>0</td>\n",
       "      <td>0</td>\n",
       "      <td>0</td>\n",
       "      <td>...</td>\n",
       "      <td>1</td>\n",
       "      <td>0</td>\n",
       "      <td>2</td>\n",
       "      <td>0</td>\n",
       "      <td>0</td>\n",
       "      <td>0</td>\n",
       "      <td>2</td>\n",
       "      <td>3</td>\n",
       "      <td>0</td>\n",
       "      <td>1</td>\n",
       "    </tr>\n",
       "    <tr>\n",
       "      <th>3</th>\n",
       "      <td>HOBBIES_1_004_CA_1_evaluation</td>\n",
       "      <td>HOBBIES_1_004</td>\n",
       "      <td>HOBBIES_1</td>\n",
       "      <td>HOBBIES</td>\n",
       "      <td>CA_1</td>\n",
       "      <td>CA</td>\n",
       "      <td>0</td>\n",
       "      <td>0</td>\n",
       "      <td>0</td>\n",
       "      <td>0</td>\n",
       "      <td>...</td>\n",
       "      <td>1</td>\n",
       "      <td>1</td>\n",
       "      <td>0</td>\n",
       "      <td>4</td>\n",
       "      <td>0</td>\n",
       "      <td>1</td>\n",
       "      <td>3</td>\n",
       "      <td>0</td>\n",
       "      <td>2</td>\n",
       "      <td>6</td>\n",
       "    </tr>\n",
       "    <tr>\n",
       "      <th>4</th>\n",
       "      <td>HOBBIES_1_005_CA_1_evaluation</td>\n",
       "      <td>HOBBIES_1_005</td>\n",
       "      <td>HOBBIES_1</td>\n",
       "      <td>HOBBIES</td>\n",
       "      <td>CA_1</td>\n",
       "      <td>CA</td>\n",
       "      <td>0</td>\n",
       "      <td>0</td>\n",
       "      <td>0</td>\n",
       "      <td>0</td>\n",
       "      <td>...</td>\n",
       "      <td>0</td>\n",
       "      <td>0</td>\n",
       "      <td>0</td>\n",
       "      <td>2</td>\n",
       "      <td>1</td>\n",
       "      <td>0</td>\n",
       "      <td>0</td>\n",
       "      <td>2</td>\n",
       "      <td>1</td>\n",
       "      <td>0</td>\n",
       "    </tr>\n",
       "    <tr>\n",
       "      <th>...</th>\n",
       "      <td>...</td>\n",
       "      <td>...</td>\n",
       "      <td>...</td>\n",
       "      <td>...</td>\n",
       "      <td>...</td>\n",
       "      <td>...</td>\n",
       "      <td>...</td>\n",
       "      <td>...</td>\n",
       "      <td>...</td>\n",
       "      <td>...</td>\n",
       "      <td>...</td>\n",
       "      <td>...</td>\n",
       "      <td>...</td>\n",
       "      <td>...</td>\n",
       "      <td>...</td>\n",
       "      <td>...</td>\n",
       "      <td>...</td>\n",
       "      <td>...</td>\n",
       "      <td>...</td>\n",
       "      <td>...</td>\n",
       "      <td>...</td>\n",
       "    </tr>\n",
       "    <tr>\n",
       "      <th>30485</th>\n",
       "      <td>FOODS_3_823_WI_3_evaluation</td>\n",
       "      <td>FOODS_3_823</td>\n",
       "      <td>FOODS_3</td>\n",
       "      <td>FOODS</td>\n",
       "      <td>WI_3</td>\n",
       "      <td>WI</td>\n",
       "      <td>0</td>\n",
       "      <td>0</td>\n",
       "      <td>2</td>\n",
       "      <td>2</td>\n",
       "      <td>...</td>\n",
       "      <td>1</td>\n",
       "      <td>0</td>\n",
       "      <td>3</td>\n",
       "      <td>0</td>\n",
       "      <td>1</td>\n",
       "      <td>1</td>\n",
       "      <td>0</td>\n",
       "      <td>0</td>\n",
       "      <td>1</td>\n",
       "      <td>1</td>\n",
       "    </tr>\n",
       "    <tr>\n",
       "      <th>30486</th>\n",
       "      <td>FOODS_3_824_WI_3_evaluation</td>\n",
       "      <td>FOODS_3_824</td>\n",
       "      <td>FOODS_3</td>\n",
       "      <td>FOODS</td>\n",
       "      <td>WI_3</td>\n",
       "      <td>WI</td>\n",
       "      <td>0</td>\n",
       "      <td>0</td>\n",
       "      <td>0</td>\n",
       "      <td>0</td>\n",
       "      <td>...</td>\n",
       "      <td>0</td>\n",
       "      <td>0</td>\n",
       "      <td>0</td>\n",
       "      <td>0</td>\n",
       "      <td>0</td>\n",
       "      <td>0</td>\n",
       "      <td>1</td>\n",
       "      <td>0</td>\n",
       "      <td>1</td>\n",
       "      <td>0</td>\n",
       "    </tr>\n",
       "    <tr>\n",
       "      <th>30487</th>\n",
       "      <td>FOODS_3_825_WI_3_evaluation</td>\n",
       "      <td>FOODS_3_825</td>\n",
       "      <td>FOODS_3</td>\n",
       "      <td>FOODS</td>\n",
       "      <td>WI_3</td>\n",
       "      <td>WI</td>\n",
       "      <td>0</td>\n",
       "      <td>6</td>\n",
       "      <td>0</td>\n",
       "      <td>2</td>\n",
       "      <td>...</td>\n",
       "      <td>0</td>\n",
       "      <td>0</td>\n",
       "      <td>1</td>\n",
       "      <td>2</td>\n",
       "      <td>0</td>\n",
       "      <td>1</td>\n",
       "      <td>0</td>\n",
       "      <td>1</td>\n",
       "      <td>0</td>\n",
       "      <td>2</td>\n",
       "    </tr>\n",
       "    <tr>\n",
       "      <th>30488</th>\n",
       "      <td>FOODS_3_826_WI_3_evaluation</td>\n",
       "      <td>FOODS_3_826</td>\n",
       "      <td>FOODS_3</td>\n",
       "      <td>FOODS</td>\n",
       "      <td>WI_3</td>\n",
       "      <td>WI</td>\n",
       "      <td>0</td>\n",
       "      <td>0</td>\n",
       "      <td>0</td>\n",
       "      <td>0</td>\n",
       "      <td>...</td>\n",
       "      <td>1</td>\n",
       "      <td>1</td>\n",
       "      <td>1</td>\n",
       "      <td>4</td>\n",
       "      <td>6</td>\n",
       "      <td>0</td>\n",
       "      <td>1</td>\n",
       "      <td>1</td>\n",
       "      <td>1</td>\n",
       "      <td>0</td>\n",
       "    </tr>\n",
       "    <tr>\n",
       "      <th>30489</th>\n",
       "      <td>FOODS_3_827_WI_3_evaluation</td>\n",
       "      <td>FOODS_3_827</td>\n",
       "      <td>FOODS_3</td>\n",
       "      <td>FOODS</td>\n",
       "      <td>WI_3</td>\n",
       "      <td>WI</td>\n",
       "      <td>0</td>\n",
       "      <td>0</td>\n",
       "      <td>0</td>\n",
       "      <td>0</td>\n",
       "      <td>...</td>\n",
       "      <td>1</td>\n",
       "      <td>2</td>\n",
       "      <td>0</td>\n",
       "      <td>5</td>\n",
       "      <td>4</td>\n",
       "      <td>0</td>\n",
       "      <td>2</td>\n",
       "      <td>2</td>\n",
       "      <td>5</td>\n",
       "      <td>1</td>\n",
       "    </tr>\n",
       "  </tbody>\n",
       "</table>\n",
       "<p>30490 rows × 1947 columns</p>\n",
       "</div>"
      ],
      "text/plain": [
       "                                  id        item_id    dept_id   cat_id  \\\n",
       "0      HOBBIES_1_001_CA_1_evaluation  HOBBIES_1_001  HOBBIES_1  HOBBIES   \n",
       "1      HOBBIES_1_002_CA_1_evaluation  HOBBIES_1_002  HOBBIES_1  HOBBIES   \n",
       "2      HOBBIES_1_003_CA_1_evaluation  HOBBIES_1_003  HOBBIES_1  HOBBIES   \n",
       "3      HOBBIES_1_004_CA_1_evaluation  HOBBIES_1_004  HOBBIES_1  HOBBIES   \n",
       "4      HOBBIES_1_005_CA_1_evaluation  HOBBIES_1_005  HOBBIES_1  HOBBIES   \n",
       "...                              ...            ...        ...      ...   \n",
       "30485    FOODS_3_823_WI_3_evaluation    FOODS_3_823    FOODS_3    FOODS   \n",
       "30486    FOODS_3_824_WI_3_evaluation    FOODS_3_824    FOODS_3    FOODS   \n",
       "30487    FOODS_3_825_WI_3_evaluation    FOODS_3_825    FOODS_3    FOODS   \n",
       "30488    FOODS_3_826_WI_3_evaluation    FOODS_3_826    FOODS_3    FOODS   \n",
       "30489    FOODS_3_827_WI_3_evaluation    FOODS_3_827    FOODS_3    FOODS   \n",
       "\n",
       "      store_id state_id  d_1  d_2  d_3  d_4  ...  d_1932  d_1933  d_1934  \\\n",
       "0         CA_1       CA    0    0    0    0  ...       2       4       0   \n",
       "1         CA_1       CA    0    0    0    0  ...       0       1       2   \n",
       "2         CA_1       CA    0    0    0    0  ...       1       0       2   \n",
       "3         CA_1       CA    0    0    0    0  ...       1       1       0   \n",
       "4         CA_1       CA    0    0    0    0  ...       0       0       0   \n",
       "...        ...      ...  ...  ...  ...  ...  ...     ...     ...     ...   \n",
       "30485     WI_3       WI    0    0    2    2  ...       1       0       3   \n",
       "30486     WI_3       WI    0    0    0    0  ...       0       0       0   \n",
       "30487     WI_3       WI    0    6    0    2  ...       0       0       1   \n",
       "30488     WI_3       WI    0    0    0    0  ...       1       1       1   \n",
       "30489     WI_3       WI    0    0    0    0  ...       1       2       0   \n",
       "\n",
       "       d_1935  d_1936  d_1937  d_1938  d_1939  d_1940  d_1941  \n",
       "0           0       0       0       3       3       0       1  \n",
       "1           1       1       0       0       0       0       0  \n",
       "2           0       0       0       2       3       0       1  \n",
       "3           4       0       1       3       0       2       6  \n",
       "4           2       1       0       0       2       1       0  \n",
       "...       ...     ...     ...     ...     ...     ...     ...  \n",
       "30485       0       1       1       0       0       1       1  \n",
       "30486       0       0       0       1       0       1       0  \n",
       "30487       2       0       1       0       1       0       2  \n",
       "30488       4       6       0       1       1       1       0  \n",
       "30489       5       4       0       2       2       5       1  \n",
       "\n",
       "[30490 rows x 1947 columns]"
      ]
     },
     "execution_count": 287,
     "metadata": {},
     "output_type": "execute_result"
    }
   ],
   "source": [
    "df_evaluation"
   ]
  },
  {
   "cell_type": "code",
   "execution_count": null,
   "id": "702cc025-b66a-4e02-812e-5bcbf854b426",
   "metadata": {
    "tags": []
   },
   "outputs": [],
   "source": []
  },
  {
   "cell_type": "code",
   "execution_count": null,
   "id": "ad265655-1a56-4b5b-a74a-bc3909d6e719",
   "metadata": {
    "tags": []
   },
   "outputs": [],
   "source": []
  },
  {
   "cell_type": "code",
   "execution_count": null,
   "id": "2764b68e-adea-4b0f-a025-f10ce56eae5e",
   "metadata": {
    "tags": []
   },
   "outputs": [],
   "source": []
  },
  {
   "cell_type": "code",
   "execution_count": null,
   "id": "a0f16f48-2477-4e3b-aebd-db4d2151e481",
   "metadata": {
    "tags": []
   },
   "outputs": [],
   "source": []
  },
  {
   "cell_type": "code",
   "execution_count": 288,
   "id": "e60b4a02-882b-4718-b752-4d0eb145d2b2",
   "metadata": {
    "tags": []
   },
   "outputs": [],
   "source": [
    "import numpy as np\n",
    "from sklearn.metrics import mean_squared_error\n",
    "\n",
    "def rmse(y_true,y_pred):\n",
    "    mse = mean_squared_error(y_true, y_pred)\n",
    "    rmse = np.sqrt(mse)\n",
    "    return rmse"
   ]
  },
  {
   "cell_type": "code",
   "execution_count": 289,
   "id": "b2093283-6a6e-4aea-9193-73c03fb928db",
   "metadata": {
    "tags": []
   },
   "outputs": [
    {
     "data": {
      "text/html": [
       "<div>\n",
       "<style scoped>\n",
       "    .dataframe tbody tr th:only-of-type {\n",
       "        vertical-align: middle;\n",
       "    }\n",
       "\n",
       "    .dataframe tbody tr th {\n",
       "        vertical-align: top;\n",
       "    }\n",
       "\n",
       "    .dataframe thead th {\n",
       "        text-align: right;\n",
       "    }\n",
       "</style>\n",
       "<table border=\"1\" class=\"dataframe\">\n",
       "  <thead>\n",
       "    <tr style=\"text-align: right;\">\n",
       "      <th></th>\n",
       "      <th>date</th>\n",
       "      <th>wm_yr_wk</th>\n",
       "      <th>weekday</th>\n",
       "      <th>wday</th>\n",
       "      <th>month</th>\n",
       "      <th>year</th>\n",
       "      <th>d</th>\n",
       "      <th>event_name_1</th>\n",
       "      <th>event_type_1</th>\n",
       "      <th>event_name_2</th>\n",
       "      <th>event_type_2</th>\n",
       "      <th>snap_CA</th>\n",
       "      <th>snap_TX</th>\n",
       "      <th>snap_WI</th>\n",
       "      <th>day</th>\n",
       "    </tr>\n",
       "  </thead>\n",
       "  <tbody>\n",
       "    <tr>\n",
       "      <th>0</th>\n",
       "      <td>2011-01-29</td>\n",
       "      <td>11101</td>\n",
       "      <td>Saturday</td>\n",
       "      <td>1</td>\n",
       "      <td>1</td>\n",
       "      <td>2011</td>\n",
       "      <td>d_1</td>\n",
       "      <td>No_Event</td>\n",
       "      <td>No_Event</td>\n",
       "      <td>No_Event</td>\n",
       "      <td>No_Event</td>\n",
       "      <td>0</td>\n",
       "      <td>0</td>\n",
       "      <td>0</td>\n",
       "      <td>1</td>\n",
       "    </tr>\n",
       "    <tr>\n",
       "      <th>1</th>\n",
       "      <td>2011-01-30</td>\n",
       "      <td>11101</td>\n",
       "      <td>Sunday</td>\n",
       "      <td>2</td>\n",
       "      <td>1</td>\n",
       "      <td>2011</td>\n",
       "      <td>d_2</td>\n",
       "      <td>No_Event</td>\n",
       "      <td>No_Event</td>\n",
       "      <td>No_Event</td>\n",
       "      <td>No_Event</td>\n",
       "      <td>0</td>\n",
       "      <td>0</td>\n",
       "      <td>0</td>\n",
       "      <td>2</td>\n",
       "    </tr>\n",
       "    <tr>\n",
       "      <th>2</th>\n",
       "      <td>2011-01-31</td>\n",
       "      <td>11101</td>\n",
       "      <td>Monday</td>\n",
       "      <td>3</td>\n",
       "      <td>1</td>\n",
       "      <td>2011</td>\n",
       "      <td>d_3</td>\n",
       "      <td>No_Event</td>\n",
       "      <td>No_Event</td>\n",
       "      <td>No_Event</td>\n",
       "      <td>No_Event</td>\n",
       "      <td>0</td>\n",
       "      <td>0</td>\n",
       "      <td>0</td>\n",
       "      <td>3</td>\n",
       "    </tr>\n",
       "    <tr>\n",
       "      <th>3</th>\n",
       "      <td>2011-02-01</td>\n",
       "      <td>11101</td>\n",
       "      <td>Tuesday</td>\n",
       "      <td>4</td>\n",
       "      <td>2</td>\n",
       "      <td>2011</td>\n",
       "      <td>d_4</td>\n",
       "      <td>No_Event</td>\n",
       "      <td>No_Event</td>\n",
       "      <td>No_Event</td>\n",
       "      <td>No_Event</td>\n",
       "      <td>1</td>\n",
       "      <td>1</td>\n",
       "      <td>0</td>\n",
       "      <td>4</td>\n",
       "    </tr>\n",
       "    <tr>\n",
       "      <th>4</th>\n",
       "      <td>2011-02-02</td>\n",
       "      <td>11101</td>\n",
       "      <td>Wednesday</td>\n",
       "      <td>5</td>\n",
       "      <td>2</td>\n",
       "      <td>2011</td>\n",
       "      <td>d_5</td>\n",
       "      <td>No_Event</td>\n",
       "      <td>No_Event</td>\n",
       "      <td>No_Event</td>\n",
       "      <td>No_Event</td>\n",
       "      <td>1</td>\n",
       "      <td>0</td>\n",
       "      <td>1</td>\n",
       "      <td>5</td>\n",
       "    </tr>\n",
       "    <tr>\n",
       "      <th>...</th>\n",
       "      <td>...</td>\n",
       "      <td>...</td>\n",
       "      <td>...</td>\n",
       "      <td>...</td>\n",
       "      <td>...</td>\n",
       "      <td>...</td>\n",
       "      <td>...</td>\n",
       "      <td>...</td>\n",
       "      <td>...</td>\n",
       "      <td>...</td>\n",
       "      <td>...</td>\n",
       "      <td>...</td>\n",
       "      <td>...</td>\n",
       "      <td>...</td>\n",
       "      <td>...</td>\n",
       "    </tr>\n",
       "    <tr>\n",
       "      <th>1964</th>\n",
       "      <td>2016-06-15</td>\n",
       "      <td>11620</td>\n",
       "      <td>Wednesday</td>\n",
       "      <td>5</td>\n",
       "      <td>6</td>\n",
       "      <td>2016</td>\n",
       "      <td>d_1965</td>\n",
       "      <td>No_Event</td>\n",
       "      <td>No_Event</td>\n",
       "      <td>No_Event</td>\n",
       "      <td>No_Event</td>\n",
       "      <td>0</td>\n",
       "      <td>1</td>\n",
       "      <td>1</td>\n",
       "      <td>1965</td>\n",
       "    </tr>\n",
       "    <tr>\n",
       "      <th>1965</th>\n",
       "      <td>2016-06-16</td>\n",
       "      <td>11620</td>\n",
       "      <td>Thursday</td>\n",
       "      <td>6</td>\n",
       "      <td>6</td>\n",
       "      <td>2016</td>\n",
       "      <td>d_1966</td>\n",
       "      <td>No_Event</td>\n",
       "      <td>No_Event</td>\n",
       "      <td>No_Event</td>\n",
       "      <td>No_Event</td>\n",
       "      <td>0</td>\n",
       "      <td>0</td>\n",
       "      <td>0</td>\n",
       "      <td>1966</td>\n",
       "    </tr>\n",
       "    <tr>\n",
       "      <th>1966</th>\n",
       "      <td>2016-06-17</td>\n",
       "      <td>11620</td>\n",
       "      <td>Friday</td>\n",
       "      <td>7</td>\n",
       "      <td>6</td>\n",
       "      <td>2016</td>\n",
       "      <td>d_1967</td>\n",
       "      <td>No_Event</td>\n",
       "      <td>No_Event</td>\n",
       "      <td>No_Event</td>\n",
       "      <td>No_Event</td>\n",
       "      <td>0</td>\n",
       "      <td>0</td>\n",
       "      <td>0</td>\n",
       "      <td>1967</td>\n",
       "    </tr>\n",
       "    <tr>\n",
       "      <th>1967</th>\n",
       "      <td>2016-06-18</td>\n",
       "      <td>11621</td>\n",
       "      <td>Saturday</td>\n",
       "      <td>1</td>\n",
       "      <td>6</td>\n",
       "      <td>2016</td>\n",
       "      <td>d_1968</td>\n",
       "      <td>No_Event</td>\n",
       "      <td>No_Event</td>\n",
       "      <td>No_Event</td>\n",
       "      <td>No_Event</td>\n",
       "      <td>0</td>\n",
       "      <td>0</td>\n",
       "      <td>0</td>\n",
       "      <td>1968</td>\n",
       "    </tr>\n",
       "    <tr>\n",
       "      <th>1968</th>\n",
       "      <td>2016-06-19</td>\n",
       "      <td>11621</td>\n",
       "      <td>Sunday</td>\n",
       "      <td>2</td>\n",
       "      <td>6</td>\n",
       "      <td>2016</td>\n",
       "      <td>d_1969</td>\n",
       "      <td>NBAFinalsEnd</td>\n",
       "      <td>Sporting</td>\n",
       "      <td>Father's day</td>\n",
       "      <td>Cultural</td>\n",
       "      <td>0</td>\n",
       "      <td>0</td>\n",
       "      <td>0</td>\n",
       "      <td>1969</td>\n",
       "    </tr>\n",
       "  </tbody>\n",
       "</table>\n",
       "<p>1969 rows × 15 columns</p>\n",
       "</div>"
      ],
      "text/plain": [
       "           date  wm_yr_wk    weekday  wday  month  year       d  event_name_1  \\\n",
       "0    2011-01-29     11101   Saturday     1      1  2011     d_1      No_Event   \n",
       "1    2011-01-30     11101     Sunday     2      1  2011     d_2      No_Event   \n",
       "2    2011-01-31     11101     Monday     3      1  2011     d_3      No_Event   \n",
       "3    2011-02-01     11101    Tuesday     4      2  2011     d_4      No_Event   \n",
       "4    2011-02-02     11101  Wednesday     5      2  2011     d_5      No_Event   \n",
       "...         ...       ...        ...   ...    ...   ...     ...           ...   \n",
       "1964 2016-06-15     11620  Wednesday     5      6  2016  d_1965      No_Event   \n",
       "1965 2016-06-16     11620   Thursday     6      6  2016  d_1966      No_Event   \n",
       "1966 2016-06-17     11620     Friday     7      6  2016  d_1967      No_Event   \n",
       "1967 2016-06-18     11621   Saturday     1      6  2016  d_1968      No_Event   \n",
       "1968 2016-06-19     11621     Sunday     2      6  2016  d_1969  NBAFinalsEnd   \n",
       "\n",
       "     event_type_1  event_name_2 event_type_2  snap_CA  snap_TX  snap_WI   day  \n",
       "0        No_Event      No_Event     No_Event        0        0        0     1  \n",
       "1        No_Event      No_Event     No_Event        0        0        0     2  \n",
       "2        No_Event      No_Event     No_Event        0        0        0     3  \n",
       "3        No_Event      No_Event     No_Event        1        1        0     4  \n",
       "4        No_Event      No_Event     No_Event        1        0        1     5  \n",
       "...           ...           ...          ...      ...      ...      ...   ...  \n",
       "1964     No_Event      No_Event     No_Event        0        1        1  1965  \n",
       "1965     No_Event      No_Event     No_Event        0        0        0  1966  \n",
       "1966     No_Event      No_Event     No_Event        0        0        0  1967  \n",
       "1967     No_Event      No_Event     No_Event        0        0        0  1968  \n",
       "1968     Sporting  Father's day     Cultural        0        0        0  1969  \n",
       "\n",
       "[1969 rows x 15 columns]"
      ]
     },
     "execution_count": 289,
     "metadata": {},
     "output_type": "execute_result"
    }
   ],
   "source": [
    "df_calender"
   ]
  },
  {
   "cell_type": "code",
   "execution_count": 290,
   "id": "02847b73-a871-4c72-ab0d-886badb7c4aa",
   "metadata": {},
   "outputs": [],
   "source": [
    "# df_calender=df_calender.drop(['wm_yr_wk_shift','d_num','d_shift'],axis=1)"
   ]
  },
  {
   "cell_type": "code",
   "execution_count": 291,
   "id": "ddbc27fd-a620-4250-a0a0-a7b185f019e0",
   "metadata": {
    "tags": []
   },
   "outputs": [
    {
     "name": "stdout",
     "output_type": "stream",
     "text": [
      "<class 'pandas.core.frame.DataFrame'>\n",
      "RangeIndex: 1969 entries, 0 to 1968\n",
      "Data columns (total 15 columns):\n",
      " #   Column        Non-Null Count  Dtype         \n",
      "---  ------        --------------  -----         \n",
      " 0   date          1969 non-null   datetime64[ns]\n",
      " 1   wm_yr_wk      1969 non-null   int64         \n",
      " 2   weekday       1969 non-null   object        \n",
      " 3   wday          1969 non-null   int64         \n",
      " 4   month         1969 non-null   int64         \n",
      " 5   year          1969 non-null   int64         \n",
      " 6   d             1969 non-null   object        \n",
      " 7   event_name_1  1969 non-null   object        \n",
      " 8   event_type_1  1969 non-null   object        \n",
      " 9   event_name_2  1969 non-null   object        \n",
      " 10  event_type_2  1969 non-null   object        \n",
      " 11  snap_CA       1969 non-null   int64         \n",
      " 12  snap_TX       1969 non-null   int64         \n",
      " 13  snap_WI       1969 non-null   int64         \n",
      " 14  day           1969 non-null   object        \n",
      "dtypes: datetime64[ns](1), int64(7), object(7)\n",
      "memory usage: 230.9+ KB\n"
     ]
    }
   ],
   "source": [
    "df_calender.info()"
   ]
  },
  {
   "cell_type": "code",
   "execution_count": 323,
   "id": "80696f51-3651-4488-999d-c406f02c97a2",
   "metadata": {
    "tags": []
   },
   "outputs": [
    {
     "name": "stdout",
     "output_type": "stream",
     "text": [
      "<class 'pandas.core.frame.DataFrame'>\n",
      "RangeIndex: 1969 entries, 0 to 1968\n",
      "Data columns (total 19 columns):\n",
      " #   Column          Non-Null Count  Dtype         \n",
      "---  ------          --------------  -----         \n",
      " 0   date            1969 non-null   datetime64[ns]\n",
      " 1   wm_yr_wk        1969 non-null   int64         \n",
      " 2   weekday         1969 non-null   object        \n",
      " 3   wday            1969 non-null   int32         \n",
      " 4   month           1969 non-null   int32         \n",
      " 5   year            1969 non-null   int64         \n",
      " 6   d               1969 non-null   object        \n",
      " 7   event_name_1    1969 non-null   object        \n",
      " 8   event_type_1    1969 non-null   object        \n",
      " 9   event_name_2    1969 non-null   object        \n",
      " 10  event_type_2    1969 non-null   object        \n",
      " 11  snap_CA         1969 non-null   int32         \n",
      " 12  snap_TX         1969 non-null   int32         \n",
      " 13  snap_WI         1969 non-null   int32         \n",
      " 14  day             1969 non-null   int32         \n",
      " 15  is_weekend      1969 non-null   int32         \n",
      " 16  month_day       1969 non-null   int32         \n",
      " 17  week_number     1969 non-null   int32         \n",
      " 18  events_per_day  1969 non-null   int32         \n",
      "dtypes: datetime64[ns](1), int32(10), int64(2), object(6)\n",
      "memory usage: 215.5+ KB\n"
     ]
    },
    {
     "name": "stderr",
     "output_type": "stream",
     "text": [
      "/opt/anaconda3/lib/python3.8/site-packages/pandas/core/indexing.py:1637: SettingWithCopyWarning: \n",
      "A value is trying to be set on a copy of a slice from a DataFrame\n",
      "\n",
      "See the caveats in the documentation: https://pandas.pydata.org/pandas-docs/stable/user_guide/indexing.html#returning-a-view-versus-a-copy\n",
      "  self._setitem_single_block(indexer, value, name)\n",
      "/opt/anaconda3/lib/python3.8/site-packages/pandas/core/indexing.py:1637: SettingWithCopyWarning: \n",
      "A value is trying to be set on a copy of a slice from a DataFrame\n",
      "\n",
      "See the caveats in the documentation: https://pandas.pydata.org/pandas-docs/stable/user_guide/indexing.html#returning-a-view-versus-a-copy\n",
      "  self._setitem_single_block(indexer, value, name)\n"
     ]
    }
   ],
   "source": [
    "from tqdm import tqdm\n",
    "import numpy as np\n",
    "from sklearn.preprocessing import LabelEncoder\n",
    "\n",
    "#Replace null values to 'no_event' in event columns\n",
    "cat=['event_name_1','event_type_1','event_name_2','event_type_2']\n",
    "for i in cat:\n",
    "    df_calender.loc[:,i].fillna('no_event',inplace=True)\n",
    "\n",
    "#Adding feature 'is_weekend' which will tell the weekend or not\n",
    "\n",
    "df_calender['is_weekend']=0\n",
    "df_calender['is_weekend'].loc[df_calender['wday'] == 1] =1\n",
    "df_calender['is_weekend'].loc[df_calender['wday'] == 2] =1\n",
    "#Adding feature 'month_day' which  will tell day of the month\n",
    "df_calender['month_day']=0\n",
    "df_calender['month_day']=df_calender.loc[:, 'date'].dt.month\n",
    "\n",
    "#Adding feature 'month_week_number' which  will tell  week of the year\n",
    "df_calender['week_number']= df_calender.loc[:,'date'].dt.isocalendar().week\n",
    "\n",
    "#Adding feature 'events_per_day' which tells us number of events on particular day\n",
    "df_calender['events_per_day'] = 0\n",
    "df_calender['events_per_day'].loc[(df_calender['event_type_1'] != 'No_Event')] =1\n",
    "df_calender['events_per_day'].loc[(df_calender['event_type_2'] != 'No_Event')] =2\n",
    "\n",
    "# df_calender.loc[:, 'day'] = df_calender.loc[:,'d'].str.split(\"_\",1).map(lambda x: x[1])\n",
    "# df_calender['day'] = 0\n",
    "\n",
    "\n",
    "df_calender.loc[:,'day'] = df_calender.loc[:,'d'].str.split(\"_\",1).str[1].astype('string').astype('int32')\n",
    "df_calender['day'].astype('string').astype('int8')\n",
    "df_calender.loc[:, ('wday', 'month','snap_CA', 'snap_TX', 'snap_WI', 'is_weekend', 'month_day', 'week_number','events_per_day')] = df_calender.loc[:, ('wday', 'month','snap_CA', 'snap_TX', 'snap_WI', 'is_weekend', 'month_day', 'week_number','events_per_day')].astype('int32')\n",
    "\n",
    "df_calender.info()\n",
    "\n"
   ]
  },
  {
   "cell_type": "code",
   "execution_count": 324,
   "id": "479b4ff9-c09f-43a7-9ae5-7c25ec8fd376",
   "metadata": {
    "tags": []
   },
   "outputs": [
    {
     "data": {
      "text/html": [
       "<div>\n",
       "<style scoped>\n",
       "    .dataframe tbody tr th:only-of-type {\n",
       "        vertical-align: middle;\n",
       "    }\n",
       "\n",
       "    .dataframe tbody tr th {\n",
       "        vertical-align: top;\n",
       "    }\n",
       "\n",
       "    .dataframe thead th {\n",
       "        text-align: right;\n",
       "    }\n",
       "</style>\n",
       "<table border=\"1\" class=\"dataframe\">\n",
       "  <thead>\n",
       "    <tr style=\"text-align: right;\">\n",
       "      <th></th>\n",
       "      <th>date</th>\n",
       "      <th>wm_yr_wk</th>\n",
       "      <th>weekday</th>\n",
       "      <th>wday</th>\n",
       "      <th>month</th>\n",
       "      <th>year</th>\n",
       "      <th>d</th>\n",
       "      <th>event_name_1</th>\n",
       "      <th>event_type_1</th>\n",
       "      <th>event_name_2</th>\n",
       "      <th>event_type_2</th>\n",
       "      <th>snap_CA</th>\n",
       "      <th>snap_TX</th>\n",
       "      <th>snap_WI</th>\n",
       "      <th>day</th>\n",
       "      <th>is_weekend</th>\n",
       "      <th>month_day</th>\n",
       "      <th>week_number</th>\n",
       "      <th>events_per_day</th>\n",
       "    </tr>\n",
       "  </thead>\n",
       "  <tbody>\n",
       "    <tr>\n",
       "      <th>85</th>\n",
       "      <td>2011-04-24</td>\n",
       "      <td>11113</td>\n",
       "      <td>Sunday</td>\n",
       "      <td>2</td>\n",
       "      <td>4</td>\n",
       "      <td>2011</td>\n",
       "      <td>d_86</td>\n",
       "      <td>OrthodoxEaster</td>\n",
       "      <td>Religious</td>\n",
       "      <td>Easter</td>\n",
       "      <td>Cultural</td>\n",
       "      <td>0</td>\n",
       "      <td>0</td>\n",
       "      <td>0</td>\n",
       "      <td>86</td>\n",
       "      <td>1</td>\n",
       "      <td>4</td>\n",
       "      <td>16</td>\n",
       "      <td>2</td>\n",
       "    </tr>\n",
       "    <tr>\n",
       "      <th>827</th>\n",
       "      <td>2013-05-05</td>\n",
       "      <td>11315</td>\n",
       "      <td>Sunday</td>\n",
       "      <td>2</td>\n",
       "      <td>5</td>\n",
       "      <td>2013</td>\n",
       "      <td>d_828</td>\n",
       "      <td>OrthodoxEaster</td>\n",
       "      <td>Religious</td>\n",
       "      <td>Cinco De Mayo</td>\n",
       "      <td>Cultural</td>\n",
       "      <td>1</td>\n",
       "      <td>1</td>\n",
       "      <td>1</td>\n",
       "      <td>828</td>\n",
       "      <td>1</td>\n",
       "      <td>5</td>\n",
       "      <td>18</td>\n",
       "      <td>2</td>\n",
       "    </tr>\n",
       "    <tr>\n",
       "      <th>1177</th>\n",
       "      <td>2014-04-20</td>\n",
       "      <td>11412</td>\n",
       "      <td>Sunday</td>\n",
       "      <td>2</td>\n",
       "      <td>4</td>\n",
       "      <td>2014</td>\n",
       "      <td>d_1178</td>\n",
       "      <td>Easter</td>\n",
       "      <td>Cultural</td>\n",
       "      <td>OrthodoxEaster</td>\n",
       "      <td>Religious</td>\n",
       "      <td>0</td>\n",
       "      <td>0</td>\n",
       "      <td>0</td>\n",
       "      <td>1178</td>\n",
       "      <td>1</td>\n",
       "      <td>4</td>\n",
       "      <td>16</td>\n",
       "      <td>2</td>\n",
       "    </tr>\n",
       "    <tr>\n",
       "      <th>1233</th>\n",
       "      <td>2014-06-15</td>\n",
       "      <td>11420</td>\n",
       "      <td>Sunday</td>\n",
       "      <td>2</td>\n",
       "      <td>6</td>\n",
       "      <td>2014</td>\n",
       "      <td>d_1234</td>\n",
       "      <td>NBAFinalsEnd</td>\n",
       "      <td>Sporting</td>\n",
       "      <td>Father's day</td>\n",
       "      <td>Cultural</td>\n",
       "      <td>0</td>\n",
       "      <td>1</td>\n",
       "      <td>1</td>\n",
       "      <td>1234</td>\n",
       "      <td>1</td>\n",
       "      <td>6</td>\n",
       "      <td>24</td>\n",
       "      <td>2</td>\n",
       "    </tr>\n",
       "    <tr>\n",
       "      <th>1968</th>\n",
       "      <td>2016-06-19</td>\n",
       "      <td>11621</td>\n",
       "      <td>Sunday</td>\n",
       "      <td>2</td>\n",
       "      <td>6</td>\n",
       "      <td>2016</td>\n",
       "      <td>d_1969</td>\n",
       "      <td>NBAFinalsEnd</td>\n",
       "      <td>Sporting</td>\n",
       "      <td>Father's day</td>\n",
       "      <td>Cultural</td>\n",
       "      <td>0</td>\n",
       "      <td>0</td>\n",
       "      <td>0</td>\n",
       "      <td>1969</td>\n",
       "      <td>1</td>\n",
       "      <td>6</td>\n",
       "      <td>24</td>\n",
       "      <td>2</td>\n",
       "    </tr>\n",
       "  </tbody>\n",
       "</table>\n",
       "</div>"
      ],
      "text/plain": [
       "           date  wm_yr_wk weekday  wday  month  year       d    event_name_1  \\\n",
       "85   2011-04-24     11113  Sunday     2      4  2011    d_86  OrthodoxEaster   \n",
       "827  2013-05-05     11315  Sunday     2      5  2013   d_828  OrthodoxEaster   \n",
       "1177 2014-04-20     11412  Sunday     2      4  2014  d_1178          Easter   \n",
       "1233 2014-06-15     11420  Sunday     2      6  2014  d_1234    NBAFinalsEnd   \n",
       "1968 2016-06-19     11621  Sunday     2      6  2016  d_1969    NBAFinalsEnd   \n",
       "\n",
       "     event_type_1    event_name_2 event_type_2  snap_CA  snap_TX  snap_WI  \\\n",
       "85      Religious          Easter     Cultural        0        0        0   \n",
       "827     Religious   Cinco De Mayo     Cultural        1        1        1   \n",
       "1177     Cultural  OrthodoxEaster    Religious        0        0        0   \n",
       "1233     Sporting    Father's day     Cultural        0        1        1   \n",
       "1968     Sporting    Father's day     Cultural        0        0        0   \n",
       "\n",
       "       day  is_weekend  month_day  week_number  events_per_day  \n",
       "85      86           1          4           16               2  \n",
       "827    828           1          5           18               2  \n",
       "1177  1178           1          4           16               2  \n",
       "1233  1234           1          6           24               2  \n",
       "1968  1969           1          6           24               2  "
      ]
     },
     "execution_count": 324,
     "metadata": {},
     "output_type": "execute_result"
    }
   ],
   "source": [
    "df_calender.loc[(df_calender['event_type_2'] !='No_Event') & (df_calender['event_type_1'] !='No_Event')]\n"
   ]
  },
  {
   "cell_type": "code",
   "execution_count": 325,
   "id": "60033092-6d13-48ac-b360-efbe65fc933b",
   "metadata": {
    "tags": []
   },
   "outputs": [],
   "source": [
    "\n",
    "# df_calender.loc[:, 'day'] = df_calender.loc[:,'d'].str.split(\"_\",1).map(lambda x: x[1])"
   ]
  },
  {
   "cell_type": "code",
   "execution_count": 326,
   "id": "e0ec9e23-2649-46fd-9bce-9e3e437d197e",
   "metadata": {
    "tags": []
   },
   "outputs": [
    {
     "data": {
      "text/html": [
       "<div>\n",
       "<style scoped>\n",
       "    .dataframe tbody tr th:only-of-type {\n",
       "        vertical-align: middle;\n",
       "    }\n",
       "\n",
       "    .dataframe tbody tr th {\n",
       "        vertical-align: top;\n",
       "    }\n",
       "\n",
       "    .dataframe thead th {\n",
       "        text-align: right;\n",
       "    }\n",
       "</style>\n",
       "<table border=\"1\" class=\"dataframe\">\n",
       "  <thead>\n",
       "    <tr style=\"text-align: right;\">\n",
       "      <th></th>\n",
       "      <th>date</th>\n",
       "      <th>wm_yr_wk</th>\n",
       "      <th>weekday</th>\n",
       "      <th>wday</th>\n",
       "      <th>month</th>\n",
       "      <th>year</th>\n",
       "      <th>d</th>\n",
       "      <th>event_name_1</th>\n",
       "      <th>event_type_1</th>\n",
       "      <th>event_name_2</th>\n",
       "      <th>event_type_2</th>\n",
       "      <th>snap_CA</th>\n",
       "      <th>snap_TX</th>\n",
       "      <th>snap_WI</th>\n",
       "      <th>day</th>\n",
       "      <th>is_weekend</th>\n",
       "      <th>month_day</th>\n",
       "      <th>week_number</th>\n",
       "      <th>events_per_day</th>\n",
       "    </tr>\n",
       "  </thead>\n",
       "  <tbody>\n",
       "    <tr>\n",
       "      <th>1964</th>\n",
       "      <td>2016-06-15</td>\n",
       "      <td>11620</td>\n",
       "      <td>Wednesday</td>\n",
       "      <td>5</td>\n",
       "      <td>6</td>\n",
       "      <td>2016</td>\n",
       "      <td>d_1965</td>\n",
       "      <td>No_Event</td>\n",
       "      <td>No_Event</td>\n",
       "      <td>No_Event</td>\n",
       "      <td>No_Event</td>\n",
       "      <td>0</td>\n",
       "      <td>1</td>\n",
       "      <td>1</td>\n",
       "      <td>1965</td>\n",
       "      <td>0</td>\n",
       "      <td>6</td>\n",
       "      <td>24</td>\n",
       "      <td>0</td>\n",
       "    </tr>\n",
       "    <tr>\n",
       "      <th>1965</th>\n",
       "      <td>2016-06-16</td>\n",
       "      <td>11620</td>\n",
       "      <td>Thursday</td>\n",
       "      <td>6</td>\n",
       "      <td>6</td>\n",
       "      <td>2016</td>\n",
       "      <td>d_1966</td>\n",
       "      <td>No_Event</td>\n",
       "      <td>No_Event</td>\n",
       "      <td>No_Event</td>\n",
       "      <td>No_Event</td>\n",
       "      <td>0</td>\n",
       "      <td>0</td>\n",
       "      <td>0</td>\n",
       "      <td>1966</td>\n",
       "      <td>0</td>\n",
       "      <td>6</td>\n",
       "      <td>24</td>\n",
       "      <td>0</td>\n",
       "    </tr>\n",
       "    <tr>\n",
       "      <th>1966</th>\n",
       "      <td>2016-06-17</td>\n",
       "      <td>11620</td>\n",
       "      <td>Friday</td>\n",
       "      <td>7</td>\n",
       "      <td>6</td>\n",
       "      <td>2016</td>\n",
       "      <td>d_1967</td>\n",
       "      <td>No_Event</td>\n",
       "      <td>No_Event</td>\n",
       "      <td>No_Event</td>\n",
       "      <td>No_Event</td>\n",
       "      <td>0</td>\n",
       "      <td>0</td>\n",
       "      <td>0</td>\n",
       "      <td>1967</td>\n",
       "      <td>0</td>\n",
       "      <td>6</td>\n",
       "      <td>24</td>\n",
       "      <td>0</td>\n",
       "    </tr>\n",
       "    <tr>\n",
       "      <th>1967</th>\n",
       "      <td>2016-06-18</td>\n",
       "      <td>11621</td>\n",
       "      <td>Saturday</td>\n",
       "      <td>1</td>\n",
       "      <td>6</td>\n",
       "      <td>2016</td>\n",
       "      <td>d_1968</td>\n",
       "      <td>No_Event</td>\n",
       "      <td>No_Event</td>\n",
       "      <td>No_Event</td>\n",
       "      <td>No_Event</td>\n",
       "      <td>0</td>\n",
       "      <td>0</td>\n",
       "      <td>0</td>\n",
       "      <td>1968</td>\n",
       "      <td>1</td>\n",
       "      <td>6</td>\n",
       "      <td>24</td>\n",
       "      <td>0</td>\n",
       "    </tr>\n",
       "    <tr>\n",
       "      <th>1968</th>\n",
       "      <td>2016-06-19</td>\n",
       "      <td>11621</td>\n",
       "      <td>Sunday</td>\n",
       "      <td>2</td>\n",
       "      <td>6</td>\n",
       "      <td>2016</td>\n",
       "      <td>d_1969</td>\n",
       "      <td>NBAFinalsEnd</td>\n",
       "      <td>Sporting</td>\n",
       "      <td>Father's day</td>\n",
       "      <td>Cultural</td>\n",
       "      <td>0</td>\n",
       "      <td>0</td>\n",
       "      <td>0</td>\n",
       "      <td>1969</td>\n",
       "      <td>1</td>\n",
       "      <td>6</td>\n",
       "      <td>24</td>\n",
       "      <td>2</td>\n",
       "    </tr>\n",
       "  </tbody>\n",
       "</table>\n",
       "</div>"
      ],
      "text/plain": [
       "           date  wm_yr_wk    weekday  wday  month  year       d  event_name_1  \\\n",
       "1964 2016-06-15     11620  Wednesday     5      6  2016  d_1965      No_Event   \n",
       "1965 2016-06-16     11620   Thursday     6      6  2016  d_1966      No_Event   \n",
       "1966 2016-06-17     11620     Friday     7      6  2016  d_1967      No_Event   \n",
       "1967 2016-06-18     11621   Saturday     1      6  2016  d_1968      No_Event   \n",
       "1968 2016-06-19     11621     Sunday     2      6  2016  d_1969  NBAFinalsEnd   \n",
       "\n",
       "     event_type_1  event_name_2 event_type_2  snap_CA  snap_TX  snap_WI   day  \\\n",
       "1964     No_Event      No_Event     No_Event        0        1        1  1965   \n",
       "1965     No_Event      No_Event     No_Event        0        0        0  1966   \n",
       "1966     No_Event      No_Event     No_Event        0        0        0  1967   \n",
       "1967     No_Event      No_Event     No_Event        0        0        0  1968   \n",
       "1968     Sporting  Father's day     Cultural        0        0        0  1969   \n",
       "\n",
       "      is_weekend  month_day  week_number  events_per_day  \n",
       "1964           0          6           24               0  \n",
       "1965           0          6           24               0  \n",
       "1966           0          6           24               0  \n",
       "1967           1          6           24               0  \n",
       "1968           1          6           24               2  "
      ]
     },
     "execution_count": 326,
     "metadata": {},
     "output_type": "execute_result"
    }
   ],
   "source": [
    "df_calender.tail()"
   ]
  },
  {
   "cell_type": "code",
   "execution_count": 327,
   "id": "00dd6d69-4b7b-4e10-a390-5da8bf19be5b",
   "metadata": {
    "tags": []
   },
   "outputs": [],
   "source": [
    "df_calender.to_csv('new_df_calender.csv')"
   ]
  },
  {
   "cell_type": "code",
   "execution_count": 328,
   "id": "5ee05cdb-20fe-49c2-9900-d53e648d4109",
   "metadata": {
    "tags": []
   },
   "outputs": [
    {
     "data": {
      "text/html": [
       "<div>\n",
       "<style scoped>\n",
       "    .dataframe tbody tr th:only-of-type {\n",
       "        vertical-align: middle;\n",
       "    }\n",
       "\n",
       "    .dataframe tbody tr th {\n",
       "        vertical-align: top;\n",
       "    }\n",
       "\n",
       "    .dataframe thead th {\n",
       "        text-align: right;\n",
       "    }\n",
       "</style>\n",
       "<table border=\"1\" class=\"dataframe\">\n",
       "  <thead>\n",
       "    <tr style=\"text-align: right;\">\n",
       "      <th></th>\n",
       "      <th>store_id</th>\n",
       "      <th>item_id</th>\n",
       "      <th>wm_yr_wk</th>\n",
       "      <th>sell_price</th>\n",
       "    </tr>\n",
       "  </thead>\n",
       "  <tbody>\n",
       "  </tbody>\n",
       "</table>\n",
       "</div>"
      ],
      "text/plain": [
       "Empty DataFrame\n",
       "Columns: [store_id, item_id, wm_yr_wk, sell_price]\n",
       "Index: []"
      ]
     },
     "execution_count": 328,
     "metadata": {},
     "output_type": "execute_result"
    }
   ],
   "source": [
    "df_sell_price_original.loc[df_sell_price_original['sell_price'] ==0]"
   ]
  },
  {
   "cell_type": "code",
   "execution_count": 337,
   "id": "36dd2095-f42a-414c-9e85-6cb70974a005",
   "metadata": {
    "tags": []
   },
   "outputs": [],
   "source": [
    "final_df=pd.melt(df_evaluation,id_vars=['id','item_id','dept_id','cat_id','store_id','state_id'],var_name='d',value_name='sell_quantity')\n",
    "final_df=pd.merge(final_df,df_calender,on='d',how='left')\n",
    "final_df=pd.merge(final_df,df_sell_price_original, on=['item_id','store_id','wm_yr_wk'], how='left')\n",
    "# final_df['day'] = final_df['d'].str.split(\"_\").str[1]\n",
    "# final_df['day'] = final_df['day'].astype('int16')"
   ]
  },
  {
   "cell_type": "code",
   "execution_count": 338,
   "id": "84b541b7-71e8-451e-b623-5f99a7d8d96c",
   "metadata": {
    "tags": []
   },
   "outputs": [],
   "source": [
    "# final_df = final_df.drop('d', axis = 1)"
   ]
  },
  {
   "cell_type": "code",
   "execution_count": 339,
   "id": "17a249c0-83ba-4d8e-8d5b-91bb19af558b",
   "metadata": {},
   "outputs": [],
   "source": [
    "# sales=pd.merge(sales,df_calender,on='d',how='left')\n",
    "# sales=pd.merge(sales,df_sell_price_original,on=['item_id','store_id','wm_yr_wk'],how='left')\n",
    "# sales['day'] = sales['d'].str.split(\"_\").str[1]\n",
    "# sales['day'] = sales['day'].astype('int16')"
   ]
  },
  {
   "cell_type": "code",
   "execution_count": 340,
   "id": "dea0d99f-2685-420b-8668-90c514a2c5f4",
   "metadata": {},
   "outputs": [],
   "source": [
    "#Melting\n",
    "# sales=pd.melt(df_evaluation, id_vars=['id','item_id','dept_id','cat_id','store_id','state_id'], var_name='d', value_name='Sold_Quantity')\n",
    "# sales=pd.merge(sales,df_calender,on='d',how='left')\n",
    "# sales=pd.merge(sales,df_sell_price_original,on=['item_id','store_id','wm_yr_wk'],how='left')\n",
    "# sales['day'] = sales['d'].str.split(\"_\").str[1]\n",
    "# sales['day'] = sales['day'].astype('int16')\n",
    "# # #Since we got many rows with 'NaN' values in Sell Price.Thus replacing 'NaN\" in 'sell_price' feature with the mean value\n",
    "# sales['sell_price']=sales['sell_price'].fillna(sales.groupby('id')['sell_price'].transform('mean'))"
   ]
  },
  {
   "cell_type": "code",
   "execution_count": 341,
   "id": "4d13c3f2-42f7-437e-bc2a-55081c4298b6",
   "metadata": {},
   "outputs": [
    {
     "data": {
      "text/plain": [
       "id                       0\n",
       "item_id                  0\n",
       "dept_id                  0\n",
       "cat_id                   0\n",
       "store_id                 0\n",
       "state_id                 0\n",
       "d                        0\n",
       "sell_quantity            0\n",
       "date                     0\n",
       "wm_yr_wk                 0\n",
       "weekday                  0\n",
       "wday                     0\n",
       "month                    0\n",
       "year                     0\n",
       "event_name_1             0\n",
       "event_type_1             0\n",
       "event_name_2             0\n",
       "event_type_2             0\n",
       "snap_CA                  0\n",
       "snap_TX                  0\n",
       "snap_WI                  0\n",
       "day                      0\n",
       "is_weekend               0\n",
       "month_day                0\n",
       "week_number              0\n",
       "events_per_day           0\n",
       "sell_price        12299413\n",
       "dtype: int64"
      ]
     },
     "execution_count": 341,
     "metadata": {},
     "output_type": "execute_result"
    }
   ],
   "source": [
    "final_df.isna().sum()"
   ]
  },
  {
   "cell_type": "code",
   "execution_count": 342,
   "id": "5c76f659-8dd2-437c-84f4-1aea2a52c3b1",
   "metadata": {},
   "outputs": [
    {
     "data": {
      "text/plain": [
       "(59181090, 27)"
      ]
     },
     "execution_count": 342,
     "metadata": {},
     "output_type": "execute_result"
    }
   ],
   "source": [
    "final_df.shape"
   ]
  },
  {
   "cell_type": "code",
   "execution_count": 350,
   "id": "b74db3a6-06e3-45b4-ae01-3adddc528778",
   "metadata": {
    "tags": []
   },
   "outputs": [],
   "source": [
    "final_df=final_df.dropna()"
   ]
  },
  {
   "cell_type": "code",
   "execution_count": 351,
   "id": "991a1277-7951-4745-b988-5686e2b166c4",
   "metadata": {},
   "outputs": [
    {
     "data": {
      "text/plain": [
       "(46881677, 27)"
      ]
     },
     "execution_count": 351,
     "metadata": {},
     "output_type": "execute_result"
    }
   ],
   "source": [
    "final_df.shape"
   ]
  },
  {
   "cell_type": "code",
   "execution_count": 352,
   "id": "ffd7267a-7b5a-48db-8e82-ee2f427b7293",
   "metadata": {},
   "outputs": [
    {
     "data": {
      "text/plain": [
       "id                0\n",
       "item_id           0\n",
       "dept_id           0\n",
       "cat_id            0\n",
       "store_id          0\n",
       "state_id          0\n",
       "d                 0\n",
       "sell_quantity     0\n",
       "date              0\n",
       "wm_yr_wk          0\n",
       "weekday           0\n",
       "wday              0\n",
       "month             0\n",
       "year              0\n",
       "event_name_1      0\n",
       "event_type_1      0\n",
       "event_name_2      0\n",
       "event_type_2      0\n",
       "snap_CA           0\n",
       "snap_TX           0\n",
       "snap_WI           0\n",
       "day               0\n",
       "is_weekend        0\n",
       "month_day         0\n",
       "week_number       0\n",
       "events_per_day    0\n",
       "sell_price        0\n",
       "dtype: int64"
      ]
     },
     "execution_count": 352,
     "metadata": {},
     "output_type": "execute_result"
    }
   ],
   "source": [
    "final_df.isna().sum()"
   ]
  },
  {
   "cell_type": "code",
   "execution_count": 353,
   "id": "1d2f9bbb-3de6-4ebb-add3-c63057d12d53",
   "metadata": {},
   "outputs": [
    {
     "name": "stderr",
     "output_type": "stream",
     "text": [
      "/opt/anaconda3/lib/python3.8/site-packages/pandas/core/indexing.py:1597: SettingWithCopyWarning: \n",
      "A value is trying to be set on a copy of a slice from a DataFrame.\n",
      "Try using .loc[row_indexer,col_indexer] = value instead\n",
      "\n",
      "See the caveats in the documentation: https://pandas.pydata.org/pandas-docs/stable/user_guide/indexing.html#returning-a-view-versus-a-copy\n",
      "  self.obj[key] = value\n",
      "/opt/anaconda3/lib/python3.8/site-packages/pandas/core/indexing.py:1676: SettingWithCopyWarning: \n",
      "A value is trying to be set on a copy of a slice from a DataFrame.\n",
      "Try using .loc[row_indexer,col_indexer] = value instead\n",
      "\n",
      "See the caveats in the documentation: https://pandas.pydata.org/pandas-docs/stable/user_guide/indexing.html#returning-a-view-versus-a-copy\n",
      "  self._setitem_single_column(ilocs[0], value, pi)\n"
     ]
    }
   ],
   "source": [
    "final_df.loc[:, 'daily_sell'] = final_df.loc[:,'sell_price'] * final_df.loc[:,'sell_quantity']"
   ]
  },
  {
   "cell_type": "code",
   "execution_count": 354,
   "id": "9ff1b603-2c6d-46a3-9812-ec2ca1977aab",
   "metadata": {},
   "outputs": [
    {
     "data": {
      "text/html": [
       "<div>\n",
       "<style scoped>\n",
       "    .dataframe tbody tr th:only-of-type {\n",
       "        vertical-align: middle;\n",
       "    }\n",
       "\n",
       "    .dataframe tbody tr th {\n",
       "        vertical-align: top;\n",
       "    }\n",
       "\n",
       "    .dataframe thead th {\n",
       "        text-align: right;\n",
       "    }\n",
       "</style>\n",
       "<table border=\"1\" class=\"dataframe\">\n",
       "  <thead>\n",
       "    <tr style=\"text-align: right;\">\n",
       "      <th></th>\n",
       "      <th>id</th>\n",
       "      <th>item_id</th>\n",
       "      <th>dept_id</th>\n",
       "      <th>cat_id</th>\n",
       "      <th>store_id</th>\n",
       "      <th>state_id</th>\n",
       "      <th>d</th>\n",
       "      <th>sell_quantity</th>\n",
       "      <th>date</th>\n",
       "      <th>wm_yr_wk</th>\n",
       "      <th>...</th>\n",
       "      <th>snap_CA</th>\n",
       "      <th>snap_TX</th>\n",
       "      <th>snap_WI</th>\n",
       "      <th>day</th>\n",
       "      <th>is_weekend</th>\n",
       "      <th>month_day</th>\n",
       "      <th>week_number</th>\n",
       "      <th>events_per_day</th>\n",
       "      <th>sell_price</th>\n",
       "      <th>daily_sell</th>\n",
       "    </tr>\n",
       "  </thead>\n",
       "  <tbody>\n",
       "    <tr>\n",
       "      <th>59181085</th>\n",
       "      <td>FOODS_3_823_WI_3_evaluation</td>\n",
       "      <td>FOODS_3_823</td>\n",
       "      <td>FOODS_3</td>\n",
       "      <td>FOODS</td>\n",
       "      <td>WI_3</td>\n",
       "      <td>WI</td>\n",
       "      <td>d_1941</td>\n",
       "      <td>1</td>\n",
       "      <td>2016-05-22</td>\n",
       "      <td>11617</td>\n",
       "      <td>...</td>\n",
       "      <td>0</td>\n",
       "      <td>0</td>\n",
       "      <td>0</td>\n",
       "      <td>1941</td>\n",
       "      <td>1</td>\n",
       "      <td>5</td>\n",
       "      <td>20</td>\n",
       "      <td>0</td>\n",
       "      <td>2.98</td>\n",
       "      <td>2.98</td>\n",
       "    </tr>\n",
       "    <tr>\n",
       "      <th>59181086</th>\n",
       "      <td>FOODS_3_824_WI_3_evaluation</td>\n",
       "      <td>FOODS_3_824</td>\n",
       "      <td>FOODS_3</td>\n",
       "      <td>FOODS</td>\n",
       "      <td>WI_3</td>\n",
       "      <td>WI</td>\n",
       "      <td>d_1941</td>\n",
       "      <td>0</td>\n",
       "      <td>2016-05-22</td>\n",
       "      <td>11617</td>\n",
       "      <td>...</td>\n",
       "      <td>0</td>\n",
       "      <td>0</td>\n",
       "      <td>0</td>\n",
       "      <td>1941</td>\n",
       "      <td>1</td>\n",
       "      <td>5</td>\n",
       "      <td>20</td>\n",
       "      <td>0</td>\n",
       "      <td>2.48</td>\n",
       "      <td>0.00</td>\n",
       "    </tr>\n",
       "    <tr>\n",
       "      <th>59181087</th>\n",
       "      <td>FOODS_3_825_WI_3_evaluation</td>\n",
       "      <td>FOODS_3_825</td>\n",
       "      <td>FOODS_3</td>\n",
       "      <td>FOODS</td>\n",
       "      <td>WI_3</td>\n",
       "      <td>WI</td>\n",
       "      <td>d_1941</td>\n",
       "      <td>2</td>\n",
       "      <td>2016-05-22</td>\n",
       "      <td>11617</td>\n",
       "      <td>...</td>\n",
       "      <td>0</td>\n",
       "      <td>0</td>\n",
       "      <td>0</td>\n",
       "      <td>1941</td>\n",
       "      <td>1</td>\n",
       "      <td>5</td>\n",
       "      <td>20</td>\n",
       "      <td>0</td>\n",
       "      <td>3.98</td>\n",
       "      <td>7.96</td>\n",
       "    </tr>\n",
       "    <tr>\n",
       "      <th>59181088</th>\n",
       "      <td>FOODS_3_826_WI_3_evaluation</td>\n",
       "      <td>FOODS_3_826</td>\n",
       "      <td>FOODS_3</td>\n",
       "      <td>FOODS</td>\n",
       "      <td>WI_3</td>\n",
       "      <td>WI</td>\n",
       "      <td>d_1941</td>\n",
       "      <td>0</td>\n",
       "      <td>2016-05-22</td>\n",
       "      <td>11617</td>\n",
       "      <td>...</td>\n",
       "      <td>0</td>\n",
       "      <td>0</td>\n",
       "      <td>0</td>\n",
       "      <td>1941</td>\n",
       "      <td>1</td>\n",
       "      <td>5</td>\n",
       "      <td>20</td>\n",
       "      <td>0</td>\n",
       "      <td>1.28</td>\n",
       "      <td>0.00</td>\n",
       "    </tr>\n",
       "    <tr>\n",
       "      <th>59181089</th>\n",
       "      <td>FOODS_3_827_WI_3_evaluation</td>\n",
       "      <td>FOODS_3_827</td>\n",
       "      <td>FOODS_3</td>\n",
       "      <td>FOODS</td>\n",
       "      <td>WI_3</td>\n",
       "      <td>WI</td>\n",
       "      <td>d_1941</td>\n",
       "      <td>1</td>\n",
       "      <td>2016-05-22</td>\n",
       "      <td>11617</td>\n",
       "      <td>...</td>\n",
       "      <td>0</td>\n",
       "      <td>0</td>\n",
       "      <td>0</td>\n",
       "      <td>1941</td>\n",
       "      <td>1</td>\n",
       "      <td>5</td>\n",
       "      <td>20</td>\n",
       "      <td>0</td>\n",
       "      <td>1.00</td>\n",
       "      <td>1.00</td>\n",
       "    </tr>\n",
       "  </tbody>\n",
       "</table>\n",
       "<p>5 rows × 28 columns</p>\n",
       "</div>"
      ],
      "text/plain": [
       "                                   id      item_id  dept_id cat_id store_id  \\\n",
       "59181085  FOODS_3_823_WI_3_evaluation  FOODS_3_823  FOODS_3  FOODS     WI_3   \n",
       "59181086  FOODS_3_824_WI_3_evaluation  FOODS_3_824  FOODS_3  FOODS     WI_3   \n",
       "59181087  FOODS_3_825_WI_3_evaluation  FOODS_3_825  FOODS_3  FOODS     WI_3   \n",
       "59181088  FOODS_3_826_WI_3_evaluation  FOODS_3_826  FOODS_3  FOODS     WI_3   \n",
       "59181089  FOODS_3_827_WI_3_evaluation  FOODS_3_827  FOODS_3  FOODS     WI_3   \n",
       "\n",
       "         state_id       d  sell_quantity       date  wm_yr_wk  ... snap_CA  \\\n",
       "59181085       WI  d_1941              1 2016-05-22     11617  ...       0   \n",
       "59181086       WI  d_1941              0 2016-05-22     11617  ...       0   \n",
       "59181087       WI  d_1941              2 2016-05-22     11617  ...       0   \n",
       "59181088       WI  d_1941              0 2016-05-22     11617  ...       0   \n",
       "59181089       WI  d_1941              1 2016-05-22     11617  ...       0   \n",
       "\n",
       "          snap_TX  snap_WI   day is_weekend month_day week_number  \\\n",
       "59181085        0        0  1941          1         5          20   \n",
       "59181086        0        0  1941          1         5          20   \n",
       "59181087        0        0  1941          1         5          20   \n",
       "59181088        0        0  1941          1         5          20   \n",
       "59181089        0        0  1941          1         5          20   \n",
       "\n",
       "         events_per_day  sell_price  daily_sell  \n",
       "59181085              0        2.98        2.98  \n",
       "59181086              0        2.48        0.00  \n",
       "59181087              0        3.98        7.96  \n",
       "59181088              0        1.28        0.00  \n",
       "59181089              0        1.00        1.00  \n",
       "\n",
       "[5 rows x 28 columns]"
      ]
     },
     "execution_count": 354,
     "metadata": {},
     "output_type": "execute_result"
    }
   ],
   "source": [
    "final_df.tail()"
   ]
  },
  {
   "cell_type": "code",
   "execution_count": 355,
   "id": "8746ef9c-846d-4cfa-b0c6-b553a83aa9e2",
   "metadata": {
    "tags": []
   },
   "outputs": [],
   "source": [
    "def evaluating_item(product_table, product_name):\n",
    "\n",
    "    #LCreating ags to the evaluating table\n",
    "    lags = [1,2,3,7,14,21,28,35]\n",
    "    added_column = []\n",
    "    for i in lags:\n",
    "        product_table['lag_' + str(i)]=product_table[product_name].shift(i)\n",
    "        added_column.append('lag_' + str(i))\n",
    "\n",
    "    #Rolling-Median\n",
    "    window=[7,14,28,35,42]\n",
    "    for i in window:\n",
    "        product_table['rolling_median_'+str(i)]=product_table[product_name].transform(lambda s: s.rolling(i,center=False).median())\n",
    "        added_column.append('rolling_median_'+str(i))\n",
    "\n",
    "    #Rolling-std\n",
    "    window=[7,14,28,35,42]\n",
    "    for i in window:\n",
    "        product_table['rolling_std_'+str(i)]=product_table[product_name].transform(lambda s: s.rolling(i,center=False).std())\n",
    "        added_column.append('rolling_std_'+str(i))\n",
    "        \n",
    "    #Replacing 'NaN' values for lag and rolling_ mean columns data with zero\n",
    "    for i in added_column:\n",
    "        product_table[i]=product_table[i].fillna(0)"
   ]
  },
  {
   "cell_type": "code",
   "execution_count": null,
   "id": "d749cdb6-ed47-4de1-a5a0-42875602c40f",
   "metadata": {
    "tags": []
   },
   "outputs": [],
   "source": []
  },
  {
   "cell_type": "code",
   "execution_count": 356,
   "id": "d2f66739-02c9-4f86-af9f-a471f36a85d9",
   "metadata": {
    "tags": []
   },
   "outputs": [
    {
     "name": "stdout",
     "output_type": "stream",
     "text": [
      "Window Size: 7    RMSE: 3.280235123506178\n",
      "--------------------------------------------------\n",
      "Window Size: 8    RMSE: 3.301026136008003\n",
      "--------------------------------------------------\n",
      "Window Size: 9    RMSE: 3.328544705207132\n",
      "--------------------------------------------------\n",
      "Window Size: 10    RMSE: 3.3485950363715724\n",
      "--------------------------------------------------\n",
      "Window Size: 11    RMSE: 3.3628552655047703\n",
      "--------------------------------------------------\n",
      "Window Size: 12    RMSE: 3.370964981143076\n",
      "--------------------------------------------------\n",
      "Window Size: 13    RMSE: 3.3817279843568473\n",
      "--------------------------------------------------\n",
      "Window Size: 14    RMSE: 3.3892326310637357\n",
      "--------------------------------------------------\n",
      "Window Size: 15    RMSE: 3.3967490327400633\n",
      "--------------------------------------------------\n",
      "Window Size: 16    RMSE: 3.407410092794203\n",
      "--------------------------------------------------\n",
      "Window Size: 17    RMSE: 3.412888721326473\n",
      "--------------------------------------------------\n",
      "Window Size: 18    RMSE: 3.421096290892411\n",
      "--------------------------------------------------\n",
      "Window Size: 19    RMSE: 3.4276498256115344\n",
      "--------------------------------------------------\n",
      "Window Size: 20    RMSE: 3.4293360255059326\n",
      "--------------------------------------------------\n"
     ]
    }
   ],
   "source": [
    "#Data splitting\n",
    "train=final_df.loc[final_df['day']<1914]\n",
    "test=final_df.loc[final_df['day']>=1914]\n",
    "\n",
    "def moving_avg(data,window_size):\n",
    "    values=pd.Series(data)\n",
    "    windows=values.rolling(window_size)\n",
    "    moving_averages=windows.mean()\n",
    "  #No. of NaN values will be equal to window_size we take .Thats why I replaced 'NaN' with '0'\n",
    "    moving_averages=moving_averages.fillna(0) \n",
    "    moving_averages=moving_averages.tolist()\n",
    "    print(\"Window Size:\",window_size,\"  \",\"RMSE:\",rmse(values,moving_averages))\n",
    "    print(\"-\"*50)\n",
    "    return moving_averages\n",
    "\n",
    "\n",
    "for i in range(7,21):\n",
    "    y_hat=moving_avg(test['sell_quantity'].tolist(),i)\n"
   ]
  },
  {
   "cell_type": "code",
   "execution_count": null,
   "id": "fbbad15c-f3e2-4e6c-b452-e3971bc4fe1b",
   "metadata": {},
   "outputs": [],
   "source": []
  },
  {
   "cell_type": "code",
   "execution_count": null,
   "id": "f4f5beda-a5d9-4e68-9c36-9ed327a3b93b",
   "metadata": {
    "tags": []
   },
   "outputs": [],
   "source": [
    "df_sell_price_original.info()"
   ]
  },
  {
   "cell_type": "code",
   "execution_count": null,
   "id": "bedf7ff9-7060-427a-9079-63c849958b26",
   "metadata": {
    "tags": []
   },
   "outputs": [],
   "source": [
    "final_df.columns"
   ]
  },
  {
   "cell_type": "code",
   "execution_count": 103,
   "id": "9f90b972-a83a-4f19-89ef-d58b5453cad2",
   "metadata": {
    "tags": []
   },
   "outputs": [],
   "source": [
    "added_column = []\n",
    "\n",
    "#Lags\n",
    "lags = [1,2,3,6,12,24,36]\n",
    "for i in lags:\n",
    "    final_df['lag_'+str(i)]=final_df.groupby(['id'])['daily_sell'].shift(i)\n",
    "    added_column.append('lag_' + str(i))\n",
    "\n",
    "#Rolling-Mean\n",
    "window=[7,14,28,35,42]\n",
    "for i in window:\n",
    "    final_df['rolling_median_'+str(i)]=final_df.groupby(['id'])['daily_sell'].transform(lambda s: s.rolling(i,center=False).median())\n",
    "        added_column.append('rolling_median_'+str(i))\n",
    "\n",
    "#Rolling-std\n",
    "window=[7,14,28,35,42]\n",
    "for i in window:\n",
    "    product_table['rolling_std_'+str(i)]=product_table[product_name].transform(lambda s: s.rolling(i,center=False).std())\n",
    "    added_column.append('rolling_std_'+str(i))\n",
    "\n",
    "#Replacing 'NaN' values for lag and rolling_ mean columns data with zero\n",
    "for i in added_column:\n",
    "    final_df[i]=final_df[i].fillna(0)"
   ]
  },
  {
   "cell_type": "code",
   "execution_count": 367,
   "id": "02fa3654-03e8-4494-ae4c-8c06f6f2713c",
   "metadata": {
    "tags": []
   },
   "outputs": [],
   "source": [
    "test = final_df.groupby(['id'])['daily_sell']"
   ]
  },
  {
   "cell_type": "code",
   "execution_count": 369,
   "id": "30804f48-54a3-4a50-9e8e-7ef3b74cfb7d",
   "metadata": {},
   "outputs": [
    {
     "data": {
      "text/plain": [
       "7            5.52\n",
       "8            3.12\n",
       "9            0.00\n",
       "11           0.00\n",
       "14           2.80\n",
       "            ...  \n",
       "56260984     0.00\n",
       "56262967     0.00\n",
       "56264152    13.94\n",
       "56276336     0.00\n",
       "56279026    13.94\n",
       "Name: daily_sell, Length: 152450, dtype: float64"
      ]
     },
     "execution_count": 369,
     "metadata": {},
     "output_type": "execute_result"
    }
   ],
   "source": [
    "test.head()"
   ]
  },
  {
   "cell_type": "code",
   "execution_count": null,
   "id": "afb4fef6-de02-4951-b109-25429abf147b",
   "metadata": {},
   "outputs": [],
   "source": [
    "#Label-Encoding  \n",
    "labelencoder=LabelEncoder() \n",
    "category=['event_name_1','event_type_1','event_name_2','event_type_2','id','item_id','dept_id','cat_id','store_id','state_id']\n",
    "for i in tqdm(category):\n",
    "    sales[i+'_']=labelencoder.fit_transform(sales[i])\n",
    "\n",
    "#Drop all the categorical columns bcoz we already added coresponding columns with label-encoding  \n",
    "sales=sales.drop(['event_name_1','event_type_1','event_name_2','event_type_2','id','item_id','dept_id','cat_id','store_id','state_id'],axis=1)\n",
    "\n",
    "\n",
    "sales=sales.drop('d',axis=1)"
   ]
  },
  {
   "cell_type": "code",
   "execution_count": null,
   "id": "48794adf-c186-4775-b596-c62f9972a0ae",
   "metadata": {
    "tags": []
   },
   "outputs": [],
   "source": [
    "sales=sales.drop('d',axis=1)"
   ]
  },
  {
   "cell_type": "code",
   "execution_count": null,
   "id": "a7b74faf-814d-48b4-9dab-7ea1c1c55953",
   "metadata": {
    "tags": []
   },
   "outputs": [],
   "source": [
    "sales['id_']"
   ]
  },
  {
   "cell_type": "code",
   "execution_count": null,
   "id": "55b5163a-74ae-48bf-a0af-f40816854de2",
   "metadata": {
    "tags": []
   },
   "outputs": [],
   "source": [
    "sales[['lag_1','sell_price']].loc[sales['id_'] == 14400]"
   ]
  },
  {
   "cell_type": "code",
   "execution_count": null,
   "id": "8b491890-7021-43e4-95ab-12dd24d4eeec",
   "metadata": {
    "tags": []
   },
   "outputs": [],
   "source": [
    "\n",
    "df=sales[sales['day']>1000]\n",
    "\n",
    "l=[]\n",
    "for i in range(1886,1914):\n",
    "    l.append(i)\n",
    "\n",
    "x_train=df.loc[df['day']<=1885]\n",
    "x_valid=df.loc[df['day'].isin(l)]\n",
    "x_test=df.loc[df['day']>=1914]\n",
    "\n",
    "y_train=x_train['demand']\n",
    "y_valid=x_valid['demand']\n",
    "y_test=x_test['demand']\n",
    "\n",
    "x_train=x_train.drop(['demand'],axis=1)\n",
    "x_valid=x_valid.drop(['demand'],axis=1)\n",
    "x_test=x_test.drop(['demand'],axis=1)"
   ]
  },
  {
   "cell_type": "code",
   "execution_count": null,
   "id": "a2ad91a8-c556-427e-a98c-5ce775d6e11a",
   "metadata": {
    "tags": []
   },
   "outputs": [],
   "source": [
    "from sklearn.linear_model import LinearRegression\n",
    "lr=LinearRegression(n_jobs=-1)\n",
    "lr.fit(x_train,y_train)\n",
    "y_pred=lr.predict(x_valid)\n",
    "print(\"Rmse: {}\".format(rmse(y_pred,y_valid)))"
   ]
  },
  {
   "cell_type": "code",
   "execution_count": null,
   "id": "3dc6c3e4-1208-41fd-abaa-cfd2015d2078",
   "metadata": {
    "tags": []
   },
   "outputs": [],
   "source": []
  },
  {
   "cell_type": "code",
   "execution_count": null,
   "id": "584b08cb-2780-4651-9d55-a8c7b07781fe",
   "metadata": {
    "tags": []
   },
   "outputs": [],
   "source": [
    "from sklearn.tree import DecisionTreeRegressor\n",
    "\n",
    "dt=DecisionTreeRegressor()\n",
    "dt.fit(x_train,y_train)\n",
    "y_pred=dt.predict(x_valid)\n",
    "print(\"max_depth: {}\".format(max_depth),\"  min_samples_split: {}\".format(min_samples_split),\n",
    "      \"  min_samples_leaf: {}\".format(min_samples_leaf),\"  Rmse: {}\".format(rmse(y_pred,y_valid)))\n"
   ]
  },
  {
   "cell_type": "code",
   "execution_count": null,
   "id": "c596c896-e700-4a7e-86f7-5113eb8a5848",
   "metadata": {
    "tags": []
   },
   "outputs": [],
   "source": [
    "from lightgbm import LGBMRegressor\n",
    "lgb=LGBMRegressor()\n",
    "lgb.fit(x_train,y_train)\n",
    "y_pred=lgb.predict(x_valid)\n",
    "print(\"learning_rate: {}\".format(learning_rate),\"  max_depth: {}\".format(max_depth),\n",
    "      \"  num_leaves: {}\".format(num_leaves),\"  Rmse: {}\".format(rmse(y_pred,y_valid)))"
   ]
  },
  {
   "cell_type": "code",
   "execution_count": null,
   "id": "1fbc4dc7-7c57-47cb-82a9-758b424bec76",
   "metadata": {},
   "outputs": [],
   "source": []
  },
  {
   "cell_type": "code",
   "execution_count": null,
   "id": "08d8d26e-5b35-4fca-ba59-178cf6bf1095",
   "metadata": {
    "tags": []
   },
   "outputs": [],
   "source": [
    "from datetime import datetime\n",
    "\n",
    "# Assuming date_string is your date in 'YYYY-MM-DD' format\n",
    "date_string = '2024-03-27'\n",
    "\n",
    "# Convert the string to a datetime object\n",
    "dt = datetime.strptime(date_string, '%Y-%m-%d')\n",
    "\n",
    "# Get the week number\n",
    "week_number = dt.day\n",
    "\n",
    "print(week_number)  # Output: The week number of the date\n"
   ]
  },
  {
   "cell_type": "code",
   "execution_count": null,
   "id": "2cf95501-1896-4729-9de6-371a6ed116f0",
   "metadata": {
    "tags": []
   },
   "outputs": [],
   "source": [
    "df_calender.head(10)"
   ]
  },
  {
   "cell_type": "code",
   "execution_count": null,
   "id": "954d4aa8-070d-463b-9897-d286d1c0ee6e",
   "metadata": {
    "tags": []
   },
   "outputs": [],
   "source": [
    "data_Overall_State = data_melt.groupby(['date','state_id'])['Daily_total_number_sales'].sum().to_frame('Total_Sell')\n",
    "data_Overall_State = data_Overall_State.reset_index()\n",
    "data_Overall_Store = data_melt.groupby(['date','store_id'])['Daily_total_number_sales'].sum().to_frame('Total_Sell')\n",
    "data_Overall_Store = data_Overall_Store.reset_index()\n",
    "total_sales_by_store_category = data_melt.groupby(['date','cat_id'])['Daily_total_number_sales'].sum().to_frame('Total_Sell')\n",
    "total_sales_by_store_category = total_sales_by_store_category.reset_index()"
   ]
  },
  {
   "cell_type": "code",
   "execution_count": null,
   "id": "872bebf6-d0af-4bbe-8243-25eb83004570",
   "metadata": {
    "tags": []
   },
   "outputs": [],
   "source": [
    "N_day_in_wm_yr_wk = df_calender.groupby('wm_yr_wk')['date'].count().to_frame('Number of days in wm_yr_wk').reset_index()\n",
    "N_day_in_wm_yr_wk.loc[N_day_in_wm_yr_wk['Number of days in wm_yr_wk'] != 7]"
   ]
  },
  {
   "cell_type": "markdown",
   "id": "f043d453-c61e-48ad-b468-d76cd3fb2058",
   "metadata": {},
   "source": [
    "we can see here that all the week id contain 7 days except last id"
   ]
  },
  {
   "cell_type": "code",
   "execution_count": null,
   "id": "546bd7b9-ca65-497f-9bd5-eaecbd611504",
   "metadata": {
    "tags": []
   },
   "outputs": [],
   "source": [
    "data_melt_weekday_date = data_melt.groupby('date')['Daily_total_number_sales'].sum().to_frame('Total_sell_number_per_day')\n",
    "data_melt_weekday_date = data_melt_weekday_date.merge(df_calender[['date', 'weekday']], on = 'date')"
   ]
  },
  {
   "cell_type": "code",
   "execution_count": null,
   "id": "00657be6-25dc-4a1d-bd70-598124044e2c",
   "metadata": {
    "tags": []
   },
   "outputs": [],
   "source": [
    "weekday = (\"Monday\", \"Tuesday\", \"Wednesday\", \"Thursday\", \"Friday\", \"Saturday\", \"Sunday\")\n",
    "plt.figure(figsize=(30, 8))\n",
    "sns.lineplot(x=\"date\", y=\"Total_sell_number_per_day\",\n",
    "             hue=\"weekday\",\n",
    "             data=data_melt_weekday_date)\n",
    "plt.legend(prop ={'size':18})\n",
    "plt.title(\"Sales quantity pattern comparison by weekday\", fontsize = 30, weight = 'bold')\n",
    "plt.show()"
   ]
  },
  {
   "cell_type": "code",
   "execution_count": null,
   "id": "4b618ed6-aa7f-43ed-b3d5-b4b083744636",
   "metadata": {
    "tags": []
   },
   "outputs": [],
   "source": [
    "plt.figure(figsize=(30, 8))\n",
    "sns.lineplot(x=\"date\", y=\"Total_Sell\",\n",
    "             hue=\"state_id\",\n",
    "             data=data_Overall_State)\n",
    "plt.legend( prop ={'size':18})\n",
    "plt.title(\"Sales quantity pattern of each State\", fontsize = 30, weight = 'bold')\n",
    "plt.show()"
   ]
  },
  {
   "cell_type": "code",
   "execution_count": null,
   "id": "8931880b-cfdb-4743-bc83-97f81cf39f5a",
   "metadata": {},
   "outputs": [],
   "source": [
    "data_Overall_State_year = data_melt.groupby(['year','state_id'])['Daily_total_number_sales'].sum().to_frame('Total_Sell')\n",
    "data_Overall_State_year = data_Overall_State.reset_index()\n",
    "data_Overall_State_year_merge = data_Overall_State_year.merge(df_calender[['date', 'year']].loc[df_calender['date'].dt.day == 1], on = 'year')\n",
    "# data_Overall_State_year = data_Overall_State_year.merge(df_calender.loc[[['id','item_id','dept_id','cat_id','store_id','state_id']], on = 'id')\n",
    "# data_Overall_Store_year = data_melt.groupby(['year','store_id'])['Daily_total_number_sales'].sum().to_frame('Total_Sell')\n",
    "# data_Overall_Store_year = data_Overall_Store.reset_index()\n",
    "# total_sales_by_store_category_year = data_melt.groupby(['year','cat_id'])['Daily_total_number_sales'].sum().to_frame('Total_Sell')\n",
    "# total_sales_by_store_category_year = total_sales_by_store_category.reset_index()"
   ]
  },
  {
   "cell_type": "code",
   "execution_count": null,
   "id": "4ec567ff-5808-4876-89cc-2f85fa4824a8",
   "metadata": {
    "tags": []
   },
   "outputs": [],
   "source": [
    "df_calender.info()"
   ]
  },
  {
   "cell_type": "code",
   "execution_count": null,
   "id": "647338f3-4895-4fde-bc70-c138f8aedabc",
   "metadata": {
    "tags": []
   },
   "outputs": [],
   "source": [
    "data_Overall_State_year = data_melt.groupby(['year','state_id'])['Daily_total_number_sales'].sum().to_frame('Total_Sell')\n",
    "data_Overall_State_year = data_Overall_State.reset_index()\n",
    "data_Overall_Store_year = data_melt.groupby(['year','store_id'])['Daily_total_number_sales'].sum().to_frame('Total_Sell')\n",
    "data_Overall_Store_year = data_Overall_Store.reset_index()\n",
    "total_sales_by_store_category_year = data_melt.groupby(['year','cat_id'])['Daily_total_number_sales'].sum().to_frame('Total_Sell')\n",
    "total_sales_by_store_category_year = total_sales_by_store_category.reset_index()"
   ]
  },
  {
   "cell_type": "code",
   "execution_count": null,
   "id": "484da4e3-4931-4f51-bd4d-a65f08048414",
   "metadata": {},
   "outputs": [],
   "source": [
    "plt.figure(figsize=(30, 8))\n",
    "sns.lineplot(x=\"date\", y=\"Total_Sell\",\n",
    "             hue=\"state_id\",\n",
    "             data=data_Overall_State_year)\n",
    "plt.legend( prop ={'size':18})\n",
    "plt.title(\"Sales quantity pattern of each State\", fontsize = 30, weight = 'bold')\n",
    "plt.show()"
   ]
  },
  {
   "cell_type": "code",
   "execution_count": null,
   "id": "bcccd89b-f59c-4413-8b19-5a36833dc581",
   "metadata": {
    "tags": []
   },
   "outputs": [],
   "source": [
    "plt.figure(figsize=(30, 8))\n",
    "sns.lineplot(x=\"date\", y=\"Total_Sell\",\n",
    "             hue=\"store_id\",\n",
    "             data=data_Overall_Store)\n",
    "plt.legend( prop ={'size':12})\n",
    "plt.title(\"Sales pattern of each store\", fontsize = 30, weight = 'bold')\n",
    "plt.show()"
   ]
  },
  {
   "cell_type": "code",
   "execution_count": null,
   "id": "fbdb8aae-6ad6-48e0-b099-688254999473",
   "metadata": {
    "tags": []
   },
   "outputs": [],
   "source": [
    "plt.figure(figsize=(30, 8))\n",
    "sns.lineplot(x=\"date\", y=\"Total_Sell\",\n",
    "             hue=\"cat_id\",\n",
    "             data=total_sales_by_store_category)\n",
    "plt.legend( prop ={'size':18})\n",
    "plt.title(\"Category Sales Overall\", fontsize = 30, weight = 'bold')\n",
    "plt.show()"
   ]
  },
  {
   "cell_type": "code",
   "execution_count": null,
   "id": "6de50101-4ded-4b82-8f9a-229930a80b10",
   "metadata": {
    "tags": []
   },
   "outputs": [],
   "source": [
    "data_melt_CA = data_melt.loc[data_melt['state_id'] == 'CA'].groupby('date')['Daily_total_number_sales'].sum().to_frame('Total_sell_number_per_day')\n",
    "data_melt_CA = data_melt_CA.merge(df_calender[['date', 'snap_CA']], on = 'date')\n",
    "data_melt_CA['snap_CA'] = data_melt_CA['snap_CA'].replace([0, 1], ['SNAP_not_available', 'SNAP_available'], regex=True )\n",
    "\n",
    "data_melt_WI = data_melt.loc[data_melt['state_id'] == 'WI'].groupby('date')['Daily_total_number_sales'].sum().to_frame('Total_sell_number_per_day')\n",
    "data_melt_WI = data_melt_WI.merge(df_calender[['date', 'snap_WI']], on = 'date')\n",
    "data_melt_WI['snap_WI'] = data_melt_WI['snap_WI'].replace([0, 1], ['SNAP_not_available', 'SNAP_available'], regex=True )\n",
    "\n",
    "data_melt_TX = data_melt.loc[data_melt['state_id'] == 'TX'].groupby('date')['Daily_total_number_sales'].sum().to_frame('Total_sell_number_per_day')\n",
    "data_melt_TX = data_melt_TX.merge(df_calender[['date', 'snap_TX']], on = 'date')\n",
    "data_melt_TX['snap_TX'] = data_melt_TX['snap_TX'].replace([0, 1], ['SNAP_not_available', 'SNAP_available'], regex=True )"
   ]
  },
  {
   "cell_type": "code",
   "execution_count": null,
   "id": "87f10bb0-a1bc-4d33-bba2-0356060d07f0",
   "metadata": {
    "tags": []
   },
   "outputs": [],
   "source": [
    "fig,ax =  plt.subplots(nrows= 3, ncols=1, figsize = ( 20, 12), constrained_layout=True, sharey=True) \n",
    "\n",
    "fig.suptitle('Sales Quantity comparison with SNAP availabilty by each State', fontsize = 30, weight = 'bold')\n",
    "\n",
    "snap_graph_CA = sns.lineplot(x = \"date\", y = \"Total_sell_number_per_day\", hue=\"snap_CA\", data = data_melt_CA, \n",
    "             ax = ax[0]) \n",
    "snap_graph_CA.set_title('California', size = 20, weight = 'bold')\n",
    "snap_graph_WI =sns.lineplot(x = \"date\", y = \"Total_sell_number_per_day\", hue=\"snap_WI\",  data = data_melt_WI, \n",
    "             ax = ax[1]) \n",
    "snap_graph_WI.set_title('Wisconsin', size = 20, weight = 'bold')\n",
    "snap_graph_TX =sns.lineplot(x = \"date\", y = \"Total_sell_number_per_day\", hue=\"snap_TX\", data = data_melt_TX, \n",
    "             ax = ax[2]) \n",
    "snap_graph_TX.set_title('Texas', size = 20, weight = 'bold')"
   ]
  },
  {
   "cell_type": "code",
   "execution_count": null,
   "id": "737f2484-4e97-4d80-812d-516bd9e952cb",
   "metadata": {
    "tags": []
   },
   "outputs": [],
   "source": [
    "data_melt_cat_CA = data_melt.loc[data_melt['state_id'] == 'CA'].groupby(['date','cat_id'])['Daily_total_number_sales'].sum().to_frame('Total_number_sell_per_day').reset_index()\n",
    "data_melt_cat_CA = data_melt_cat_CA.merge(df_calender[['date', 'snap_CA']], on = 'date')\n",
    "data_melt_cat_CA['snap_CA'] = data_melt_cat_CA['snap_CA'].replace([0, 1], ['SNAP_not_available', 'SNAP_available'], regex=True )\n",
    "\n",
    "data_melte_cat_WI = data_melt.loc[data_melt['state_id'] == 'WI'].groupby(['date','cat_id'])['Daily_total_number_sales'].sum().to_frame('Total_number_sell_per_day').reset_index()\n",
    "data_melte_cat_WI = data_melte_cat_WI.merge(df_calender[['date', 'snap_WI']], on = 'date')\n",
    "data_melte_cat_WI['snap_WI'] = data_melte_cat_WI['snap_WI'].replace([0, 1], ['SNAP_not_available', 'SNAP_available'], regex=True )\n",
    "\n",
    "data_melt_cat_TX = data_melt.loc[data_melt['state_id'] == 'TX'].groupby(['date','cat_id'])['Daily_total_number_sales'].sum().to_frame('Total_number_sell_per_day').reset_index()\n",
    "data_melt_cat_TX = data_melt_cat_TX.merge(df_calender[['date', 'snap_TX']], on = 'date')\n",
    "data_melt_cat_TX['snap_TX'] = data_melt_cat_TX['snap_TX'].replace([0, 1], ['SNAP_not_available', 'SNAP_available'], regex=True )"
   ]
  },
  {
   "cell_type": "code",
   "execution_count": null,
   "id": "2f336721-3339-42d2-b44d-a2647eb019f7",
   "metadata": {
    "tags": []
   },
   "outputs": [],
   "source": [
    "data_melt_cat_CA['cat_id_SNAP'] = data_melt_cat_CA['cat_id'] +'_'+data_melt_cat_CA['snap_CA']\n",
    "data_melte_cat_WI['cat_id_SNAP'] = data_melte_cat_WI['cat_id'] +'_'+data_melte_cat_WI['snap_WI']\n",
    "data_melt_cat_TX['cat_id_SNAP'] = data_melt_cat_TX['cat_id'] +'_'+data_melt_cat_TX['snap_TX']"
   ]
  },
  {
   "cell_type": "code",
   "execution_count": null,
   "id": "ec357940-392e-4fe4-8c9a-a0a5ed1324c5",
   "metadata": {
    "tags": []
   },
   "outputs": [],
   "source": [
    "fig,ax =  plt.subplots(nrows= 3, ncols=1, figsize = ( 20, 12), constrained_layout=True, sharey=True) \n",
    "\n",
    "fig.suptitle('Sales Quantity comparison with SNAP availabilty by each State', fontsize = 30, weight = 'bold')\n",
    "\n",
    "snap_graph_CA = sns.lineplot(x = \"date\", y = \"Total_number_sell_per_day\", hue=\"cat_id_SNAP\", data = data_melt_cat_CA, \n",
    "             ax = ax[0]) \n",
    "snap_graph_CA.set_title('California', size = 20, weight = 'bold')\n",
    "\n",
    "snap_graph_WI =sns.lineplot(x = \"date\", y = \"Total_number_sell_per_day\", hue=\"cat_id_SNAP\",  data = data_melte_cat_WI, \n",
    "             ax = ax[1]) \n",
    "snap_graph_WI.set_title('Wisconsin', size = 20, weight = 'bold')\n",
    "\n",
    "snap_graph_TX =sns.lineplot(x = \"date\", y = \"Total_number_sell_per_day\", hue=\"cat_id_SNAP\", data = data_melt_cat_TX, \n",
    "             ax = ax[2]) \n",
    "snap_graph_TX.set_title('Texas', size = 20, weight = 'bold')"
   ]
  },
  {
   "cell_type": "code",
   "execution_count": null,
   "id": "f918b6a8-b8b7-4843-925e-0b58ef53ad70",
   "metadata": {
    "tags": []
   },
   "outputs": [],
   "source": [
    "data_melt_cat_CA = data_melt.loc[data_melt['state_id'] == 'CA'].groupby(['year','cat_id', 'snap_CA'])['Daily_total_number_sales'].mean().to_frame('Total_number_sell_per_day').reset_index()\n",
    "# data_melt_cat_CA = data_melt_cat_CA.merge(df_calender[['year', 'snap_CA']], on = 'year')\n",
    "data_melt_cat_CA['snap_CA'] = data_melt_cat_CA['snap_CA'].replace([0, 1], ['SNAP_not_available', 'SNAP_available'], regex=True )\n",
    "\n",
    "data_melte_cat_WI = data_melt.loc[data_melt['state_id'] == 'WI'].groupby(['year','cat_id', 'snap_WI'])['Daily_total_number_sales'].mean().to_frame('Total_number_sell_per_day').reset_index()\n",
    "# data_melte_cat_WI = data_melte_cat_WI.merge(df_calender[['year', 'snap_WI']], on = 'year')\n",
    "data_melte_cat_WI['snap_WI'] = data_melte_cat_WI['snap_WI'].replace([0, 1], ['SNAP_not_available', 'SNAP_available'], regex=True )\n",
    "\n",
    "data_melt_cat_TX = data_melt.loc[data_melt['state_id'] == 'TX'].groupby(['year','cat_id','snap_TX'])['Daily_total_number_sales'].mean().to_frame('Total_number_sell_per_day').reset_index()\n",
    "# data_melt_cat_TX = data_melt_cat_TX.merge(df_calender[['year', 'snap_TX']], on = 'year')\n",
    "data_melt_cat_TX['snap_TX'] = data_melt_cat_TX['snap_TX'].replace([0, 1], ['SNAP_not_available', 'SNAP_available'], regex=True )"
   ]
  },
  {
   "cell_type": "code",
   "execution_count": null,
   "id": "fbbee8b8-51fe-4312-a82d-488491d2404b",
   "metadata": {
    "tags": []
   },
   "outputs": [],
   "source": []
  },
  {
   "cell_type": "code",
   "execution_count": null,
   "id": "16f023b3-8058-44cd-93cb-206161f29d52",
   "metadata": {
    "tags": []
   },
   "outputs": [],
   "source": [
    "data_melt_cat_CA['cat_id_SNAP'] = data_melt_cat_CA['cat_id'] +'_'+data_melt_cat_CA['snap_CA']\n",
    "data_melte_cat_WI['cat_id_SNAP'] = data_melte_cat_WI['cat_id'] +'_'+data_melte_cat_WI['snap_WI']\n",
    "data_melt_cat_TX['cat_id_SNAP'] = data_melt_cat_TX['cat_id'] +'_'+data_melt_cat_TX['snap_TX']"
   ]
  },
  {
   "cell_type": "code",
   "execution_count": null,
   "id": "6c0041e6-3bff-4cf6-b657-78eeaa75c76b",
   "metadata": {
    "tags": []
   },
   "outputs": [],
   "source": []
  },
  {
   "cell_type": "code",
   "execution_count": null,
   "id": "8ba2a104-b181-4dc0-ba72-bb2a9f2714d0",
   "metadata": {
    "tags": []
   },
   "outputs": [],
   "source": []
  },
  {
   "cell_type": "code",
   "execution_count": null,
   "id": "ade6d4ef-73c2-43e9-b975-4e977f69e4c6",
   "metadata": {
    "tags": []
   },
   "outputs": [],
   "source": [
    "fig,ax =  plt.subplots(nrows= 3, ncols=1, figsize = ( 20, 12), constrained_layout=True, sharey=True) \n",
    "\n",
    "fig.suptitle('Average sale Quantity of each category with SNAP availabilty by each State', fontsize = 30, weight = 'bold')\n",
    "\n",
    "snap_graph_CA = sns.barplot(x = \"year\", y = \"Total_number_sell_per_day\", hue=\"cat_id_SNAP\", data = data_melt_cat_CA, \n",
    "             ax = ax[0]) \n",
    "snap_graph_CA.set_title('California', size = 20, weight = 'bold')\n",
    "sns.move_legend(snap_graph_CA, \"upper left\", bbox_to_anchor=(1, 1))\n",
    "\n",
    "snap_graph_WI =sns.barplot(x = \"year\", y = \"Total_number_sell_per_day\", hue=\"cat_id_SNAP\",  data = data_melte_cat_WI, \n",
    "             ax = ax[1]) \n",
    "snap_graph_WI.set_title('Wisconsin', size = 20, weight = 'bold')\n",
    "sns.move_legend(snap_graph_WI, \"upper left\", bbox_to_anchor=(1, 1))\n",
    "\n",
    "snap_graph_TX =sns.barplot(x = \"year\", y = \"Total_number_sell_per_day\", hue=\"cat_id_SNAP\", data = data_melt_cat_TX, \n",
    "             ax = ax[2]) \n",
    "snap_graph_TX.set_title('Texas', size = 20, weight = 'bold')\n",
    "sns.move_legend(snap_graph_TX, \"upper left\", bbox_to_anchor=(1, 1))"
   ]
  },
  {
   "cell_type": "code",
   "execution_count": null,
   "id": "acbf260d-4f4f-496d-9eb0-cf5b38a788c3",
   "metadata": {
    "tags": []
   },
   "outputs": [],
   "source": [
    "data_melt_month_CA = data_melt.loc[data_melt['state_id'] == 'CA'].groupby(['year','month'])['Daily_total_number_sales'].sum().to_frame('Total_number_sell_per_month').reset_index()\n",
    "\n",
    "\n",
    "data_melte_month_WI = data_melt.loc[data_melt['state_id'] == 'WI'].groupby(['year','month'])['Daily_total_number_sales'].sum().to_frame('Total_number_sell_per_month').reset_index()\n",
    "\n",
    "\n",
    "data_melt_month_TX = data_melt.loc[data_melt['state_id'] == 'TX'].groupby(['year','month'])['Daily_total_number_sales'].sum().to_frame('Total_number_sell_per_month').reset_index()\n"
   ]
  },
  {
   "cell_type": "code",
   "execution_count": null,
   "id": "f1bf12fb-e10e-4bc7-a283-90758dc4ae82",
   "metadata": {},
   "outputs": [],
   "source": []
  },
  {
   "cell_type": "code",
   "execution_count": null,
   "id": "31638f53-837e-4b2a-a4b7-09a28adbe5e5",
   "metadata": {
    "tags": []
   },
   "outputs": [],
   "source": [
    "fig,ax =  plt.subplots(nrows= 3, ncols=1, figsize = ( 20, 12), constrained_layout=True, sharey=True) \n",
    "\n",
    "fig.suptitle('Sales Quantity comparison with SNAP availabilty by each State', fontsize = 30, weight = 'bold')\n",
    "\n",
    "month_graph_CA = sns.lineplot(x = \"month\", y = \"Total_number_sell_per_month\", hue=\"year\", data = data_melt_month_CA, \n",
    "                              ax = ax[0]) \n",
    "month_graph_CA.set_title('California', size = 20, weight = 'bold')\n",
    "sns.move_legend(month_graph_CA, \"upper left\", bbox_to_anchor=(1, 1))\n",
    "\n",
    "month_graph_WI =sns.lineplot(x = \"month\", y = \"Total_number_sell_per_month\", hue=\"year\",  data = data_melte_month_WI, \n",
    "                             ax = ax[1]) \n",
    "month_graph_WI.set_title('Wisconsin', size = 20, weight = 'bold')\n",
    "sns.move_legend(month_graph_WI, \"upper left\", bbox_to_anchor=(1, 1))\n",
    "\n",
    "month_graph_TX =sns.lineplot(x = \"month\", y = \"Total_number_sell_per_month\", hue=\"year\", data = data_melt_month_TX, \n",
    "                             ax = ax[2]) \n",
    "month_graph_TX.set_title('Texas', size = 20, weight = 'bold')\n",
    "sns.move_legend(month_graph_TX, \"upper left\", bbox_to_anchor=(1, 1))"
   ]
  },
  {
   "cell_type": "code",
   "execution_count": null,
   "id": "9a1760bf-4302-4b98-abdc-91842bea5eff",
   "metadata": {},
   "outputs": [],
   "source": []
  },
  {
   "cell_type": "code",
   "execution_count": null,
   "id": "50cc7838-7298-4c9a-bfb9-6c60e73ed87b",
   "metadata": {},
   "outputs": [],
   "source": []
  },
  {
   "cell_type": "code",
   "execution_count": null,
   "id": "89805deb-0c0c-4483-bcf0-1ceca18df919",
   "metadata": {},
   "outputs": [],
   "source": []
  },
  {
   "cell_type": "code",
   "execution_count": null,
   "id": "b1bfda55-a2ca-44f5-8192-eb87c18d016f",
   "metadata": {
    "tags": []
   },
   "outputs": [],
   "source": [
    "total_salesQ_by_store_category.melt(id_vars='id', var_name='d', value_name='Daily_total_number_sales')"
   ]
  },
  {
   "cell_type": "code",
   "execution_count": null,
   "id": "e4937a46-f2d7-4cc0-9789-7aba0c105330",
   "metadata": {
    "tags": []
   },
   "outputs": [],
   "source": [
    "df_sell_test = df_sell_price.merge(df_calender[['date', 'wm_yr_wk','d']], on = 'wm_yr_wk')\n",
    "df_sell_test.shape"
   ]
  },
  {
   "cell_type": "code",
   "execution_count": null,
   "id": "8d3aa4d4-a8e3-49bc-8058-28694221fd9c",
   "metadata": {
    "tags": []
   },
   "outputs": [],
   "source": [
    "df_sell_test.tail()"
   ]
  },
  {
   "cell_type": "code",
   "execution_count": null,
   "id": "8031f6c5-094e-45fa-a5c4-1699b8d661ed",
   "metadata": {
    "tags": []
   },
   "outputs": [],
   "source": [
    "df_sell_price.loc[df_sell_price['wm_yr_wk'] == 11621].shape\n"
   ]
  },
  {
   "cell_type": "markdown",
   "id": "b952b0c1-3604-40b3-8f56-f50acd100a8e",
   "metadata": {},
   "source": [
    "There were only 2 day in 11621 and there is 30490 of them"
   ]
  },
  {
   "cell_type": "code",
   "execution_count": null,
   "id": "dc3c9c42-0e18-4d26-9a5b-2c33ad06d4c5",
   "metadata": {
    "tags": []
   },
   "outputs": [],
   "source": [
    "6841121 * 7 - (30490 *5)\n"
   ]
  },
  {
   "cell_type": "markdown",
   "id": "269a1133-ded1-43fe-bc4b-9d39e1ad0b0b",
   "metadata": {},
   "source": [
    "The d has been input correctly"
   ]
  },
  {
   "cell_type": "code",
   "execution_count": null,
   "id": "7213267f-76b8-481a-ab08-b24a6d66621e",
   "metadata": {
    "tags": []
   },
   "outputs": [],
   "source": [
    "# df_evaluation_test = df_evaluation.copy()"
   ]
  },
  {
   "cell_type": "code",
   "execution_count": null,
   "id": "7ce74404-67a9-404b-b5d4-17fd00e4ed29",
   "metadata": {
    "tags": []
   },
   "outputs": [],
   "source": [
    "# d_value = df_calender['d'].values\n",
    "# all_items = df_evaluation_test['id'].values\n",
    "# for item in all_items:\n",
    "#     for date in d_value:\n",
    "#         df_evaluation_test.loc[df_evaluation_test['id'] == item, date] = df_evaluation_test.loc[df_evaluation_test['id'] == item, date] * \\\n",
    "#                                                                             df_sell_test.loc[(df_sell_test['id'] == item) & \\\n",
    "#                                                                                              (df_sell_test['d'] == date), 'sell_price']"
   ]
  },
  {
   "cell_type": "code",
   "execution_count": null,
   "id": "f5e842e3-a206-46a9-b1f0-20f85853d041",
   "metadata": {
    "tags": []
   },
   "outputs": [],
   "source": [
    "# df_evaluation_test.head()"
   ]
  },
  {
   "cell_type": "code",
   "execution_count": null,
   "id": "b6f9199e-daa9-4a4f-9d73-e45608058a53",
   "metadata": {
    "tags": []
   },
   "outputs": [],
   "source": [
    "# df_evaluation_test.loc[df_evaluation_test['id'] == 'FOODS_3_825_WI_3_evaluation', 'd_1']"
   ]
  },
  {
   "cell_type": "code",
   "execution_count": null,
   "id": "ebf10184-f534-49c8-bdc4-b78dbc0c25b8",
   "metadata": {
    "tags": []
   },
   "outputs": [],
   "source": [
    "# df_sell_test.loc[(df_sell_test['id'] == 'FOODS_3_825_WI_3_evaluation') & (df_sell_test['d'] == 'd_1')]"
   ]
  },
  {
   "cell_type": "code",
   "execution_count": null,
   "id": "0488d0db-4fcc-4239-a915-951b50a21420",
   "metadata": {},
   "outputs": [],
   "source": []
  },
  {
   "cell_type": "code",
   "execution_count": null,
   "id": "a4ef3ee3-89f0-4684-99a5-e3545f56b9da",
   "metadata": {
    "tags": []
   },
   "outputs": [],
   "source": [
    "df = df_evaluation.drop(columns = ['item_id', 'dept_id', 'cat_id', 'store_id','state_id'])\n"
   ]
  },
  {
   "cell_type": "code",
   "execution_count": null,
   "id": "10538b2a-ecdf-4f6f-bfad-1cd98d062d6f",
   "metadata": {
    "tags": []
   },
   "outputs": [],
   "source": [
    "df = df.set_index('id')"
   ]
  },
  {
   "cell_type": "code",
   "execution_count": null,
   "id": "3cd1ceb7-55b2-48c6-b138-181a8f769830",
   "metadata": {
    "tags": []
   },
   "outputs": [],
   "source": [
    "df"
   ]
  },
  {
   "cell_type": "code",
   "execution_count": null,
   "id": "396c1351-972d-4ee1-aa84-0d6ed86cc27b",
   "metadata": {
    "tags": []
   },
   "outputs": [],
   "source": [
    "# df_t2 = df.pivot(columns = 'id')\n",
    "df_t = df.transpose().reset_index()\n",
    "df_t = df_t.rename(columns = {'index':'d'})\n",
    "df_t"
   ]
  },
  {
   "cell_type": "code",
   "execution_count": null,
   "id": "529c0171-def6-4479-9484-ebe5436fb646",
   "metadata": {
    "tags": []
   },
   "outputs": [],
   "source": [
    "# df_calender"
   ]
  },
  {
   "cell_type": "code",
   "execution_count": null,
   "id": "04958d56-467d-43c5-8c54-b444b9e84ff0",
   "metadata": {
    "tags": []
   },
   "outputs": [],
   "source": [
    "# single_df_linear = df.reset_index()\n",
    "# single_df_linear\n",
    "\n",
    "# single_df_linear = df_calender.groupby(['event_name_1'])['d'].count().to_frame('Count_of_Event')\n",
    "# event_name_list = pd.DataFrame()\n",
    "# event_name_list['event'] = single_df_linear.index"
   ]
  },
  {
   "cell_type": "code",
   "execution_count": null,
   "id": "730c8dea-6e90-4f12-a2d0-b2dd442e5668",
   "metadata": {
    "tags": []
   },
   "outputs": [],
   "source": [
    "single_df_linear"
   ]
  },
  {
   "cell_type": "code",
   "execution_count": null,
   "id": "e84a7c14-ddc3-400f-b0fd-c769305dc5b1",
   "metadata": {
    "tags": []
   },
   "outputs": [],
   "source": [
    "# df_data = df_t.merge(df_calender.drop(columns = ['wm_yr_wk_shift', 'd_num', 'd_shift']), on = 'd').reset_index()[['date', 'id']]\n",
    "# df_data\n",
    "# df_data.set_index('date')\n",
    "# df_data.head()\n",
    "# df_data.columns"
   ]
  },
  {
   "cell_type": "code",
   "execution_count": null,
   "id": "0d693b90-5037-4364-bc40-dee436a452ee",
   "metadata": {
    "tags": []
   },
   "outputs": [],
   "source": [
    "# df_data = df_t.merge(df_calender.drop(columns = ['wm_yr_wk_shift', 'd_num', 'd_shift']), on = 'd')"
   ]
  },
  {
   "cell_type": "code",
   "execution_count": null,
   "id": "297cfd4d-bfa3-4b36-8806-08effbad6948",
   "metadata": {
    "tags": []
   },
   "outputs": [],
   "source": [
    "# df_data"
   ]
  },
  {
   "cell_type": "code",
   "execution_count": null,
   "id": "a2faa1a9-f46d-4ecf-8a7c-750332e35ffa",
   "metadata": {
    "tags": []
   },
   "outputs": [],
   "source": [
    "# df_data = df_data.set_index('date')"
   ]
  },
  {
   "cell_type": "code",
   "execution_count": null,
   "id": "12ffe40f-e5f6-480f-a4b3-8d6501751bd4",
   "metadata": {
    "tags": []
   },
   "outputs": [],
   "source": [
    "# df_sell_price.tail()"
   ]
  },
  {
   "cell_type": "code",
   "execution_count": null,
   "id": "bb7ac431-e7e9-4e0b-bf22-eee4ab210475",
   "metadata": {
    "tags": []
   },
   "outputs": [],
   "source": [
    "df_sell_price"
   ]
  },
  {
   "cell_type": "code",
   "execution_count": null,
   "id": "de7d69e5-d8de-4bcc-97d5-a6ab4b77e240",
   "metadata": {
    "tags": []
   },
   "outputs": [],
   "source": [
    "df_sell = df_sell_price.merge(df_calender[['date', 'wm_yr_wk']], on = 'wm_yr_wk')"
   ]
  },
  {
   "cell_type": "code",
   "execution_count": null,
   "id": "14697133-548b-4158-803f-76adc19b6544",
   "metadata": {
    "tags": []
   },
   "outputs": [],
   "source": [
    "# df_sell.head(10)"
   ]
  },
  {
   "cell_type": "code",
   "execution_count": null,
   "id": "b5b54061-3edf-4775-8ed1-cc2cac193a1e",
   "metadata": {
    "tags": []
   },
   "outputs": [],
   "source": [
    "# lis = df_sell['id'].unique()"
   ]
  },
  {
   "cell_type": "code",
   "execution_count": null,
   "id": "e99c9564-8c50-475d-8788-3d0a39a2a460",
   "metadata": {},
   "outputs": [],
   "source": []
  },
  {
   "cell_type": "code",
   "execution_count": null,
   "id": "0f99500b-a895-4881-b0b4-a6e5f404061f",
   "metadata": {
    "tags": []
   },
   "outputs": [],
   "source": [
    "df_sell_temp = df_sell.sort_values(['id', 'date']).reset_index()"
   ]
  },
  {
   "cell_type": "code",
   "execution_count": null,
   "id": "bf195069-5b88-4d4f-b4a4-263c42e74d1b",
   "metadata": {
    "tags": []
   },
   "outputs": [],
   "source": []
  },
  {
   "cell_type": "code",
   "execution_count": null,
   "id": "69e6b97c-6d0f-4792-bda0-a2b32f84532c",
   "metadata": {
    "tags": []
   },
   "outputs": [],
   "source": [
    "df_sell_mod = df_sell_temp[['id','sell_price','date']]\n",
    "df_sell_date = df_sell_mod.pivot_table(index = 'date', columns= 'id', values='sell_price', fill_value = 0)"
   ]
  },
  {
   "cell_type": "code",
   "execution_count": null,
   "id": "d3d4f76d-3dc7-46da-b555-d26c4dc97ea6",
   "metadata": {
    "tags": []
   },
   "outputs": [],
   "source": []
  },
  {
   "cell_type": "code",
   "execution_count": null,
   "id": "00816301-1e42-403c-8e67-8c05ec6219c2",
   "metadata": {
    "tags": []
   },
   "outputs": [],
   "source": [
    "df_sell_date.columns"
   ]
  },
  {
   "cell_type": "code",
   "execution_count": null,
   "id": "9d89ca5d-d764-49ca-81c8-d3370da1f707",
   "metadata": {
    "tags": []
   },
   "outputs": [],
   "source": [
    "# df_data_only = df_t.merge(df_calender[['d', 'date']], on = 'd')\n",
    "# df_act_sell_date = df_sell_date.mul(df_t.iloc[:,1:], axis = 'index')\n",
    "# df_act_sell_date = pd.DataFrame(df_sell_date.values * df_t.iloc[:,1:].values, columns = df_sell_date.columns)"
   ]
  },
  {
   "cell_type": "code",
   "execution_count": null,
   "id": "5867df87-ba8f-447b-9f67-48f6783d1ffa",
   "metadata": {
    "tags": []
   },
   "outputs": [],
   "source": [
    "pd.set_option('display.max_columns',20)\n",
    "df_data_only = df_t.merge(df_calender, on = 'd')\n",
    "df_data_only = df_data_only.iloc[:,1:].set_index('date')"
   ]
  },
  {
   "cell_type": "code",
   "execution_count": null,
   "id": "0dd34c00-66ed-4340-8f95-4984822ba3ff",
   "metadata": {
    "tags": []
   },
   "outputs": [],
   "source": [
    "df_data_only"
   ]
  },
  {
   "cell_type": "code",
   "execution_count": null,
   "id": "3aa26409-f605-47eb-b709-7d2deca589c2",
   "metadata": {
    "tags": []
   },
   "outputs": [],
   "source": [
    "df_data_only_temp = df_data_only.drop(['wm_yr_wk','weekday','wday','month','year', 'event_name_1', 'event_type_1', 'event_name_2', 'event_type_2', 'snap_CA', 'snap_TX', 'snap_WI', 'is_weekend', 'week_number', 'month_day', 'events_per_day','day'], axis = 1)"
   ]
  },
  {
   "cell_type": "code",
   "execution_count": null,
   "id": "8ee91581-e2b6-409f-970e-b1b298baad99",
   "metadata": {
    "tags": []
   },
   "outputs": [],
   "source": [
    "df_data_only_temp"
   ]
  },
  {
   "cell_type": "code",
   "execution_count": null,
   "id": "7d16ee39-81f3-4a80-9007-ca32a9f26877",
   "metadata": {
    "tags": []
   },
   "outputs": [],
   "source": [
    "df_sell_date"
   ]
  },
  {
   "cell_type": "markdown",
   "id": "52a8cc03-f7b6-4dc9-b790-ee99b4e17a3a",
   "metadata": {},
   "source": [
    "The ending date is different between calender and evaluation table."
   ]
  },
  {
   "cell_type": "code",
   "execution_count": null,
   "id": "e377aa35-fb89-40dc-bebe-25609982dd9f",
   "metadata": {
    "tags": []
   },
   "outputs": [],
   "source": [
    "df_sell_date_mod = df_sell_date.loc[df_sell_date.index <= '2016-05-22']\n",
    "df_sell_date_mod"
   ]
  },
  {
   "cell_type": "code",
   "execution_count": null,
   "id": "54450549-e34b-4e84-a390-15a4a3d2c89e",
   "metadata": {
    "tags": []
   },
   "outputs": [],
   "source": [
    "df_data_only_temp = df_data_only.drop('month_day', axis = 1)"
   ]
  },
  {
   "cell_type": "code",
   "execution_count": null,
   "id": "258ee577-2064-4e6e-af42-ece207b12854",
   "metadata": {
    "tags": []
   },
   "outputs": [],
   "source": [
    "df_act_sell_date = pd.DataFrame(df_sell_date_mod.values * df_data_only_temp.values, columns = df_sell_date_mod.columns, index = df_sell_date_mod.index)"
   ]
  },
  {
   "cell_type": "code",
   "execution_count": null,
   "id": "5e624ecf-efbf-4319-8dab-4d33b3f57e9b",
   "metadata": {
    "tags": []
   },
   "outputs": [],
   "source": [
    "df_act_sell_date['FOODS_3_822_WI_3_evaluation']"
   ]
  },
  {
   "cell_type": "code",
   "execution_count": null,
   "id": "947bda57-e7c4-478a-aca3-c163beedad9e",
   "metadata": {
    "tags": []
   },
   "outputs": [],
   "source": [
    "df_sell_final = df_act_sell_date.reset_index()\n",
    "df_sell_final.head()"
   ]
  },
  {
   "cell_type": "code",
   "execution_count": null,
   "id": "3021dd37-8599-40f6-b7ee-88e92a3cd75b",
   "metadata": {
    "tags": []
   },
   "outputs": [],
   "source": [
    "# df_calender_mod = df_calender.drop(['wday',])"
   ]
  },
  {
   "cell_type": "code",
   "execution_count": null,
   "id": "feb9f81a-cfa1-4fff-8c4d-8f5f06f8ca5d",
   "metadata": {
    "tags": []
   },
   "outputs": [],
   "source": [
    "df_sell_final = df_sell_final.merge(df_calender, on = 'date')"
   ]
  },
  {
   "cell_type": "code",
   "execution_count": null,
   "id": "391b20ef-a79b-42b4-ae44-b377ef18a105",
   "metadata": {
    "tags": []
   },
   "outputs": [],
   "source": [
    "df_sell_final.head()"
   ]
  },
  {
   "cell_type": "code",
   "execution_count": null,
   "id": "635f429e-229d-4651-b044-c1f64285590a",
   "metadata": {
    "tags": []
   },
   "outputs": [],
   "source": [
    "df_sell_final.tail()"
   ]
  },
  {
   "cell_type": "code",
   "execution_count": null,
   "id": "b9d72ee0-cd71-4119-8fe9-b0709c30d1ba",
   "metadata": {
    "tags": []
   },
   "outputs": [],
   "source": [
    "item_test = 'FOODS_1_001_CA_1_evaluation'\n",
    "name = item_test.split('_')[3]\n",
    "test_item = pd.DataFrame()\n",
    "test_item[name] = 'test'\n",
    "test_item"
   ]
  },
  {
   "cell_type": "code",
   "execution_count": null,
   "id": "65e8aa61-2eb2-4967-90c6-b2020a04a589",
   "metadata": {},
   "outputs": [],
   "source": [
    "df_sell_date_column = df_act_sell_date.transpose().reset_index().rename_axis(\"\", axis=\"columns\").copy()"
   ]
  },
  {
   "cell_type": "code",
   "execution_count": null,
   "id": "69645fb2-95de-49ce-b383-d09f43091065",
   "metadata": {
    "tags": []
   },
   "outputs": [],
   "source": [
    "df_sell_date_column"
   ]
  },
  {
   "cell_type": "code",
   "execution_count": null,
   "id": "26fddda3-223e-4690-ac21-18e722d68d7a",
   "metadata": {
    "tags": []
   },
   "outputs": [],
   "source": [
    "# df_sell_date_column = df_sell_date_column.merge(df_evaluation[['id','item_id', 'dept_id','cat_id','store_id','state_id']], on = 'id')"
   ]
  },
  {
   "cell_type": "code",
   "execution_count": null,
   "id": "22578d1b-1059-4dc0-9855-147cedf9655a",
   "metadata": {},
   "outputs": [],
   "source": []
  },
  {
   "cell_type": "code",
   "execution_count": null,
   "id": "ebda6757-bf63-4076-ad17-5843c6b94bba",
   "metadata": {
    "tags": []
   },
   "outputs": [],
   "source": [
    "df_sell_final.to_csv('df_sell_final.csv')\n",
    "df_data_only.to_csv('df_sell_count.csv')\n",
    "df_sell_date_column.to_csv('df_sell_date_column.csv')\n",
    "df_calender.to_csv('df_calender.csv')"
   ]
  },
  {
   "cell_type": "code",
   "execution_count": null,
   "id": "2cbdc1ef-1be8-4df7-86a1-aba183a75ecd",
   "metadata": {},
   "outputs": [],
   "source": [
    "df_data_only.to_csv('df_sell_count.csv')"
   ]
  },
  {
   "cell_type": "code",
   "execution_count": null,
   "id": "726dfcbf-4856-4457-84b9-6e1eff6f8433",
   "metadata": {},
   "outputs": [],
   "source": [
    "df_calender"
   ]
  },
  {
   "cell_type": "markdown",
   "id": "bf6380e4-4e33-4931-899d-648a6e7793b8",
   "metadata": {},
   "source": [
    "end here\n"
   ]
  },
  {
   "cell_type": "markdown",
   "id": "080a0dc3-0605-47a6-87fc-bb5da84c8dc3",
   "metadata": {
    "tags": []
   },
   "source": [
    "hypertuning"
   ]
  },
  {
   "cell_type": "code",
   "execution_count": null,
   "id": "836e9f6c-9e37-485d-b155-8f4092d7cede",
   "metadata": {},
   "outputs": [],
   "source": [
    "from sklearn.tree import DecisionTreeRegressor\n",
    "from sklearn.model_selection import GridSearchCV\n",
    "# Define the parameter grid\n",
    "param_grid = {\n",
    "    'max_depth': [None, 5, 10, 30, 50, 70, 90, 110],\n",
    "    'min_samples_split': [2, 20, 60, 100, 140, 180, 220, 260, 300],\n",
    "    'min_samples_leaf':  [2, 20, 60, 100, 140, 180, 220, 260, 300, 340, 380]\n",
    "}\n",
    "\n",
    "# Create a base model\n",
    "dt = DecisionTreeRegressor()\n",
    "\n",
    "# Instantiate the grid search model\n",
    "grid_search = GridSearchCV(estimator=dt, param_grid=param_grid, cv=5)\n",
    "\n",
    "# Fit the grid search to the data\n",
    "grid_search.fit(x_train,y_train)\n",
    "\n",
    "# Get the best parameters\n",
    "best_params = grid_search.best_params_"
   ]
  },
  {
   "cell_type": "code",
   "execution_count": null,
   "id": "ddaf601e-d913-49ec-b7eb-dd382adcc840",
   "metadata": {},
   "outputs": [],
   "source": []
  },
  {
   "cell_type": "markdown",
   "id": "428a2b83-9567-4464-9fda-fda122a19a24",
   "metadata": {},
   "source": [
    "# "
   ]
  },
  {
   "cell_type": "code",
   "execution_count": null,
   "id": "402f27f5-726d-4541-a544-03b85690a049",
   "metadata": {},
   "outputs": [],
   "source": []
  },
  {
   "cell_type": "code",
   "execution_count": null,
   "id": "ad1ec35a-a2f6-4247-b796-f4a647d55ab1",
   "metadata": {},
   "outputs": [],
   "source": []
  },
  {
   "cell_type": "code",
   "execution_count": null,
   "id": "36298286-33e4-479b-b98b-85a0927ef95e",
   "metadata": {},
   "outputs": [],
   "source": []
  },
  {
   "cell_type": "code",
   "execution_count": null,
   "id": "7b02a7d2-3ba8-47d6-8851-1f0684df2879",
   "metadata": {},
   "outputs": [],
   "source": []
  },
  {
   "cell_type": "code",
   "execution_count": null,
   "id": "1f8a45e5-8116-453d-afbc-54655b8cba8b",
   "metadata": {},
   "outputs": [],
   "source": []
  },
  {
   "cell_type": "code",
   "execution_count": null,
   "id": "eb5f88e3-c157-491b-a254-39b52f322cb3",
   "metadata": {},
   "outputs": [],
   "source": []
  },
  {
   "cell_type": "code",
   "execution_count": null,
   "id": "70f4512c-3aa1-4d39-a53f-68538e93ab42",
   "metadata": {},
   "outputs": [],
   "source": []
  },
  {
   "cell_type": "code",
   "execution_count": null,
   "id": "698fc316-8967-4fc5-8663-eac069b5869f",
   "metadata": {},
   "outputs": [],
   "source": []
  },
  {
   "cell_type": "code",
   "execution_count": null,
   "id": "6472f798-5a2e-44d8-acb9-475255e17d5d",
   "metadata": {},
   "outputs": [],
   "source": []
  },
  {
   "cell_type": "code",
   "execution_count": null,
   "id": "35e6ce3f-343f-4ad9-ac35-490ffd0b3fef",
   "metadata": {},
   "outputs": [],
   "source": []
  },
  {
   "cell_type": "code",
   "execution_count": null,
   "id": "dfe012a5-c4b6-404e-b385-3b6216b0a37f",
   "metadata": {},
   "outputs": [],
   "source": []
  },
  {
   "cell_type": "code",
   "execution_count": null,
   "id": "2d15e1f1-bd9e-4746-8db7-ec7fe8dd907e",
   "metadata": {},
   "outputs": [],
   "source": []
  }
 ],
 "metadata": {
  "kernelspec": {
   "display_name": "Python 3",
   "language": "python",
   "name": "python3"
  },
  "language_info": {
   "codemirror_mode": {
    "name": "ipython",
    "version": 3
   },
   "file_extension": ".py",
   "mimetype": "text/x-python",
   "name": "python",
   "nbconvert_exporter": "python",
   "pygments_lexer": "ipython3",
   "version": "3.8.8"
  }
 },
 "nbformat": 4,
 "nbformat_minor": 5
}
