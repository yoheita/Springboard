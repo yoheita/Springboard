{
 "cells": [
  {
   "cell_type": "code",
   "execution_count": 2,
   "id": "1236e453-33fa-4646-a052-6d9947b5a113",
   "metadata": {
    "tags": []
   },
   "outputs": [],
   "source": [
    "import pandas as pd\n",
    "\n",
    "df= pd.read_csv(\"df_sell_final.csv\")\n",
    "df = df.drop(['Unnamed: 0', 'wm_yr_wk_shift', 'd_num', 'd_shift'], axis =1)\n",
    "df['date'] = pd.to_datetime(df['date'], format = '%Y-%m-%d')\n",
    "df_count = pd.read_csv(\"df_sell_count.csv\")"
   ]
  },
  {
   "cell_type": "code",
   "execution_count": 3,
   "id": "ee944133-6e06-48ab-adc5-f8f9dbf53703",
   "metadata": {
    "tags": []
   },
   "outputs": [],
   "source": [
    "import seaborn as sns\n",
    "from matplotlib import pyplot as plt"
   ]
  },
  {
   "cell_type": "code",
   "execution_count": 4,
   "id": "38aac4f5-2bee-43c8-b129-22307b884293",
   "metadata": {
    "tags": []
   },
   "outputs": [
    {
     "data": {
      "text/html": [
       "<div>\n",
       "<style scoped>\n",
       "    .dataframe tbody tr th:only-of-type {\n",
       "        vertical-align: middle;\n",
       "    }\n",
       "\n",
       "    .dataframe tbody tr th {\n",
       "        vertical-align: top;\n",
       "    }\n",
       "\n",
       "    .dataframe thead th {\n",
       "        text-align: right;\n",
       "    }\n",
       "</style>\n",
       "<table border=\"1\" class=\"dataframe\">\n",
       "  <thead>\n",
       "    <tr style=\"text-align: right;\">\n",
       "      <th></th>\n",
       "      <th>date</th>\n",
       "      <th>FOODS_1_001_CA_1_evaluation</th>\n",
       "      <th>FOODS_1_001_CA_2_evaluation</th>\n",
       "      <th>FOODS_1_001_CA_3_evaluation</th>\n",
       "      <th>FOODS_1_001_CA_4_evaluation</th>\n",
       "      <th>FOODS_1_001_TX_1_evaluation</th>\n",
       "      <th>FOODS_1_001_TX_2_evaluation</th>\n",
       "      <th>FOODS_1_001_TX_3_evaluation</th>\n",
       "      <th>FOODS_1_001_WI_1_evaluation</th>\n",
       "      <th>FOODS_1_001_WI_2_evaluation</th>\n",
       "      <th>...</th>\n",
       "      <th>month</th>\n",
       "      <th>year</th>\n",
       "      <th>d</th>\n",
       "      <th>event_name_1</th>\n",
       "      <th>event_type_1</th>\n",
       "      <th>event_name_2</th>\n",
       "      <th>event_type_2</th>\n",
       "      <th>snap_CA</th>\n",
       "      <th>snap_TX</th>\n",
       "      <th>snap_WI</th>\n",
       "    </tr>\n",
       "  </thead>\n",
       "  <tbody>\n",
       "    <tr>\n",
       "      <th>0</th>\n",
       "      <td>2011-01-29</td>\n",
       "      <td>0.00</td>\n",
       "      <td>0.0</td>\n",
       "      <td>0.00</td>\n",
       "      <td>0.00</td>\n",
       "      <td>0.00</td>\n",
       "      <td>0.00</td>\n",
       "      <td>0.00</td>\n",
       "      <td>24.00</td>\n",
       "      <td>4.00</td>\n",
       "      <td>...</td>\n",
       "      <td>1</td>\n",
       "      <td>2011</td>\n",
       "      <td>d_1</td>\n",
       "      <td>No_Event</td>\n",
       "      <td>No_Event</td>\n",
       "      <td>No_Event</td>\n",
       "      <td>No_Event</td>\n",
       "      <td>0</td>\n",
       "      <td>0</td>\n",
       "      <td>0</td>\n",
       "    </tr>\n",
       "    <tr>\n",
       "      <th>1</th>\n",
       "      <td>2011-01-30</td>\n",
       "      <td>0.00</td>\n",
       "      <td>0.0</td>\n",
       "      <td>0.00</td>\n",
       "      <td>0.00</td>\n",
       "      <td>0.00</td>\n",
       "      <td>0.00</td>\n",
       "      <td>0.00</td>\n",
       "      <td>30.00</td>\n",
       "      <td>0.00</td>\n",
       "      <td>...</td>\n",
       "      <td>1</td>\n",
       "      <td>2011</td>\n",
       "      <td>d_2</td>\n",
       "      <td>No_Event</td>\n",
       "      <td>No_Event</td>\n",
       "      <td>No_Event</td>\n",
       "      <td>No_Event</td>\n",
       "      <td>0</td>\n",
       "      <td>0</td>\n",
       "      <td>0</td>\n",
       "    </tr>\n",
       "    <tr>\n",
       "      <th>2</th>\n",
       "      <td>2011-01-31</td>\n",
       "      <td>0.00</td>\n",
       "      <td>0.0</td>\n",
       "      <td>0.00</td>\n",
       "      <td>0.00</td>\n",
       "      <td>0.00</td>\n",
       "      <td>0.00</td>\n",
       "      <td>0.00</td>\n",
       "      <td>0.00</td>\n",
       "      <td>14.00</td>\n",
       "      <td>...</td>\n",
       "      <td>1</td>\n",
       "      <td>2011</td>\n",
       "      <td>d_3</td>\n",
       "      <td>No_Event</td>\n",
       "      <td>No_Event</td>\n",
       "      <td>No_Event</td>\n",
       "      <td>No_Event</td>\n",
       "      <td>0</td>\n",
       "      <td>0</td>\n",
       "      <td>0</td>\n",
       "    </tr>\n",
       "    <tr>\n",
       "      <th>3</th>\n",
       "      <td>2011-02-01</td>\n",
       "      <td>0.00</td>\n",
       "      <td>0.0</td>\n",
       "      <td>0.00</td>\n",
       "      <td>0.00</td>\n",
       "      <td>0.00</td>\n",
       "      <td>0.00</td>\n",
       "      <td>0.00</td>\n",
       "      <td>0.00</td>\n",
       "      <td>6.00</td>\n",
       "      <td>...</td>\n",
       "      <td>2</td>\n",
       "      <td>2011</td>\n",
       "      <td>d_4</td>\n",
       "      <td>No_Event</td>\n",
       "      <td>No_Event</td>\n",
       "      <td>No_Event</td>\n",
       "      <td>No_Event</td>\n",
       "      <td>1</td>\n",
       "      <td>1</td>\n",
       "      <td>0</td>\n",
       "    </tr>\n",
       "    <tr>\n",
       "      <th>4</th>\n",
       "      <td>2011-02-02</td>\n",
       "      <td>0.00</td>\n",
       "      <td>0.0</td>\n",
       "      <td>0.00</td>\n",
       "      <td>0.00</td>\n",
       "      <td>0.00</td>\n",
       "      <td>0.00</td>\n",
       "      <td>0.00</td>\n",
       "      <td>0.00</td>\n",
       "      <td>0.00</td>\n",
       "      <td>...</td>\n",
       "      <td>2</td>\n",
       "      <td>2011</td>\n",
       "      <td>d_5</td>\n",
       "      <td>No_Event</td>\n",
       "      <td>No_Event</td>\n",
       "      <td>No_Event</td>\n",
       "      <td>No_Event</td>\n",
       "      <td>1</td>\n",
       "      <td>0</td>\n",
       "      <td>1</td>\n",
       "    </tr>\n",
       "    <tr>\n",
       "      <th>...</th>\n",
       "      <td>...</td>\n",
       "      <td>...</td>\n",
       "      <td>...</td>\n",
       "      <td>...</td>\n",
       "      <td>...</td>\n",
       "      <td>...</td>\n",
       "      <td>...</td>\n",
       "      <td>...</td>\n",
       "      <td>...</td>\n",
       "      <td>...</td>\n",
       "      <td>...</td>\n",
       "      <td>...</td>\n",
       "      <td>...</td>\n",
       "      <td>...</td>\n",
       "      <td>...</td>\n",
       "      <td>...</td>\n",
       "      <td>...</td>\n",
       "      <td>...</td>\n",
       "      <td>...</td>\n",
       "      <td>...</td>\n",
       "      <td>...</td>\n",
       "    </tr>\n",
       "    <tr>\n",
       "      <th>1936</th>\n",
       "      <td>2016-05-18</td>\n",
       "      <td>0.00</td>\n",
       "      <td>0.0</td>\n",
       "      <td>0.00</td>\n",
       "      <td>2.24</td>\n",
       "      <td>0.00</td>\n",
       "      <td>0.00</td>\n",
       "      <td>2.24</td>\n",
       "      <td>11.20</td>\n",
       "      <td>0.00</td>\n",
       "      <td>...</td>\n",
       "      <td>5</td>\n",
       "      <td>2016</td>\n",
       "      <td>d_1937</td>\n",
       "      <td>No_Event</td>\n",
       "      <td>No_Event</td>\n",
       "      <td>No_Event</td>\n",
       "      <td>No_Event</td>\n",
       "      <td>0</td>\n",
       "      <td>0</td>\n",
       "      <td>0</td>\n",
       "    </tr>\n",
       "    <tr>\n",
       "      <th>1937</th>\n",
       "      <td>2016-05-19</td>\n",
       "      <td>6.72</td>\n",
       "      <td>0.0</td>\n",
       "      <td>4.48</td>\n",
       "      <td>6.72</td>\n",
       "      <td>0.00</td>\n",
       "      <td>0.00</td>\n",
       "      <td>0.00</td>\n",
       "      <td>8.96</td>\n",
       "      <td>0.00</td>\n",
       "      <td>...</td>\n",
       "      <td>5</td>\n",
       "      <td>2016</td>\n",
       "      <td>d_1938</td>\n",
       "      <td>No_Event</td>\n",
       "      <td>No_Event</td>\n",
       "      <td>No_Event</td>\n",
       "      <td>No_Event</td>\n",
       "      <td>0</td>\n",
       "      <td>0</td>\n",
       "      <td>0</td>\n",
       "    </tr>\n",
       "    <tr>\n",
       "      <th>1938</th>\n",
       "      <td>2016-05-20</td>\n",
       "      <td>6.72</td>\n",
       "      <td>0.0</td>\n",
       "      <td>6.72</td>\n",
       "      <td>0.00</td>\n",
       "      <td>4.48</td>\n",
       "      <td>11.20</td>\n",
       "      <td>2.24</td>\n",
       "      <td>2.24</td>\n",
       "      <td>0.00</td>\n",
       "      <td>...</td>\n",
       "      <td>5</td>\n",
       "      <td>2016</td>\n",
       "      <td>d_1939</td>\n",
       "      <td>No_Event</td>\n",
       "      <td>No_Event</td>\n",
       "      <td>No_Event</td>\n",
       "      <td>No_Event</td>\n",
       "      <td>0</td>\n",
       "      <td>0</td>\n",
       "      <td>0</td>\n",
       "    </tr>\n",
       "    <tr>\n",
       "      <th>1939</th>\n",
       "      <td>2016-05-21</td>\n",
       "      <td>0.00</td>\n",
       "      <td>0.0</td>\n",
       "      <td>0.00</td>\n",
       "      <td>4.48</td>\n",
       "      <td>2.24</td>\n",
       "      <td>4.48</td>\n",
       "      <td>2.24</td>\n",
       "      <td>89.60</td>\n",
       "      <td>2.24</td>\n",
       "      <td>...</td>\n",
       "      <td>5</td>\n",
       "      <td>2016</td>\n",
       "      <td>d_1940</td>\n",
       "      <td>No_Event</td>\n",
       "      <td>No_Event</td>\n",
       "      <td>No_Event</td>\n",
       "      <td>No_Event</td>\n",
       "      <td>0</td>\n",
       "      <td>0</td>\n",
       "      <td>0</td>\n",
       "    </tr>\n",
       "    <tr>\n",
       "      <th>1940</th>\n",
       "      <td>2016-05-22</td>\n",
       "      <td>2.24</td>\n",
       "      <td>0.0</td>\n",
       "      <td>2.24</td>\n",
       "      <td>13.44</td>\n",
       "      <td>0.00</td>\n",
       "      <td>0.00</td>\n",
       "      <td>0.00</td>\n",
       "      <td>71.68</td>\n",
       "      <td>0.00</td>\n",
       "      <td>...</td>\n",
       "      <td>5</td>\n",
       "      <td>2016</td>\n",
       "      <td>d_1941</td>\n",
       "      <td>No_Event</td>\n",
       "      <td>No_Event</td>\n",
       "      <td>No_Event</td>\n",
       "      <td>No_Event</td>\n",
       "      <td>0</td>\n",
       "      <td>0</td>\n",
       "      <td>0</td>\n",
       "    </tr>\n",
       "  </tbody>\n",
       "</table>\n",
       "<p>1941 rows × 30504 columns</p>\n",
       "</div>"
      ],
      "text/plain": [
       "           date  FOODS_1_001_CA_1_evaluation  FOODS_1_001_CA_2_evaluation  \\\n",
       "0    2011-01-29                         0.00                          0.0   \n",
       "1    2011-01-30                         0.00                          0.0   \n",
       "2    2011-01-31                         0.00                          0.0   \n",
       "3    2011-02-01                         0.00                          0.0   \n",
       "4    2011-02-02                         0.00                          0.0   \n",
       "...         ...                          ...                          ...   \n",
       "1936 2016-05-18                         0.00                          0.0   \n",
       "1937 2016-05-19                         6.72                          0.0   \n",
       "1938 2016-05-20                         6.72                          0.0   \n",
       "1939 2016-05-21                         0.00                          0.0   \n",
       "1940 2016-05-22                         2.24                          0.0   \n",
       "\n",
       "      FOODS_1_001_CA_3_evaluation  FOODS_1_001_CA_4_evaluation  \\\n",
       "0                            0.00                         0.00   \n",
       "1                            0.00                         0.00   \n",
       "2                            0.00                         0.00   \n",
       "3                            0.00                         0.00   \n",
       "4                            0.00                         0.00   \n",
       "...                           ...                          ...   \n",
       "1936                         0.00                         2.24   \n",
       "1937                         4.48                         6.72   \n",
       "1938                         6.72                         0.00   \n",
       "1939                         0.00                         4.48   \n",
       "1940                         2.24                        13.44   \n",
       "\n",
       "      FOODS_1_001_TX_1_evaluation  FOODS_1_001_TX_2_evaluation  \\\n",
       "0                            0.00                         0.00   \n",
       "1                            0.00                         0.00   \n",
       "2                            0.00                         0.00   \n",
       "3                            0.00                         0.00   \n",
       "4                            0.00                         0.00   \n",
       "...                           ...                          ...   \n",
       "1936                         0.00                         0.00   \n",
       "1937                         0.00                         0.00   \n",
       "1938                         4.48                        11.20   \n",
       "1939                         2.24                         4.48   \n",
       "1940                         0.00                         0.00   \n",
       "\n",
       "      FOODS_1_001_TX_3_evaluation  FOODS_1_001_WI_1_evaluation  \\\n",
       "0                            0.00                        24.00   \n",
       "1                            0.00                        30.00   \n",
       "2                            0.00                         0.00   \n",
       "3                            0.00                         0.00   \n",
       "4                            0.00                         0.00   \n",
       "...                           ...                          ...   \n",
       "1936                         2.24                        11.20   \n",
       "1937                         0.00                         8.96   \n",
       "1938                         2.24                         2.24   \n",
       "1939                         2.24                        89.60   \n",
       "1940                         0.00                        71.68   \n",
       "\n",
       "      FOODS_1_001_WI_2_evaluation  ...  month  year       d  event_name_1  \\\n",
       "0                            4.00  ...      1  2011     d_1      No_Event   \n",
       "1                            0.00  ...      1  2011     d_2      No_Event   \n",
       "2                           14.00  ...      1  2011     d_3      No_Event   \n",
       "3                            6.00  ...      2  2011     d_4      No_Event   \n",
       "4                            0.00  ...      2  2011     d_5      No_Event   \n",
       "...                           ...  ...    ...   ...     ...           ...   \n",
       "1936                         0.00  ...      5  2016  d_1937      No_Event   \n",
       "1937                         0.00  ...      5  2016  d_1938      No_Event   \n",
       "1938                         0.00  ...      5  2016  d_1939      No_Event   \n",
       "1939                         2.24  ...      5  2016  d_1940      No_Event   \n",
       "1940                         0.00  ...      5  2016  d_1941      No_Event   \n",
       "\n",
       "      event_type_1  event_name_2  event_type_2  snap_CA  snap_TX  snap_WI  \n",
       "0         No_Event      No_Event      No_Event        0        0        0  \n",
       "1         No_Event      No_Event      No_Event        0        0        0  \n",
       "2         No_Event      No_Event      No_Event        0        0        0  \n",
       "3         No_Event      No_Event      No_Event        1        1        0  \n",
       "4         No_Event      No_Event      No_Event        1        0        1  \n",
       "...            ...           ...           ...      ...      ...      ...  \n",
       "1936      No_Event      No_Event      No_Event        0        0        0  \n",
       "1937      No_Event      No_Event      No_Event        0        0        0  \n",
       "1938      No_Event      No_Event      No_Event        0        0        0  \n",
       "1939      No_Event      No_Event      No_Event        0        0        0  \n",
       "1940      No_Event      No_Event      No_Event        0        0        0  \n",
       "\n",
       "[1941 rows x 30504 columns]"
      ]
     },
     "execution_count": 4,
     "metadata": {},
     "output_type": "execute_result"
    }
   ],
   "source": [
    "df"
   ]
  },
  {
   "cell_type": "code",
   "execution_count": 5,
   "id": "4415788a-3c65-415e-a181-f6e7cf540cb0",
   "metadata": {
    "tags": []
   },
   "outputs": [
    {
     "data": {
      "image/png": "[encoded data removed]",
      "text/plain": [
       "<Figure size 640x480 with 1 Axes>"
      ]
     },
     "metadata": {},
     "output_type": "display_data"
    }
   ],
   "source": [
    "zero_check_df = (df ==0).sum(axis = 1)\n",
    "zero_check_df\n",
    "plt.bar(x=df['date'],height=zero_check_df.values)\n",
    "plt.show()"
   ]
  },
  {
   "cell_type": "code",
   "execution_count": 6,
   "id": "e1c83867-00ab-4e49-af18-9f3da141ee3e",
   "metadata": {
    "tags": []
   },
   "outputs": [
    {
     "data": {
      "image/png": "[encoded data removed]",
      "text/plain": [
       "<Figure size 640x480 with 1 Axes>"
      ]
     },
     "metadata": {},
     "output_type": "display_data"
    }
   ],
   "source": [
    "plt.plot(df['date'], df['FOODS_1_001_CA_1_evaluation'])\n",
    "plt.show()"
   ]
  },
  {
   "cell_type": "code",
   "execution_count": null,
   "id": "f8160a3b-8f23-4ddb-b70c-50de16b6fd00",
   "metadata": {},
   "outputs": [],
   "source": []
  },
  {
   "cell_type": "markdown",
   "id": "3541b50f-eca6-4bca-8338-1b7710a57367",
   "metadata": {},
   "source": [
    "We can see that there are items that are not being sold until to some point"
   ]
  },
  {
   "cell_type": "code",
   "execution_count": 7,
   "id": "de4d0128-89dd-4155-b93f-f0ea94cbe1ed",
   "metadata": {
    "tags": []
   },
   "outputs": [
    {
     "name": "stdout",
     "output_type": "stream",
     "text": [
      "2011-01-29 00:00:00\n",
      "2011-01-30 00:00:00\n",
      "2013-05-09 00:00:00\n"
     ]
    }
   ],
   "source": [
    "multi_items = ['FOODS_3_083_WI_3_evaluation', 'HOBBIES_1_084_WI_3_evaluation', 'HOUSEHOLD_2_085_WI_3_evaluation']\n",
    "#Find the first non-zero data of each item\n",
    "for item in multi_items:\n",
    "    print(df['date'][df[item] != 0].min())"
   ]
  },
  {
   "cell_type": "code",
   "execution_count": 8,
   "id": "19ad3516-5291-473c-b62a-01c34b79588b",
   "metadata": {
    "tags": []
   },
   "outputs": [],
   "source": [
    "def sell_start_date(df,item):\n",
    "    starting_date = df['date'][df[item] != 0].min()\n",
    "    return starting_date"
   ]
  },
  {
   "cell_type": "code",
   "execution_count": 9,
   "id": "58b4bdb7-33c3-4865-815c-a62b3c5dacd8",
   "metadata": {
    "tags": []
   },
   "outputs": [
    {
     "name": "stdout",
     "output_type": "stream",
     "text": [
      "2011-01-29 00:00:00\n",
      "2011-01-30 00:00:00\n",
      "2013-05-09 00:00:00\n"
     ]
    }
   ],
   "source": [
    "for item in multi_items:\n",
    "    print(sell_start_date(df,item))"
   ]
  },
  {
   "cell_type": "code",
   "execution_count": 10,
   "id": "c3a21504-305d-4116-85f5-433fc8c685b4",
   "metadata": {
    "tags": []
   },
   "outputs": [
    {
     "data": {
      "text/html": [
       "<div>\n",
       "<style scoped>\n",
       "    .dataframe tbody tr th:only-of-type {\n",
       "        vertical-align: middle;\n",
       "    }\n",
       "\n",
       "    .dataframe tbody tr th {\n",
       "        vertical-align: top;\n",
       "    }\n",
       "\n",
       "    .dataframe thead th {\n",
       "        text-align: right;\n",
       "    }\n",
       "</style>\n",
       "<table border=\"1\" class=\"dataframe\">\n",
       "  <thead>\n",
       "    <tr style=\"text-align: right;\">\n",
       "      <th></th>\n",
       "      <th>date</th>\n",
       "      <th>FOODS_1_001_CA_1_evaluation</th>\n",
       "    </tr>\n",
       "  </thead>\n",
       "  <tbody>\n",
       "    <tr>\n",
       "      <th>0</th>\n",
       "      <td>2011-01-29</td>\n",
       "      <td>0.00</td>\n",
       "    </tr>\n",
       "    <tr>\n",
       "      <th>1</th>\n",
       "      <td>2011-01-30</td>\n",
       "      <td>0.00</td>\n",
       "    </tr>\n",
       "    <tr>\n",
       "      <th>2</th>\n",
       "      <td>2011-01-31</td>\n",
       "      <td>0.00</td>\n",
       "    </tr>\n",
       "    <tr>\n",
       "      <th>3</th>\n",
       "      <td>2011-02-01</td>\n",
       "      <td>0.00</td>\n",
       "    </tr>\n",
       "    <tr>\n",
       "      <th>4</th>\n",
       "      <td>2011-02-02</td>\n",
       "      <td>0.00</td>\n",
       "    </tr>\n",
       "    <tr>\n",
       "      <th>...</th>\n",
       "      <td>...</td>\n",
       "      <td>...</td>\n",
       "    </tr>\n",
       "    <tr>\n",
       "      <th>1936</th>\n",
       "      <td>2016-05-18</td>\n",
       "      <td>0.00</td>\n",
       "    </tr>\n",
       "    <tr>\n",
       "      <th>1937</th>\n",
       "      <td>2016-05-19</td>\n",
       "      <td>6.72</td>\n",
       "    </tr>\n",
       "    <tr>\n",
       "      <th>1938</th>\n",
       "      <td>2016-05-20</td>\n",
       "      <td>6.72</td>\n",
       "    </tr>\n",
       "    <tr>\n",
       "      <th>1939</th>\n",
       "      <td>2016-05-21</td>\n",
       "      <td>0.00</td>\n",
       "    </tr>\n",
       "    <tr>\n",
       "      <th>1940</th>\n",
       "      <td>2016-05-22</td>\n",
       "      <td>2.24</td>\n",
       "    </tr>\n",
       "  </tbody>\n",
       "</table>\n",
       "<p>1941 rows × 2 columns</p>\n",
       "</div>"
      ],
      "text/plain": [
       "           date  FOODS_1_001_CA_1_evaluation\n",
       "0    2011-01-29                         0.00\n",
       "1    2011-01-30                         0.00\n",
       "2    2011-01-31                         0.00\n",
       "3    2011-02-01                         0.00\n",
       "4    2011-02-02                         0.00\n",
       "...         ...                          ...\n",
       "1936 2016-05-18                         0.00\n",
       "1937 2016-05-19                         6.72\n",
       "1938 2016-05-20                         6.72\n",
       "1939 2016-05-21                         0.00\n",
       "1940 2016-05-22                         2.24\n",
       "\n",
       "[1941 rows x 2 columns]"
      ]
     },
     "execution_count": 10,
     "metadata": {},
     "output_type": "execute_result"
    }
   ],
   "source": [
    "df[['date', 'FOODS_1_001_CA_1_evaluation']]"
   ]
  },
  {
   "cell_type": "code",
   "execution_count": 11,
   "id": "379204d3-025b-409b-90ab-047a74e60bf2",
   "metadata": {
    "tags": []
   },
   "outputs": [
    {
     "name": "stderr",
     "output_type": "stream",
     "text": [
      "C:\\Users\\yohei\\anaconda3\\Lib\\site-packages\\seaborn\\_oldcore.py:1119: FutureWarning: use_inf_as_na option is deprecated and will be removed in a future version. Convert inf values to NaN before operating instead.\n",
      "  with pd.option_context('mode.use_inf_as_na', True):\n",
      "C:\\Users\\yohei\\anaconda3\\Lib\\site-packages\\seaborn\\_oldcore.py:1119: FutureWarning: use_inf_as_na option is deprecated and will be removed in a future version. Convert inf values to NaN before operating instead.\n",
      "  with pd.option_context('mode.use_inf_as_na', True):\n",
      "C:\\Users\\yohei\\anaconda3\\Lib\\site-packages\\seaborn\\_oldcore.py:1119: FutureWarning: use_inf_as_na option is deprecated and will be removed in a future version. Convert inf values to NaN before operating instead.\n",
      "  with pd.option_context('mode.use_inf_as_na', True):\n",
      "C:\\Users\\yohei\\anaconda3\\Lib\\site-packages\\seaborn\\_oldcore.py:1119: FutureWarning: use_inf_as_na option is deprecated and will be removed in a future version. Convert inf values to NaN before operating instead.\n",
      "  with pd.option_context('mode.use_inf_as_na', True):\n",
      "C:\\Users\\yohei\\anaconda3\\Lib\\site-packages\\seaborn\\_oldcore.py:1119: FutureWarning: use_inf_as_na option is deprecated and will be removed in a future version. Convert inf values to NaN before operating instead.\n",
      "  with pd.option_context('mode.use_inf_as_na', True):\n",
      "C:\\Users\\yohei\\anaconda3\\Lib\\site-packages\\seaborn\\_oldcore.py:1119: FutureWarning: use_inf_as_na option is deprecated and will be removed in a future version. Convert inf values to NaN before operating instead.\n",
      "  with pd.option_context('mode.use_inf_as_na', True):\n"
     ]
    },
    {
     "data": {
      "image/png": "[encoded data removed]",
      "text/plain": [
       "<Figure size 2000x1200 with 3 Axes>"
      ]
     },
     "metadata": {},
     "output_type": "display_data"
    }
   ],
   "source": [
    "\n",
    "fig,ax =  plt.subplots(nrows= 3, ncols=1, figsize = ( 20, 12), constrained_layout=True, sharey=True) \n",
    "\n",
    "fig.suptitle('Sales of example products', fontsize = 30, weight = 'bold')\n",
    "\n",
    "for i in range(0,len(multi_items)):\n",
    "    graph_item = sns.lineplot(x = \"date\", y = multi_items[i],data = df[['date', multi_items[i]]], \n",
    "                 ax = ax[i]) \n",
    "    graph_item.set_title(multi_items[i], size = 20, weight = 'bold')\n",
    "    graph_item.set_xlabel(\"Daily sales\", fontsize=15)\n",
    "    graph_item.set_ylabel(\"Date\", fontsize=15)\n"
   ]
  },
  {
   "cell_type": "markdown",
   "id": "93ca4384-9d19-4fea-a720-e2d2bf1bdd23",
   "metadata": {},
   "source": [
    "## Transform the data\n"
   ]
  },
  {
   "cell_type": "code",
   "execution_count": 46,
   "id": "07f7250f-a29f-438e-aaaf-86f5884da4ed",
   "metadata": {
    "tags": []
   },
   "outputs": [],
   "source": [
    "df_transform = df[['date', 'FOODS_3_083_WI_3_evaluation']]"
   ]
  },
  {
   "cell_type": "code",
   "execution_count": 47,
   "id": "04a21874-5016-40ce-bad5-44ddef55494a",
   "metadata": {
    "tags": []
   },
   "outputs": [
    {
     "data": {
      "text/html": [
       "<div>\n",
       "<style scoped>\n",
       "    .dataframe tbody tr th:only-of-type {\n",
       "        vertical-align: middle;\n",
       "    }\n",
       "\n",
       "    .dataframe tbody tr th {\n",
       "        vertical-align: top;\n",
       "    }\n",
       "\n",
       "    .dataframe thead th {\n",
       "        text-align: right;\n",
       "    }\n",
       "</style>\n",
       "<table border=\"1\" class=\"dataframe\">\n",
       "  <thead>\n",
       "    <tr style=\"text-align: right;\">\n",
       "      <th></th>\n",
       "      <th>date</th>\n",
       "      <th>FOODS_3_083_WI_3_evaluation</th>\n",
       "    </tr>\n",
       "  </thead>\n",
       "  <tbody>\n",
       "    <tr>\n",
       "      <th>0</th>\n",
       "      <td>2011-01-29</td>\n",
       "      <td>303.68</td>\n",
       "    </tr>\n",
       "    <tr>\n",
       "      <th>1</th>\n",
       "      <td>2011-01-30</td>\n",
       "      <td>56.94</td>\n",
       "    </tr>\n",
       "    <tr>\n",
       "      <th>2</th>\n",
       "      <td>2011-01-31</td>\n",
       "      <td>18.98</td>\n",
       "    </tr>\n",
       "    <tr>\n",
       "      <th>3</th>\n",
       "      <td>2011-02-01</td>\n",
       "      <td>303.68</td>\n",
       "    </tr>\n",
       "    <tr>\n",
       "      <th>4</th>\n",
       "      <td>2011-02-02</td>\n",
       "      <td>360.62</td>\n",
       "    </tr>\n",
       "    <tr>\n",
       "      <th>...</th>\n",
       "      <td>...</td>\n",
       "      <td>...</td>\n",
       "    </tr>\n",
       "    <tr>\n",
       "      <th>1936</th>\n",
       "      <td>2016-05-18</td>\n",
       "      <td>112.38</td>\n",
       "    </tr>\n",
       "    <tr>\n",
       "      <th>1937</th>\n",
       "      <td>2016-05-19</td>\n",
       "      <td>243.49</td>\n",
       "    </tr>\n",
       "    <tr>\n",
       "      <th>1938</th>\n",
       "      <td>2016-05-20</td>\n",
       "      <td>224.76</td>\n",
       "    </tr>\n",
       "    <tr>\n",
       "      <th>1939</th>\n",
       "      <td>2016-05-21</td>\n",
       "      <td>168.57</td>\n",
       "    </tr>\n",
       "    <tr>\n",
       "      <th>1940</th>\n",
       "      <td>2016-05-22</td>\n",
       "      <td>149.84</td>\n",
       "    </tr>\n",
       "  </tbody>\n",
       "</table>\n",
       "<p>1941 rows × 2 columns</p>\n",
       "</div>"
      ],
      "text/plain": [
       "           date  FOODS_3_083_WI_3_evaluation\n",
       "0    2011-01-29                       303.68\n",
       "1    2011-01-30                        56.94\n",
       "2    2011-01-31                        18.98\n",
       "3    2011-02-01                       303.68\n",
       "4    2011-02-02                       360.62\n",
       "...         ...                          ...\n",
       "1936 2016-05-18                       112.38\n",
       "1937 2016-05-19                       243.49\n",
       "1938 2016-05-20                       224.76\n",
       "1939 2016-05-21                       168.57\n",
       "1940 2016-05-22                       149.84\n",
       "\n",
       "[1941 rows x 2 columns]"
      ]
     },
     "execution_count": 47,
     "metadata": {},
     "output_type": "execute_result"
    }
   ],
   "source": [
    "df_transform"
   ]
  },
  {
   "cell_type": "code",
   "execution_count": 48,
   "id": "a8906d70-65bc-48ba-8c6a-6f86b84e902e",
   "metadata": {
    "tags": []
   },
   "outputs": [],
   "source": [
    "df_transform.set_index('date', inplace = True)\n"
   ]
  },
  {
   "cell_type": "code",
   "execution_count": 49,
   "id": "bcbee7a9-d3bb-4c48-b506-854b5baacdc1",
   "metadata": {
    "tags": []
   },
   "outputs": [
    {
     "data": {
      "text/html": [
       "<div>\n",
       "<style scoped>\n",
       "    .dataframe tbody tr th:only-of-type {\n",
       "        vertical-align: middle;\n",
       "    }\n",
       "\n",
       "    .dataframe tbody tr th {\n",
       "        vertical-align: top;\n",
       "    }\n",
       "\n",
       "    .dataframe thead th {\n",
       "        text-align: right;\n",
       "    }\n",
       "</style>\n",
       "<table border=\"1\" class=\"dataframe\">\n",
       "  <thead>\n",
       "    <tr style=\"text-align: right;\">\n",
       "      <th></th>\n",
       "      <th>FOODS_3_083_WI_3_evaluation</th>\n",
       "    </tr>\n",
       "    <tr>\n",
       "      <th>date</th>\n",
       "      <th></th>\n",
       "    </tr>\n",
       "  </thead>\n",
       "  <tbody>\n",
       "    <tr>\n",
       "      <th>2011-01-29</th>\n",
       "      <td>303.68</td>\n",
       "    </tr>\n",
       "    <tr>\n",
       "      <th>2011-01-30</th>\n",
       "      <td>56.94</td>\n",
       "    </tr>\n",
       "    <tr>\n",
       "      <th>2011-01-31</th>\n",
       "      <td>18.98</td>\n",
       "    </tr>\n",
       "    <tr>\n",
       "      <th>2011-02-01</th>\n",
       "      <td>303.68</td>\n",
       "    </tr>\n",
       "    <tr>\n",
       "      <th>2011-02-02</th>\n",
       "      <td>360.62</td>\n",
       "    </tr>\n",
       "    <tr>\n",
       "      <th>...</th>\n",
       "      <td>...</td>\n",
       "    </tr>\n",
       "    <tr>\n",
       "      <th>2016-05-18</th>\n",
       "      <td>112.38</td>\n",
       "    </tr>\n",
       "    <tr>\n",
       "      <th>2016-05-19</th>\n",
       "      <td>243.49</td>\n",
       "    </tr>\n",
       "    <tr>\n",
       "      <th>2016-05-20</th>\n",
       "      <td>224.76</td>\n",
       "    </tr>\n",
       "    <tr>\n",
       "      <th>2016-05-21</th>\n",
       "      <td>168.57</td>\n",
       "    </tr>\n",
       "    <tr>\n",
       "      <th>2016-05-22</th>\n",
       "      <td>149.84</td>\n",
       "    </tr>\n",
       "  </tbody>\n",
       "</table>\n",
       "<p>1941 rows × 1 columns</p>\n",
       "</div>"
      ],
      "text/plain": [
       "            FOODS_3_083_WI_3_evaluation\n",
       "date                                   \n",
       "2011-01-29                       303.68\n",
       "2011-01-30                        56.94\n",
       "2011-01-31                        18.98\n",
       "2011-02-01                       303.68\n",
       "2011-02-02                       360.62\n",
       "...                                 ...\n",
       "2016-05-18                       112.38\n",
       "2016-05-19                       243.49\n",
       "2016-05-20                       224.76\n",
       "2016-05-21                       168.57\n",
       "2016-05-22                       149.84\n",
       "\n",
       "[1941 rows x 1 columns]"
      ]
     },
     "execution_count": 49,
     "metadata": {},
     "output_type": "execute_result"
    }
   ],
   "source": [
    "df_transform"
   ]
  },
  {
   "cell_type": "markdown",
   "id": "40358249-47b3-4930-b94f-cb85b4bb010f",
   "metadata": {},
   "source": [
    "## Autocorrelation of the graph (ACF) and find the Correlaogram graph"
   ]
  },
  {
   "cell_type": "code",
   "execution_count": 58,
   "id": "272f9ec7-608d-4223-bcd4-4d37eed06b07",
   "metadata": {
    "tags": []
   },
   "outputs": [
    {
     "data": {
      "image/png": "[encoded data removed]",
      "text/plain": [
       "<Figure size 3000x1000 with 1 Axes>"
      ]
     },
     "metadata": {},
     "output_type": "display_data"
    }
   ],
   "source": [
    "from statsmodels.graphics.tsaplots import plot_acf\n",
    "\n",
    "fig, ax = plt.subplots(1, 1, figsize=(30, 10))\n",
    "plot_acf(df_transform, lags=120, ax = ax)  # lags specifies how many lags to display\n",
    "plt.xlabel('Lag')\n",
    "plt.ylabel('ACF')\n",
    "plt.title('Autocorrelation Function (ACF)')\n",
    "plt.show()"
   ]
  },
  {
   "cell_type": "code",
   "execution_count": null,
   "id": "6b099b1c-57d0-4541-a379-9e7b85c0765b",
   "metadata": {},
   "outputs": [],
   "source": []
  },
  {
   "cell_type": "code",
   "execution_count": null,
   "id": "c619a1ac-af57-4f17-a3c9-b29e3d92b016",
   "metadata": {
    "tags": []
   },
   "outputs": [],
   "source": [
    "def evaluating_item(product_table, product_name, sale_start_date):\n",
    "\n",
    "    #LCreating ags to the evaluating table\n",
    "    lags = [1,2,3,6,12,24,36]\n",
    "    added_column = []\n",
    "    for i in lags:\n",
    "        product_table['lag_' + str(i)]=product_table.groupby(['id'])['demand'].shift(i)\n",
    "        added_column.append(i)\n",
    "\n",
    "    #Rolling-Mean\n",
    "    window=[7,14,28,35,42]\n",
    "    for i in tqdm(window):\n",
    "        product_table['rolling_median_'+str(i)]=product_table.groupby(['id'])['demand'].transform(lambda s: s.rolling(i,center=False).median())\n",
    "          added_column.append(i)\n",
    "\n",
    "    #Replacing 'NaN' values for lag and rolling_ mean columns data with zero\n",
    "    for i in added_column:\n",
    "        product_table[i]=product_table[i].fillna(0)"
   ]
  },
  {
   "cell_type": "code",
   "execution_count": null,
   "id": "b6f4e87d-70d0-42c0-a8be-e57a534979a4",
   "metadata": {},
   "outputs": [],
   "source": []
  },
  {
   "cell_type": "code",
   "execution_count": 48,
   "id": "a8321b71-022e-4f45-a631-01ee81dbea3b",
   "metadata": {
    "tags": []
   },
   "outputs": [],
   "source": [
    "df_test = df.copy()\n",
    "multi_items = ['FOODS_3_083_WI_3_evaluation', 'HOBBIES_1_084_WI_3_evaluation', 'HOUSEHOLD_2_085_WI_3_evaluation']\n",
    "\n",
    "max_consecutive_zero = pd.DataFrame(columns=['item_ID', 'consecutive_zeros'])\n",
    "max_consecutive_zero['item_ID'] = multi_items\n",
    "for item in multi_items:\n",
    "    consecutive_zeros =[]\n",
    "    consecutive_zeros= (df[item] == 0).astype(int).groupby((df[item] != 0).cumsum()).cumsum()\n",
    "    max_consecutive_zero['consecutive_zeros'].loc[max_consecutive_zero['item_ID'] == item] = consecutive_zeros.max()"
   ]
  },
  {
   "cell_type": "code",
   "execution_count": 51,
   "id": "34445342-2d2b-4108-bc1b-b48912679e80",
   "metadata": {
    "tags": []
   },
   "outputs": [
    {
     "data": {
      "text/plain": [
       "303.68"
      ]
     },
     "execution_count": 51,
     "metadata": {},
     "output_type": "execute_result"
    }
   ],
   "source": [
    "df_test['FOODS_3_083_WI_3_evaluation'][0]"
   ]
  },
  {
   "cell_type": "code",
   "execution_count": 12,
   "id": "334c7ae3-789d-4872-a808-d444a7d446e5",
   "metadata": {
    "tags": []
   },
   "outputs": [
    {
     "data": {
      "text/html": [
       "<div>\n",
       "<style scoped>\n",
       "    .dataframe tbody tr th:only-of-type {\n",
       "        vertical-align: middle;\n",
       "    }\n",
       "\n",
       "    .dataframe tbody tr th {\n",
       "        vertical-align: top;\n",
       "    }\n",
       "\n",
       "    .dataframe thead th {\n",
       "        text-align: right;\n",
       "    }\n",
       "</style>\n",
       "<table border=\"1\" class=\"dataframe\">\n",
       "  <thead>\n",
       "    <tr style=\"text-align: right;\">\n",
       "      <th></th>\n",
       "      <th>item_ID</th>\n",
       "      <th>consecutive_zeros</th>\n",
       "    </tr>\n",
       "  </thead>\n",
       "  <tbody>\n",
       "    <tr>\n",
       "      <th>0</th>\n",
       "      <td>FOODS_3_083_WI_3_evaluation</td>\n",
       "      <td>14</td>\n",
       "    </tr>\n",
       "    <tr>\n",
       "      <th>1</th>\n",
       "      <td>HOBBIES_1_084_WI_3_evaluation</td>\n",
       "      <td>137</td>\n",
       "    </tr>\n",
       "    <tr>\n",
       "      <th>2</th>\n",
       "      <td>HOUSEHOLD_2_085_WI_3_evaluation</td>\n",
       "      <td>831</td>\n",
       "    </tr>\n",
       "  </tbody>\n",
       "</table>\n",
       "</div>"
      ],
      "text/plain": [
       "                           item_ID consecutive_zeros\n",
       "0      FOODS_3_083_WI_3_evaluation                14\n",
       "1    HOBBIES_1_084_WI_3_evaluation               137\n",
       "2  HOUSEHOLD_2_085_WI_3_evaluation               831"
      ]
     },
     "execution_count": 12,
     "metadata": {},
     "output_type": "execute_result"
    }
   ],
   "source": [
    "max_consecutive_zero"
   ]
  },
  {
   "cell_type": "code",
   "execution_count": 13,
   "id": "57098291-ae21-4acb-b3d1-0e482186a24a",
   "metadata": {
    "tags": []
   },
   "outputs": [],
   "source": [
    "def non_sale_day_max(df,item):\n",
    "    consecutive_zeros =[]\n",
    "    consecutive_zeros= (df[item] == 0).astype(int).groupby((df[item] != 0).cumsum()).cumsum()\n",
    "    maximum_non_sale_date =  consecutive_zeros.max()\n",
    "    return maximum_non_sale_date"
   ]
  },
  {
   "cell_type": "code",
   "execution_count": 14,
   "id": "9e4ca2eb-72dd-4009-9667-f19600cd5dbd",
   "metadata": {
    "tags": []
   },
   "outputs": [],
   "source": [
    "df_test = df.copy()\n",
    "multi_items = ['FOODS_3_083_WI_3_evaluation', 'HOBBIES_1_084_WI_3_evaluation', 'HOUSEHOLD_2_085_WI_3_evaluation']\n",
    "\n",
    "max_consecutive_zero = pd.DataFrame(columns=['item_ID', 'consecutive_zeros'])\n",
    "max_consecutive_zero['item_ID'] = multi_items\n",
    "for item in multi_items:\n",
    "    max_consecutive_zero['consecutive_zeros'].loc[max_consecutive_zero['item_ID'] == item] = non_sale_day_max(df,item)"
   ]
  },
  {
   "cell_type": "code",
   "execution_count": 15,
   "id": "504af6cd-5a56-4c3a-9ece-93e42b5e9e70",
   "metadata": {
    "tags": []
   },
   "outputs": [
    {
     "data": {
      "text/html": [
       "<div>\n",
       "<style scoped>\n",
       "    .dataframe tbody tr th:only-of-type {\n",
       "        vertical-align: middle;\n",
       "    }\n",
       "\n",
       "    .dataframe tbody tr th {\n",
       "        vertical-align: top;\n",
       "    }\n",
       "\n",
       "    .dataframe thead th {\n",
       "        text-align: right;\n",
       "    }\n",
       "</style>\n",
       "<table border=\"1\" class=\"dataframe\">\n",
       "  <thead>\n",
       "    <tr style=\"text-align: right;\">\n",
       "      <th></th>\n",
       "      <th>item_ID</th>\n",
       "      <th>consecutive_zeros</th>\n",
       "    </tr>\n",
       "  </thead>\n",
       "  <tbody>\n",
       "    <tr>\n",
       "      <th>0</th>\n",
       "      <td>FOODS_3_083_WI_3_evaluation</td>\n",
       "      <td>14</td>\n",
       "    </tr>\n",
       "    <tr>\n",
       "      <th>1</th>\n",
       "      <td>HOBBIES_1_084_WI_3_evaluation</td>\n",
       "      <td>137</td>\n",
       "    </tr>\n",
       "    <tr>\n",
       "      <th>2</th>\n",
       "      <td>HOUSEHOLD_2_085_WI_3_evaluation</td>\n",
       "      <td>831</td>\n",
       "    </tr>\n",
       "  </tbody>\n",
       "</table>\n",
       "</div>"
      ],
      "text/plain": [
       "                           item_ID consecutive_zeros\n",
       "0      FOODS_3_083_WI_3_evaluation                14\n",
       "1    HOBBIES_1_084_WI_3_evaluation               137\n",
       "2  HOUSEHOLD_2_085_WI_3_evaluation               831"
      ]
     },
     "execution_count": 15,
     "metadata": {},
     "output_type": "execute_result"
    }
   ],
   "source": [
    "max_consecutive_zero"
   ]
  },
  {
   "cell_type": "code",
   "execution_count": 16,
   "id": "915d6eb5-507e-4b35-927d-95befa5c658c",
   "metadata": {
    "tags": []
   },
   "outputs": [],
   "source": [
    "multi_items = ['FOODS_3_083_WI_3_evaluation', 'HOBBIES_1_084_WI_3_evaluation', 'HOUSEHOLD_2_085_WI_3_evaluation']\n",
    "\n",
    "max_consecutive_zero = pd.DataFrame(columns=['item_ID', 'consecutive_zeros'])\n",
    "\n",
    "max_consecutive_zero['item_ID'] = multi_items\n",
    "for item in multi_items:\n",
    "    temp_df = df.loc[df['date'] >= sell_start_date(df, item)].copy()\n",
    "    max_consecutive_zero['consecutive_zeros'].loc[max_consecutive_zero['item_ID'] == item] = non_sale_day_max(temp_df,item)"
   ]
  },
  {
   "cell_type": "code",
   "execution_count": 17,
   "id": "4a7d2b1b-97f4-4d3f-af47-a429293bb329",
   "metadata": {
    "tags": []
   },
   "outputs": [
    {
     "data": {
      "text/html": [
       "<div>\n",
       "<style scoped>\n",
       "    .dataframe tbody tr th:only-of-type {\n",
       "        vertical-align: middle;\n",
       "    }\n",
       "\n",
       "    .dataframe tbody tr th {\n",
       "        vertical-align: top;\n",
       "    }\n",
       "\n",
       "    .dataframe thead th {\n",
       "        text-align: right;\n",
       "    }\n",
       "</style>\n",
       "<table border=\"1\" class=\"dataframe\">\n",
       "  <thead>\n",
       "    <tr style=\"text-align: right;\">\n",
       "      <th></th>\n",
       "      <th>item_ID</th>\n",
       "      <th>consecutive_zeros</th>\n",
       "    </tr>\n",
       "  </thead>\n",
       "  <tbody>\n",
       "    <tr>\n",
       "      <th>0</th>\n",
       "      <td>FOODS_3_083_WI_3_evaluation</td>\n",
       "      <td>14</td>\n",
       "    </tr>\n",
       "    <tr>\n",
       "      <th>1</th>\n",
       "      <td>HOBBIES_1_084_WI_3_evaluation</td>\n",
       "      <td>137</td>\n",
       "    </tr>\n",
       "    <tr>\n",
       "      <th>2</th>\n",
       "      <td>HOUSEHOLD_2_085_WI_3_evaluation</td>\n",
       "      <td>339</td>\n",
       "    </tr>\n",
       "  </tbody>\n",
       "</table>\n",
       "</div>"
      ],
      "text/plain": [
       "                           item_ID consecutive_zeros\n",
       "0      FOODS_3_083_WI_3_evaluation                14\n",
       "1    HOBBIES_1_084_WI_3_evaluation               137\n",
       "2  HOUSEHOLD_2_085_WI_3_evaluation               339"
      ]
     },
     "execution_count": 17,
     "metadata": {},
     "output_type": "execute_result"
    }
   ],
   "source": [
    "max_consecutive_zero"
   ]
  },
  {
   "cell_type": "code",
   "execution_count": 18,
   "id": "c476ea08-d45c-4b4b-b511-ffb7ad4f62a4",
   "metadata": {
    "tags": []
   },
   "outputs": [],
   "source": [
    "all_items = []\n",
    "\n",
    "for col in df.columns:\n",
    "    if (len(col.split('_')) == 6):\n",
    "        if (col.split('_')[5] == 'evaluation'):\n",
    "            all_items.append(col)"
   ]
  },
  {
   "cell_type": "code",
   "execution_count": 19,
   "id": "dd835109-9d18-464a-81b2-cc2fcf1c8811",
   "metadata": {
    "tags": []
   },
   "outputs": [],
   "source": [
    "max_consecutive_zero = pd.DataFrame(columns=['item_ID', 'consecutive_zeros'])\n",
    "\n",
    "max_consecutive_zero['item_ID'] = multi_items\n",
    "for item in all_items:\n",
    "    temp_df = df.loc[df['date'] >= sell_start_date(df, item)].copy()\n",
    "    max_consecutive_zero['consecutive_zeros'].loc[max_consecutive_zero['item_ID'] == item] = non_sale_day_max(temp_df,item)"
   ]
  },
  {
   "cell_type": "code",
   "execution_count": 20,
   "id": "cc1c69e4-2940-42df-a6f5-1416084cd98a",
   "metadata": {
    "tags": []
   },
   "outputs": [
    {
     "ename": "AttributeError",
     "evalue": "'Series' object has no attribute 'idmax'",
     "output_type": "error",
     "traceback": [
      "\u001b[1;31m---------------------------------------------------------------------------\u001b[0m",
      "\u001b[1;31mAttributeError\u001b[0m                            Traceback (most recent call last)",
      "\u001b[1;32m~\\AppData\\Local\\Temp\\ipykernel_4784\\3604836357.py\u001b[0m in \u001b[0;36m?\u001b[1;34m()\u001b[0m\n\u001b[1;32m----> 1\u001b[1;33m \u001b[0mmax_consecutive_zero\u001b[0m\u001b[1;33m.\u001b[0m\u001b[0mloc\u001b[0m\u001b[1;33m[\u001b[0m\u001b[0mmax_consecutive_zero\u001b[0m\u001b[1;33m[\u001b[0m\u001b[1;34m'consecutive_zeros'\u001b[0m\u001b[1;33m]\u001b[0m\u001b[1;33m.\u001b[0m\u001b[0midmax\u001b[0m\u001b[1;33m(\u001b[0m\u001b[1;33m)\u001b[0m\u001b[1;33m]\u001b[0m\u001b[1;33m\u001b[0m\u001b[1;33m\u001b[0m\u001b[0m\n\u001b[0m",
      "\u001b[1;32m~\\anaconda3\\Lib\\site-packages\\pandas\\core\\generic.py\u001b[0m in \u001b[0;36m?\u001b[1;34m(self, name)\u001b[0m\n\u001b[0;32m   6200\u001b[0m             \u001b[1;32mand\u001b[0m \u001b[0mname\u001b[0m \u001b[1;32mnot\u001b[0m \u001b[1;32min\u001b[0m \u001b[0mself\u001b[0m\u001b[1;33m.\u001b[0m\u001b[0m_accessors\u001b[0m\u001b[1;33m\u001b[0m\u001b[1;33m\u001b[0m\u001b[0m\n\u001b[0;32m   6201\u001b[0m             \u001b[1;32mand\u001b[0m \u001b[0mself\u001b[0m\u001b[1;33m.\u001b[0m\u001b[0m_info_axis\u001b[0m\u001b[1;33m.\u001b[0m\u001b[0m_can_hold_identifiers_and_holds_name\u001b[0m\u001b[1;33m(\u001b[0m\u001b[0mname\u001b[0m\u001b[1;33m)\u001b[0m\u001b[1;33m\u001b[0m\u001b[1;33m\u001b[0m\u001b[0m\n\u001b[0;32m   6202\u001b[0m         ):\n\u001b[0;32m   6203\u001b[0m             \u001b[1;32mreturn\u001b[0m \u001b[0mself\u001b[0m\u001b[1;33m[\u001b[0m\u001b[0mname\u001b[0m\u001b[1;33m]\u001b[0m\u001b[1;33m\u001b[0m\u001b[1;33m\u001b[0m\u001b[0m\n\u001b[1;32m-> 6204\u001b[1;33m         \u001b[1;32mreturn\u001b[0m \u001b[0mobject\u001b[0m\u001b[1;33m.\u001b[0m\u001b[0m__getattribute__\u001b[0m\u001b[1;33m(\u001b[0m\u001b[0mself\u001b[0m\u001b[1;33m,\u001b[0m \u001b[0mname\u001b[0m\u001b[1;33m)\u001b[0m\u001b[1;33m\u001b[0m\u001b[1;33m\u001b[0m\u001b[0m\n\u001b[0m",
      "\u001b[1;31mAttributeError\u001b[0m: 'Series' object has no attribute 'idmax'"
     ]
    }
   ],
   "source": [
    "max_consecutive_zero.loc[max_consecutive_zero['consecutive_zeros'].idmax()]"
   ]
  },
  {
   "cell_type": "code",
   "execution_count": null,
   "id": "552923dc-087c-4215-87e9-331c120de1da",
   "metadata": {},
   "outputs": [],
   "source": [
    "for item in all_items:\n",
    "    locater = max_consecutive_zero['consecutive_zeros'].loc[max_consecutive_zero['item_ID'] == item]\n",
    "    if(locater < 7):\n",
    "        "
   ]
  },
  {
   "cell_type": "code",
   "execution_count": null,
   "id": "90d74ecd-18c0-4aae-a080-8093b1eb5a9c",
   "metadata": {
    "tags": []
   },
   "outputs": [],
   "source": [
    "# single_df_linear = df.reset_index()\n",
    "# single_df_linear\n",
    "\n",
    "# single_df_linear = df.groupby(['event_name_1'])['d'].count().to_frame('event type')\n",
    "# event_name_list = pd.DataFrame()\n",
    "# event_name_list['event'] = single_df_linear.index"
   ]
  },
  {
   "cell_type": "code",
   "execution_count": 41,
   "id": "316c7850-3e2a-4d07-b8d8-6b4ae2152908",
   "metadata": {
    "tags": []
   },
   "outputs": [
    {
     "ename": "AttributeError",
     "evalue": "'SeriesGroupBy' object has no attribute 'index'",
     "output_type": "error",
     "traceback": [
      "\u001b[1;31m---------------------------------------------------------------------------\u001b[0m",
      "\u001b[1;31mAttributeError\u001b[0m                            Traceback (most recent call last)",
      "Cell \u001b[1;32mIn[41], line 17\u001b[0m\n\u001b[0;32m     15\u001b[0m non_zero_count \u001b[38;5;241m=\u001b[39m pd\u001b[38;5;241m.\u001b[39mSeries(index\u001b[38;5;241m=\u001b[39mdf5[\u001b[38;5;124m'\u001b[39m\u001b[38;5;124mitem_id_1\u001b[39m\u001b[38;5;124m'\u001b[39m]\u001b[38;5;241m.\u001b[39mindex)  \n\u001b[0;32m     16\u001b[0m modified_series \u001b[38;5;241m=\u001b[39m df5[\u001b[38;5;124m'\u001b[39m\u001b[38;5;124mitem_id_1\u001b[39m\u001b[38;5;124m'\u001b[39m]\u001b[38;5;241m.\u001b[39mcopy()\n\u001b[1;32m---> 17\u001b[0m \u001b[38;5;28;01mfor\u001b[39;00m i \u001b[38;5;129;01min\u001b[39;00m consecutive_zeros\u001b[38;5;241m.\u001b[39mindex:\n\u001b[0;32m     18\u001b[0m     \u001b[38;5;28mprint\u001b[39m(i)\n",
      "File \u001b[1;32m~\\anaconda3\\Lib\\site-packages\\pandas\\core\\groupby\\groupby.py:1312\u001b[0m, in \u001b[0;36mGroupBy.__getattr__\u001b[1;34m(self, attr)\u001b[0m\n\u001b[0;32m   1309\u001b[0m \u001b[38;5;28;01mif\u001b[39;00m attr \u001b[38;5;129;01min\u001b[39;00m \u001b[38;5;28mself\u001b[39m\u001b[38;5;241m.\u001b[39mobj:\n\u001b[0;32m   1310\u001b[0m     \u001b[38;5;28;01mreturn\u001b[39;00m \u001b[38;5;28mself\u001b[39m[attr]\n\u001b[1;32m-> 1312\u001b[0m \u001b[38;5;28;01mraise\u001b[39;00m \u001b[38;5;167;01mAttributeError\u001b[39;00m(\n\u001b[0;32m   1313\u001b[0m     \u001b[38;5;124mf\u001b[39m\u001b[38;5;124m\"\u001b[39m\u001b[38;5;124m'\u001b[39m\u001b[38;5;132;01m{\u001b[39;00m\u001b[38;5;28mtype\u001b[39m(\u001b[38;5;28mself\u001b[39m)\u001b[38;5;241m.\u001b[39m\u001b[38;5;18m__name__\u001b[39m\u001b[38;5;132;01m}\u001b[39;00m\u001b[38;5;124m'\u001b[39m\u001b[38;5;124m object has no attribute \u001b[39m\u001b[38;5;124m'\u001b[39m\u001b[38;5;132;01m{\u001b[39;00mattr\u001b[38;5;132;01m}\u001b[39;00m\u001b[38;5;124m'\u001b[39m\u001b[38;5;124m\"\u001b[39m\n\u001b[0;32m   1314\u001b[0m )\n",
      "\u001b[1;31mAttributeError\u001b[0m: 'SeriesGroupBy' object has no attribute 'index'"
     ]
    }
   ],
   "source": [
    "import numpy as np\n",
    "data5 = {\n",
    "    'date': pd.date_range('2023-01-01', '2023-02-16'),\n",
    "    'item_id_1': [1, 2, 0, 0, 0, 3, 4, 0, 0, 0, 1, 2, 3, 4, 5, 6, 7, 0, 0, 0, 1, 2, 3, 4, 5, 6, 7, 0, 0, 0, 1, 2, 3, 4, 5, 6, 7, 8, 9, 1, 0, 0, 0, 0, 0, 0, 0],\n",
    "    'item_id_2': [0, 0, 0, 0, 5, 0, 0, 0, 0, 0, 0, 0, 0, 0, 0, 0, 0, 0, 0, 0, 0, 0, 0, 0, 0, 0, 0, 0, 0, 0, 0, 0, 0, 0, 0, 0, 0, 0, 0, 0, 0, 0, 0, 0, 0, 0, 0],\n",
    "    'item_id_3': [0, 0, 0, 0, 0, 0, 0, 0, 8, 0, 0, 0, 0, 0, 0, 0, 8, 0, 0, 0, 0, 0, 0, 0, 0, 0, 0, 0, 0, 0, 0, 0, 0, 0, 0, 0, 0, 0, 0, 0, 0, 0, 0, 0, 0, 0, 0],\n",
    "    'item_id_4': [0, 0, 0, 0, 0, 0, 0, 0, 0, 0, 0, 0, 0, 0, 0, 0, 0, 0, 0, 0, 0, 0, 0, 0, 0, 0, 0, 0, 0, 0, 0, 0, 0, 0, 0, 0, 0, 0, 0, 0, 0, 0, 0, 0, 0, 0, 0]}\n",
    "\n",
    "df5 = pd.DataFrame(data5)\n",
    "\n",
    "\n",
    "non_zero_indices = df5['item_id_1'].index[df5['item_id_1'] != 0]\n",
    "consecutive_zeros = (df5['item_id_1'] == 0).astype(int).groupby()\n",
    "# Initialize to store non-zero counts\n",
    "non_zero_count = pd.Series(index=df5['item_id_1'].index)  \n",
    "modified_series = df5['item_id_1'].copy()\n",
    "for i in consecutive_zeros.index:\n",
    "    print(i)\n",
    "# max_consecutive_zeros = consecutive_zeros.groupby((consecutive_zeros != 0).cumsum()).max()\n",
    "\n",
    "# for i in consecutive_zeros.index:\n",
    "#     if consecutive_zeros[i] > 0:\n",
    "#         # Cou nt the number of non-zero values preceding consecutive zeros\n",
    "#         non_zero_count.iloc[i] = len(non_zero_indices[:consecutive_zeros[i]])\n",
    "#         #Find the average of preceding non-zero values\n",
    "#         if (consecutive_zeros[i] > 1 and (max_consecutive_zeros[i] != max_consecutive_zeros[i-1])):\n",
    "#             print(non_zero_indices[i] )\n",
    "#             print(consecutive_zeros[i])\n",
    "#             #non-zero conditions\n",
    "#             if (non_zero_indices[i] > 30): \n",
    "#                 if (non_zero_indices[i] >= 7) and (non_zero_indices[i] < 14):\n",
    "#                     avg_non_zero = np.mean(df5['item_id_1'][non_zero_indices[max(0, consecutive_zeros[i] - 7):consecutive_zeros[i]]])\n",
    "#                 elif (non_zero_indices[i] >= 14) and (non_zero_indices[i] < 30):\n",
    "#                     avg_non_zero = np.mean(df5['item_id_1'][non_zero_indices[max(0, consecutive_zeros[i] - 14):consecutive_zeros[i]]])\n",
    "#                 elif (non_zero_indices[i] >= 30):\n",
    "#                     avg_non_zero = np.mean(df5['item_id_1'][non_zero_indices[max(0, consecutive_zeros[i] - 30):consecutive_zeros[i]]])\n",
    "#             elif (non_zero_indices[i] > 14): \n",
    "#                 if (non_zero_indices[i] >= 7) and (non_zero_indices[i] < 14):\n",
    "#                     avg_non_zero = np.mean(df5['item_id_1'][non_zero_indices[max(0, consecutive_zeros[i] - 7):consecutive_zeros[i]]])\n",
    "#                 elif (non_zero_indices[i] >= 14):\n",
    "#                     avg_non_zero = np.mean(df5['item_id_1'][non_zero_indices[max(0, consecutive_zeros[i] - 14):consecutive_zeros[i]]])\n",
    "#             elif (consecutive_zeros[i] > 7): \n",
    "#                 if (non_zero_indices[i] >= 7):\n",
    "#                     avg_non_zero = np.mean(df5['item_id_1'][non_zero_indices[max(0, consecutive_zeros[i] - 7):consecutive_zeros[i]]])\n",
    "#             else:\n",
    "#                 avg_non_zero = np.mean(df5['item_id_1'][non_zero_indices[max(0, consecutive_zeros[i] - non_zero_indices[i]):consecutive_zeros[i]]])\n",
    "#         #Replace consecutive zeros with the average\n",
    "#         elif (consecutive_zeros[i] > 1 and (max_consecutive_zeros[i] == max_consecutive_zeros[i-1])):\n",
    "#             modified_series[i] = avg_non_zero\n",
    "#     else:\n",
    "#         non_zero_count[i] = 0\n",
    "\n",
    "# for item_id in df5.columns:\n",
    "#     if (item_id != 'date'):\n",
    "#         data5[item_id + '_modified'] = replace_consecutive_zeros_with_average(df5[item_id])\n"
   ]
  },
  {
   "cell_type": "code",
   "execution_count": 40,
   "id": "39bd984a-ff8d-489f-bc0f-c939f351d7e0",
   "metadata": {
    "tags": []
   },
   "outputs": [
    {
     "data": {
      "text/html": [
       "<div>\n",
       "<style scoped>\n",
       "    .dataframe tbody tr th:only-of-type {\n",
       "        vertical-align: middle;\n",
       "    }\n",
       "\n",
       "    .dataframe tbody tr th {\n",
       "        vertical-align: top;\n",
       "    }\n",
       "\n",
       "    .dataframe thead th {\n",
       "        text-align: right;\n",
       "    }\n",
       "</style>\n",
       "<table border=\"1\" class=\"dataframe\">\n",
       "  <thead>\n",
       "    <tr style=\"text-align: right;\">\n",
       "      <th></th>\n",
       "      <th>date</th>\n",
       "      <th>item_id_1</th>\n",
       "      <th>item_id_2</th>\n",
       "      <th>item_id_3</th>\n",
       "      <th>item_id_4</th>\n",
       "    </tr>\n",
       "  </thead>\n",
       "  <tbody>\n",
       "    <tr>\n",
       "      <th>0</th>\n",
       "      <td>2023-01-01</td>\n",
       "      <td>1</td>\n",
       "      <td>0</td>\n",
       "      <td>0</td>\n",
       "      <td>0</td>\n",
       "    </tr>\n",
       "    <tr>\n",
       "      <th>1</th>\n",
       "      <td>2023-01-02</td>\n",
       "      <td>2</td>\n",
       "      <td>0</td>\n",
       "      <td>0</td>\n",
       "      <td>0</td>\n",
       "    </tr>\n",
       "    <tr>\n",
       "      <th>2</th>\n",
       "      <td>2023-01-03</td>\n",
       "      <td>0</td>\n",
       "      <td>0</td>\n",
       "      <td>0</td>\n",
       "      <td>0</td>\n",
       "    </tr>\n",
       "    <tr>\n",
       "      <th>3</th>\n",
       "      <td>2023-01-04</td>\n",
       "      <td>0</td>\n",
       "      <td>0</td>\n",
       "      <td>0</td>\n",
       "      <td>0</td>\n",
       "    </tr>\n",
       "    <tr>\n",
       "      <th>4</th>\n",
       "      <td>2023-01-05</td>\n",
       "      <td>0</td>\n",
       "      <td>5</td>\n",
       "      <td>0</td>\n",
       "      <td>0</td>\n",
       "    </tr>\n",
       "    <tr>\n",
       "      <th>5</th>\n",
       "      <td>2023-01-06</td>\n",
       "      <td>3</td>\n",
       "      <td>0</td>\n",
       "      <td>0</td>\n",
       "      <td>0</td>\n",
       "    </tr>\n",
       "    <tr>\n",
       "      <th>6</th>\n",
       "      <td>2023-01-07</td>\n",
       "      <td>4</td>\n",
       "      <td>0</td>\n",
       "      <td>0</td>\n",
       "      <td>0</td>\n",
       "    </tr>\n",
       "    <tr>\n",
       "      <th>7</th>\n",
       "      <td>2023-01-08</td>\n",
       "      <td>0</td>\n",
       "      <td>0</td>\n",
       "      <td>0</td>\n",
       "      <td>0</td>\n",
       "    </tr>\n",
       "    <tr>\n",
       "      <th>8</th>\n",
       "      <td>2023-01-09</td>\n",
       "      <td>0</td>\n",
       "      <td>0</td>\n",
       "      <td>8</td>\n",
       "      <td>0</td>\n",
       "    </tr>\n",
       "    <tr>\n",
       "      <th>9</th>\n",
       "      <td>2023-01-10</td>\n",
       "      <td>0</td>\n",
       "      <td>0</td>\n",
       "      <td>0</td>\n",
       "      <td>0</td>\n",
       "    </tr>\n",
       "    <tr>\n",
       "      <th>10</th>\n",
       "      <td>2023-01-11</td>\n",
       "      <td>1</td>\n",
       "      <td>0</td>\n",
       "      <td>0</td>\n",
       "      <td>0</td>\n",
       "    </tr>\n",
       "    <tr>\n",
       "      <th>11</th>\n",
       "      <td>2023-01-12</td>\n",
       "      <td>2</td>\n",
       "      <td>0</td>\n",
       "      <td>0</td>\n",
       "      <td>0</td>\n",
       "    </tr>\n",
       "    <tr>\n",
       "      <th>12</th>\n",
       "      <td>2023-01-13</td>\n",
       "      <td>3</td>\n",
       "      <td>0</td>\n",
       "      <td>0</td>\n",
       "      <td>0</td>\n",
       "    </tr>\n",
       "    <tr>\n",
       "      <th>13</th>\n",
       "      <td>2023-01-14</td>\n",
       "      <td>4</td>\n",
       "      <td>0</td>\n",
       "      <td>0</td>\n",
       "      <td>0</td>\n",
       "    </tr>\n",
       "    <tr>\n",
       "      <th>14</th>\n",
       "      <td>2023-01-15</td>\n",
       "      <td>5</td>\n",
       "      <td>0</td>\n",
       "      <td>0</td>\n",
       "      <td>0</td>\n",
       "    </tr>\n",
       "    <tr>\n",
       "      <th>15</th>\n",
       "      <td>2023-01-16</td>\n",
       "      <td>6</td>\n",
       "      <td>0</td>\n",
       "      <td>0</td>\n",
       "      <td>0</td>\n",
       "    </tr>\n",
       "    <tr>\n",
       "      <th>16</th>\n",
       "      <td>2023-01-17</td>\n",
       "      <td>7</td>\n",
       "      <td>0</td>\n",
       "      <td>8</td>\n",
       "      <td>0</td>\n",
       "    </tr>\n",
       "    <tr>\n",
       "      <th>17</th>\n",
       "      <td>2023-01-18</td>\n",
       "      <td>0</td>\n",
       "      <td>0</td>\n",
       "      <td>0</td>\n",
       "      <td>0</td>\n",
       "    </tr>\n",
       "    <tr>\n",
       "      <th>18</th>\n",
       "      <td>2023-01-19</td>\n",
       "      <td>0</td>\n",
       "      <td>0</td>\n",
       "      <td>0</td>\n",
       "      <td>0</td>\n",
       "    </tr>\n",
       "    <tr>\n",
       "      <th>19</th>\n",
       "      <td>2023-01-20</td>\n",
       "      <td>0</td>\n",
       "      <td>0</td>\n",
       "      <td>0</td>\n",
       "      <td>0</td>\n",
       "    </tr>\n",
       "    <tr>\n",
       "      <th>20</th>\n",
       "      <td>2023-01-21</td>\n",
       "      <td>1</td>\n",
       "      <td>0</td>\n",
       "      <td>0</td>\n",
       "      <td>0</td>\n",
       "    </tr>\n",
       "    <tr>\n",
       "      <th>21</th>\n",
       "      <td>2023-01-22</td>\n",
       "      <td>2</td>\n",
       "      <td>0</td>\n",
       "      <td>0</td>\n",
       "      <td>0</td>\n",
       "    </tr>\n",
       "    <tr>\n",
       "      <th>22</th>\n",
       "      <td>2023-01-23</td>\n",
       "      <td>3</td>\n",
       "      <td>0</td>\n",
       "      <td>0</td>\n",
       "      <td>0</td>\n",
       "    </tr>\n",
       "    <tr>\n",
       "      <th>23</th>\n",
       "      <td>2023-01-24</td>\n",
       "      <td>4</td>\n",
       "      <td>0</td>\n",
       "      <td>0</td>\n",
       "      <td>0</td>\n",
       "    </tr>\n",
       "    <tr>\n",
       "      <th>24</th>\n",
       "      <td>2023-01-25</td>\n",
       "      <td>5</td>\n",
       "      <td>0</td>\n",
       "      <td>0</td>\n",
       "      <td>0</td>\n",
       "    </tr>\n",
       "    <tr>\n",
       "      <th>25</th>\n",
       "      <td>2023-01-26</td>\n",
       "      <td>6</td>\n",
       "      <td>0</td>\n",
       "      <td>0</td>\n",
       "      <td>0</td>\n",
       "    </tr>\n",
       "    <tr>\n",
       "      <th>26</th>\n",
       "      <td>2023-01-27</td>\n",
       "      <td>7</td>\n",
       "      <td>0</td>\n",
       "      <td>0</td>\n",
       "      <td>0</td>\n",
       "    </tr>\n",
       "    <tr>\n",
       "      <th>27</th>\n",
       "      <td>2023-01-28</td>\n",
       "      <td>0</td>\n",
       "      <td>0</td>\n",
       "      <td>0</td>\n",
       "      <td>0</td>\n",
       "    </tr>\n",
       "    <tr>\n",
       "      <th>28</th>\n",
       "      <td>2023-01-29</td>\n",
       "      <td>0</td>\n",
       "      <td>0</td>\n",
       "      <td>0</td>\n",
       "      <td>0</td>\n",
       "    </tr>\n",
       "    <tr>\n",
       "      <th>29</th>\n",
       "      <td>2023-01-30</td>\n",
       "      <td>0</td>\n",
       "      <td>0</td>\n",
       "      <td>0</td>\n",
       "      <td>0</td>\n",
       "    </tr>\n",
       "    <tr>\n",
       "      <th>30</th>\n",
       "      <td>2023-01-31</td>\n",
       "      <td>1</td>\n",
       "      <td>0</td>\n",
       "      <td>0</td>\n",
       "      <td>0</td>\n",
       "    </tr>\n",
       "    <tr>\n",
       "      <th>31</th>\n",
       "      <td>2023-02-01</td>\n",
       "      <td>2</td>\n",
       "      <td>0</td>\n",
       "      <td>0</td>\n",
       "      <td>0</td>\n",
       "    </tr>\n",
       "    <tr>\n",
       "      <th>32</th>\n",
       "      <td>2023-02-02</td>\n",
       "      <td>3</td>\n",
       "      <td>0</td>\n",
       "      <td>0</td>\n",
       "      <td>0</td>\n",
       "    </tr>\n",
       "    <tr>\n",
       "      <th>33</th>\n",
       "      <td>2023-02-03</td>\n",
       "      <td>4</td>\n",
       "      <td>0</td>\n",
       "      <td>0</td>\n",
       "      <td>0</td>\n",
       "    </tr>\n",
       "    <tr>\n",
       "      <th>34</th>\n",
       "      <td>2023-02-04</td>\n",
       "      <td>5</td>\n",
       "      <td>0</td>\n",
       "      <td>0</td>\n",
       "      <td>0</td>\n",
       "    </tr>\n",
       "    <tr>\n",
       "      <th>35</th>\n",
       "      <td>2023-02-05</td>\n",
       "      <td>6</td>\n",
       "      <td>0</td>\n",
       "      <td>0</td>\n",
       "      <td>0</td>\n",
       "    </tr>\n",
       "    <tr>\n",
       "      <th>36</th>\n",
       "      <td>2023-02-06</td>\n",
       "      <td>7</td>\n",
       "      <td>0</td>\n",
       "      <td>0</td>\n",
       "      <td>0</td>\n",
       "    </tr>\n",
       "    <tr>\n",
       "      <th>37</th>\n",
       "      <td>2023-02-07</td>\n",
       "      <td>8</td>\n",
       "      <td>0</td>\n",
       "      <td>0</td>\n",
       "      <td>0</td>\n",
       "    </tr>\n",
       "    <tr>\n",
       "      <th>38</th>\n",
       "      <td>2023-02-08</td>\n",
       "      <td>9</td>\n",
       "      <td>0</td>\n",
       "      <td>0</td>\n",
       "      <td>0</td>\n",
       "    </tr>\n",
       "    <tr>\n",
       "      <th>39</th>\n",
       "      <td>2023-02-09</td>\n",
       "      <td>1</td>\n",
       "      <td>0</td>\n",
       "      <td>0</td>\n",
       "      <td>0</td>\n",
       "    </tr>\n",
       "    <tr>\n",
       "      <th>40</th>\n",
       "      <td>2023-02-10</td>\n",
       "      <td>0</td>\n",
       "      <td>0</td>\n",
       "      <td>0</td>\n",
       "      <td>0</td>\n",
       "    </tr>\n",
       "    <tr>\n",
       "      <th>41</th>\n",
       "      <td>2023-02-11</td>\n",
       "      <td>0</td>\n",
       "      <td>0</td>\n",
       "      <td>0</td>\n",
       "      <td>0</td>\n",
       "    </tr>\n",
       "    <tr>\n",
       "      <th>42</th>\n",
       "      <td>2023-02-12</td>\n",
       "      <td>0</td>\n",
       "      <td>0</td>\n",
       "      <td>0</td>\n",
       "      <td>0</td>\n",
       "    </tr>\n",
       "    <tr>\n",
       "      <th>43</th>\n",
       "      <td>2023-02-13</td>\n",
       "      <td>0</td>\n",
       "      <td>0</td>\n",
       "      <td>0</td>\n",
       "      <td>0</td>\n",
       "    </tr>\n",
       "    <tr>\n",
       "      <th>44</th>\n",
       "      <td>2023-02-14</td>\n",
       "      <td>0</td>\n",
       "      <td>0</td>\n",
       "      <td>0</td>\n",
       "      <td>0</td>\n",
       "    </tr>\n",
       "    <tr>\n",
       "      <th>45</th>\n",
       "      <td>2023-02-15</td>\n",
       "      <td>0</td>\n",
       "      <td>0</td>\n",
       "      <td>0</td>\n",
       "      <td>0</td>\n",
       "    </tr>\n",
       "    <tr>\n",
       "      <th>46</th>\n",
       "      <td>2023-02-16</td>\n",
       "      <td>0</td>\n",
       "      <td>0</td>\n",
       "      <td>0</td>\n",
       "      <td>0</td>\n",
       "    </tr>\n",
       "  </tbody>\n",
       "</table>\n",
       "</div>"
      ],
      "text/plain": [
       "         date  item_id_1  item_id_2  item_id_3  item_id_4\n",
       "0  2023-01-01          1          0          0          0\n",
       "1  2023-01-02          2          0          0          0\n",
       "2  2023-01-03          0          0          0          0\n",
       "3  2023-01-04          0          0          0          0\n",
       "4  2023-01-05          0          5          0          0\n",
       "5  2023-01-06          3          0          0          0\n",
       "6  2023-01-07          4          0          0          0\n",
       "7  2023-01-08          0          0          0          0\n",
       "8  2023-01-09          0          0          8          0\n",
       "9  2023-01-10          0          0          0          0\n",
       "10 2023-01-11          1          0          0          0\n",
       "11 2023-01-12          2          0          0          0\n",
       "12 2023-01-13          3          0          0          0\n",
       "13 2023-01-14          4          0          0          0\n",
       "14 2023-01-15          5          0          0          0\n",
       "15 2023-01-16          6          0          0          0\n",
       "16 2023-01-17          7          0          8          0\n",
       "17 2023-01-18          0          0          0          0\n",
       "18 2023-01-19          0          0          0          0\n",
       "19 2023-01-20          0          0          0          0\n",
       "20 2023-01-21          1          0          0          0\n",
       "21 2023-01-22          2          0          0          0\n",
       "22 2023-01-23          3          0          0          0\n",
       "23 2023-01-24          4          0          0          0\n",
       "24 2023-01-25          5          0          0          0\n",
       "25 2023-01-26          6          0          0          0\n",
       "26 2023-01-27          7          0          0          0\n",
       "27 2023-01-28          0          0          0          0\n",
       "28 2023-01-29          0          0          0          0\n",
       "29 2023-01-30          0          0          0          0\n",
       "30 2023-01-31          1          0          0          0\n",
       "31 2023-02-01          2          0          0          0\n",
       "32 2023-02-02          3          0          0          0\n",
       "33 2023-02-03          4          0          0          0\n",
       "34 2023-02-04          5          0          0          0\n",
       "35 2023-02-05          6          0          0          0\n",
       "36 2023-02-06          7          0          0          0\n",
       "37 2023-02-07          8          0          0          0\n",
       "38 2023-02-08          9          0          0          0\n",
       "39 2023-02-09          1          0          0          0\n",
       "40 2023-02-10          0          0          0          0\n",
       "41 2023-02-11          0          0          0          0\n",
       "42 2023-02-12          0          0          0          0\n",
       "43 2023-02-13          0          0          0          0\n",
       "44 2023-02-14          0          0          0          0\n",
       "45 2023-02-15          0          0          0          0\n",
       "46 2023-02-16          0          0          0          0"
      ]
     },
     "execution_count": 40,
     "metadata": {},
     "output_type": "execute_result"
    }
   ],
   "source": [
    "df5"
   ]
  },
  {
   "cell_type": "code",
   "execution_count": null,
   "id": "d5bbeed2-4039-45a1-8ce5-40d463544faa",
   "metadata": {
    "tags": []
   },
   "outputs": [],
   "source": [
    "consecutive_zeros"
   ]
  },
  {
   "cell_type": "code",
   "execution_count": null,
   "id": "ec6883a8-08cf-42fc-8219-c81a7879c54c",
   "metadata": {
    "tags": []
   },
   "outputs": [],
   "source": [
    "non_zero_indices"
   ]
  },
  {
   "cell_type": "code",
   "execution_count": null,
   "id": "d99d5ea1-708e-49cf-acac-2ba6aaaffbb2",
   "metadata": {},
   "outputs": [],
   "source": [
    "# event_name_list"
   ]
  },
  {
   "cell_type": "code",
   "execution_count": null,
   "id": "745d55bc-ab78-4957-88e8-dea59859d8f1",
   "metadata": {},
   "outputs": [],
   "source": [
    "# single_df_linear = df.groupby(['event_type_1'])['d'].count().to_frame('event type')\n",
    "# event_type_list = pd.DataFrame()\n",
    "# event_type_list['event_type'] = single_df_linear.index\n",
    "# event_type_list"
   ]
  },
  {
   "cell_type": "code",
   "execution_count": null,
   "id": "d813a6ea-5c50-4ccb-9243-5dc67fbc9496",
   "metadata": {},
   "outputs": [],
   "source": [
    "# single_df_linear = df.groupby(['weekday'])['d'].count().to_frame('Week days')\n",
    "# weekday_list = pd.DataFrame()\n",
    "# weekday_list['weekday'] = single_df_linear.index\n",
    "# weekday_list"
   ]
  },
  {
   "cell_type": "code",
   "execution_count": null,
   "id": "8f702497-3f52-4d5d-9606-677f25d00b9c",
   "metadata": {},
   "outputs": [],
   "source": [
    "# import numpy as np\n",
    "# df['event_name_2_index'] = df.apply(lambda x: (np.where(x['event_name_2'] == event_name_list['event'])[0][0]), axis =1)\n",
    "# df['event_type_1_index'] = df.apply(lambda x: (np.where(x['event_type_1'] == event_type_list['event_type'])[0][0]), axis =1)\n",
    "# df['event_type_2_index'] = df.apply(lambda x: (np.where(x['event_type_2'] == event_type_list['event_type'])[0][0]), axis =1)\n",
    "# df['weekday_index'] = df.apply(lambda x: (np.where(x['weekday'] == weekday_list['weekday'])[0][0]), axis =1)"
   ]
  },
  {
   "cell_type": "code",
   "execution_count": null,
   "id": "66c068e8-df02-43bd-a88b-85a61d75c3b1",
   "metadata": {
    "tags": []
   },
   "outputs": [],
   "source": [
    "# df = df.drop(['weekday','d','event_name_1','event_type_1','event_name_2','event_type_2'], axis =1)"
   ]
  },
  {
   "cell_type": "markdown",
   "id": "3fd1bf9c-9141-478f-b6fa-dcd0082a6766",
   "metadata": {},
   "source": [
    "Test to show with multiple items in 1 time serires graph"
   ]
  },
  {
   "cell_type": "code",
   "execution_count": null,
   "id": "09446213-a4cd-49e2-a00d-4a0079df359a",
   "metadata": {
    "tags": []
   },
   "outputs": [],
   "source": [
    "multi_items = ['FOODS_3_083_WI_3_evaluation', 'FOODS_3_084_WI_3_evaluation', 'FOODS_3_085_WI_3_evaluation']\n",
    "\n",
    "dim = (30,7)\n",
    "plt.subplots(figsize = dim)\n",
    "\n",
    "for item in multi_items:\n",
    "    plt.plot(df['date'], df[item], label = item)\n",
    "plt.legend(multi_items, prop ={'size':18})\n",
    "plt.xticks (rotation = 20)\n",
    "plt.xlabel('Date', fontsize = 15)\n",
    "plt.ylabel('Total_sell', fontsize = 15)\n",
    "plt.show()"
   ]
  },
  {
   "cell_type": "markdown",
   "id": "67edfe66-8315-4125-b2a8-991a1b05b75a",
   "metadata": {},
   "source": [
    "Testing with short term"
   ]
  },
  {
   "cell_type": "code",
   "execution_count": 21,
   "id": "8c228c5a-f70c-41d9-8e3a-8cbeee50b04b",
   "metadata": {
    "tags": []
   },
   "outputs": [],
   "source": [
    "df_test = df.copy()\n",
    "df_test = df_test.set_index('date')\n",
    "df_test = df_test.loc['2015/04/01':,:]"
   ]
  },
  {
   "cell_type": "code",
   "execution_count": 22,
   "id": "4262a75c-2220-4f2b-aae1-862b2ce77d32",
   "metadata": {
    "tags": []
   },
   "outputs": [],
   "source": [
    "WI = []\n",
    "TX = []\n",
    "CA = []\n",
    "items = []\n",
    "calender = []\n",
    "\n",
    "for col in df_test.columns:\n",
    "    if (len(col.split('_')) == 6):\n",
    "        if (col.split('_')[3] == 'WI'):\n",
    "            WI.append(col)\n",
    "        elif (col.split('_')[3] == 'TX'):\n",
    "            TX.append(col)\n",
    "        elif (col.split('_')[3] == 'CA'):\n",
    "            CA.append(col)\n",
    "        elif (col.split('_')[5] == 'evaluation'):\n",
    "            items.append(col)\n",
    "    else:\n",
    "        calender.append(col)"
   ]
  },
  {
   "cell_type": "markdown",
   "id": "f576cd04-31b9-47b9-8b45-4acce78dee59",
   "metadata": {},
   "source": [
    "create a list with all the stores"
   ]
  },
  {
   "cell_type": "code",
   "execution_count": 23,
   "id": "916eccb3-7d9f-4c39-b455-941e11743bc0",
   "metadata": {
    "tags": []
   },
   "outputs": [],
   "source": [
    "for col in df_test.columns:\n",
    "    \n",
    "    if (len(col.split('_')) == 6):\n",
    "        if (col.split('_')[3] == 'WI'):\n",
    "            WI.append(col)\n",
    "        elif (col.split('_')[3] == 'TX'):\n",
    "            TX.append(col)\n",
    "        elif (col.split('_')[3] == 'CA'):\n",
    "            CA.append(col)\n",
    "        elif (col.split('_')[5] == 'evaluation'):\n",
    "            items.append(col)\n",
    "    else:\n",
    "        calender.append(col)"
   ]
  },
  {
   "cell_type": "code",
   "execution_count": 24,
   "id": "1a3c11b7-f775-419e-83a8-b3b21739506f",
   "metadata": {},
   "outputs": [],
   "source": [
    "eva_item =  \"FOODS_3_083_WI_3_evaluation\"\n",
    "eva_df = df_test.loc[:,eva_item]"
   ]
  },
  {
   "cell_type": "code",
   "execution_count": 25,
   "id": "f8ad4abf-88b8-46b2-b609-73234ef1d99c",
   "metadata": {
    "tags": []
   },
   "outputs": [],
   "source": [
    "train = eva_df['2015/04/01':'2016/04/20']\n",
    "test = eva_df['2016/04/21':]"
   ]
  },
  {
   "cell_type": "code",
   "execution_count": 26,
   "id": "42c0b79f-1a98-4baf-9043-09c2256ea3ef",
   "metadata": {
    "tags": []
   },
   "outputs": [
    {
     "data": {
      "text/plain": [
       "date\n",
       "2015-10-12    0.0\n",
       "2015-10-14    0.0\n",
       "2015-10-24    0.0\n",
       "2015-12-21    0.0\n",
       "2015-12-25    0.0\n",
       "2015-12-26    0.0\n",
       "2015-12-27    0.0\n",
       "2015-12-28    0.0\n",
       "2015-12-29    0.0\n",
       "2016-01-05    0.0\n",
       "Name: FOODS_3_083_WI_3_evaluation, dtype: float64"
      ]
     },
     "execution_count": 26,
     "metadata": {},
     "output_type": "execute_result"
    }
   ],
   "source": [
    "train.loc[train == 0]"
   ]
  },
  {
   "cell_type": "markdown",
   "id": "c8b40e00-a7d5-4f5c-94ff-3fcba75782e6",
   "metadata": {},
   "source": [
    "Use autoarima"
   ]
  },
  {
   "cell_type": "code",
   "execution_count": 27,
   "id": "5c5122cf-e7bf-4de9-b019-1b4eded80284",
   "metadata": {
    "tags": []
   },
   "outputs": [
    {
     "name": "stdout",
     "output_type": "stream",
     "text": [
      "Performing stepwise search to minimize aic\n",
      " ARIMA(0,1,0)(0,0,0)[0] intercept   : AIC=5214.308, Time=0.04 sec\n",
      " ARIMA(1,1,0)(0,0,0)[0] intercept   : AIC=5162.692, Time=0.03 sec\n",
      " ARIMA(0,1,1)(0,0,0)[0] intercept   : AIC=5105.984, Time=0.07 sec\n",
      " ARIMA(0,1,0)(0,0,0)[0]             : AIC=5212.312, Time=0.01 sec\n",
      " ARIMA(1,1,1)(0,0,0)[0] intercept   : AIC=5093.283, Time=0.16 sec\n",
      " ARIMA(2,1,1)(0,0,0)[0] intercept   : AIC=5095.283, Time=0.20 sec\n",
      " ARIMA(1,1,2)(0,0,0)[0] intercept   : AIC=5095.283, Time=0.18 sec\n",
      " ARIMA(0,1,2)(0,0,0)[0] intercept   : AIC=5094.381, Time=0.08 sec\n",
      " ARIMA(2,1,0)(0,0,0)[0] intercept   : AIC=5143.463, Time=0.02 sec\n",
      " ARIMA(2,1,2)(0,0,0)[0] intercept   : AIC=5094.354, Time=0.24 sec\n",
      " ARIMA(1,1,1)(0,0,0)[0]             : AIC=5091.305, Time=0.05 sec\n",
      " ARIMA(0,1,1)(0,0,0)[0]             : AIC=5103.988, Time=0.03 sec\n",
      " ARIMA(1,1,0)(0,0,0)[0]             : AIC=5160.694, Time=0.01 sec\n",
      " ARIMA(2,1,1)(0,0,0)[0]             : AIC=5093.304, Time=0.09 sec\n",
      " ARIMA(1,1,2)(0,0,0)[0]             : AIC=5093.304, Time=0.08 sec\n",
      " ARIMA(0,1,2)(0,0,0)[0]             : AIC=5092.395, Time=0.05 sec\n",
      " ARIMA(2,1,0)(0,0,0)[0]             : AIC=5141.462, Time=0.02 sec\n",
      " ARIMA(2,1,2)(0,0,0)[0]             : AIC=5092.375, Time=0.18 sec\n",
      "\n",
      "Best model:  ARIMA(1,1,1)(0,0,0)[0]          \n",
      "Total fit time: 1.534 seconds\n"
     ]
    }
   ],
   "source": [
    "from pmdarima.arima import auto_arima\n",
    "auto_model = auto_arima(y=train, start_p=0, start_q=0, max_p=5,\n",
    "                        max_q=5, start_P=0, start_Q=0, max_P=5,\n",
    "                        max_Q=5, m=1, max_order=None,\n",
    "                        trace=True)\n",
    "    "
   ]
  },
  {
   "cell_type": "code",
   "execution_count": 28,
   "id": "3d2bb213-f173-4b77-89b4-ebe752e1b11e",
   "metadata": {
    "tags": []
   },
   "outputs": [
    {
     "data": {
      "text/plain": [
       "2016-04-21    194.294376\n",
       "2016-04-22    210.704290\n",
       "2016-04-23    214.966186\n",
       "2016-04-24    216.073063\n",
       "2016-04-25    216.360536\n",
       "2016-04-26    216.435197\n",
       "2016-04-27    216.454587\n",
       "2016-04-28    216.459623\n",
       "2016-04-29    216.460931\n",
       "2016-04-30    216.461271\n",
       "2016-05-01    216.461359\n",
       "2016-05-02    216.461382\n",
       "2016-05-03    216.461388\n",
       "2016-05-04    216.461389\n",
       "2016-05-05    216.461390\n",
       "2016-05-06    216.461390\n",
       "2016-05-07    216.461390\n",
       "2016-05-08    216.461390\n",
       "2016-05-09    216.461390\n",
       "2016-05-10    216.461390\n",
       "2016-05-11    216.461390\n",
       "2016-05-12    216.461390\n",
       "2016-05-13    216.461390\n",
       "2016-05-14    216.461390\n",
       "2016-05-15    216.461390\n",
       "2016-05-16    216.461390\n",
       "2016-05-17    216.461390\n",
       "2016-05-18    216.461390\n",
       "2016-05-19    216.461390\n",
       "2016-05-20    216.461390\n",
       "2016-05-21    216.461390\n",
       "2016-05-22    216.461390\n",
       "Freq: D, dtype: float64"
      ]
     },
     "execution_count": 28,
     "metadata": {},
     "output_type": "execute_result"
    }
   ],
   "source": [
    "prediction, confint = auto_model.predict(n_periods=test.size, return_conf_int=True)\n",
    "prediction"
   ]
  },
  {
   "cell_type": "code",
   "execution_count": 29,
   "id": "7dd9cd12-96fc-4e20-a1b8-3c410f236efa",
   "metadata": {
    "tags": []
   },
   "outputs": [
    {
     "data": {
      "text/plain": [
       "array([[-155.44346616,  544.03221881],\n",
       "       [-166.06481559,  587.47339526],\n",
       "       [-171.42683087,  601.3592032 ],\n",
       "       [-176.89104223,  609.0371691 ],\n",
       "       [-182.42507448,  615.14614603],\n",
       "       [-187.92919548,  620.79958863],\n",
       "       [-193.37228445,  626.28145862],\n",
       "       [-198.74754492,  631.66679109],\n",
       "       [-204.05505478,  636.9769168 ],\n",
       "       [-209.2966632 ,  642.21920459],\n",
       "       [-214.47459008,  647.39730791],\n",
       "       [-219.59105426,  652.51381792],\n",
       "       [-224.64818112,  657.57095668],\n",
       "       [-229.64798504,  662.57076369],\n",
       "       [-234.5923713 ,  667.51515076],\n",
       "       [-239.48314255,  672.40592221],\n",
       "       [-244.32200592,  677.24478564],\n",
       "       [-249.1105799 ,  682.03335963],\n",
       "       [-253.85040058,  686.77318032],\n",
       "       [-258.54292742,  691.46570715],\n",
       "       [-263.18954846,  696.1123282 ],\n",
       "       [-267.79158518,  700.71436492],\n",
       "       [-272.35029683,  705.27307656],\n",
       "       [-276.86688446,  709.7896642 ],\n",
       "       [-281.34249467,  714.2652744 ],\n",
       "       [-285.77822293,  718.70100266],\n",
       "       [-290.17511677,  723.09789651],\n",
       "       [-294.53417867,  727.45695841],\n",
       "       [-298.85636867,  731.77914841],\n",
       "       [-303.14260691,  736.06538665],\n",
       "       [-307.39377587,  740.31655561],\n",
       "       [-311.61072252,  744.53350225]])"
      ]
     },
     "execution_count": 29,
     "metadata": {},
     "output_type": "execute_result"
    }
   ],
   "source": [
    "confint"
   ]
  },
  {
   "cell_type": "code",
   "execution_count": 30,
   "id": "cdcae805-e7b0-4e98-9ec3-108e23e9f56a",
   "metadata": {
    "tags": []
   },
   "outputs": [],
   "source": [
    "def APE(Y_actual, Y_Predicted):\n",
    "    ape = (np.abs(Y_actual - Y_Predicted)/np.abs(Y_actual))*100\n",
    "    return ape"
   ]
  },
  {
   "cell_type": "code",
   "execution_count": 31,
   "id": "e77372f4-2d94-40dd-b132-61c3c6a5cece",
   "metadata": {
    "tags": []
   },
   "outputs": [],
   "source": [
    "def MAPE(Y_actual, Y_Predicted):\n",
    "    mape = np.mean(APE(Y_actual, Y_Predicted))\n",
    "    return mape"
   ]
  },
  {
   "cell_type": "code",
   "execution_count": 32,
   "id": "aa1230f5-7e66-46c4-90b2-f3f11fa554f6",
   "metadata": {
    "tags": []
   },
   "outputs": [],
   "source": [
    "import numpy as np\n",
    "APE_df = pd.DataFrame(columns =['APE'])\n",
    "MAPE_df = pd.DataFrame(columns =['id', 'MAPE'])\n",
    "APE_df['APE'] = APE(test, prediction)\n",
    "MAPE_df.loc[1] =[eva_item, MAPE(test, prediction)]"
   ]
  },
  {
   "cell_type": "code",
   "execution_count": 33,
   "id": "9b0138a4-ada2-4f72-b104-ab8e52e94b76",
   "metadata": {
    "tags": []
   },
   "outputs": [
    {
     "data": {
      "text/html": [
       "<div>\n",
       "<style scoped>\n",
       "    .dataframe tbody tr th:only-of-type {\n",
       "        vertical-align: middle;\n",
       "    }\n",
       "\n",
       "    .dataframe tbody tr th {\n",
       "        vertical-align: top;\n",
       "    }\n",
       "\n",
       "    .dataframe thead th {\n",
       "        text-align: right;\n",
       "    }\n",
       "</style>\n",
       "<table border=\"1\" class=\"dataframe\">\n",
       "  <thead>\n",
       "    <tr style=\"text-align: right;\">\n",
       "      <th></th>\n",
       "      <th>APE</th>\n",
       "    </tr>\n",
       "    <tr>\n",
       "      <th>date</th>\n",
       "      <th></th>\n",
       "    </tr>\n",
       "  </thead>\n",
       "  <tbody>\n",
       "    <tr>\n",
       "      <th>2016-04-21</th>\n",
       "      <td>3.734317</td>\n",
       "    </tr>\n",
       "    <tr>\n",
       "      <th>2016-04-22</th>\n",
       "      <td>37.502435</td>\n",
       "    </tr>\n",
       "    <tr>\n",
       "      <th>2016-04-23</th>\n",
       "      <td>11.714573</td>\n",
       "    </tr>\n",
       "    <tr>\n",
       "      <th>2016-04-24</th>\n",
       "      <td>17.598557</td>\n",
       "    </tr>\n",
       "    <tr>\n",
       "      <th>2016-04-25</th>\n",
       "      <td>44.394378</td>\n",
       "    </tr>\n",
       "    <tr>\n",
       "      <th>2016-04-26</th>\n",
       "      <td>15.555364</td>\n",
       "    </tr>\n",
       "    <tr>\n",
       "      <th>2016-04-27</th>\n",
       "      <td>28.406352</td>\n",
       "    </tr>\n",
       "    <tr>\n",
       "      <th>2016-04-28</th>\n",
       "      <td>15.568405</td>\n",
       "    </tr>\n",
       "    <tr>\n",
       "      <th>2016-04-29</th>\n",
       "      <td>28.410115</td>\n",
       "    </tr>\n",
       "    <tr>\n",
       "      <th>2016-04-30</th>\n",
       "      <td>44.461606</td>\n",
       "    </tr>\n",
       "    <tr>\n",
       "      <th>2016-05-01</th>\n",
       "      <td>188.923330</td>\n",
       "    </tr>\n",
       "    <tr>\n",
       "      <th>2016-05-02</th>\n",
       "      <td>11.100504</td>\n",
       "    </tr>\n",
       "    <tr>\n",
       "      <th>2016-05-03</th>\n",
       "      <td>3.692210</td>\n",
       "    </tr>\n",
       "    <tr>\n",
       "      <th>2016-05-04</th>\n",
       "      <td>11.100501</td>\n",
       "    </tr>\n",
       "    <tr>\n",
       "      <th>2016-05-05</th>\n",
       "      <td>27.769157</td>\n",
       "    </tr>\n",
       "    <tr>\n",
       "      <th>2016-05-06</th>\n",
       "      <td>188.923371</td>\n",
       "    </tr>\n",
       "    <tr>\n",
       "      <th>2016-05-07</th>\n",
       "      <td>27.769157</td>\n",
       "    </tr>\n",
       "    <tr>\n",
       "      <th>2016-05-08</th>\n",
       "      <td>63.884579</td>\n",
       "    </tr>\n",
       "    <tr>\n",
       "      <th>2016-05-09</th>\n",
       "      <td>17.450465</td>\n",
       "    </tr>\n",
       "    <tr>\n",
       "      <th>2016-05-10</th>\n",
       "      <td>3.692210</td>\n",
       "    </tr>\n",
       "    <tr>\n",
       "      <th>2016-05-11</th>\n",
       "      <td>65.099069</td>\n",
       "    </tr>\n",
       "    <tr>\n",
       "      <th>2016-05-12</th>\n",
       "      <td>131.138697</td>\n",
       "    </tr>\n",
       "    <tr>\n",
       "      <th>2016-05-13</th>\n",
       "      <td>17.450465</td>\n",
       "    </tr>\n",
       "    <tr>\n",
       "      <th>2016-05-14</th>\n",
       "      <td>27.769157</td>\n",
       "    </tr>\n",
       "    <tr>\n",
       "      <th>2016-05-15</th>\n",
       "      <td>60.148500</td>\n",
       "    </tr>\n",
       "    <tr>\n",
       "      <th>2016-05-16</th>\n",
       "      <td>3.692210</td>\n",
       "    </tr>\n",
       "    <tr>\n",
       "      <th>2016-05-17</th>\n",
       "      <td>44.461686</td>\n",
       "    </tr>\n",
       "    <tr>\n",
       "      <th>2016-05-18</th>\n",
       "      <td>92.615581</td>\n",
       "    </tr>\n",
       "    <tr>\n",
       "      <th>2016-05-19</th>\n",
       "      <td>11.100501</td>\n",
       "    </tr>\n",
       "    <tr>\n",
       "      <th>2016-05-20</th>\n",
       "      <td>3.692210</td>\n",
       "    </tr>\n",
       "    <tr>\n",
       "      <th>2016-05-21</th>\n",
       "      <td>28.410387</td>\n",
       "    </tr>\n",
       "    <tr>\n",
       "      <th>2016-05-22</th>\n",
       "      <td>44.461686</td>\n",
       "    </tr>\n",
       "  </tbody>\n",
       "</table>\n",
       "</div>"
      ],
      "text/plain": [
       "                   APE\n",
       "date                  \n",
       "2016-04-21    3.734317\n",
       "2016-04-22   37.502435\n",
       "2016-04-23   11.714573\n",
       "2016-04-24   17.598557\n",
       "2016-04-25   44.394378\n",
       "2016-04-26   15.555364\n",
       "2016-04-27   28.406352\n",
       "2016-04-28   15.568405\n",
       "2016-04-29   28.410115\n",
       "2016-04-30   44.461606\n",
       "2016-05-01  188.923330\n",
       "2016-05-02   11.100504\n",
       "2016-05-03    3.692210\n",
       "2016-05-04   11.100501\n",
       "2016-05-05   27.769157\n",
       "2016-05-06  188.923371\n",
       "2016-05-07   27.769157\n",
       "2016-05-08   63.884579\n",
       "2016-05-09   17.450465\n",
       "2016-05-10    3.692210\n",
       "2016-05-11   65.099069\n",
       "2016-05-12  131.138697\n",
       "2016-05-13   17.450465\n",
       "2016-05-14   27.769157\n",
       "2016-05-15   60.148500\n",
       "2016-05-16    3.692210\n",
       "2016-05-17   44.461686\n",
       "2016-05-18   92.615581\n",
       "2016-05-19   11.100501\n",
       "2016-05-20    3.692210\n",
       "2016-05-21   28.410387\n",
       "2016-05-22   44.461686"
      ]
     },
     "execution_count": 33,
     "metadata": {},
     "output_type": "execute_result"
    }
   ],
   "source": [
    "APE_df"
   ]
  },
  {
   "cell_type": "code",
   "execution_count": 34,
   "id": "5ac13e91-960d-4f40-adc7-e783672c5857",
   "metadata": {
    "tags": []
   },
   "outputs": [],
   "source": [
    "cf= pd.DataFrame(confint)"
   ]
  },
  {
   "cell_type": "code",
   "execution_count": 35,
   "id": "d3f6610f-6e2e-42f3-b53c-fd4f65b4c7ee",
   "metadata": {
    "tags": []
   },
   "outputs": [
    {
     "data": {
      "text/plain": [
       "<matplotlib.collections.PolyCollection at 0x28dd5d99f10>"
      ]
     },
     "execution_count": 35,
     "metadata": {},
     "output_type": "execute_result"
    },
    {
     "data": {
      "image/png": "[encoded data removed]",
      "text/plain": [
       "<Figure size 1500x500 with 1 Axes>"
      ]
     },
     "metadata": {},
     "output_type": "display_data"
    }
   ],
   "source": [
    "prediction_series = pd.Series(prediction,index=test.index)\n",
    "fig, ax = plt.subplots(1, 1, figsize=(15, 5))\n",
    "ax.plot(eva_df)\n",
    "ax.plot(prediction_series)\n",
    "ax.fill_between(prediction_series.index,\n",
    "                cf[0],\n",
    "                cf[1],color='grey',alpha=.3)"
   ]
  },
  {
   "cell_type": "code",
   "execution_count": 36,
   "id": "b74c9dc2-054f-4226-8252-884e922d863b",
   "metadata": {},
   "outputs": [],
   "source": [
    "def add_to_table(table, name, extra_name, data, joining_indices):\n",
    "    split_name = name.split(\"_\")\n",
    "    selected_elements = [split_name[idx] for idx in joining_indices]\n",
    "    id_name = \"_\".join(selected_elements)\n",
    "    id_name = id_name + extra_name\n",
    "    \n",
    "    if id_name in table:\n",
    "        table[id_name] = table[id_name] + data\n",
    "    else:\n",
    "        table[id_name] = data"
   ]
  },
  {
   "cell_type": "code",
   "execution_count": 37,
   "id": "91ff67b5-dbb8-4dd1-b6df-7692097b9bc8",
   "metadata": {
    "tags": []
   },
   "outputs": [
    {
     "name": "stdout",
     "output_type": "stream",
     "text": [
      "Performing stepwise search to minimize aic\n",
      " ARIMA(0,0,0)(0,0,0)[0] intercept   : AIC=553.605, Time=0.01 sec\n",
      " ARIMA(1,0,0)(0,0,0)[0] intercept   : AIC=554.863, Time=0.03 sec\n",
      " ARIMA(0,0,1)(0,0,0)[0] intercept   : AIC=554.777, Time=0.04 sec\n",
      " ARIMA(0,0,0)(0,0,0)[0]             : AIC=627.711, Time=0.00 sec\n",
      " ARIMA(1,0,1)(0,0,0)[0] intercept   : AIC=556.771, Time=0.02 sec\n",
      "\n",
      "Best model:  ARIMA(0,0,0)(0,0,0)[0] intercept\n",
      "Total fit time: 0.108 seconds\n",
      "Performing stepwise search to minimize aic\n",
      " ARIMA(0,0,0)(0,0,0)[0] intercept   : AIC=200.754, Time=0.00 sec\n",
      " ARIMA(1,0,0)(0,0,0)[0] intercept   : AIC=202.135, Time=0.01 sec\n",
      " ARIMA(0,0,1)(0,0,0)[0] intercept   : AIC=201.880, Time=0.01 sec\n",
      " ARIMA(0,0,0)(0,0,0)[0]             : AIC=238.225, Time=0.01 sec\n",
      " ARIMA(1,0,1)(0,0,0)[0] intercept   : AIC=inf, Time=0.04 sec\n",
      "\n",
      "Best model:  ARIMA(0,0,0)(0,0,0)[0] intercept\n",
      "Total fit time: 0.070 seconds\n",
      "Performing stepwise search to minimize aic\n",
      " ARIMA(0,0,0)(0,0,0)[0] intercept   : AIC=147.511, Time=0.00 sec\n",
      " ARIMA(1,0,0)(0,0,0)[0] intercept   : AIC=139.889, Time=0.01 sec\n",
      " ARIMA(0,0,1)(0,0,0)[0] intercept   : AIC=138.158, Time=0.01 sec\n",
      " ARIMA(0,0,0)(0,0,0)[0]             : AIC=150.253, Time=0.00 sec\n",
      " ARIMA(1,0,1)(0,0,0)[0] intercept   : AIC=139.773, Time=0.01 sec\n",
      " ARIMA(0,0,2)(0,0,0)[0] intercept   : AIC=139.538, Time=0.01 sec\n",
      " ARIMA(1,0,2)(0,0,0)[0] intercept   : AIC=140.631, Time=0.02 sec\n",
      " ARIMA(0,0,1)(0,0,0)[0]             : AIC=138.955, Time=0.01 sec\n",
      "\n",
      "Best model:  ARIMA(0,0,1)(0,0,0)[0] intercept\n",
      "Total fit time: 0.076 seconds\n",
      "CPU times: total: 125 ms\n",
      "Wall time: 268 ms\n"
     ]
    }
   ],
   "source": [
    "%%time\n",
    "multi_items = ['FOODS_3_083_WI_3_evaluation', 'FOODS_3_084_WI_3_evaluation', 'FOODS_3_085_WI_3_evaluation']\n",
    "df_test2 = df_test.loc[:,multi_items]\n",
    "\n",
    "df_test2['actual_total'] = 0\n",
    "df_test2['predicted_total'] = 0\n",
    "for item in multi_items:\n",
    "    df_test2['actual_total'] = df_test2['actual_total'] + df_test2[item]\n",
    "\n",
    "train_df = df_test2['2016/04/01':'2016/05/15']\n",
    "test_df = df_test2['2016/05/16':]\n",
    "\n",
    "#Create a actual value dataframe and predicted value data frame\n",
    "predicted_item = pd.DataFrame()\n",
    "index_counter = 0\n",
    "APE_df = pd.DataFrame()\n",
    "MAPE_df = pd.DataFrame(columns =['id', 'MAPE'])\n",
    "evaluating_data = pd.DataFrame()\n",
    "\n",
    "joining_indices_store = [3,4]\n",
    "joining_indices_item = [3,4,0,1]\n",
    "\n",
    "for item in multi_items:\n",
    "    #Create test and train table\n",
    "    train = train_df.loc[:,item]\n",
    "    test = test_df.loc[:,item]\n",
    "    #Train the model\n",
    "    auto_model = auto_arima(y=train, start_p=0, start_q=0, max_p=5,\n",
    "                           max_q=5, start_P=0, start_Q=0, max_P=5,\n",
    "                           max_Q=5, m=1, max_order=None,\n",
    "                           trace=True)\n",
    "    #Create a prediction\n",
    "    prediction, confint = auto_model.predict(n_periods=test.size, return_conf_int=True)\n",
    "    df_test2['predicted_total'] = df_test2['predicted_total'] + prediction\n",
    "    new_column_name = f'{item}_predict'\n",
    "    predicted_item[item] = prediction\n",
    "    #Add APE to the table\n",
    "    APE_df[item] = APE(test_df[item], prediction)\n",
    "    #add MAPE to the table with item ID\n",
    "    MAPE_df.loc[index_counter] =[item, MAPE(test_df[item], prediction)]\n",
    "    \n",
    "    #Modify the name of the predicted column\n",
    "    forecast_column_name = f'{item}_predict'\n",
    "    #Increment index counter to input to MAPE table\n",
    "    index_counter = index_counter +1\n",
    "    \n",
    "    #create a column with store id\n",
    "    add_to_table(evaluating_data,item,'_predict', prediction, joining_indices_store)\n",
    "    add_to_table(evaluating_data,item,'_predict', prediction, joining_indices_item)\n",
    "    add_to_table(evaluating_data,item,'', test, joining_indices_store)\n",
    "    add_to_table(evaluating_data,item,'', test, joining_indices_item)    "
   ]
  },
  {
   "cell_type": "code",
   "execution_count": null,
   "id": "1d566d74-8eb9-45e4-8733-2a06619c4300",
   "metadata": {},
   "outputs": [],
   "source": []
  },
  {
   "cell_type": "code",
   "execution_count": null,
   "id": "07d6d526-03fb-452d-98ab-5de1162031d8",
   "metadata": {},
   "outputs": [],
   "source": []
  },
  {
   "cell_type": "code",
   "execution_count": 38,
   "id": "5b94b13d-1a56-4efa-a12f-0b4c28d111cb",
   "metadata": {
    "tags": []
   },
   "outputs": [
    {
     "data": {
      "text/html": [
       "<div>\n",
       "<style scoped>\n",
       "    .dataframe tbody tr th:only-of-type {\n",
       "        vertical-align: middle;\n",
       "    }\n",
       "\n",
       "    .dataframe tbody tr th {\n",
       "        vertical-align: top;\n",
       "    }\n",
       "\n",
       "    .dataframe thead th {\n",
       "        text-align: right;\n",
       "    }\n",
       "</style>\n",
       "<table border=\"1\" class=\"dataframe\">\n",
       "  <thead>\n",
       "    <tr style=\"text-align: right;\">\n",
       "      <th></th>\n",
       "      <th>id</th>\n",
       "      <th>MAPE</th>\n",
       "    </tr>\n",
       "  </thead>\n",
       "  <tbody>\n",
       "    <tr>\n",
       "      <th>0</th>\n",
       "      <td>FOODS_3_083_WI_3_evaluation</td>\n",
       "      <td>36.196581</td>\n",
       "    </tr>\n",
       "    <tr>\n",
       "      <th>1</th>\n",
       "      <td>FOODS_3_084_WI_3_evaluation</td>\n",
       "      <td>inf</td>\n",
       "    </tr>\n",
       "    <tr>\n",
       "      <th>2</th>\n",
       "      <td>FOODS_3_085_WI_3_evaluation</td>\n",
       "      <td>inf</td>\n",
       "    </tr>\n",
       "  </tbody>\n",
       "</table>\n",
       "</div>"
      ],
      "text/plain": [
       "                            id       MAPE\n",
       "0  FOODS_3_083_WI_3_evaluation  36.196581\n",
       "1  FOODS_3_084_WI_3_evaluation        inf\n",
       "2  FOODS_3_085_WI_3_evaluation        inf"
      ]
     },
     "execution_count": 38,
     "metadata": {},
     "output_type": "execute_result"
    }
   ],
   "source": [
    "MAPE_df"
   ]
  },
  {
   "cell_type": "code",
   "execution_count": 39,
   "id": "2f16fc03-c1a3-460b-b701-a2ed17623b07",
   "metadata": {
    "tags": []
   },
   "outputs": [
    {
     "data": {
      "text/html": [
       "<div>\n",
       "<style scoped>\n",
       "    .dataframe tbody tr th:only-of-type {\n",
       "        vertical-align: middle;\n",
       "    }\n",
       "\n",
       "    .dataframe tbody tr th {\n",
       "        vertical-align: top;\n",
       "    }\n",
       "\n",
       "    .dataframe thead th {\n",
       "        text-align: right;\n",
       "    }\n",
       "</style>\n",
       "<table border=\"1\" class=\"dataframe\">\n",
       "  <thead>\n",
       "    <tr style=\"text-align: right;\">\n",
       "      <th></th>\n",
       "      <th>FOODS_3_083_WI_3_evaluation</th>\n",
       "      <th>FOODS_3_084_WI_3_evaluation</th>\n",
       "      <th>FOODS_3_085_WI_3_evaluation</th>\n",
       "    </tr>\n",
       "    <tr>\n",
       "      <th>date</th>\n",
       "      <th></th>\n",
       "      <th></th>\n",
       "      <th></th>\n",
       "    </tr>\n",
       "  </thead>\n",
       "  <tbody>\n",
       "    <tr>\n",
       "      <th>2016-05-16</th>\n",
       "      <td>1.666667</td>\n",
       "      <td>35.555556</td>\n",
       "      <td>inf</td>\n",
       "    </tr>\n",
       "    <tr>\n",
       "      <th>2016-05-17</th>\n",
       "      <td>52.500000</td>\n",
       "      <td>inf</td>\n",
       "      <td>inf</td>\n",
       "    </tr>\n",
       "    <tr>\n",
       "      <th>2016-05-18</th>\n",
       "      <td>103.333333</td>\n",
       "      <td>inf</td>\n",
       "      <td>inf</td>\n",
       "    </tr>\n",
       "    <tr>\n",
       "      <th>2016-05-19</th>\n",
       "      <td>6.153846</td>\n",
       "      <td>35.555556</td>\n",
       "      <td>86.797490</td>\n",
       "    </tr>\n",
       "    <tr>\n",
       "      <th>2016-05-20</th>\n",
       "      <td>1.666667</td>\n",
       "      <td>35.555556</td>\n",
       "      <td>93.398745</td>\n",
       "    </tr>\n",
       "    <tr>\n",
       "      <th>2016-05-21</th>\n",
       "      <td>35.555556</td>\n",
       "      <td>57.037037</td>\n",
       "      <td>inf</td>\n",
       "    </tr>\n",
       "    <tr>\n",
       "      <th>2016-05-22</th>\n",
       "      <td>52.500000</td>\n",
       "      <td>35.555556</td>\n",
       "      <td>inf</td>\n",
       "    </tr>\n",
       "  </tbody>\n",
       "</table>\n",
       "</div>"
      ],
      "text/plain": [
       "            FOODS_3_083_WI_3_evaluation  FOODS_3_084_WI_3_evaluation  \\\n",
       "date                                                                   \n",
       "2016-05-16                     1.666667                    35.555556   \n",
       "2016-05-17                    52.500000                          inf   \n",
       "2016-05-18                   103.333333                          inf   \n",
       "2016-05-19                     6.153846                    35.555556   \n",
       "2016-05-20                     1.666667                    35.555556   \n",
       "2016-05-21                    35.555556                    57.037037   \n",
       "2016-05-22                    52.500000                    35.555556   \n",
       "\n",
       "            FOODS_3_085_WI_3_evaluation  \n",
       "date                                     \n",
       "2016-05-16                          inf  \n",
       "2016-05-17                          inf  \n",
       "2016-05-18                          inf  \n",
       "2016-05-19                    86.797490  \n",
       "2016-05-20                    93.398745  \n",
       "2016-05-21                          inf  \n",
       "2016-05-22                          inf  "
      ]
     },
     "execution_count": 39,
     "metadata": {},
     "output_type": "execute_result"
    }
   ],
   "source": [
    "APE_df"
   ]
  },
  {
   "cell_type": "code",
   "execution_count": 40,
   "id": "7788c43c-c885-41b2-bd62-c870b55a64d4",
   "metadata": {
    "tags": []
   },
   "outputs": [
    {
     "data": {
      "text/html": [
       "<div>\n",
       "<style scoped>\n",
       "    .dataframe tbody tr th:only-of-type {\n",
       "        vertical-align: middle;\n",
       "    }\n",
       "\n",
       "    .dataframe tbody tr th {\n",
       "        vertical-align: top;\n",
       "    }\n",
       "\n",
       "    .dataframe thead th {\n",
       "        text-align: right;\n",
       "    }\n",
       "</style>\n",
       "<table border=\"1\" class=\"dataframe\">\n",
       "  <thead>\n",
       "    <tr style=\"text-align: right;\">\n",
       "      <th></th>\n",
       "      <th>WI_3_predict</th>\n",
       "      <th>WI_3_FOODS_3_predict</th>\n",
       "      <th>WI_3</th>\n",
       "      <th>WI_3_FOODS_3</th>\n",
       "    </tr>\n",
       "  </thead>\n",
       "  <tbody>\n",
       "    <tr>\n",
       "      <th>2016-05-16</th>\n",
       "      <td>231.404279</td>\n",
       "      <td>231.404279</td>\n",
       "      <td>228.72</td>\n",
       "      <td>228.72</td>\n",
       "    </tr>\n",
       "    <tr>\n",
       "      <th>2016-05-17</th>\n",
       "      <td>231.451435</td>\n",
       "      <td>231.451435</td>\n",
       "      <td>149.84</td>\n",
       "      <td>149.84</td>\n",
       "    </tr>\n",
       "    <tr>\n",
       "      <th>2016-05-18</th>\n",
       "      <td>231.451435</td>\n",
       "      <td>231.451435</td>\n",
       "      <td>112.38</td>\n",
       "      <td>112.38</td>\n",
       "    </tr>\n",
       "    <tr>\n",
       "      <th>2016-05-19</th>\n",
       "      <td>231.451435</td>\n",
       "      <td>231.451435</td>\n",
       "      <td>250.43</td>\n",
       "      <td>250.43</td>\n",
       "    </tr>\n",
       "    <tr>\n",
       "      <th>2016-05-20</th>\n",
       "      <td>231.451435</td>\n",
       "      <td>231.451435</td>\n",
       "      <td>234.68</td>\n",
       "      <td>234.68</td>\n",
       "    </tr>\n",
       "    <tr>\n",
       "      <th>2016-05-21</th>\n",
       "      <td>231.451435</td>\n",
       "      <td>231.451435</td>\n",
       "      <td>174.51</td>\n",
       "      <td>174.51</td>\n",
       "    </tr>\n",
       "    <tr>\n",
       "      <th>2016-05-22</th>\n",
       "      <td>231.451435</td>\n",
       "      <td>231.451435</td>\n",
       "      <td>153.80</td>\n",
       "      <td>153.80</td>\n",
       "    </tr>\n",
       "  </tbody>\n",
       "</table>\n",
       "</div>"
      ],
      "text/plain": [
       "            WI_3_predict  WI_3_FOODS_3_predict    WI_3  WI_3_FOODS_3\n",
       "2016-05-16    231.404279            231.404279  228.72        228.72\n",
       "2016-05-17    231.451435            231.451435  149.84        149.84\n",
       "2016-05-18    231.451435            231.451435  112.38        112.38\n",
       "2016-05-19    231.451435            231.451435  250.43        250.43\n",
       "2016-05-20    231.451435            231.451435  234.68        234.68\n",
       "2016-05-21    231.451435            231.451435  174.51        174.51\n",
       "2016-05-22    231.451435            231.451435  153.80        153.80"
      ]
     },
     "execution_count": 40,
     "metadata": {},
     "output_type": "execute_result"
    }
   ],
   "source": [
    "evaluating_data"
   ]
  },
  {
   "cell_type": "code",
   "execution_count": 41,
   "id": "d9bbee17-2314-4a24-a012-780c32953bd1",
   "metadata": {
    "tags": []
   },
   "outputs": [
    {
     "data": {
      "text/html": [
       "<div>\n",
       "<style scoped>\n",
       "    .dataframe tbody tr th:only-of-type {\n",
       "        vertical-align: middle;\n",
       "    }\n",
       "\n",
       "    .dataframe tbody tr th {\n",
       "        vertical-align: top;\n",
       "    }\n",
       "\n",
       "    .dataframe thead th {\n",
       "        text-align: right;\n",
       "    }\n",
       "</style>\n",
       "<table border=\"1\" class=\"dataframe\">\n",
       "  <thead>\n",
       "    <tr style=\"text-align: right;\">\n",
       "      <th></th>\n",
       "      <th>FOODS_3_083_WI_3_evaluation</th>\n",
       "      <th>FOODS_3_084_WI_3_evaluation</th>\n",
       "      <th>FOODS_3_085_WI_3_evaluation</th>\n",
       "    </tr>\n",
       "  </thead>\n",
       "  <tbody>\n",
       "    <tr>\n",
       "      <th>2016-05-16</th>\n",
       "      <td>228.506</td>\n",
       "      <td>2.552</td>\n",
       "      <td>0.346279</td>\n",
       "    </tr>\n",
       "    <tr>\n",
       "      <th>2016-05-17</th>\n",
       "      <td>228.506</td>\n",
       "      <td>2.552</td>\n",
       "      <td>0.393435</td>\n",
       "    </tr>\n",
       "    <tr>\n",
       "      <th>2016-05-18</th>\n",
       "      <td>228.506</td>\n",
       "      <td>2.552</td>\n",
       "      <td>0.393435</td>\n",
       "    </tr>\n",
       "    <tr>\n",
       "      <th>2016-05-19</th>\n",
       "      <td>228.506</td>\n",
       "      <td>2.552</td>\n",
       "      <td>0.393435</td>\n",
       "    </tr>\n",
       "    <tr>\n",
       "      <th>2016-05-20</th>\n",
       "      <td>228.506</td>\n",
       "      <td>2.552</td>\n",
       "      <td>0.393435</td>\n",
       "    </tr>\n",
       "    <tr>\n",
       "      <th>2016-05-21</th>\n",
       "      <td>228.506</td>\n",
       "      <td>2.552</td>\n",
       "      <td>0.393435</td>\n",
       "    </tr>\n",
       "    <tr>\n",
       "      <th>2016-05-22</th>\n",
       "      <td>228.506</td>\n",
       "      <td>2.552</td>\n",
       "      <td>0.393435</td>\n",
       "    </tr>\n",
       "  </tbody>\n",
       "</table>\n",
       "</div>"
      ],
      "text/plain": [
       "            FOODS_3_083_WI_3_evaluation  FOODS_3_084_WI_3_evaluation  \\\n",
       "2016-05-16                      228.506                        2.552   \n",
       "2016-05-17                      228.506                        2.552   \n",
       "2016-05-18                      228.506                        2.552   \n",
       "2016-05-19                      228.506                        2.552   \n",
       "2016-05-20                      228.506                        2.552   \n",
       "2016-05-21                      228.506                        2.552   \n",
       "2016-05-22                      228.506                        2.552   \n",
       "\n",
       "            FOODS_3_085_WI_3_evaluation  \n",
       "2016-05-16                     0.346279  \n",
       "2016-05-17                     0.393435  \n",
       "2016-05-18                     0.393435  \n",
       "2016-05-19                     0.393435  \n",
       "2016-05-20                     0.393435  \n",
       "2016-05-21                     0.393435  \n",
       "2016-05-22                     0.393435  "
      ]
     },
     "execution_count": 41,
     "metadata": {},
     "output_type": "execute_result"
    }
   ],
   "source": [
    "predicted_item"
   ]
  },
  {
   "cell_type": "code",
   "execution_count": 42,
   "id": "cad2f4b3-9989-4f38-84f9-702db6d9a7e3",
   "metadata": {
    "tags": []
   },
   "outputs": [
    {
     "data": {
      "text/html": [
       "<div>\n",
       "<style scoped>\n",
       "    .dataframe tbody tr th:only-of-type {\n",
       "        vertical-align: middle;\n",
       "    }\n",
       "\n",
       "    .dataframe tbody tr th {\n",
       "        vertical-align: top;\n",
       "    }\n",
       "\n",
       "    .dataframe thead th {\n",
       "        text-align: right;\n",
       "    }\n",
       "</style>\n",
       "<table border=\"1\" class=\"dataframe\">\n",
       "  <thead>\n",
       "    <tr style=\"text-align: right;\">\n",
       "      <th></th>\n",
       "      <th>FOODS_3_083_WI_3_evaluation</th>\n",
       "      <th>FOODS_3_084_WI_3_evaluation</th>\n",
       "      <th>FOODS_3_085_WI_3_evaluation</th>\n",
       "      <th>actual_total</th>\n",
       "      <th>predicted_total</th>\n",
       "    </tr>\n",
       "    <tr>\n",
       "      <th>date</th>\n",
       "      <th></th>\n",
       "      <th></th>\n",
       "      <th></th>\n",
       "      <th></th>\n",
       "      <th></th>\n",
       "    </tr>\n",
       "  </thead>\n",
       "  <tbody>\n",
       "    <tr>\n",
       "      <th>2015-04-01</th>\n",
       "      <td>374.60</td>\n",
       "      <td>1.98</td>\n",
       "      <td>0.00</td>\n",
       "      <td>376.58</td>\n",
       "      <td>NaN</td>\n",
       "    </tr>\n",
       "    <tr>\n",
       "      <th>2015-04-02</th>\n",
       "      <td>131.11</td>\n",
       "      <td>1.98</td>\n",
       "      <td>0.00</td>\n",
       "      <td>133.09</td>\n",
       "      <td>NaN</td>\n",
       "    </tr>\n",
       "    <tr>\n",
       "      <th>2015-04-03</th>\n",
       "      <td>56.19</td>\n",
       "      <td>0.00</td>\n",
       "      <td>0.00</td>\n",
       "      <td>56.19</td>\n",
       "      <td>NaN</td>\n",
       "    </tr>\n",
       "    <tr>\n",
       "      <th>2015-04-04</th>\n",
       "      <td>243.49</td>\n",
       "      <td>0.00</td>\n",
       "      <td>5.96</td>\n",
       "      <td>249.45</td>\n",
       "      <td>NaN</td>\n",
       "    </tr>\n",
       "    <tr>\n",
       "      <th>2015-04-05</th>\n",
       "      <td>412.06</td>\n",
       "      <td>3.96</td>\n",
       "      <td>0.00</td>\n",
       "      <td>416.02</td>\n",
       "      <td>NaN</td>\n",
       "    </tr>\n",
       "  </tbody>\n",
       "</table>\n",
       "</div>"
      ],
      "text/plain": [
       "            FOODS_3_083_WI_3_evaluation  FOODS_3_084_WI_3_evaluation  \\\n",
       "date                                                                   \n",
       "2015-04-01                       374.60                         1.98   \n",
       "2015-04-02                       131.11                         1.98   \n",
       "2015-04-03                        56.19                         0.00   \n",
       "2015-04-04                       243.49                         0.00   \n",
       "2015-04-05                       412.06                         3.96   \n",
       "\n",
       "            FOODS_3_085_WI_3_evaluation  actual_total  predicted_total  \n",
       "date                                                                    \n",
       "2015-04-01                         0.00        376.58              NaN  \n",
       "2015-04-02                         0.00        133.09              NaN  \n",
       "2015-04-03                         0.00         56.19              NaN  \n",
       "2015-04-04                         5.96        249.45              NaN  \n",
       "2015-04-05                         0.00        416.02              NaN  "
      ]
     },
     "execution_count": 42,
     "metadata": {},
     "output_type": "execute_result"
    }
   ],
   "source": [
    "df_test2.head(5)"
   ]
  },
  {
   "cell_type": "code",
   "execution_count": null,
   "id": "d62c245c-74f3-4adb-9e93-3cb3fca2ef36",
   "metadata": {
    "tags": []
   },
   "outputs": [],
   "source": []
  },
  {
   "cell_type": "code",
   "execution_count": 43,
   "id": "2cd6c5d6-50f7-4341-8369-50358b7af5c4",
   "metadata": {
    "tags": []
   },
   "outputs": [],
   "source": [
    "def MAE(Y_actual, Y_Predicted):\n",
    "    mae = np.mean(np.abs(Y_actual - Y_Predicted))\n",
    "    return mae"
   ]
  },
  {
   "cell_type": "code",
   "execution_count": 44,
   "id": "15aba576-1d84-49d5-96e5-074f0066ff9a",
   "metadata": {
    "tags": []
   },
   "outputs": [
    {
     "name": "stdout",
     "output_type": "stream",
     "text": [
      "Performing stepwise search to minimize aic\n",
      " ARIMA(0,0,0)(0,0,0)[0] intercept   : AIC=553.605, Time=0.00 sec\n",
      " ARIMA(1,0,0)(0,0,0)[0] intercept   : AIC=554.863, Time=0.01 sec\n",
      " ARIMA(0,0,1)(0,0,0)[0] intercept   : AIC=554.777, Time=0.02 sec\n",
      " ARIMA(0,0,0)(0,0,0)[0]             : AIC=627.711, Time=0.00 sec\n",
      " ARIMA(1,0,1)(0,0,0)[0] intercept   : AIC=556.771, Time=0.02 sec\n",
      "\n",
      "Best model:  ARIMA(0,0,0)(0,0,0)[0] intercept\n",
      "Total fit time: 0.069 seconds\n",
      "Performing stepwise search to minimize aic\n",
      " ARIMA(0,0,0)(0,0,0)[0] intercept   : AIC=200.754, Time=0.00 sec\n",
      " ARIMA(1,0,0)(0,0,0)[0] intercept   : AIC=202.135, Time=0.01 sec\n",
      " ARIMA(0,0,1)(0,0,0)[0] intercept   : AIC=201.880, Time=0.01 sec\n",
      " ARIMA(0,0,0)(0,0,0)[0]             : AIC=238.225, Time=0.01 sec\n",
      " ARIMA(1,0,1)(0,0,0)[0] intercept   : AIC=inf, Time=0.04 sec\n",
      "\n",
      "Best model:  ARIMA(0,0,0)(0,0,0)[0] intercept\n",
      "Total fit time: 0.072 seconds\n",
      "Performing stepwise search to minimize aic\n",
      " ARIMA(0,0,0)(0,0,0)[0] intercept   : AIC=147.511, Time=0.00 sec\n",
      " ARIMA(1,0,0)(0,0,0)[0] intercept   : AIC=139.889, Time=0.01 sec\n",
      " ARIMA(0,0,1)(0,0,0)[0] intercept   : AIC=138.158, Time=0.01 sec\n",
      " ARIMA(0,0,0)(0,0,0)[0]             : AIC=150.253, Time=0.00 sec\n",
      " ARIMA(1,0,1)(0,0,0)[0] intercept   : AIC=139.773, Time=0.01 sec\n",
      " ARIMA(0,0,2)(0,0,0)[0] intercept   : AIC=139.538, Time=0.01 sec\n",
      " ARIMA(1,0,2)(0,0,0)[0] intercept   : AIC=140.631, Time=0.03 sec\n",
      " ARIMA(0,0,1)(0,0,0)[0]             : AIC=138.955, Time=0.01 sec\n",
      "\n",
      "Best model:  ARIMA(0,0,1)(0,0,0)[0] intercept\n",
      "Total fit time: 0.078 seconds\n",
      "CPU times: total: 125 ms\n",
      "Wall time: 235 ms\n"
     ]
    }
   ],
   "source": [
    "%%time\n",
    "multi_items = ['FOODS_3_083_WI_3_evaluation', 'FOODS_3_084_WI_3_evaluation', 'FOODS_3_085_WI_3_evaluation']\n",
    "df_test2 = df_test.loc['2016/04/01':,multi_items]\n",
    "\n",
    "df_test2['actual_total'] = 0\n",
    "df_test2['predicted_total'] = 0\n",
    "for item in multi_items:\n",
    "    df_test2['actual_total'] = df_test2['actual_total'] + df_test2[item]\n",
    "\n",
    "train_df = df_test2['2016/04/01':'2016/05/15']\n",
    "test_df = df_test2['2016/05/01':]\n",
    "\n",
    "#Create a actual value dataframe and predicted value data frame\n",
    "predicted_item = pd.DataFrame()\n",
    "index_counter = 0\n",
    "APE_df = pd.DataFrame()\n",
    "MAPE_MAE_df = pd.DataFrame(columns =['id', 'error', 'MAE or MAPE'])\n",
    "evaluating_data = pd.DataFrame()\n",
    "\n",
    "joining_indices_store = [3,4]\n",
    "joining_indices_item = [3,4,0,1]\n",
    "#Add items to the id\n",
    "\n",
    "MAPE_MAE_df['id'] = multi_items\n",
    "for item in multi_items:\n",
    "    #Create test and train table\n",
    "    train = train_df.loc[:,item]\n",
    "    test = test_df.loc[:,item]\n",
    "    #Train the model\n",
    "    auto_model = auto_arima(y=train, start_p=0, start_q=0, max_p=5,\n",
    "                           max_q=5, start_P=0, start_Q=0, max_P=5,\n",
    "                           max_Q=5, m=1, max_order=None,\n",
    "                           trace=True)\n",
    "    #Create a prediction\n",
    "    prediction, confint = auto_model.predict(n_periods=test.size, return_conf_int=True)\n",
    "    new_column_name = f'{item}_predict'\n",
    "    predicted_item[item] = prediction\n",
    "    df_test2['predicted_total'] = df_test2['predicted_total'] + predicted_item[item]\n",
    "    #Add APE to the table\n",
    "    #APE_df[item] = APE(test_df[item], prediction)\n",
    "    \n",
    "    #Check for zero values in actual value\n",
    "    #if zero value is found, find error value with MAE\n",
    "    #if there is no zero then use MAPE\n",
    "    if np.any(test_df[item] == 0.0):\n",
    "       MAPE_MAE_df.loc[MAPE_MAE_df['id'] == item,'error'] = MAE(test_df[item], prediction)\n",
    "       MAPE_MAE_df.loc[MAPE_MAE_df['id'] == item,'MAE or MAPE'] = 'MAE'\n",
    "    else:\n",
    "       MAPE_MAE_df.loc[MAPE_MAE_df['id'] == item,'error'] = MAPE(test_df[item], prediction)\n",
    "       MAPE_MAE_df.loc[MAPE_MAE_df['id'] == item,'MAE or MAPE'] = 'MAPE'       \n",
    "    \n",
    "    #Modify the name of the predicted column\n",
    "    forecast_column_name = f'{item}_predict'\n",
    "    #Increment index counter to input to MAPE table\n",
    "    index_counter = index_counter +1\n",
    "    \n",
    "    #create a column with store id\n",
    "    add_to_table(evaluating_data,item,'_predict', prediction, joining_indices_store)\n",
    "    add_to_table(evaluating_data,item,'_predict', prediction, joining_indices_item)\n",
    "    add_to_table(evaluating_data,item,'', test, joining_indices_store)\n",
    "    add_to_table(evaluating_data,item,'', test, joining_indices_item)    "
   ]
  },
  {
   "cell_type": "code",
   "execution_count": null,
   "id": "b713e547-776f-4b38-815a-337789d7b56e",
   "metadata": {
    "tags": []
   },
   "outputs": [],
   "source": [
    "df_test2.tail(10)"
   ]
  },
  {
   "cell_type": "code",
   "execution_count": null,
   "id": "5929e14d-d268-4ac7-bd4e-19f1ba6261b2",
   "metadata": {
    "tags": []
   },
   "outputs": [],
   "source": [
    "MAPE_MAE_df"
   ]
  },
  {
   "cell_type": "code",
   "execution_count": null,
   "id": "3ace3140-29c5-4b1a-bbdb-c146db0fddd0",
   "metadata": {
    "tags": []
   },
   "outputs": [],
   "source": [
    "df_test2.head(10)"
   ]
  },
  {
   "cell_type": "code",
   "execution_count": null,
   "id": "22612c7c-1d32-470b-a27a-069f0feb976e",
   "metadata": {
    "tags": []
   },
   "outputs": [],
   "source": [
    "predicted_item"
   ]
  },
  {
   "cell_type": "code",
   "execution_count": null,
   "id": "3d4dd9fd-7035-4262-a16f-ecc6506fca76",
   "metadata": {
    "tags": []
   },
   "outputs": [],
   "source": [
    "MAPE_MAE_df = pd.DataFrame(columns =['id', 'error', 'MAE or MAPE'])\n",
    "evaluating_data = pd.DataFrame()\n",
    "\n",
    "joining_indices_store = [3,4]\n",
    "joining_indices_item = [3,4,0,1]\n",
    "MAPE_MAE_df['id'] = multi_items"
   ]
  },
  {
   "cell_type": "code",
   "execution_count": null,
   "id": "6b928fd9-7de2-4ea9-aaee-c1d00c6bdd03",
   "metadata": {
    "tags": []
   },
   "outputs": [],
   "source": [
    "MAPE_MAE_df"
   ]
  },
  {
   "cell_type": "code",
   "execution_count": null,
   "id": "116f0093-3a6e-485b-94ec-5e0b1d93a910",
   "metadata": {
    "tags": []
   },
   "outputs": [],
   "source": [
    "df_test3 = df.copy()\n",
    "df_test3 = df_test3.set_index('date')"
   ]
  },
  {
   "cell_type": "markdown",
   "id": "03131db8-30a2-4bfe-9da4-60714430e123",
   "metadata": {
    "tags": []
   },
   "source": [
    "Now try with 250 items and longer time frame"
   ]
  },
  {
   "cell_type": "code",
   "execution_count": null,
   "id": "7a46b851-39c6-4f69-a7a8-0b92b3baa57b",
   "metadata": {
    "tags": []
   },
   "outputs": [],
   "source": [
    "import random\n",
    "#Cerate a list of items from current table\n",
    "items = []\n",
    "\n",
    "for col in df_test3.columns:\n",
    "    if (len(col.split('_')) == 6):\n",
    "        if (col.split('_')[5] == 'evaluation'):\n",
    "            items.append(col)\n",
    "\n",
    "#Select random items from the list of total items\n",
    "#Number of random values\n",
    "n_random = 250\n",
    "random_item = random.sample(items, n_random)\n",
    "\n",
    "df_test2 = df_test3.loc['2015/04/01':,random_item]\n",
    "df_test2['predicted_total'] = 0\n",
    "df_test2['actual_total'] = 0\n",
    "\n",
    "for item in random_item:\n",
    "    df_test2['actual_total'] = df_test2['actual_total'] + df_test2[item]\n",
    "\n",
    "train_df = df_test3.loc['2015/04/01':'2016/04/21',random_item]\n",
    "#df_test2['2015/04/01':'2016/04/21']\n",
    "test_df = df_test3.loc['2016/04/22':,random_item]\n",
    "#df_test2['2016/04/22':]\n",
    "\n",
    "#Create a actual value dataframe and predicted value data frame\n",
    "predicted_item = pd.DataFrame()\n",
    "index_counter = 0\n",
    "MAPE_MAE_df = pd.DataFrame(columns =['id', 'error', 'MAE or MAPE'])\n",
    "evaluating_data = pd.DataFrame()\n",
    "cf_total= pd.DataFrame()\n",
    "cf_total['low'] = 0\n",
    "cf_total['high'] = 0\n",
    "joining_indices_store = [3,4]\n",
    "joining_indices_item = [3,4,0,1]\n",
    "\n",
    "for item in random_item:\n",
    "    #Create test and train table\n",
    "    train = train_df.loc[:,item]\n",
    "    test = test_df.loc[:,item]\n",
    "    #Train the model\n",
    "    auto_model = auto_arima(y=train, start_p=1, start_q=0, max_p=5,\n",
    "                           max_q=5, start_P=1, start_Q=0, max_P=5,\n",
    "                           max_Q=5, m=1, max_order=None,\n",
    "                           trace=True, seasonal=True)\n",
    "    #Create a prediction\n",
    "    prediction, confint = auto_model.predict(n_periods=test.size, return_conf_int=True)\n",
    "    cf= pd.DataFrame(confint)\n",
    "    if np.any(cf_total) == 0:\n",
    "        cf_total['low'] =  cf[0]\n",
    "        cf_total['high'] = cf[1]\n",
    "\n",
    "    elif np.any(np.isnan(cf)) == False:\n",
    "        cf_total['low'] = cf_total['low'] + cf[0]\n",
    "        cf_total['high'] = cf_total['high'] + cf[1]\n",
    "\n",
    "    new_column_name = f'{item}_predict'\n",
    "    predicted_item[item] = prediction\n",
    "    df_test2['predicted_total'] = df_test2['predicted_total'] + predicted_item[item]\n",
    "    #Check for zero values in actual value\n",
    "    #if zero value is found, find error value with MAE\n",
    "    #if there is no zero then use MAPE\n",
    "    if np.any(test_df == 0.0):\n",
    "        MAPE_MAE_df.loc[MAPE_MAE_df['id'] == item,'error'] = MAE(test_df[item], prediction)\n",
    "        MAPE_MAE_df.loc[MAPE_MAE_df['id'] == item,'MAE or MAPE'] = 'MAE'\n",
    "    else:\n",
    "        MAPE_MAE_df.loc[MAPE_MAE_df['id'] == item,'error'] = MAPE(test_df[item], prediction)\n",
    "        MAPE_MAE_df.loc[MAPE_MAE_df['id'] == item,'MAE or MAPE'] = 'MAPE'       \n",
    "\n",
    "    #Modify the name of the predicted column\n",
    "    forecast_column_name = f'{item}_predict'\n",
    "    #Increment index counter to input to MAPE table\n",
    "    index_counter = index_counter +1\n",
    "    \n",
    "    #create a column with store id\n",
    "    add_to_table(evaluating_data,item,'_predict', prediction, joining_indices_store)\n",
    "    add_to_table(evaluating_data,item,'_predict', prediction, joining_indices_item)\n",
    "    add_to_table(evaluating_data,item,'', test, joining_indices_store)\n",
    "    add_to_table(evaluating_data,item,'', test, joining_indices_item)  \n"
   ]
  },
  {
   "cell_type": "code",
   "execution_count": null,
   "id": "28a98e9c-20c3-4454-8b20-abed30c38d8a",
   "metadata": {
    "tags": []
   },
   "outputs": [],
   "source": [
    "prediction_series = pd.Series(df_test2['predicted_total'],index=test.index)\n",
    "fig, ax = plt.subplots(1, 1, figsize=(15, 5))\n",
    "ax.plot(df_test2['actual_total'], label = 'actual_total')\n",
    "ax.plot(prediction_series, label = 'predicted_total')\n",
    "ax.fill_between(prediction_series.index,\n",
    "                cf_total['low'],\n",
    "                cf_total['high'],color='grey',alpha=.3)\n",
    "ax.legend(loc='lower left')"
   ]
  },
  {
   "cell_type": "markdown",
   "id": "da29a4b6-edff-4a9c-a296-c56932a9061e",
   "metadata": {},
   "source": [
    "The graph is stright due to too much noise probably better to devide them into different food category and stores. It would be best if you can use autoML as well since you cant use same model for all the items making prediction weak"
   ]
  },
  {
   "cell_type": "code",
   "execution_count": null,
   "id": "273beb47-f072-4ed3-aa63-b226d211e235",
   "metadata": {
    "tags": []
   },
   "outputs": [],
   "source": [
    "# Filter rows containing 'MAE' in 'MAE or MAPE' column\n",
    "mae_rows = MAPE_MAE_df[MAPE_MAE_df['MAE or MAPE'].str.contains('MAE')]\n",
    "\n",
    "# Calculate the average of 'error' for rows with 'MAE'\n",
    "average_mae = mae_rows['error'].mean()\n",
    "\n",
    "# Filter rows containing 'MAPE'in 'MAE or MAPE' column\n",
    "mape_rows = MAPE_MAE_df[MAPE_MAE_df['MAE or MAPE'].str.contains('MAPE')]\n",
    "\n",
    "# Calculate the average of 'error' for rows with 'MAPE'\n",
    "average_mape = mape_rows['error'].mean()\n",
    "\n",
    "# Print the results\n",
    "print(f'Average error for rows with \"MAE\": {average_mae}')\n",
    "print(f'Average error for rows with \"MAPE\": {average_mape}')"
   ]
  },
  {
   "cell_type": "code",
   "execution_count": null,
   "id": "aa93e15d-23f3-4a91-be85-00b1370bc0b4",
   "metadata": {
    "tags": []
   },
   "outputs": [],
   "source": [
    "MAPE_MAE_df"
   ]
  },
  {
   "cell_type": "markdown",
   "id": "6aaa6246-519e-4c8b-923b-81dc1c849a7a",
   "metadata": {},
   "source": [
    "Use AutoML"
   ]
  },
  {
   "cell_type": "code",
   "execution_count": null,
   "id": "d640db0b-f238-4f25-a176-a1dd051ef65f",
   "metadata": {},
   "outputs": [],
   "source": [
    "# mljar-supervised package\n",
    "from supervised.automl import AutoML\n",
    "from sklearn.model_selection import train_test_split"
   ]
  },
  {
   "cell_type": "code",
   "execution_count": null,
   "id": "f55d5be7-2755-4c01-a295-07cf94c87b79",
   "metadata": {
    "tags": []
   },
   "outputs": [],
   "source": [
    "%%time\n",
    "multi_items = ['FOODS_3_083_WI_3_evaluation'] +['date']\n",
    "# multi_item_and_calender =multi_items + calender +['date']\n",
    "multi_item_and_calender =multi_items\n",
    "df_test2 = df.loc[:,multi_item_and_calender]\n",
    "\n",
    "# df_test2['actual_total'] = 0\n",
    "# df_test2['predicted_total'] = 0\n",
    "# for item in multi_items:\n",
    "#     df_test2['actual_total'] = df_test2['actual_total'] + df_test2[item]\n",
    "df2 = df_test2.loc[df_test2['date'] >='2016/04/01'].copy()\n",
    "# df2 = df2.reset_index()\n",
    "df2['date'] = pd.to_datetime(df2['date'], format = '%Y-%m-%d')\n",
    "\n",
    "train_df = df2.loc[df2['date'] <='2016/05/01'].copy()\n",
    "test_df = df2.loc[df2['date'] >'2016/05/01'].copy()\n",
    "\n",
    "for item in multi_items:\n",
    "    #Create test and train table\n",
    "    # train, test = train_test_split(df2, test_size=0.2, shuffle=False)\n",
    "    # df2_train = df2.drop(item, axis =1)\n",
    "    X_train = train_df['date']\n",
    "    Y_train = train_df.drop(item, axis = 1)\n",
    "    X_test = test_df['date']\n",
    "    Y_test = test_df.drop(item, axis = 1)\n",
    "    # X_train, X_test, Y_train, Y_test = train_test_split(df2_train, df2[item], test_size=0.2, shuffle=False)\n",
    "    # train_df = df2.loc['2015/04/01':'2016/04/21',random_item]\n",
    "\n",
    "    target_column = item\n",
    "    time_column = 'date' \n",
    "    automl = AutoML(results_path = \"AutoML_{item}\",\n",
    "                    mode=\"Explain\",\n",
    "                    eval_metric='accuracy')\n",
    "    print(1)\n",
    "    automl.fit(X_train, Y_train)\n",
    "    print(2)"
   ]
  },
  {
   "cell_type": "code",
   "execution_count": null,
   "id": "efb75583-99e5-4fdc-8d67-7b2b2ea78a55",
   "metadata": {
    "tags": []
   },
   "outputs": [],
   "source": [
    "df_test2"
   ]
  },
  {
   "cell_type": "code",
   "execution_count": null,
   "id": "3e9c4b62-83f0-49d1-bbfd-0cd51d910264",
   "metadata": {
    "tags": []
   },
   "outputs": [],
   "source": [
    "multi_items = ['FOODS_3_083_WI_3_evaluation', 'FOODS_3_084_WI_3_evaluation', 'FOODS_3_085_WI_3_evaluation'] \n",
    "multi_item_and_calender =multi_items + calender\n",
    "df_test2 = df.loc[:,multi_item_and_calender]\n",
    "df_test2"
   ]
  },
  {
   "cell_type": "code",
   "execution_count": null,
   "id": "15b8cfc4-2a10-4ccf-a70c-9cf9c57fbe13",
   "metadata": {
    "tags": []
   },
   "outputs": [],
   "source": [
    "AutoML(eval_metric='accuracy', mode='Perform', results_path = 'AutoML_Perform')"
   ]
  },
  {
   "cell_type": "code",
   "execution_count": null,
   "id": "948719d1-4b77-4b5c-890d-b1771c07048d",
   "metadata": {
    "tags": []
   },
   "outputs": [],
   "source": [
    "automl.report()"
   ]
  },
  {
   "cell_type": "code",
   "execution_count": null,
   "id": "8a70430e-e396-4427-856f-d3b8ad88c917",
   "metadata": {
    "tags": []
   },
   "outputs": [],
   "source": [
    "automl.report()"
   ]
  },
  {
   "cell_type": "code",
   "execution_count": null,
   "id": "491b61de-9463-4e2c-aeb2-1a1f471a998f",
   "metadata": {
    "tags": []
   },
   "outputs": [],
   "source": [
    "t"
   ]
  },
  {
   "cell_type": "code",
   "execution_count": null,
   "id": "07dc06fa-add8-443c-bf53-bcd603143f33",
   "metadata": {
    "tags": []
   },
   "outputs": [],
   "source": [
    "automl = AutoML(\n",
    "    results_path = \"AutoML_Optuna\",\n",
    "    mode = \"Optuna\",\n",
    "    algorithms = [\"Xgboost\"],\n",
    "    optuna_time_budget = 120,\n",
    "    eval_metric = \"auc\",\n",
    "    boost_on_errors = False,\n",
    "    train_ensemble = False\n",
    ")\n",
    "automl.fit(X_train, Y_train)\n",
    "    "
   ]
  },
  {
   "cell_type": "code",
   "execution_count": null,
   "id": "7ddae8db-930a-49a2-82db-51374edd01b2",
   "metadata": {},
   "outputs": [],
   "source": [
    "probas = automl.predict_proba(X_test)\n",
    "labels = autmo.predict(X_test)\n",
    "autml.predict_all(X_test)"
   ]
  },
  {
   "cell_type": "code",
   "execution_count": null,
   "id": "56a3e028-536d-4cd3-8b43-6765d8ed34be",
   "metadata": {},
   "outputs": [],
   "source": []
  },
  {
   "cell_type": "code",
   "execution_count": null,
   "id": "d63969f5-e932-4545-a7cc-43eacf7558db",
   "metadata": {},
   "outputs": [],
   "source": []
  },
  {
   "cell_type": "code",
   "execution_count": null,
   "id": "bcc57daa-5308-4f49-8444-e0c01ba70275",
   "metadata": {},
   "outputs": [],
   "source": []
  },
  {
   "cell_type": "code",
   "execution_count": null,
   "id": "c3ad2f8f-177d-45e0-b7df-abeb2d33b162",
   "metadata": {},
   "outputs": [],
   "source": []
  },
  {
   "cell_type": "code",
   "execution_count": null,
   "id": "50ae5ece-6c45-4931-b973-496486efdeb6",
   "metadata": {},
   "outputs": [],
   "source": []
  },
  {
   "cell_type": "code",
   "execution_count": null,
   "id": "815f1fa6-0a1e-4d0a-8f20-f4dbb47507b7",
   "metadata": {},
   "outputs": [],
   "source": []
  },
  {
   "cell_type": "code",
   "execution_count": null,
   "id": "3b964c5e-802a-4c29-b72c-249572b17e44",
   "metadata": {},
   "outputs": [],
   "source": []
  },
  {
   "cell_type": "code",
   "execution_count": null,
   "id": "af3e65dd-db23-48b1-999d-b11b0ad40d0e",
   "metadata": {},
   "outputs": [],
   "source": []
  },
  {
   "cell_type": "code",
   "execution_count": null,
   "id": "be3a4767-0682-4f3c-9dcf-f58133dd39a4",
   "metadata": {},
   "outputs": [],
   "source": []
  },
  {
   "cell_type": "code",
   "execution_count": null,
   "id": "c07641e0-3ce9-4de4-a809-33c02ecb184a",
   "metadata": {},
   "outputs": [],
   "source": []
  },
  {
   "cell_type": "code",
   "execution_count": null,
   "id": "758ee7bb-caf0-4aa5-89a0-3a4cb832e992",
   "metadata": {},
   "outputs": [],
   "source": []
  },
  {
   "cell_type": "code",
   "execution_count": null,
   "id": "63c40671-e8e7-4ab5-b565-1ef1955d2d34",
   "metadata": {},
   "outputs": [],
   "source": []
  },
  {
   "cell_type": "code",
   "execution_count": null,
   "id": "5851f3c6-7f2d-42bd-aafa-7593e606b89e",
   "metadata": {},
   "outputs": [],
   "source": []
  },
  {
   "cell_type": "code",
   "execution_count": null,
   "id": "54716554-949b-48c7-9afa-010f9eeebecd",
   "metadata": {},
   "outputs": [],
   "source": []
  },
  {
   "cell_type": "code",
   "execution_count": null,
   "id": "d4071fae-dbd3-4d47-8a72-5e721051d661",
   "metadata": {},
   "outputs": [],
   "source": []
  },
  {
   "cell_type": "code",
   "execution_count": null,
   "id": "f53d4cf6-785d-4e1c-8393-9583bcf56f6a",
   "metadata": {},
   "outputs": [],
   "source": []
  },
  {
   "cell_type": "code",
   "execution_count": null,
   "id": "91b40265-7b86-47f3-b24e-eeaff0de75c5",
   "metadata": {},
   "outputs": [],
   "source": []
  },
  {
   "cell_type": "code",
   "execution_count": null,
   "id": "d3630089-bd9c-4a41-ac00-d70141430527",
   "metadata": {},
   "outputs": [],
   "source": []
  },
  {
   "cell_type": "code",
   "execution_count": null,
   "id": "d791d67e-4e52-4855-b93e-b40c47da41e6",
   "metadata": {},
   "outputs": [],
   "source": []
  },
  {
   "cell_type": "code",
   "execution_count": null,
   "id": "bbb735a0-e948-4a73-9fba-791344aa3c10",
   "metadata": {},
   "outputs": [],
   "source": []
  },
  {
   "cell_type": "code",
   "execution_count": null,
   "id": "3dc2fa73-a502-4d87-b277-06bb580dafe0",
   "metadata": {},
   "outputs": [],
   "source": []
  },
  {
   "cell_type": "code",
   "execution_count": null,
   "id": "0d799c7a-8533-447e-b814-98a0b6de9ba4",
   "metadata": {},
   "outputs": [],
   "source": []
  },
  {
   "cell_type": "code",
   "execution_count": null,
   "id": "966043e7-147f-4de6-a632-fcc534de8cf8",
   "metadata": {},
   "outputs": [],
   "source": []
  },
  {
   "cell_type": "code",
   "execution_count": null,
   "id": "926fda1c-6b32-4771-912f-d84bb36c4780",
   "metadata": {},
   "outputs": [],
   "source": []
  },
  {
   "cell_type": "code",
   "execution_count": null,
   "id": "c8a75295-a5d2-4aab-b1af-b68db7c69ac1",
   "metadata": {},
   "outputs": [],
   "source": []
  },
  {
   "cell_type": "code",
   "execution_count": null,
   "id": "3ff15ea6-02fb-46c2-b2a7-2763326082c9",
   "metadata": {},
   "outputs": [],
   "source": []
  },
  {
   "cell_type": "code",
   "execution_count": null,
   "id": "a10924fb-7f84-4b58-b3fe-51267e7ada87",
   "metadata": {},
   "outputs": [],
   "source": []
  },
  {
   "cell_type": "code",
   "execution_count": null,
   "id": "ef8d2c14-7ce0-4d49-8697-3dc58ea75a52",
   "metadata": {},
   "outputs": [],
   "source": []
  },
  {
   "cell_type": "code",
   "execution_count": null,
   "id": "016b1194-86c2-4eea-950b-38aac9712623",
   "metadata": {},
   "outputs": [],
   "source": []
  },
  {
   "cell_type": "code",
   "execution_count": null,
   "id": "344afbc8-a5ce-4baf-91bd-1270258d58d1",
   "metadata": {},
   "outputs": [],
   "source": []
  },
  {
   "cell_type": "code",
   "execution_count": null,
   "id": "e6e05b8d-5520-4ed5-b310-254c213d8732",
   "metadata": {},
   "outputs": [],
   "source": []
  },
  {
   "cell_type": "code",
   "execution_count": null,
   "id": "90f10811-2b8d-4d51-97d1-d185f7873c31",
   "metadata": {},
   "outputs": [],
   "source": []
  },
  {
   "cell_type": "code",
   "execution_count": null,
   "id": "2aaa5f17-6853-413b-8837-1ff7db2609d4",
   "metadata": {},
   "outputs": [],
   "source": []
  },
  {
   "cell_type": "code",
   "execution_count": null,
   "id": "d23e06d1-3632-4de3-9e00-ec14bc7a18d4",
   "metadata": {},
   "outputs": [],
   "source": []
  },
  {
   "cell_type": "code",
   "execution_count": null,
   "id": "6ab3a6f6-b688-4321-9ed8-1baa42331b3d",
   "metadata": {},
   "outputs": [],
   "source": []
  },
  {
   "cell_type": "code",
   "execution_count": null,
   "id": "a329c406-762a-424d-aac0-36a3cfee1262",
   "metadata": {},
   "outputs": [],
   "source": []
  },
  {
   "cell_type": "code",
   "execution_count": null,
   "id": "63252cb7-16a1-4c3b-af60-0324d6de35a6",
   "metadata": {},
   "outputs": [],
   "source": []
  },
  {
   "cell_type": "code",
   "execution_count": null,
   "id": "234466be-fdd6-4f5a-8b76-d0bef3b23923",
   "metadata": {},
   "outputs": [],
   "source": []
  },
  {
   "cell_type": "code",
   "execution_count": null,
   "id": "e2c8863a-8da7-4f95-8922-0e0fe31500ac",
   "metadata": {},
   "outputs": [],
   "source": []
  },
  {
   "cell_type": "code",
   "execution_count": null,
   "id": "6e0e7801-33b1-4796-8da5-8f4dbdbe8af5",
   "metadata": {},
   "outputs": [],
   "source": []
  },
  {
   "cell_type": "code",
   "execution_count": null,
   "id": "2e69bf5b-0b44-4102-85b0-f762c7ec55de",
   "metadata": {
    "tags": []
   },
   "outputs": [],
   "source": []
  }
 ],
 "metadata": {
  "kernelspec": {
   "display_name": "Python 3 (ipykernel)",
   "language": "python",
   "name": "python3"
  },
  "language_info": {
   "codemirror_mode": {
    "name": "ipython",
    "version": 3
   },
   "file_extension": ".py",
   "mimetype": "text/x-python",
   "name": "python",
   "nbconvert_exporter": "python",
   "pygments_lexer": "ipython3",
   "version": "3.11.5"
  }
 },
 "nbformat": 4,
 "nbformat_minor": 5
}
